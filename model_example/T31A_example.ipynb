{
 "cells": [
  {
   "cell_type": "markdown",
   "id": "c1fa9dd3-3cb4-41ed-8774-bae7f64cabb3",
   "metadata": {},
   "source": [
    "## Kelley hu4d5-5 VL-T31A error analysis\n",
    "\n",
    "In this notebook we will use a random forest model to find the most energetically influential degrees of freedom for the VL-T31A TI production run. Next, we will compare the sampling of these DOF during TI production to a free energy profile derived from end state GaMD sampling. We will attempt to  correct any inaccurate sampling in the TI data and find the estimated ddG before and after the correction. "
   ]
  },
  {
   "cell_type": "code",
   "execution_count": 1,
   "id": "58a9e0d9-4832-4317-9647-0b45e0167d0d",
   "metadata": {
    "tags": []
   },
   "outputs": [],
   "source": [
    "from common_functions import *"
   ]
  },
  {
   "cell_type": "markdown",
   "id": "99bdb865-a31d-4c2b-9b32-cbe74054e2c1",
   "metadata": {},
   "source": [
    "### Ingesting initial TI data (bound state)"
   ]
  },
  {
   "cell_type": "code",
   "execution_count": 2,
   "id": "b412f99d-3a70-4b50-bd22-d145ce4a4d56",
   "metadata": {},
   "outputs": [],
   "source": [
    "os.chdir(\"./TI_data/VL-T31A\")\n",
    "geom_dvdls = pd.read_csv(\"T31A_bound.csv\")\n",
    "geom_dvdls_ub = pd.read_csv(\"T31A_unbound.csv\")"
   ]
  },
  {
   "cell_type": "markdown",
   "id": "ff126f56-311e-45b3-a49e-6249a28f88ce",
   "metadata": {},
   "source": [
    "### Computing original TI estimate and error"
   ]
  },
  {
   "cell_type": "code",
   "execution_count": 3,
   "id": "9ac95104-3b79-40ed-be47-7b3e0fd4c639",
   "metadata": {
    "tags": []
   },
   "outputs": [
    {
     "name": "stdout",
     "output_type": "stream",
     "text": [
      "Original ddG estimate: \n",
      "-0.1525 kcal/mol \n",
      "\n",
      "Original ddG error: \n",
      "0.9525 kcal/mol\n"
     ]
    }
   ],
   "source": [
    "orig_dG_bd = geom_dvdls.groupby(\"Lambda\").mean().sum()[\"weight_dvdl\"]\n",
    "orig_dG_ubd = geom_dvdls_ub.groupby(\"Lambda\").mean().sum()[\"weight_dvdl\"]\n",
    "\n",
    "empirical_value = 0.80\n",
    "orig_error = abs((orig_dG_bd - orig_dG_ubd) - empirical_value)\n",
    "\n",
    "print(\"Original ddG estimate: \")\n",
    "print(f\"{round(orig_dG_bd - orig_dG_ubd, 4)} kcal/mol \")\n",
    "print()\n",
    "print(\"Original ddG error: \")\n",
    "print(f\"{round(orig_error, 4)} kcal/mol\")"
   ]
  },
  {
   "cell_type": "markdown",
   "id": "34f55e45-9aaf-499f-bf75-d7f995c86d52",
   "metadata": {},
   "source": [
    "### Removing correlated variables among candidate degrees of freedom\n",
    "\n",
    "This is important because we want to limit the noise in our model training. See our methods/supplemental methods section for our process to choose the input features."
   ]
  },
  {
   "cell_type": "code",
   "execution_count": 8,
   "id": "9150b9ed-11fc-4651-a165-76b487899aa3",
   "metadata": {
    "tags": []
   },
   "outputs": [],
   "source": [
    "X = geom_dvdls.drop([\n",
    "    \"#Frame\", \"weight_dvdl\", \"dvdl\", \"Run\", \"Lambda\", \n",
    "], axis=1)\n",
    "\n",
    "Y = geom_dvdls[\"weight_dvdl\"]\n",
    "\n",
    "X_scl = pd.DataFrame(StandardScaler().fit_transform(X))\n",
    "X_scl.columns = X.columns\n"
   ]
  },
  {
   "cell_type": "markdown",
   "id": "5a2cfc34-dec8-429f-9d4c-2762aa1fec76",
   "metadata": {},
   "source": [
    "### Checking to see if there is any cross-correlations within the independent variables"
   ]
  },
  {
   "cell_type": "code",
   "execution_count": 9,
   "id": "6740b1ef-c4ef-4093-8a9c-a7f1c53572ac",
   "metadata": {
    "tags": []
   },
   "outputs": [],
   "source": [
    "absCorr = abs(X_scl.corr())\n",
    "for i in absCorr.columns:\n",
    "    for j in absCorr.index:\n",
    "        cor = absCorr.loc[i, j]\n",
    "        if abs(cor) > 0.5 and i != j:\n",
    "            print(i, j)\n",
    "            print(cor)\n",
    "            "
   ]
  },
  {
   "cell_type": "markdown",
   "id": "4cecf12e-fb4f-4b94-9a58-b3abe83eb546",
   "metadata": {},
   "source": [
    "### Using random forest model to identify the most energetically influential degrees of freedom\n",
    "\n",
    "We run our model 25 times, then sort the results by the mean of feature importance across the 25 iterations. For this particular perturbation, the model $R^2$ between the geometric DOF (nearby side chain rotamers or interatomic distances) and the energetic DV/DL was not strong enough for us to check the sampling of these degrees of freedom. "
   ]
  },
  {
   "cell_type": "code",
   "execution_count": 10,
   "id": "7ebd4f2d-6671-4b52-a8e0-f0e052360037",
   "metadata": {
    "tags": []
   },
   "outputs": [
    {
     "name": "stdout",
     "output_type": "stream",
     "text": [
      "Avg. training r2: \n",
      "0.5672\n",
      "Training r2 std dev: \n",
      "0.0009\n",
      "Avg. test r2: \n",
      "0.4018\n",
      "Testing r2 std dev: \n",
      "0.0052\n"
     ]
    },
    {
     "data": {
      "text/html": [
       "<div>\n",
       "<style scoped>\n",
       "    .dataframe tbody tr th:only-of-type {\n",
       "        vertical-align: middle;\n",
       "    }\n",
       "\n",
       "    .dataframe tbody tr th {\n",
       "        vertical-align: top;\n",
       "    }\n",
       "\n",
       "    .dataframe thead th {\n",
       "        text-align: right;\n",
       "    }\n",
       "</style>\n",
       "<table border=\"1\" class=\"dataframe\">\n",
       "  <thead>\n",
       "    <tr style=\"text-align: right;\">\n",
       "      <th></th>\n",
       "      <th>Mean</th>\n",
       "      <th>Median</th>\n",
       "    </tr>\n",
       "  </thead>\n",
       "  <tbody>\n",
       "    <tr>\n",
       "      <th>R421_chi3</th>\n",
       "      <td>0.152591</td>\n",
       "      <td>0.190558</td>\n",
       "    </tr>\n",
       "    <tr>\n",
       "      <th>N385_T386</th>\n",
       "      <td>0.117374</td>\n",
       "      <td>0.115940</td>\n",
       "    </tr>\n",
       "    <tr>\n",
       "      <th>N385_chi2</th>\n",
       "      <td>0.078927</td>\n",
       "      <td>0.089095</td>\n",
       "    </tr>\n",
       "    <tr>\n",
       "      <th>R421_chi2</th>\n",
       "      <td>0.073022</td>\n",
       "      <td>0.054773</td>\n",
       "    </tr>\n",
       "    <tr>\n",
       "      <th>R421_chi4</th>\n",
       "      <td>0.067216</td>\n",
       "      <td>0.063308</td>\n",
       "    </tr>\n",
       "    <tr>\n",
       "      <th>Q115_T386</th>\n",
       "      <td>0.062009</td>\n",
       "      <td>0.062003</td>\n",
       "    </tr>\n",
       "    <tr>\n",
       "      <th>Q115_chi1</th>\n",
       "      <td>0.057774</td>\n",
       "      <td>0.057173</td>\n",
       "    </tr>\n",
       "    <tr>\n",
       "      <th>R421_chi1</th>\n",
       "      <td>0.052132</td>\n",
       "      <td>0.055499</td>\n",
       "    </tr>\n",
       "    <tr>\n",
       "      <th>H446_chi1</th>\n",
       "      <td>0.051460</td>\n",
       "      <td>0.051589</td>\n",
       "    </tr>\n",
       "    <tr>\n",
       "      <th>S407_chi1</th>\n",
       "      <td>0.045580</td>\n",
       "      <td>0.050087</td>\n",
       "    </tr>\n",
       "    <tr>\n",
       "      <th>N385_chi1</th>\n",
       "      <td>0.042540</td>\n",
       "      <td>0.036459</td>\n",
       "    </tr>\n",
       "    <tr>\n",
       "      <th>S405_chi1</th>\n",
       "      <td>0.038325</td>\n",
       "      <td>0.025829</td>\n",
       "    </tr>\n",
       "    <tr>\n",
       "      <th>T386_chi1</th>\n",
       "      <td>0.036756</td>\n",
       "      <td>0.042874</td>\n",
       "    </tr>\n",
       "    <tr>\n",
       "      <th>V384_chi2</th>\n",
       "      <td>0.033060</td>\n",
       "      <td>0.037281</td>\n",
       "    </tr>\n",
       "    <tr>\n",
       "      <th>V384_chi1</th>\n",
       "      <td>0.028021</td>\n",
       "      <td>0.021971</td>\n",
       "    </tr>\n",
       "  </tbody>\n",
       "</table>\n",
       "</div>"
      ],
      "text/plain": [
       "               Mean    Median\n",
       "R421_chi3  0.152591  0.190558\n",
       "N385_T386  0.117374  0.115940\n",
       "N385_chi2  0.078927  0.089095\n",
       "R421_chi2  0.073022  0.054773\n",
       "R421_chi4  0.067216  0.063308\n",
       "Q115_T386  0.062009  0.062003\n",
       "Q115_chi1  0.057774  0.057173\n",
       "R421_chi1  0.052132  0.055499\n",
       "H446_chi1  0.051460  0.051589\n",
       "S407_chi1  0.045580  0.050087\n",
       "N385_chi1  0.042540  0.036459\n",
       "S405_chi1  0.038325  0.025829\n",
       "T386_chi1  0.036756  0.042874\n",
       "V384_chi2  0.033060  0.037281\n",
       "V384_chi1  0.028021  0.021971"
      ]
     },
     "execution_count": 10,
     "metadata": {},
     "output_type": "execute_result"
    }
   ],
   "source": [
    "rfeDefault = RFE(estimator=DecisionTreeRegressor(max_depth=5, random_state=42), n_features_to_select=0.75, step=0.05)\n",
    "rfDefault = RandomForestRegressor(\n",
    "    max_depth=10, n_estimators=200, oob_score=True, max_features=0.6, min_samples_leaf = 7, min_samples_split=14, random_state=42\n",
    ")\n",
    "\n",
    "pipelineDefault_rf = Pipeline([\n",
    "    ('feature_scaling', StandardScaler()),\n",
    "    ('feature_selection', rfeDefault),\n",
    "    ('regression_model', rfDefault)\n",
    "])\n",
    "\n",
    "\n",
    "imps = benchmark_model(pipelineDefault_rf, X_scl, Y, geom_dvdls[\"Lambda\"])\n",
    "imps[[\"Mean\", \"Median\"]].sort_values(by=\"Mean\", ascending=False)[:15]"
   ]
  },
  {
   "cell_type": "code",
   "execution_count": null,
   "id": "239f3ab9-b763-4a7c-8961-4cc52b8bc08d",
   "metadata": {},
   "outputs": [],
   "source": []
  }
 ],
 "metadata": {
  "kernelspec": {
   "display_name": "Python md-cqa",
   "language": "python",
   "name": "md-cqa"
  },
  "language_info": {
   "codemirror_mode": {
    "name": "ipython",
    "version": 3
   },
   "file_extension": ".py",
   "mimetype": "text/x-python",
   "name": "python",
   "nbconvert_exporter": "python",
   "pygments_lexer": "ipython3",
   "version": "3.7.11"
  }
 },
 "nbformat": 4,
 "nbformat_minor": 5
}
