{
 "cells": [
  {
   "cell_type": "markdown",
   "id": "af31d77a-46b5-4e82-b9fe-b49d6e0e0e68",
   "metadata": {},
   "source": [
    "## Kelley hu4d5-5 VL-R66G vdw step error analysis\n",
    "\n",
    "In this notebook we will use a random forest model to find the most energetically influential degrees of freedom for the VL-R66G vdw step TI production run. Next, we will compare the sampling of these DOF during TI production to a free energy profile derived from end state GaMD sampling. We will attempt to  correct any inaccurate sampling in the TI data and find the estimated ddG before and after the correction. "
   ]
  },
  {
   "cell_type": "code",
   "execution_count": 1,
   "id": "0121af7e-a7d5-4073-b9df-19737c7c51e9",
   "metadata": {
    "tags": []
   },
   "outputs": [],
   "source": [
    "import os\n",
    "os.chdir(\"..\")\n",
    "from common_functions import *"
   ]
  },
  {
   "cell_type": "markdown",
   "id": "fa7aefaa-a161-4073-b685-4dcaafd1b887",
   "metadata": {},
   "source": [
    "### Ingesting original TI lambda production data"
   ]
  },
  {
   "cell_type": "code",
   "execution_count": 2,
   "id": "05415153-c593-4d2a-93fd-adea53123c6c",
   "metadata": {
    "tags": []
   },
   "outputs": [],
   "source": [
    "os.chdir(\"./TI_data/VL-R66G\")\n",
    "geom_dvdls_crg = pd.read_csv(\"R66G_crg_bound.csv\")\n",
    "geom_dvdls_crg_ub = pd.read_csv(\"R66G_crg_unbound.csv\")\n",
    "geom_dvdls_vdw = pd.read_csv(\"R66G_vdw_bound.csv\")\n",
    "geom_dvdls_vdw_ub = pd.read_csv(\"R66G_vdw_unbound.csv\")\n"
   ]
  },
  {
   "cell_type": "markdown",
   "id": "11417661-0531-407a-a3e2-d97258ad3afa",
   "metadata": {},
   "source": [
    "### Initial ddG estimate:"
   ]
  },
  {
   "cell_type": "code",
   "execution_count": 3,
   "id": "18f2690f-882b-4de8-84eb-452220ea26fc",
   "metadata": {
    "tags": []
   },
   "outputs": [
    {
     "name": "stdout",
     "output_type": "stream",
     "text": [
      "Original ddG (crg step): \n",
      "-0.8642 kcal/mol\n",
      "Original ddG (vdw step): \n",
      "0.1575 kcal/mol\n",
      "Original total ddG: \n",
      "-0.7066 kcal/mol\n",
      "\n",
      "Empirical value: \n",
      "0.22 kcal/mol\n",
      "Original ddG error: \n",
      "0.9266 kcal/mol\n"
     ]
    }
   ],
   "source": [
    "dG_bd_crg = geom_dvdls_crg.groupby(\"Lambda\").mean()[\"weight_dvdl\"].sum()\n",
    "dG_ubd_crg = geom_dvdls_crg_ub.groupby(\"Lambda\").mean()[\"weight_dvdl\"].sum()\n",
    "ddG_crg = dG_bd_crg - dG_ubd_crg\n",
    "\n",
    "dG_bd_vdw = geom_dvdls_vdw.groupby(\"Lambda\").mean()[\"weight_dvdl\"].sum()\n",
    "dG_ubd_vdw = geom_dvdls_vdw_ub.groupby(\"Lambda\").mean()[\"weight_dvdl\"].sum()\n",
    "ddG_vdw = dG_bd_vdw - dG_ubd_vdw\n",
    "\n",
    "empirical_value = 0.22\n",
    "\n",
    "print(\"Original ddG (crg step): \")\n",
    "print(f\"{round(ddG_crg, 4)} kcal/mol\")\n",
    "\n",
    "print(\"Original ddG (vdw step): \")\n",
    "print(f\"{round(ddG_vdw, 4)} kcal/mol\")\n",
    "\n",
    "print(\"Original total ddG: \")\n",
    "print(f\"{round(ddG_crg + ddG_vdw, 4)} kcal/mol\")\n",
    "\n",
    "print()\n",
    "print(\"Empirical value: \")\n",
    "print(f\"{empirical_value} kcal/mol\")\n",
    "\n",
    "orig_error = abs((ddG_crg + ddG_vdw) - empirical_value)\n",
    "\n",
    "print(\"Original ddG error: \")\n",
    "print(f\"{round(orig_error, 4)} kcal/mol\")"
   ]
  },
  {
   "cell_type": "markdown",
   "id": "606edf22-4e1c-431a-8301-49c635fc1c96",
   "metadata": {},
   "source": [
    "### Vdw step RF model\n",
    "\n",
    "#### Splitting data into independent/dependent variables for random forest model\n",
    "\n",
    "See our methods/supplemental methods section for our process to choose the input features."
   ]
  },
  {
   "cell_type": "code",
   "execution_count": 4,
   "id": "ba4185b8-f5b1-4ac6-8273-06f22834db45",
   "metadata": {
    "tags": []
   },
   "outputs": [],
   "source": [
    "X = geom_dvdls_vdw.drop(\n",
    "    [\"weight_dvdl\", \"dvdl\", \"Run\", \"Lambda\", \"#Frame\",\n",
    "    ], axis=1)\n",
    "\n",
    "X_scl = pd.DataFrame(StandardScaler().fit_transform(X))\n",
    "X_scl.columns = X.columns\n",
    "Y = geom_dvdls_vdw[\"weight_dvdl\"]\n"
   ]
  },
  {
   "cell_type": "markdown",
   "id": "b28e90bd-30bd-40d5-a687-5e175b5eae19",
   "metadata": {},
   "source": [
    "#### Checking to see if there is any cross-correlations within the dataset"
   ]
  },
  {
   "cell_type": "code",
   "execution_count": 5,
   "id": "4674b265-a5ba-4a8a-9185-4cbc3034fab3",
   "metadata": {
    "tags": []
   },
   "outputs": [],
   "source": [
    "absCorr = abs(X_scl.corr())\n",
    "for i in absCorr.columns:\n",
    "    for j in absCorr.index:\n",
    "        cor = absCorr.loc[i, j]\n",
    "        if abs(cor) > 0.5 and i != j:\n",
    "            print(i, j)\n",
    "            print(cor)\n",
    "            "
   ]
  },
  {
   "cell_type": "markdown",
   "id": "5dd6f042-4c44-42af-9e15-a56acab081f5",
   "metadata": {},
   "source": [
    "#### Using random forest model to identify the most energetically influential degrees of freedom\n",
    "\n",
    "We run our model 25 times, then sort the results by the mean of feature importance across the 25 iterations. For this particular perturbation, the model $R^2$ between the geometric DOF (nearby side chain rotamers or interatomic distances) and the energetic DV/DL was not strong enough for us to check the sampling of these degrees of freedom. "
   ]
  },
  {
   "cell_type": "code",
   "execution_count": 9,
   "id": "767e886d-c066-4055-979a-5850e44357c7",
   "metadata": {
    "tags": []
   },
   "outputs": [
    {
     "name": "stdout",
     "output_type": "stream",
     "text": [
      "Avg. training r2: \n",
      "0.5685\n",
      "Training r2 std dev: \n",
      "0.0015\n",
      "Avg. test r2: \n",
      "0.4325\n",
      "Testing r2 std dev: \n",
      "0.0063\n"
     ]
    },
    {
     "data": {
      "text/html": [
       "<div>\n",
       "<style scoped>\n",
       "    .dataframe tbody tr th:only-of-type {\n",
       "        vertical-align: middle;\n",
       "    }\n",
       "\n",
       "    .dataframe tbody tr th {\n",
       "        vertical-align: top;\n",
       "    }\n",
       "\n",
       "    .dataframe thead th {\n",
       "        text-align: right;\n",
       "    }\n",
       "</style>\n",
       "<table border=\"1\" class=\"dataframe\">\n",
       "  <thead>\n",
       "    <tr style=\"text-align: right;\">\n",
       "      <th></th>\n",
       "      <th>Mean</th>\n",
       "      <th>Median</th>\n",
       "    </tr>\n",
       "  </thead>\n",
       "  <tbody>\n",
       "    <tr>\n",
       "      <th>F426_chi2</th>\n",
       "      <td>0.165513</td>\n",
       "      <td>0.165693</td>\n",
       "    </tr>\n",
       "    <tr>\n",
       "      <th>N385_chi1</th>\n",
       "      <td>0.154993</td>\n",
       "      <td>0.154210</td>\n",
       "    </tr>\n",
       "    <tr>\n",
       "      <th>S407_chi1</th>\n",
       "      <td>0.141395</td>\n",
       "      <td>0.143542</td>\n",
       "    </tr>\n",
       "    <tr>\n",
       "      <th>S420_chi1</th>\n",
       "      <td>0.131758</td>\n",
       "      <td>0.142609</td>\n",
       "    </tr>\n",
       "    <tr>\n",
       "      <th>T386_chi1</th>\n",
       "      <td>0.115618</td>\n",
       "      <td>0.110394</td>\n",
       "    </tr>\n",
       "    <tr>\n",
       "      <th>T427_chi1</th>\n",
       "      <td>0.114754</td>\n",
       "      <td>0.112565</td>\n",
       "    </tr>\n",
       "    <tr>\n",
       "      <th>N385_chi2</th>\n",
       "      <td>0.101531</td>\n",
       "      <td>0.098184</td>\n",
       "    </tr>\n",
       "    <tr>\n",
       "      <th>S422_chi1</th>\n",
       "      <td>0.074438</td>\n",
       "      <td>0.075353</td>\n",
       "    </tr>\n",
       "  </tbody>\n",
       "</table>\n",
       "</div>"
      ],
      "text/plain": [
       "               Mean    Median\n",
       "F426_chi2  0.165513  0.165693\n",
       "N385_chi1  0.154993  0.154210\n",
       "S407_chi1  0.141395  0.143542\n",
       "S420_chi1  0.131758  0.142609\n",
       "T386_chi1  0.115618  0.110394\n",
       "T427_chi1  0.114754  0.112565\n",
       "N385_chi2  0.101531  0.098184\n",
       "S422_chi1  0.074438  0.075353"
      ]
     },
     "execution_count": 9,
     "metadata": {},
     "output_type": "execute_result"
    }
   ],
   "source": [
    "rfeDefault = RFE(estimator=DecisionTreeRegressor(max_depth=5, random_state=42), n_features_to_select=0.75, step=0.05)\n",
    "rfDefault = RandomForestRegressor(\n",
    "    max_depth=10, n_estimators=200, oob_score=True, max_features=0.6, min_samples_leaf = 7, min_samples_split=14, random_state=42\n",
    ")\n",
    "\n",
    "pipelineDefault_rf = Pipeline([\n",
    "    ('feature_scaling', StandardScaler()),\n",
    "    ('feature_selection', rfeDefault),\n",
    "    ('regression_model', rfDefault)\n",
    "])\n",
    "\n",
    "\n",
    "imps = benchmark_model(pipelineDefault_rf, X_scl, Y, geom_dvdls_vdw[\"Lambda\"])\n",
    "imps[[\"Mean\", \"Median\"]].sort_values(by=\"Mean\", ascending=False)[:15]"
   ]
  }
 ],
 "metadata": {
  "kernelspec": {
   "display_name": "Python md-cqa",
   "language": "python",
   "name": "md-cqa"
  },
  "language_info": {
   "codemirror_mode": {
    "name": "ipython",
    "version": 3
   },
   "file_extension": ".py",
   "mimetype": "text/x-python",
   "name": "python",
   "nbconvert_exporter": "python",
   "pygments_lexer": "ipython3",
   "version": "3.7.11"
  }
 },
 "nbformat": 4,
 "nbformat_minor": 5
}
