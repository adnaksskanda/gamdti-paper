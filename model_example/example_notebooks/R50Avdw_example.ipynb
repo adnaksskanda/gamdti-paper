{
 "cells": [
  {
   "cell_type": "markdown",
   "id": "82bfd880-77a5-4fcc-b088-43a33d57d34b",
   "metadata": {},
   "source": [
    "## Kelley hu4d5-5 VH-R50A vdw step error analysis\n",
    "\n",
    "In this notebook we will use a random forest model to find the most energetically influential degrees of freedom for the VH-R50A vdw step TI production run. Next, we will compare the sampling of these DOF during TI production to a free energy profile derived from end state GaMD sampling. We will attempt to  correct any inaccurate sampling in the TI data and find the estimated ddG before and after the correction. "
   ]
  },
  {
   "cell_type": "code",
   "execution_count": 1,
   "id": "f0775cd2-d42e-4aa9-8893-b1cfa5f6263d",
   "metadata": {
    "tags": []
   },
   "outputs": [],
   "source": [
    "import os\n",
    "os.chdir(\"..\")\n",
    "from common_functions import *"
   ]
  },
  {
   "cell_type": "markdown",
   "id": "ad4ead33-5cdc-4697-ae2b-e162f0ae510f",
   "metadata": {},
   "source": [
    "### Ingesting original TI lambda production data "
   ]
  },
  {
   "cell_type": "code",
   "execution_count": 2,
   "id": "ec207aa3-2281-495f-a28b-46f570507de6",
   "metadata": {
    "tags": []
   },
   "outputs": [],
   "source": [
    "os.chdir(\"./TI_data/VH-R50A\")\n",
    "dvdls_crg = pd.read_csv(\"R50A_crg_bound.csv\")\n",
    "dvdls_ub_crg = pd.read_csv(\"R50A_crg_unbound.csv\")\n",
    "geom_dvdls_vdw = pd.read_csv(\"R50A_vdw_bound.csv\")\n",
    "dvdls_ub_vdw = pd.read_csv(\"R50A_vdw_unbound.csv\")\n"
   ]
  },
  {
   "cell_type": "markdown",
   "id": "ad40c982-7a45-43e5-a1ec-8aaa91af059f",
   "metadata": {},
   "source": [
    "#### Initial TI estimate"
   ]
  },
  {
   "cell_type": "code",
   "execution_count": 4,
   "id": "a2b26b98-0e82-44e8-963d-ca40cf0a2be1",
   "metadata": {
    "tags": []
   },
   "outputs": [
    {
     "name": "stdout",
     "output_type": "stream",
     "text": [
      "Original ddG (crg step): \n",
      "0.9958 kcal/mol\n",
      "Original ddG (vdw step): \n",
      "1.9825 kcal/mol\n",
      "Original total ddG: \n",
      "2.9783 kcal/mol\n",
      "\n",
      "Empirical value: \n",
      "4.58 kcal/mol\n"
     ]
    }
   ],
   "source": [
    "dG_bd_crg = dvdls_crg.groupby(\"Lambda\").mean()[\"weight_dvdl\"].sum()\n",
    "dG_ubd_crg = dvdls_ub_crg.groupby(\"Lambda\").mean()[\"weight_dvdl\"].sum()\n",
    "ddG_crg = dG_bd_crg - dG_ubd_crg\n",
    "\n",
    "dG_bd_vdw = geom_dvdls_vdw.groupby(\"Lambda\").mean()[\"weight_dvdl\"].sum()\n",
    "dG_ubd_vdw = dvdls_ub_vdw.groupby(\"Lambda\").mean()[\"weight_dvdl\"].sum()\n",
    "ddG_vdw = dG_bd_vdw - dG_ubd_vdw\n",
    "\n",
    "empirical_value = 4.58\n",
    "\n",
    "print(\"Original ddG (crg step): \")\n",
    "print(f\"{round(ddG_crg, 4)} kcal/mol\")\n",
    "\n",
    "print(\"Original ddG (vdw step): \")\n",
    "print(f\"{round(ddG_vdw, 4)} kcal/mol\")\n",
    "\n",
    "print(\"Original total ddG: \")\n",
    "print(f\"{round(ddG_crg + ddG_vdw, 4)} kcal/mol\")\n",
    "\n",
    "print()\n",
    "print(\"Empirical value: \")\n",
    "print(f\"{empirical_value} kcal/mol\")"
   ]
  },
  {
   "cell_type": "markdown",
   "id": "557ef138-aae6-4718-98ad-5f1dfa77667d",
   "metadata": {},
   "source": [
    "### Random forest model for vdw step"
   ]
  },
  {
   "cell_type": "markdown",
   "id": "d59dffc7-215a-4bc8-a756-54e339877add",
   "metadata": {},
   "source": [
    "#### Splitting data into independent/dependent variable sets, removing correlated variables"
   ]
  },
  {
   "cell_type": "code",
   "execution_count": 5,
   "id": "c8fb07c9-f6bd-445c-af48-2b57e35410ba",
   "metadata": {
    "tags": []
   },
   "outputs": [],
   "source": [
    "X = geom_dvdls_vdw.drop(\n",
    "    ['weight_dvdl', 'dvdl', 'Run', 'Lambda', '#Frame', \"H384_chi2\"\n",
    "    ], axis=1)\n",
    "\n",
    "X_scl = pd.DataFrame(StandardScaler().fit_transform(X))\n",
    "X_scl.columns = X.columns\n",
    "Y = geom_dvdls_vdw[\"weight_dvdl\"]\n"
   ]
  },
  {
   "cell_type": "code",
   "execution_count": 6,
   "id": "4b900f40-2a2c-4354-babe-0752e9e4df1a",
   "metadata": {
    "tags": []
   },
   "outputs": [],
   "source": [
    "absCorr = abs(X_scl.corr())\n",
    "for i in absCorr.columns:\n",
    "    for j in absCorr.index:\n",
    "        cor = absCorr.loc[i, j]\n",
    "        if abs(cor) > 0.5 and i != j:\n",
    "            print(i, j)\n",
    "            print(cor)\n",
    "            "
   ]
  },
  {
   "cell_type": "markdown",
   "id": "18f1031c-df9e-400f-a136-3c535d15be6b",
   "metadata": {},
   "source": [
    "### Using random forest model to identify the most energetically influential degrees of freedom\n",
    "\n",
    "We run our model 25 times, then sort the results by the mean of feature importance across the 25 iterations. For this particular perturbation, the model $R^2$ between the geometric DOF (nearby side chain rotamers or interatomic distances) and the energetic DV/DL was not strong enough for us to check the sampling of these degrees of freedom. Therefore, corrections will only be applied to the charging step for hu4D5-5 VH-R50A."
   ]
  },
  {
   "cell_type": "code",
   "execution_count": 8,
   "id": "aedda017-26d2-4700-952e-e12b0e30bbd7",
   "metadata": {
    "tags": []
   },
   "outputs": [
    {
     "name": "stdout",
     "output_type": "stream",
     "text": [
      "Avg. training r2: \n",
      "0.5603\n",
      "Training r2 std dev: \n",
      "0.0004\n",
      "Avg. test r2: \n",
      "0.4173\n",
      "Testing r2 std dev: \n",
      "0.0045\n"
     ]
    },
    {
     "data": {
      "text/html": [
       "<div>\n",
       "<style scoped>\n",
       "    .dataframe tbody tr th:only-of-type {\n",
       "        vertical-align: middle;\n",
       "    }\n",
       "\n",
       "    .dataframe tbody tr th {\n",
       "        vertical-align: top;\n",
       "    }\n",
       "\n",
       "    .dataframe thead th {\n",
       "        text-align: right;\n",
       "    }\n",
       "</style>\n",
       "<table border=\"1\" class=\"dataframe\">\n",
       "  <thead>\n",
       "    <tr style=\"text-align: right;\">\n",
       "      <th></th>\n",
       "      <th>Mean</th>\n",
       "      <th>Median</th>\n",
       "    </tr>\n",
       "  </thead>\n",
       "  <tbody>\n",
       "    <tr>\n",
       "      <th>Y406_chi2</th>\n",
       "      <td>0.106937</td>\n",
       "      <td>0.106908</td>\n",
       "    </tr>\n",
       "    <tr>\n",
       "      <th>Y401_chi2</th>\n",
       "      <td>0.106881</td>\n",
       "      <td>0.110941</td>\n",
       "    </tr>\n",
       "    <tr>\n",
       "      <th>R408_chi4</th>\n",
       "      <td>0.103651</td>\n",
       "      <td>0.106962</td>\n",
       "    </tr>\n",
       "    <tr>\n",
       "      <th>H384_chi1</th>\n",
       "      <td>0.095558</td>\n",
       "      <td>0.095712</td>\n",
       "    </tr>\n",
       "    <tr>\n",
       "      <th>T407_chi1</th>\n",
       "      <td>0.093934</td>\n",
       "      <td>0.097142</td>\n",
       "    </tr>\n",
       "    <tr>\n",
       "      <th>Y382_chi1</th>\n",
       "      <td>0.092906</td>\n",
       "      <td>0.092340</td>\n",
       "    </tr>\n",
       "    <tr>\n",
       "      <th>V397_chi1</th>\n",
       "      <td>0.059090</td>\n",
       "      <td>0.059067</td>\n",
       "    </tr>\n",
       "    <tr>\n",
       "      <th>Y382_chi2</th>\n",
       "      <td>0.057230</td>\n",
       "      <td>0.057130</td>\n",
       "    </tr>\n",
       "    <tr>\n",
       "      <th>R408_chi3</th>\n",
       "      <td>0.053406</td>\n",
       "      <td>0.051437</td>\n",
       "    </tr>\n",
       "    <tr>\n",
       "      <th>R408_chi2</th>\n",
       "      <td>0.041922</td>\n",
       "      <td>0.041543</td>\n",
       "    </tr>\n",
       "    <tr>\n",
       "      <th>W396_chi1</th>\n",
       "      <td>0.027670</td>\n",
       "      <td>0.027643</td>\n",
       "    </tr>\n",
       "    <tr>\n",
       "      <th>Y401_chi1</th>\n",
       "      <td>0.027232</td>\n",
       "      <td>0.023642</td>\n",
       "    </tr>\n",
       "    <tr>\n",
       "      <th>I383_chi2</th>\n",
       "      <td>0.027180</td>\n",
       "      <td>0.027161</td>\n",
       "    </tr>\n",
       "    <tr>\n",
       "      <th>W396_chi2</th>\n",
       "      <td>0.026567</td>\n",
       "      <td>0.026538</td>\n",
       "    </tr>\n",
       "    <tr>\n",
       "      <th>R408_chi1</th>\n",
       "      <td>0.020116</td>\n",
       "      <td>0.019303</td>\n",
       "    </tr>\n",
       "  </tbody>\n",
       "</table>\n",
       "</div>"
      ],
      "text/plain": [
       "               Mean    Median\n",
       "Y406_chi2  0.106937  0.106908\n",
       "Y401_chi2  0.106881  0.110941\n",
       "R408_chi4  0.103651  0.106962\n",
       "H384_chi1  0.095558  0.095712\n",
       "T407_chi1  0.093934  0.097142\n",
       "Y382_chi1  0.092906  0.092340\n",
       "V397_chi1  0.059090  0.059067\n",
       "Y382_chi2  0.057230  0.057130\n",
       "R408_chi3  0.053406  0.051437\n",
       "R408_chi2  0.041922  0.041543\n",
       "W396_chi1  0.027670  0.027643\n",
       "Y401_chi1  0.027232  0.023642\n",
       "I383_chi2  0.027180  0.027161\n",
       "W396_chi2  0.026567  0.026538\n",
       "R408_chi1  0.020116  0.019303"
      ]
     },
     "execution_count": 8,
     "metadata": {},
     "output_type": "execute_result"
    }
   ],
   "source": [
    "rfeDefault = RFE(estimator=DecisionTreeRegressor(max_depth=5, random_state=42), n_features_to_select=0.75, step=0.05)\n",
    "rfDefault = RandomForestRegressor(\n",
    "    max_depth=10, n_estimators=200, oob_score=True, max_features=0.6, min_samples_leaf = 7, min_samples_split=14, random_state=42\n",
    ")\n",
    "\n",
    "pipelineDefault_rf = Pipeline([\n",
    "    ('feature_scaling', StandardScaler()),\n",
    "    # ('pre_select', kbest),\n",
    "    ('feature_selection', rfeDefault),\n",
    "    ('regression_model', rfDefault)\n",
    "])\n",
    "\n",
    "\n",
    "imps = benchmark_model(pipelineDefault_rf, X_scl, Y, geom_dvdls_vdw[\"Lambda\"])\n",
    "imps[[\"Mean\", \"Median\"]].sort_values(by=\"Mean\", ascending=False)[:15]"
   ]
  }
 ],
 "metadata": {
  "kernelspec": {
   "display_name": "Python md-cqa",
   "language": "python",
   "name": "md-cqa"
  },
  "language_info": {
   "codemirror_mode": {
    "name": "ipython",
    "version": 3
   },
   "file_extension": ".py",
   "mimetype": "text/x-python",
   "name": "python",
   "nbconvert_exporter": "python",
   "pygments_lexer": "ipython3",
   "version": "3.7.11"
  }
 },
 "nbformat": 4,
 "nbformat_minor": 5
}
