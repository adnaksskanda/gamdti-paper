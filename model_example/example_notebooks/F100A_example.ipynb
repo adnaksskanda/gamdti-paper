{
 "cells": [
  {
   "cell_type": "markdown",
   "id": "85a9042a-7299-41e3-9eba-5ba2e677beed",
   "metadata": {},
   "source": [
    "## Kelley hu4d5-5 VH-F100A error analysis\n",
    "\n",
    "In this notebook we will use a random forest model to find the most energetically influential degrees of freedom for the VH-F100A TI production run. Next, we will compare the sampling of these DOF during TI production to a free energy profile derived from end state GaMD sampling. We will attempt to  correct any inaccurate sampling in the TI data and find the estimated ddG before and after the correction. "
   ]
  },
  {
   "cell_type": "code",
   "execution_count": 1,
   "id": "1478037a-a892-4cba-b311-a50c3ebb2db5",
   "metadata": {
    "tags": []
   },
   "outputs": [],
   "source": [
    "from common_functions import *"
   ]
  },
  {
   "cell_type": "markdown",
   "id": "b1498de1-5e79-4a5a-8d6a-6607f567e31e",
   "metadata": {},
   "source": [
    "### Ingesting initial TI data"
   ]
  },
  {
   "cell_type": "code",
   "execution_count": 11,
   "id": "0eca7b42-567b-4988-895a-4bc017648639",
   "metadata": {
    "tags": []
   },
   "outputs": [],
   "source": [
    "os.chdir(\"./TI_data/VH-F100A/\")\n",
    "geom_dvdls = pd.read_csv(\"F100A_bound.csv\")\n",
    "geom_dvdls_ub = pd.read_csv(\"F100A_unbound.csv\")"
   ]
  },
  {
   "cell_type": "markdown",
   "id": "5d8ba06a-ac5b-4061-a13b-500a325bd6a3",
   "metadata": {},
   "source": [
    "### Original ddG estimate:"
   ]
  },
  {
   "cell_type": "code",
   "execution_count": 9,
   "id": "5c856ef9-b81c-4eb9-a5ae-885727c00622",
   "metadata": {
    "tags": []
   },
   "outputs": [
    {
     "name": "stdout",
     "output_type": "stream",
     "text": [
      "Original ddG estimate: \n",
      "1.6678 kcal/mol \n",
      "\n",
      "Original ddG error: \n",
      "0.5078 kcal/mol\n"
     ]
    }
   ],
   "source": [
    "orig_dG_bd = geom_dvdls.groupby(\"Lambda\").mean().sum()[\"weight_dvdl\"]\n",
    "orig_dG_ubd = geom_dvdls_ub.groupby(\"Lambda\").mean().sum()[\"weight_dvdl\"]\n",
    "\n",
    "empirical_value = 1.16\n",
    "orig_error = abs((orig_dG_bd - orig_dG_ubd) - empirical_value)\n",
    "\n",
    "print(\"Original ddG estimate: \")\n",
    "print(f\"{round(orig_dG_bd - orig_dG_ubd, 4)} kcal/mol \")\n",
    "print()\n",
    "print(\"Original ddG error: \")\n",
    "print(f\"{round(orig_error, 4)} kcal/mol\")"
   ]
  },
  {
   "cell_type": "markdown",
   "id": "f6e7dd75-e2c0-4c0c-92de-9452dfebb2c2",
   "metadata": {},
   "source": [
    "### Removing correlated variables among candidate degrees of freedom\n",
    "\n",
    "This is important because we want to limit the noise in our model training. See our methods/supplemental methods section for our process to choose the input features."
   ]
  },
  {
   "cell_type": "code",
   "execution_count": 11,
   "id": "a2485ade-82bd-42a9-8a3b-04f721e4d4a4",
   "metadata": {
    "tags": []
   },
   "outputs": [],
   "source": [
    "X = geom_dvdls.drop([\n",
    "    \"#Frame\", \"weight_dvdl\", \"dvdl\", \"Run\", \"Lambda\", \"Y184_chi2\", \"E190_chi2\", \"D457_chi2\"\n",
    "], axis=1)\n",
    "\n",
    "Y = geom_dvdls[\"weight_dvdl\"]\n",
    "\n",
    "X_scl = pd.DataFrame(StandardScaler().fit_transform(X))\n",
    "X_scl.columns = X.columns\n"
   ]
  },
  {
   "cell_type": "markdown",
   "id": "94e588b6-b759-45ba-8258-19f9f85ad334",
   "metadata": {},
   "source": [
    "### Checking to see if there is any cross-correlations within the independent variables"
   ]
  },
  {
   "cell_type": "code",
   "execution_count": 12,
   "id": "8b6eeb35-6568-4546-8ebf-a1b2632c0441",
   "metadata": {
    "tags": []
   },
   "outputs": [],
   "source": [
    "absCorr = abs(X_scl.corr())\n",
    "for i in absCorr.columns:\n",
    "    for j in absCorr.index:\n",
    "        cor = absCorr.loc[i, j]\n",
    "        if abs(cor) > 0.5 and i != j:\n",
    "            print(i, j)\n",
    "            print(cor)\n",
    "            "
   ]
  },
  {
   "cell_type": "markdown",
   "id": "ae351d76-c57f-404b-84a3-2b31b977854a",
   "metadata": {},
   "source": [
    "### Using random forest model to identify the most energetically influential degrees of freedom\n",
    "\n",
    "We run our model 25 times, then sort the results by the mean of feature importance across the 25 iterations. For this particular perturbation, the model $R^2$ between the geometric DOF (nearby side chain rotamers or interatomic distances) and the energetic DV/DL was not strong enough for us to check the sampling of these degrees of freedom. "
   ]
  },
  {
   "cell_type": "code",
   "execution_count": 13,
   "id": "62026b3b-6b65-4e22-93ab-fcebca27d9f2",
   "metadata": {
    "tags": []
   },
   "outputs": [
    {
     "name": "stdout",
     "output_type": "stream",
     "text": [
      "Avg. training r2: \n",
      "0.4987\n",
      "Training r2 std dev: \n",
      "0.0014\n",
      "Avg. test r2: \n",
      "0.2885\n",
      "Testing r2 std dev: \n",
      "0.0055\n"
     ]
    },
    {
     "data": {
      "text/html": [
       "<div>\n",
       "<style scoped>\n",
       "    .dataframe tbody tr th:only-of-type {\n",
       "        vertical-align: middle;\n",
       "    }\n",
       "\n",
       "    .dataframe tbody tr th {\n",
       "        vertical-align: top;\n",
       "    }\n",
       "\n",
       "    .dataframe thead th {\n",
       "        text-align: right;\n",
       "    }\n",
       "</style>\n",
       "<table border=\"1\" class=\"dataframe\">\n",
       "  <thead>\n",
       "    <tr style=\"text-align: right;\">\n",
       "      <th></th>\n",
       "      <th>Mean</th>\n",
       "      <th>Median</th>\n",
       "    </tr>\n",
       "  </thead>\n",
       "  <tbody>\n",
       "    <tr>\n",
       "      <th>Y101_chi2</th>\n",
       "      <td>0.099989</td>\n",
       "      <td>0.116101</td>\n",
       "    </tr>\n",
       "    <tr>\n",
       "      <th>Y101_chi1</th>\n",
       "      <td>0.097042</td>\n",
       "      <td>0.090523</td>\n",
       "    </tr>\n",
       "    <tr>\n",
       "      <th>F453_chi2</th>\n",
       "      <td>0.080770</td>\n",
       "      <td>0.107268</td>\n",
       "    </tr>\n",
       "    <tr>\n",
       "      <th>F188_chi2</th>\n",
       "      <td>0.068015</td>\n",
       "      <td>0.081607</td>\n",
       "    </tr>\n",
       "    <tr>\n",
       "      <th>W448_chi2</th>\n",
       "      <td>0.067131</td>\n",
       "      <td>0.070912</td>\n",
       "    </tr>\n",
       "    <tr>\n",
       "      <th>F453_chi1</th>\n",
       "      <td>0.062616</td>\n",
       "      <td>0.070289</td>\n",
       "    </tr>\n",
       "    <tr>\n",
       "      <th>Y184_chi1</th>\n",
       "      <td>0.054163</td>\n",
       "      <td>0.063798</td>\n",
       "    </tr>\n",
       "    <tr>\n",
       "      <th>F188_chi1</th>\n",
       "      <td>0.053156</td>\n",
       "      <td>0.047592</td>\n",
       "    </tr>\n",
       "    <tr>\n",
       "      <th>D451_chi1</th>\n",
       "      <td>0.051847</td>\n",
       "      <td>0.034554</td>\n",
       "    </tr>\n",
       "    <tr>\n",
       "      <th>W448_chi1</th>\n",
       "      <td>0.047542</td>\n",
       "      <td>0.049317</td>\n",
       "    </tr>\n",
       "    <tr>\n",
       "      <th>I104_chi1</th>\n",
       "      <td>0.044656</td>\n",
       "      <td>0.037641</td>\n",
       "    </tr>\n",
       "    <tr>\n",
       "      <th>Y454_chi2</th>\n",
       "      <td>0.042459</td>\n",
       "      <td>0.035207</td>\n",
       "    </tr>\n",
       "    <tr>\n",
       "      <th>I104_chi2</th>\n",
       "      <td>0.041594</td>\n",
       "      <td>0.042190</td>\n",
       "    </tr>\n",
       "    <tr>\n",
       "      <th>M456_chi2</th>\n",
       "      <td>0.041437</td>\n",
       "      <td>0.038524</td>\n",
       "    </tr>\n",
       "    <tr>\n",
       "      <th>M456_chi3</th>\n",
       "      <td>0.039290</td>\n",
       "      <td>0.044760</td>\n",
       "    </tr>\n",
       "  </tbody>\n",
       "</table>\n",
       "</div>"
      ],
      "text/plain": [
       "               Mean    Median\n",
       "Y101_chi2  0.099989  0.116101\n",
       "Y101_chi1  0.097042  0.090523\n",
       "F453_chi2  0.080770  0.107268\n",
       "F188_chi2  0.068015  0.081607\n",
       "W448_chi2  0.067131  0.070912\n",
       "F453_chi1  0.062616  0.070289\n",
       "Y184_chi1  0.054163  0.063798\n",
       "F188_chi1  0.053156  0.047592\n",
       "D451_chi1  0.051847  0.034554\n",
       "W448_chi1  0.047542  0.049317\n",
       "I104_chi1  0.044656  0.037641\n",
       "Y454_chi2  0.042459  0.035207\n",
       "I104_chi2  0.041594  0.042190\n",
       "M456_chi2  0.041437  0.038524\n",
       "M456_chi3  0.039290  0.044760"
      ]
     },
     "execution_count": 13,
     "metadata": {},
     "output_type": "execute_result"
    }
   ],
   "source": [
    "rfeDefault = RFE(estimator=DecisionTreeRegressor(max_depth=5, random_state=42), n_features_to_select=0.75, step=0.05)\n",
    "rfDefault = RandomForestRegressor(\n",
    "    max_depth=10, n_estimators=200, oob_score=True, max_features=0.6, min_samples_leaf = 7, min_samples_split=14, random_state=42\n",
    ")\n",
    "\n",
    "pipelineDefault_rf = Pipeline([\n",
    "    ('feature_scaling', StandardScaler()),\n",
    "    ('feature_selection', rfeDefault),\n",
    "    ('regression_model', rfDefault)\n",
    "])\n",
    "\n",
    "\n",
    "imps = benchmark_model(pipelineDefault_rf, X_scl, Y, geom_dvdls[\"Lambda\"])\n",
    "imps[[\"Mean\", \"Median\"]].sort_values(by=\"Mean\", ascending=False)[:15]"
   ]
  },
  {
   "cell_type": "code",
   "execution_count": null,
   "id": "04957dcb-304a-44e9-b5a6-3b0405b299a5",
   "metadata": {},
   "outputs": [],
   "source": []
  }
 ],
 "metadata": {
  "kernelspec": {
   "display_name": "Python md-cqa",
   "language": "python",
   "name": "md-cqa"
  },
  "language_info": {
   "codemirror_mode": {
    "name": "ipython",
    "version": 3
   },
   "file_extension": ".py",
   "mimetype": "text/x-python",
   "name": "python",
   "nbconvert_exporter": "python",
   "pygments_lexer": "ipython3",
   "version": "3.7.11"
  }
 },
 "nbformat": 4,
 "nbformat_minor": 5
}
