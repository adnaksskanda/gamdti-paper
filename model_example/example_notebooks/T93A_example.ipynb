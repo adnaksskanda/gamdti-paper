{
 "cells": [
  {
   "cell_type": "markdown",
   "id": "3b4509c1-8fab-45fe-8740-0e4a0b4fe58d",
   "metadata": {},
   "source": [
    "## Kelley hu4d5-5 VL-T93A error analysis\n",
    "\n",
    "In this notebook we will use a random forest model to find the most energetically influential degrees of freedom for the VL-T93A TI production run. Next, we will compare the sampling of these DOF during TI production to a free energy profile derived from end state GaMD sampling. We will attempt to  correct any inaccurate sampling in the TI data and find the estimated ddG before and after the correction. "
   ]
  },
  {
   "cell_type": "code",
   "execution_count": 1,
   "id": "c3e97045-1749-4b48-ba02-827a5b04bdf6",
   "metadata": {
    "tags": []
   },
   "outputs": [],
   "source": [
    "import os\n",
    "os.chdir(\"..\")\n",
    "from common_functions import *"
   ]
  },
  {
   "cell_type": "markdown",
   "id": "f5885066-fbf2-4c54-9628-0384b7a2419e",
   "metadata": {},
   "source": [
    "### Ingesting initial TI data"
   ]
  },
  {
   "cell_type": "code",
   "execution_count": 2,
   "id": "2a104e4e-e2d4-4e93-90d7-29c1918c462f",
   "metadata": {
    "tags": []
   },
   "outputs": [],
   "source": [
    "os.chdir(\"./TI_data/VL-T93A/\")\n",
    "geom_dvdls = pd.read_csv(\"T93A_bound.csv\")\n",
    "dvdls_ub = pd.read_csv(\"T93A_unbound.csv\")"
   ]
  },
  {
   "cell_type": "markdown",
   "id": "51c94cbe-4f54-4877-a8a4-916e8d5e89de",
   "metadata": {},
   "source": [
    "### Original ddG estimate:"
   ]
  },
  {
   "cell_type": "code",
   "execution_count": 3,
   "id": "b6c600b9-5533-4dda-a739-7004845b61ad",
   "metadata": {
    "tags": []
   },
   "outputs": [
    {
     "name": "stdout",
     "output_type": "stream",
     "text": [
      "Original ddG estimate: \n",
      "1.0126 kcal/mol \n",
      "\n",
      "Original ddG error: \n",
      "0.1826 kcal/mol\n"
     ]
    }
   ],
   "source": [
    "orig_dG_bd = geom_dvdls.groupby(\"Lambda\").mean().sum()[\"weight_dvdl\"]\n",
    "orig_dG_ubd = dvdls_ub.groupby(\"Lambda\").mean().sum()[\"weight_dvdl\"]\n",
    "\n",
    "empirical_value = 0.83\n",
    "orig_error = abs((orig_dG_bd - orig_dG_ubd) - empirical_value)\n",
    "\n",
    "print(\"Original ddG estimate: \")\n",
    "print(f\"{round(orig_dG_bd - orig_dG_ubd, 4)} kcal/mol \")\n",
    "print()\n",
    "print(\"Original ddG error: \")\n",
    "print(f\"{round(orig_error, 4)} kcal/mol\")"
   ]
  },
  {
   "cell_type": "markdown",
   "id": "fdae5c66-cada-4519-a9d2-38366c7bca6e",
   "metadata": {},
   "source": [
    "### Removing correlated variables among candidate degrees of freedom\n",
    "\n",
    "This is important because we want to limit the noise in our model training. See our methods/supplemental methods section for our process to choose the input features."
   ]
  },
  {
   "cell_type": "code",
   "execution_count": 4,
   "id": "0d65ac1b-f0d9-4a6d-8409-d902ac1823f5",
   "metadata": {
    "tags": []
   },
   "outputs": [],
   "source": [
    "X = geom_dvdls.drop([\n",
    "    \"#Frame\", \"weight_dvdl\", \"dvdl\", \"Run\", \"Lambda\", \"Q445_chi3\"\n",
    "], axis=1)\n",
    "\n",
    "Y = geom_dvdls[\"weight_dvdl\"]\n",
    "\n",
    "X_scl = pd.DataFrame(StandardScaler().fit_transform(X))\n",
    "X_scl.columns = X.columns\n"
   ]
  },
  {
   "cell_type": "markdown",
   "id": "9f822d5a-125b-41ac-af82-7502fa06c493",
   "metadata": {},
   "source": [
    "### Checking to see if there is any cross-correlations within the independent variables"
   ]
  },
  {
   "cell_type": "code",
   "execution_count": 5,
   "id": "eba08bf2-9f53-4d7a-93ec-e6f0e6ac33b7",
   "metadata": {
    "tags": []
   },
   "outputs": [],
   "source": [
    "absCorr = abs(X_scl.corr())\n",
    "for i in absCorr.columns:\n",
    "    for j in absCorr.index:\n",
    "        cor = absCorr.loc[i, j]\n",
    "        if abs(cor) > 0.5 and i != j:\n",
    "            print(i, j)\n",
    "            print(cor)\n",
    "            "
   ]
  },
  {
   "cell_type": "markdown",
   "id": "f9ec8216-b3f7-4a34-abf0-8bc8b6d37228",
   "metadata": {},
   "source": [
    "### Using random forest model to identify the most energetically influential degrees of freedom\n",
    "\n",
    "We run our model 25 times, then sort the results by the mean of feature importance across the 25 iterations. For this particular perturbation, the model $R^2$ between the geometric DOF (nearby side chain rotamers or interatomic distances) and the energetic DV/DL was not strong enough for us to check the sampling of these degrees of freedom. "
   ]
  },
  {
   "cell_type": "code",
   "execution_count": 14,
   "id": "9bdb60c3-df7c-4c98-a673-a4989e734081",
   "metadata": {
    "tags": []
   },
   "outputs": [
    {
     "name": "stdout",
     "output_type": "stream",
     "text": [
      "Avg. training r2: \n",
      "0.4617\n",
      "Training r2 std dev: \n",
      "0.0008\n",
      "Avg. test r2: \n",
      "0.3396\n",
      "Testing r2 std dev: \n",
      "0.0045\n"
     ]
    },
    {
     "data": {
      "text/html": [
       "<div>\n",
       "<style scoped>\n",
       "    .dataframe tbody tr th:only-of-type {\n",
       "        vertical-align: middle;\n",
       "    }\n",
       "\n",
       "    .dataframe tbody tr th {\n",
       "        vertical-align: top;\n",
       "    }\n",
       "\n",
       "    .dataframe thead th {\n",
       "        text-align: right;\n",
       "    }\n",
       "</style>\n",
       "<table border=\"1\" class=\"dataframe\">\n",
       "  <thead>\n",
       "    <tr style=\"text-align: right;\">\n",
       "      <th></th>\n",
       "      <th>Mean</th>\n",
       "      <th>Median</th>\n",
       "    </tr>\n",
       "  </thead>\n",
       "  <tbody>\n",
       "    <tr>\n",
       "      <th>Y447_chi2</th>\n",
       "      <td>0.183844</td>\n",
       "      <td>0.286733</td>\n",
       "    </tr>\n",
       "    <tr>\n",
       "      <th>asp73_t228</th>\n",
       "      <td>0.164836</td>\n",
       "      <td>0.164479</td>\n",
       "    </tr>\n",
       "    <tr>\n",
       "      <th>T448_chi1</th>\n",
       "      <td>0.133154</td>\n",
       "      <td>0.030792</td>\n",
       "    </tr>\n",
       "    <tr>\n",
       "      <th>Q74_chi3</th>\n",
       "      <td>0.073975</td>\n",
       "      <td>0.078537</td>\n",
       "    </tr>\n",
       "    <tr>\n",
       "      <th>D73_chi1</th>\n",
       "      <td>0.072385</td>\n",
       "      <td>0.072463</td>\n",
       "    </tr>\n",
       "    <tr>\n",
       "      <th>Q74_chi2</th>\n",
       "      <td>0.057832</td>\n",
       "      <td>0.049129</td>\n",
       "    </tr>\n",
       "    <tr>\n",
       "      <th>I357_chi2</th>\n",
       "      <td>0.054338</td>\n",
       "      <td>0.056122</td>\n",
       "    </tr>\n",
       "    <tr>\n",
       "      <th>K82_chi1</th>\n",
       "      <td>0.046404</td>\n",
       "      <td>0.059724</td>\n",
       "    </tr>\n",
       "    <tr>\n",
       "      <th>K82_chi4</th>\n",
       "      <td>0.041107</td>\n",
       "      <td>0.054734</td>\n",
       "    </tr>\n",
       "    <tr>\n",
       "      <th>Y447_chi1</th>\n",
       "      <td>0.028395</td>\n",
       "      <td>0.026853</td>\n",
       "    </tr>\n",
       "    <tr>\n",
       "      <th>V384_chi1</th>\n",
       "      <td>0.026943</td>\n",
       "      <td>0.010390</td>\n",
       "    </tr>\n",
       "    <tr>\n",
       "      <th>H446_chi2</th>\n",
       "      <td>0.025301</td>\n",
       "      <td>0.032004</td>\n",
       "    </tr>\n",
       "    <tr>\n",
       "      <th>K82_chi2</th>\n",
       "      <td>0.020206</td>\n",
       "      <td>0.013798</td>\n",
       "    </tr>\n",
       "    <tr>\n",
       "      <th>T452_chi1</th>\n",
       "      <td>0.018479</td>\n",
       "      <td>0.018552</td>\n",
       "    </tr>\n",
       "    <tr>\n",
       "      <th>H446_chi1</th>\n",
       "      <td>0.014737</td>\n",
       "      <td>0.015011</td>\n",
       "    </tr>\n",
       "  </tbody>\n",
       "</table>\n",
       "</div>"
      ],
      "text/plain": [
       "                Mean    Median\n",
       "Y447_chi2   0.183844  0.286733\n",
       "asp73_t228  0.164836  0.164479\n",
       "T448_chi1   0.133154  0.030792\n",
       "Q74_chi3    0.073975  0.078537\n",
       "D73_chi1    0.072385  0.072463\n",
       "Q74_chi2    0.057832  0.049129\n",
       "I357_chi2   0.054338  0.056122\n",
       "K82_chi1    0.046404  0.059724\n",
       "K82_chi4    0.041107  0.054734\n",
       "Y447_chi1   0.028395  0.026853\n",
       "V384_chi1   0.026943  0.010390\n",
       "H446_chi2   0.025301  0.032004\n",
       "K82_chi2    0.020206  0.013798\n",
       "T452_chi1   0.018479  0.018552\n",
       "H446_chi1   0.014737  0.015011"
      ]
     },
     "execution_count": 14,
     "metadata": {},
     "output_type": "execute_result"
    }
   ],
   "source": [
    "rfeDefault = RFE(estimator=DecisionTreeRegressor(max_depth=5, random_state=42), n_features_to_select=0.75, step=0.05)\n",
    "rfDefault = RandomForestRegressor(\n",
    "    max_depth=10, n_estimators=200, oob_score=True, max_features=0.6, min_samples_leaf = 7, min_samples_split=14, random_state=42\n",
    ")\n",
    "\n",
    "pipelineDefault_rf = Pipeline([\n",
    "    ('feature_scaling', StandardScaler()),\n",
    "    ('feature_selection', rfeDefault),\n",
    "    ('regression_model', rfDefault)\n",
    "])\n",
    "\n",
    "\n",
    "imps = benchmark_model(pipelineDefault_rf, X_scl, Y, geom_dvdls[\"Lambda\"])\n",
    "imps[[\"Mean\", \"Median\"]].sort_values(by=\"Mean\", ascending=False)[:15]"
   ]
  },
  {
   "cell_type": "code",
   "execution_count": null,
   "id": "d6420d76-030f-40b4-96c2-8c3db0191b4f",
   "metadata": {},
   "outputs": [],
   "source": []
  }
 ],
 "metadata": {
  "kernelspec": {
   "display_name": "Python md-cqa",
   "language": "python",
   "name": "md-cqa"
  },
  "language_info": {
   "codemirror_mode": {
    "name": "ipython",
    "version": 3
   },
   "file_extension": ".py",
   "mimetype": "text/x-python",
   "name": "python",
   "nbconvert_exporter": "python",
   "pygments_lexer": "ipython3",
   "version": "3.7.11"
  }
 },
 "nbformat": 4,
 "nbformat_minor": 5
}
