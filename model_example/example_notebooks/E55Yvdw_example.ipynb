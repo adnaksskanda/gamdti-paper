{
 "cells": [
  {
   "cell_type": "markdown",
   "id": "3f7ab620-0254-43c8-9db0-c1192aeb637a",
   "metadata": {},
   "source": [
    "## Kelley hu4d5-5 VL-E55Y vdw step error analysis\n",
    "\n",
    "In this notebook we will use a random forest model to find the most energetically influential degrees of freedom for the VL-E55Y vdw step TI production run. Next, we will compare the sampling of these DOF during TI production to a free energy profile derived from end state GaMD sampling. We will attempt to  correct any inaccurate sampling in the TI data and find the estimated ddG before and after the correction. "
   ]
  },
  {
   "cell_type": "code",
   "execution_count": 1,
   "id": "7eeb0299-b72e-48a7-8d50-0606090d8069",
   "metadata": {
    "tags": []
   },
   "outputs": [],
   "source": [
    "import os\n",
    "os.chdir(\"..\")\n",
    "from common_functions import *"
   ]
  },
  {
   "cell_type": "markdown",
   "id": "09d35d40-448d-43fd-9270-1bc2121b7163",
   "metadata": {},
   "source": [
    "### Ingesting original TI lambda production data"
   ]
  },
  {
   "cell_type": "code",
   "execution_count": 2,
   "id": "057e856e-3be6-48c0-b62f-813279d42b8e",
   "metadata": {
    "tags": []
   },
   "outputs": [],
   "source": [
    "os.chdir(\"./TI_data/VL-E55Y\")\n",
    "geom_dvdls_crg = pd.read_csv(\"E55Y_crg_bound.csv\")\n",
    "geom_dvdls_crg_ub = pd.read_csv(\"E55Y_crg_unbound.csv\")\n",
    "geom_dvdls_vdw = pd.read_csv(\"E55Y_vdw_bound.csv\")\n",
    "dvdls_ub_vdw = pd.read_csv(\"E55Y_vdw_unbound.csv\")\n"
   ]
  },
  {
   "cell_type": "markdown",
   "id": "38f0d126-bcf2-45d2-b166-b25fb222aeee",
   "metadata": {},
   "source": [
    "### Initial ddG estimate:"
   ]
  },
  {
   "cell_type": "code",
   "execution_count": 4,
   "id": "6526ce6a-f35c-4d75-9577-e3e5571c28ff",
   "metadata": {
    "tags": []
   },
   "outputs": [
    {
     "name": "stdout",
     "output_type": "stream",
     "text": [
      "Original ddG (crg step): \n",
      "-1.9403 kcal/mol\n",
      "Original ddG (vdw step): \n",
      "0.5016 kcal/mol\n",
      "Original total ddG: \n",
      "-1.4387 kcal/mol\n",
      "\n",
      "Empirical value: \n",
      "-0.18 kcal/mol\n",
      "Original ddG error: \n",
      "1.2587 kcal/mol\n"
     ]
    }
   ],
   "source": [
    "dG_bd_crg = geom_dvdls_crg.groupby(\"Lambda\").mean()[\"weight_dvdl\"].sum()\n",
    "dG_ubd_crg = geom_dvdls_crg_ub.groupby(\"Lambda\").mean()[\"weight_dvdl\"].sum()\n",
    "ddG_crg = dG_bd_crg - dG_ubd_crg\n",
    "\n",
    "dG_bd_vdw = geom_dvdls_vdw.groupby(\"Lambda\").mean()[\"weight_dvdl\"].sum()\n",
    "dG_ubd_vdw = dvdls_ub_vdw.groupby(\"Lambda\").mean()[\"weight_dvdl\"].sum()\n",
    "ddG_vdw = dG_bd_vdw - dG_ubd_vdw\n",
    "\n",
    "empirical_value = -0.18\n",
    "\n",
    "print(\"Original ddG (crg step): \")\n",
    "print(f\"{round(ddG_crg, 4)} kcal/mol\")\n",
    "\n",
    "print(\"Original ddG (vdw step): \")\n",
    "print(f\"{round(ddG_vdw, 4)} kcal/mol\")\n",
    "\n",
    "print(\"Original total ddG: \")\n",
    "print(f\"{round(ddG_crg + ddG_vdw, 4)} kcal/mol\")\n",
    "\n",
    "print()\n",
    "print(\"Empirical value: \")\n",
    "print(f\"{empirical_value} kcal/mol\")\n",
    "\n",
    "orig_error = abs((ddG_crg + ddG_vdw) - empirical_value)\n",
    "\n",
    "print(\"Original ddG error: \")\n",
    "print(f\"{round(orig_error, 4)} kcal/mol\")"
   ]
  },
  {
   "cell_type": "markdown",
   "id": "89ea564a-a18e-4576-81e1-c442f9a7ca52",
   "metadata": {},
   "source": [
    "### Vdw step RF model\n",
    "\n",
    "#### Splitting data into independent/dependent variables for random forest model\n",
    "\n",
    "See our methods/supplemental methods section for our process to choose the input features."
   ]
  },
  {
   "cell_type": "code",
   "execution_count": 5,
   "id": "fb3cbacb-19a3-4326-aa85-5b6aacd96283",
   "metadata": {
    "tags": []
   },
   "outputs": [],
   "source": [
    "X_5A = geom_dvdls_vdw.drop([\n",
    "    \"#Frame\", \"weight_dvdl\", \"dvdl\", \"Run\", \"Lambda\", \"F239_chi2\", \"D243_chi2\", \"Y570_D243_OD\"\n",
    "], axis=1)\n",
    "Y = geom_dvdls_vdw[\"weight_dvdl\"]\n",
    "\n",
    "X_scl = pd.DataFrame(StandardScaler().fit_transform(X_5A))\n",
    "X_scl.columns = X_5A.columns\n"
   ]
  },
  {
   "cell_type": "markdown",
   "id": "62762c8b-cbc8-4a42-a338-76ec810a997e",
   "metadata": {},
   "source": [
    "#### Checking to see if there is any cross-correlations within the dataset"
   ]
  },
  {
   "cell_type": "code",
   "execution_count": 6,
   "id": "a48a52a9-85d9-4626-8a9b-f94c23f76f41",
   "metadata": {
    "tags": []
   },
   "outputs": [],
   "source": [
    "absCorr = abs(X_scl.corr())\n",
    "for i in absCorr.columns:\n",
    "    for j in absCorr.index:\n",
    "        cor = absCorr.loc[i, j]\n",
    "        if abs(cor) > 0.5 and i != j:\n",
    "            print(i, j)\n",
    "            print(cor)\n",
    "            "
   ]
  },
  {
   "cell_type": "markdown",
   "id": "4f89a0e3-b43e-455a-b9bd-e5777ca62389",
   "metadata": {},
   "source": [
    "#### Using random forest model to identify the most energetically influential degrees of freedom\n",
    "\n",
    "We run our model 25 times, then sort the results by the mean of feature importance across the 25 iterations. For this particular perturbation, the model $R^2$ between the geometric DOF (nearby side chain rotamers or interatomic distances) and the energetic DV/DL was not strong enough for us to check the sampling of these degrees of freedom. "
   ]
  },
  {
   "cell_type": "code",
   "execution_count": 8,
   "id": "12916816-6a76-4213-8a00-588d1f03c410",
   "metadata": {
    "tags": []
   },
   "outputs": [
    {
     "name": "stdout",
     "output_type": "stream",
     "text": [
      "Avg. training r2: \n",
      "0.4738\n",
      "Training r2 std dev: \n",
      "0.0026\n",
      "Avg. test r2: \n",
      "0.3585\n",
      "Testing r2 std dev: \n",
      "0.0058\n"
     ]
    },
    {
     "data": {
      "text/html": [
       "<div>\n",
       "<style scoped>\n",
       "    .dataframe tbody tr th:only-of-type {\n",
       "        vertical-align: middle;\n",
       "    }\n",
       "\n",
       "    .dataframe tbody tr th {\n",
       "        vertical-align: top;\n",
       "    }\n",
       "\n",
       "    .dataframe thead th {\n",
       "        text-align: right;\n",
       "    }\n",
       "</style>\n",
       "<table border=\"1\" class=\"dataframe\">\n",
       "  <thead>\n",
       "    <tr style=\"text-align: right;\">\n",
       "      <th></th>\n",
       "      <th>Mean</th>\n",
       "      <th>Median</th>\n",
       "    </tr>\n",
       "  </thead>\n",
       "  <tbody>\n",
       "    <tr>\n",
       "      <th>Y570_D243_O</th>\n",
       "      <td>0.260578</td>\n",
       "      <td>0.260064</td>\n",
       "    </tr>\n",
       "    <tr>\n",
       "      <th>Y570_chi2</th>\n",
       "      <td>0.120656</td>\n",
       "      <td>0.120260</td>\n",
       "    </tr>\n",
       "    <tr>\n",
       "      <th>E410_chi1</th>\n",
       "      <td>0.063503</td>\n",
       "      <td>0.078098</td>\n",
       "    </tr>\n",
       "    <tr>\n",
       "      <th>L409_chi2</th>\n",
       "      <td>0.063033</td>\n",
       "      <td>0.058112</td>\n",
       "    </tr>\n",
       "    <tr>\n",
       "      <th>S411_chi1</th>\n",
       "      <td>0.051436</td>\n",
       "      <td>0.027972</td>\n",
       "    </tr>\n",
       "    <tr>\n",
       "      <th>Y101_chi2</th>\n",
       "      <td>0.041995</td>\n",
       "      <td>0.047173</td>\n",
       "    </tr>\n",
       "    <tr>\n",
       "      <th>E410_chi3</th>\n",
       "      <td>0.041208</td>\n",
       "      <td>0.024132</td>\n",
       "    </tr>\n",
       "    <tr>\n",
       "      <th>E410_chi2</th>\n",
       "      <td>0.037764</td>\n",
       "      <td>0.021359</td>\n",
       "    </tr>\n",
       "    <tr>\n",
       "      <th>L409_chi1</th>\n",
       "      <td>0.035676</td>\n",
       "      <td>0.020558</td>\n",
       "    </tr>\n",
       "    <tr>\n",
       "      <th>Y404_chi2</th>\n",
       "      <td>0.028616</td>\n",
       "      <td>0.011968</td>\n",
       "    </tr>\n",
       "    <tr>\n",
       "      <th>Y404_chi1</th>\n",
       "      <td>0.027674</td>\n",
       "      <td>0.021079</td>\n",
       "    </tr>\n",
       "    <tr>\n",
       "      <th>L402_chi1</th>\n",
       "      <td>0.026875</td>\n",
       "      <td>0.031807</td>\n",
       "    </tr>\n",
       "    <tr>\n",
       "      <th>I403_chi2</th>\n",
       "      <td>0.022521</td>\n",
       "      <td>0.021061</td>\n",
       "    </tr>\n",
       "    <tr>\n",
       "      <th>V413_chi2</th>\n",
       "      <td>0.021710</td>\n",
       "      <td>0.017174</td>\n",
       "    </tr>\n",
       "    <tr>\n",
       "      <th>Y570_chi1</th>\n",
       "      <td>0.021313</td>\n",
       "      <td>0.021852</td>\n",
       "    </tr>\n",
       "  </tbody>\n",
       "</table>\n",
       "</div>"
      ],
      "text/plain": [
       "                 Mean    Median\n",
       "Y570_D243_O  0.260578  0.260064\n",
       "Y570_chi2    0.120656  0.120260\n",
       "E410_chi1    0.063503  0.078098\n",
       "L409_chi2    0.063033  0.058112\n",
       "S411_chi1    0.051436  0.027972\n",
       "Y101_chi2    0.041995  0.047173\n",
       "E410_chi3    0.041208  0.024132\n",
       "E410_chi2    0.037764  0.021359\n",
       "L409_chi1    0.035676  0.020558\n",
       "Y404_chi2    0.028616  0.011968\n",
       "Y404_chi1    0.027674  0.021079\n",
       "L402_chi1    0.026875  0.031807\n",
       "I403_chi2    0.022521  0.021061\n",
       "V413_chi2    0.021710  0.017174\n",
       "Y570_chi1    0.021313  0.021852"
      ]
     },
     "execution_count": 8,
     "metadata": {},
     "output_type": "execute_result"
    }
   ],
   "source": [
    "rfeDefault = RFE(estimator=DecisionTreeRegressor(max_depth=5, random_state=42), n_features_to_select=0.75, step=0.05)\n",
    "rfDefault = RandomForestRegressor(\n",
    "    max_depth=10, n_estimators=200, oob_score=True, max_features=0.6, min_samples_leaf = 7, min_samples_split=14, random_state=42\n",
    ")\n",
    "\n",
    "pipelineDefault_rf = Pipeline([\n",
    "    ('feature_scaling', StandardScaler()),\n",
    "    # ('pre_select', kbest),\n",
    "    ('feature_selection', rfeDefault),\n",
    "    ('regression_model', rfDefault)\n",
    "])\n",
    "\n",
    "\n",
    "imps = benchmark_model(pipelineDefault_rf, X_scl, Y, geom_dvdls_vdw[\"Lambda\"])\n",
    "imps[[\"Mean\", \"Median\"]].sort_values(by=\"Mean\", ascending=False)[:15]"
   ]
  },
  {
   "cell_type": "code",
   "execution_count": null,
   "id": "6b28ea80-0e1a-4931-96f2-ee557da74806",
   "metadata": {},
   "outputs": [],
   "source": []
  }
 ],
 "metadata": {
  "kernelspec": {
   "display_name": "Python md-cqa",
   "language": "python",
   "name": "md-cqa"
  },
  "language_info": {
   "codemirror_mode": {
    "name": "ipython",
    "version": 3
   },
   "file_extension": ".py",
   "mimetype": "text/x-python",
   "name": "python",
   "nbconvert_exporter": "python",
   "pygments_lexer": "ipython3",
   "version": "3.7.11"
  }
 },
 "nbformat": 4,
 "nbformat_minor": 5
}
