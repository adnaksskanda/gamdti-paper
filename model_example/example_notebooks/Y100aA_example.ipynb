{
 "cells": [
  {
   "cell_type": "markdown",
   "id": "bc561228-7bb1-4a5f-ab66-585496c1f621",
   "metadata": {},
   "source": [
    "## Kelley hu4d5-5 VH-Y100aA error analysis\n",
    "\n",
    "In this notebook we will use a random forest model to find the most energetically influential degrees of freedom for the VH-Y100aA TI production run. Next, we will compare the sampling of these DOF during TI production to a free energy profile derived from end state GaMD sampling. We will attempt to  correct any inaccurate sampling in the TI data and find the estimated ddG before and after the correction. "
   ]
  },
  {
   "cell_type": "code",
   "execution_count": 1,
   "id": "7b1dce9d-6a6f-4558-808f-ffba7fbb71ff",
   "metadata": {
    "tags": []
   },
   "outputs": [],
   "source": [
    "import os\n",
    "os.chdir(\"..\")\n",
    "from common_functions import *"
   ]
  },
  {
   "cell_type": "markdown",
   "id": "201c2f9c-8e51-40d8-8add-3036cdf5abe0",
   "metadata": {
    "tags": []
   },
   "source": [
    "### Ingesting original runs"
   ]
  },
  {
   "cell_type": "code",
   "execution_count": 2,
   "id": "68c524c5-a970-40ea-89fa-1b08aae092e0",
   "metadata": {
    "tags": []
   },
   "outputs": [],
   "source": [
    "os.chdir(\"./TI_data/VH-Y100aA\")\n",
    "geom_dvdls = pd.read_csv(\"Y100aA_bound.csv\")\n",
    "dvdls_ub = pd.read_csv(\"Y100aA_unbound.csv\")"
   ]
  },
  {
   "cell_type": "markdown",
   "id": "88856cde-7271-4d82-9540-241456f5c0ea",
   "metadata": {},
   "source": [
    "### Original ddG estimate:"
   ]
  },
  {
   "cell_type": "code",
   "execution_count": 3,
   "id": "06f77c39-7f18-4582-b2f1-44a3181b21ec",
   "metadata": {
    "tags": []
   },
   "outputs": [
    {
     "name": "stdout",
     "output_type": "stream",
     "text": [
      "Original ddG estimate: \n",
      "4.5502 kcal/mol \n",
      "\n",
      "Original ddG error: \n",
      "0.3202 kcal/mol\n"
     ]
    }
   ],
   "source": [
    "orig_dG_bd = geom_dvdls.groupby(\"Lambda\").mean().sum()[\"weight_dvdl\"]\n",
    "orig_dG_ubd = dvdls_ub.groupby(\"Lambda\").mean().sum()[\"weight_dvdl\"]\n",
    "\n",
    "empirical_value = 4.23\n",
    "orig_error = abs((orig_dG_bd - orig_dG_ubd) - empirical_value)\n",
    "\n",
    "print(\"Original ddG estimate: \")\n",
    "print(f\"{round(orig_dG_bd - orig_dG_ubd, 4)} kcal/mol \")\n",
    "print()\n",
    "print(\"Original ddG error: \")\n",
    "print(f\"{round(orig_error, 4)} kcal/mol\")"
   ]
  },
  {
   "cell_type": "markdown",
   "id": "903711e0-2caa-4a27-910e-07f9455f4c60",
   "metadata": {},
   "source": [
    "### Splitting data into independent/dependent variables for random forest model\n",
    "\n",
    "See our methods/supplemental methods section for our process to choose the input features. We are also removing correlated variables among candidate degrees of freedom - this is important because we want to limit the noise in our model training. "
   ]
  },
  {
   "cell_type": "code",
   "execution_count": 4,
   "id": "d2b1dd0c-9f79-4343-b624-9706bd935b71",
   "metadata": {
    "tags": []
   },
   "outputs": [],
   "source": [
    "X = geom_dvdls.drop([\n",
    "    \"#Frame\", \"weight_dvdl\", \"dvdl\", \"Run\", \"Lambda\", \"Y454_K106\", \"Y184_chi2\", \"Y382_chi2\"\n",
    "], axis=1)\n",
    "\n",
    "Y = geom_dvdls[\"weight_dvdl\"]\n",
    "\n",
    "X_scl = pd.DataFrame(StandardScaler().fit_transform(X))\n",
    "X_scl.columns = X.columns\n"
   ]
  },
  {
   "cell_type": "markdown",
   "id": "13928209-afb4-4feb-addd-1efb6746f5aa",
   "metadata": {},
   "source": [
    "### Checking to see if there is any cross-correlations within the independent variables"
   ]
  },
  {
   "cell_type": "code",
   "execution_count": 5,
   "id": "a4d835a3-eccc-45ce-8354-2b1e58e08e17",
   "metadata": {
    "tags": []
   },
   "outputs": [],
   "source": [
    "absCorr = abs(X_scl.corr())\n",
    "for i in absCorr.columns:\n",
    "    for j in absCorr.index:\n",
    "        cor = absCorr.loc[i, j]\n",
    "        if abs(cor) > 0.5 and i != j:\n",
    "            print(i, j)\n",
    "            print(cor)\n",
    "            "
   ]
  },
  {
   "cell_type": "markdown",
   "id": "1e89e763-9fe4-4692-9e74-509870185960",
   "metadata": {},
   "source": [
    "### Using random forest model to identify the most energetically influential degrees of freedom\n",
    "\n",
    "We run our model 25 times, then sort the results by the mean of feature importance across the 25 iterations. Here, the random forest model found Ag-K106 side chain rotamer chi3 to be the most influential features on the DV/DL during TI lambda production."
   ]
  },
  {
   "cell_type": "code",
   "execution_count": 15,
   "id": "9d951071-a82e-4ed4-ba23-950e7ebeb537",
   "metadata": {
    "tags": []
   },
   "outputs": [
    {
     "name": "stdout",
     "output_type": "stream",
     "text": [
      "Avg. training r2: \n",
      "0.6974\n",
      "Training r2 std dev: \n",
      "0.0004\n",
      "Avg. test r2: \n",
      "0.5907\n",
      "Testing r2 std dev: \n",
      "0.0061\n"
     ]
    },
    {
     "data": {
      "text/html": [
       "<div>\n",
       "<style scoped>\n",
       "    .dataframe tbody tr th:only-of-type {\n",
       "        vertical-align: middle;\n",
       "    }\n",
       "\n",
       "    .dataframe tbody tr th {\n",
       "        vertical-align: top;\n",
       "    }\n",
       "\n",
       "    .dataframe thead th {\n",
       "        text-align: right;\n",
       "    }\n",
       "</style>\n",
       "<table border=\"1\" class=\"dataframe\">\n",
       "  <thead>\n",
       "    <tr style=\"text-align: right;\">\n",
       "      <th></th>\n",
       "      <th>Mean</th>\n",
       "      <th>Median</th>\n",
       "    </tr>\n",
       "  </thead>\n",
       "  <tbody>\n",
       "    <tr>\n",
       "      <th>K106_chi3</th>\n",
       "      <td>0.164274</td>\n",
       "      <td>0.183728</td>\n",
       "    </tr>\n",
       "    <tr>\n",
       "      <th>Y454_D83</th>\n",
       "      <td>0.141179</td>\n",
       "      <td>0.141081</td>\n",
       "    </tr>\n",
       "    <tr>\n",
       "      <th>Y454_chi2</th>\n",
       "      <td>0.096108</td>\n",
       "      <td>0.103235</td>\n",
       "    </tr>\n",
       "    <tr>\n",
       "      <th>Y454_chi1</th>\n",
       "      <td>0.094010</td>\n",
       "      <td>0.102122</td>\n",
       "    </tr>\n",
       "    <tr>\n",
       "      <th>M456_chi1</th>\n",
       "      <td>0.064314</td>\n",
       "      <td>0.061858</td>\n",
       "    </tr>\n",
       "    <tr>\n",
       "      <th>F453_chi2</th>\n",
       "      <td>0.060683</td>\n",
       "      <td>0.071827</td>\n",
       "    </tr>\n",
       "    <tr>\n",
       "      <th>D451_chi2</th>\n",
       "      <td>0.056157</td>\n",
       "      <td>0.071238</td>\n",
       "    </tr>\n",
       "    <tr>\n",
       "      <th>F86_chi2</th>\n",
       "      <td>0.052807</td>\n",
       "      <td>0.041160</td>\n",
       "    </tr>\n",
       "    <tr>\n",
       "      <th>Q224_chi3</th>\n",
       "      <td>0.040887</td>\n",
       "      <td>0.045774</td>\n",
       "    </tr>\n",
       "    <tr>\n",
       "      <th>W448_chi2</th>\n",
       "      <td>0.040136</td>\n",
       "      <td>0.032174</td>\n",
       "    </tr>\n",
       "    <tr>\n",
       "      <th>D451_chi1</th>\n",
       "      <td>0.035349</td>\n",
       "      <td>0.034916</td>\n",
       "    </tr>\n",
       "    <tr>\n",
       "      <th>M456_chi2</th>\n",
       "      <td>0.028040</td>\n",
       "      <td>0.014225</td>\n",
       "    </tr>\n",
       "    <tr>\n",
       "      <th>F453_chi1</th>\n",
       "      <td>0.026000</td>\n",
       "      <td>0.014553</td>\n",
       "    </tr>\n",
       "    <tr>\n",
       "      <th>W448_chi1</th>\n",
       "      <td>0.018102</td>\n",
       "      <td>0.014985</td>\n",
       "    </tr>\n",
       "    <tr>\n",
       "      <th>K106_chi4</th>\n",
       "      <td>0.017132</td>\n",
       "      <td>0.010431</td>\n",
       "    </tr>\n",
       "  </tbody>\n",
       "</table>\n",
       "</div>"
      ],
      "text/plain": [
       "               Mean    Median\n",
       "K106_chi3  0.164274  0.183728\n",
       "Y454_D83   0.141179  0.141081\n",
       "Y454_chi2  0.096108  0.103235\n",
       "Y454_chi1  0.094010  0.102122\n",
       "M456_chi1  0.064314  0.061858\n",
       "F453_chi2  0.060683  0.071827\n",
       "D451_chi2  0.056157  0.071238\n",
       "F86_chi2   0.052807  0.041160\n",
       "Q224_chi3  0.040887  0.045774\n",
       "W448_chi2  0.040136  0.032174\n",
       "D451_chi1  0.035349  0.034916\n",
       "M456_chi2  0.028040  0.014225\n",
       "F453_chi1  0.026000  0.014553\n",
       "W448_chi1  0.018102  0.014985\n",
       "K106_chi4  0.017132  0.010431"
      ]
     },
     "execution_count": 15,
     "metadata": {},
     "output_type": "execute_result"
    }
   ],
   "source": [
    "rfeDefault = RFE(estimator=DecisionTreeRegressor(max_depth=5, random_state=42), n_features_to_select=0.75, step=0.05)\n",
    "rfDefault = RandomForestRegressor(\n",
    "    max_depth=10, n_estimators=200, oob_score=True, max_features=0.6, min_samples_leaf = 7, min_samples_split=14, random_state=42\n",
    ")\n",
    "\n",
    "pipelineDefault_rf = Pipeline([\n",
    "    ('feature_scaling', StandardScaler()),\n",
    "    ('feature_selection', rfeDefault),\n",
    "    ('regression_model', rfDefault)\n",
    "])\n",
    "\n",
    "\n",
    "imps = benchmark_model(pipelineDefault_rf, X_scl, Y, geom_dvdls[\"Lambda\"])\n",
    "imps[[\"Mean\", \"Median\"]].sort_values(by=\"Mean\", ascending=False)[:15]"
   ]
  },
  {
   "cell_type": "markdown",
   "id": "900db880-982c-4d9a-b3eb-fd58d13699a0",
   "metadata": {},
   "source": [
    "### Comparing the TI rotamer sampling with the GaMD pmf (bound state)\n",
    "\n",
    "The RF model tells us that the most energetically influential features to DV/DL is \"K106_chi3\" aka Ag-K106 side chain rotamer chi3. We used GaMD on the WT hu4d5-5 complex to obtain enhanced sampling data for this end state. Then, we used PyReweighting-1D to generate a 1-D PMF of Ag-K106 chi3 to give us an idea of the ideal sampling of this energetically influential feature. Finally, we plot the Ag-K106 rotamer explored during TI overlaid onto the GaMD pmf to probe the quality of sampling during TI.\n",
    "\n",
    "As we can see, there are a few frames during TI in which the system explores states found unfavorable by GaMD. "
   ]
  },
  {
   "cell_type": "code",
   "execution_count": 6,
   "id": "d99a28a6-359c-48d0-8118-2663c3c7d2b1",
   "metadata": {},
   "outputs": [
    {
     "data": {
      "application/vnd.plotly.v1+json": {
       "config": {
        "plotlyServerURL": "https://plot.ly"
       },
       "data": [
        {
         "line": {
          "color": "#006d2c",
          "width": 4
         },
         "mode": "lines",
         "name": "-exp(GaMD PMF)",
         "type": "scatter",
         "x": [
          0,
          6,
          12,
          18,
          24,
          30,
          36,
          42,
          48,
          54,
          60,
          66,
          72,
          78,
          84,
          90,
          96,
          102,
          108,
          114,
          120,
          126,
          132,
          138,
          144,
          150,
          156,
          162,
          168,
          174,
          180,
          186,
          192,
          198,
          204,
          210,
          216,
          222,
          228,
          234,
          240,
          246,
          252,
          258,
          264,
          270,
          276,
          282,
          288,
          294,
          300,
          306,
          312,
          318,
          324,
          330,
          336,
          342,
          348,
          354
         ],
         "y": [
          5.328953234390884e-12,
          6.231083072751571e-12,
          1.1052397385373354e-11,
          1.6560181749022262e-11,
          2.7616039710367154e-11,
          5.262192774536269e-11,
          8.641704517360295e-11,
          1.4117733662547653e-10,
          2.020979511882406e-10,
          2.6607107926836324e-10,
          3.069250033035033e-10,
          3.092016763385639e-10,
          2.738295123118832e-10,
          2.2364281737483284e-10,
          1.7014317929915845e-10,
          1.2610539555182165e-10,
          9.307463298954353e-11,
          7.224347966558739e-11,
          6.03847233789186e-11,
          6.056849648431354e-11,
          6.614832495729919e-11,
          8.747085820130685e-11,
          1.3150065390006315e-10,
          2.2502885430935678e-10,
          4.027931828557827e-10,
          22.58523572515141,
          37.68932564845057,
          63.16357649235916,
          87.40994824146203,
          94.75825682562973,
          100,
          88.03379375984423,
          73.46314902455214,
          48.2947205959427,
          34.39904052172327,
          23.335824948884046,
          3.7491172305708016e-10,
          2.371078380132906e-10,
          1.622688066667665e-10,
          1.291704785147739e-10,
          1.193936020800923e-10,
          1.2699683052247418e-10,
          1.6031495877755897e-10,
          2.1118350828266617e-10,
          2.9609637328021584e-10,
          4.037924276898243e-10,
          4.986180673510781e-10,
          5.446587000273569e-10,
          5.124239454358636e-10,
          4.133614231095016e-10,
          2.980547572032145e-10,
          1.8739748804475537e-10,
          1.1445576216445184e-10,
          6.591746114328605e-11,
          3.89238460594086e-11,
          2.0519831537480194e-11,
          1.3909064740580932e-11,
          6.231083072751571e-12,
          4.308289223920161e-12,
          4.308289223920161e-12
         ]
        },
        {
         "marker": {
          "color": "#edf8e9",
          "line": {
           "color": "black",
           "width": 1
          }
         },
         "name": "TI Lambda Prod Histogram",
         "type": "bar",
         "width": [
          4.596830666666667,
          4.596830666666669,
          4.596830666666666,
          4.596830666666666,
          4.596830666666669,
          4.596830666666669,
          4.596830666666662,
          4.596830666666669,
          4.596830666666669,
          4.596830666666669,
          4.596830666666662,
          4.596830666666669,
          4.596830666666676,
          4.596830666666662,
          4.596830666666676,
          4.596830666666662,
          4.596830666666662,
          4.596830666666676,
          4.596830666666662,
          4.596830666666676,
          4.596830666666662,
          4.596830666666662,
          4.596830666666676,
          4.596830666666662,
          4.596830666666662,
          4.596830666666676,
          4.596830666666648,
          4.596830666666676,
          4.596830666666676,
          4.596830666666676,
          4.596830666666648,
          4.596830666666676,
          4.596830666666676,
          4.596830666666648,
          4.596830666666676,
          4.596830666666676,
          4.596830666666648,
          4.596830666666676,
          4.596830666666676,
          4.596830666666676,
          4.596830666666648,
          4.596830666666676,
          4.596830666666676,
          4.596830666666648,
          4.596830666666676,
          4.596830666666676,
          4.596830666666648,
          4.596830666666676,
          4.596830666666676,
          4.596830666666648,
          4.596830666666676,
          4.596830666666676,
          4.596830666666648,
          4.596830666666676,
          4.596830666666676,
          4.596830666666619,
          4.596830666666676,
          4.596830666666676,
          4.596830666666676,
          4.596830666666676,
          4.596830666666619,
          4.596830666666676,
          4.596830666666676,
          4.596830666666676,
          4.596830666666676,
          4.596830666666676,
          4.596830666666676,
          4.596830666666619,
          4.596830666666676,
          4.596830666666676,
          4.596830666666676,
          4.596830666666676,
          4.596830666666676,
          4.596830666666619,
          4.596830666666676
         ],
         "x": [
          9.9034,
          14.500230666666667,
          19.097061333333336,
          23.693892,
          28.290722666666667,
          32.88755333333334,
          37.484384000000006,
          42.08121466666667,
          46.67804533333334,
          51.274876000000006,
          55.871706666666675,
          60.46853733333334,
          65.065368,
          69.66219866666668,
          74.25902933333334,
          78.85586000000002,
          83.45269066666668,
          88.04952133333335,
          92.64635200000002,
          97.24318266666668,
          101.84001333333336,
          106.43684400000002,
          111.03367466666668,
          115.63050533333336,
          120.22733600000002,
          124.82416666666668,
          129.42099733333336,
          134.017828,
          138.61465866666668,
          143.21148933333336,
          147.80832000000004,
          152.40515066666669,
          157.00198133333336,
          161.59881200000004,
          166.19564266666669,
          170.79247333333336,
          175.38930400000004,
          179.9861346666667,
          184.58296533333336,
          189.17979600000004,
          193.77662666666671,
          198.37345733333336,
          202.97028800000004,
          207.56711866666672,
          212.16394933333336,
          216.76078000000004,
          221.35761066666672,
          225.95444133333336,
          230.55127200000004,
          235.14810266666672,
          239.74493333333336,
          244.34176400000004,
          248.93859466666672,
          253.53542533333336,
          258.13225600000004,
          262.7290866666667,
          267.32591733333334,
          271.922748,
          276.5195786666667,
          281.11640933333337,
          285.71324000000004,
          290.31007066666666,
          294.90690133333334,
          299.503732,
          304.1005626666667,
          308.69739333333337,
          313.29422400000004,
          317.8910546666667,
          322.48788533333334,
          327.084716,
          331.6815466666667,
          336.27837733333337,
          340.87520800000004,
          345.4720386666667,
          350.06886933333334
         ],
         "y": [
          0.15003750937734434,
          0.07501875468867217,
          0.15003750937734434,
          0,
          0.30007501875468867,
          1.1252813203300824,
          2.100525131282821,
          4.951237809452363,
          7.126781695423856,
          9.152288072018004,
          10.352588147036759,
          11.327831957989497,
          10.427606901725431,
          6.001500375093773,
          5.401350337584396,
          2.550637659414854,
          2.550637659414854,
          0.9752438109527382,
          0.450112528132033,
          0.2250562640660165,
          0.2250562640660165,
          0.2250562640660165,
          0.15003750937734434,
          0.15003750937734434,
          0.07501875468867217,
          0.30007501875468867,
          0.3750937734433608,
          0.8252063015753939,
          2.250562640660165,
          4.50112528132033,
          8.027006751687923,
          19.129782445611404,
          32.85821455363841,
          53.78844711177794,
          75.39384846211553,
          94.59864966241561,
          100,
          90.62265566391598,
          73.0682670667667,
          49.51237809452363,
          27.68192048012003,
          15.978994748687171,
          7.95198799699925,
          3.8259564891222806,
          3.075768942235559,
          1.275318829707427,
          0.8252063015753939,
          0.5251312828207052,
          0.2250562640660165,
          0.3750937734433608,
          0.5251312828207052,
          0.30007501875468867,
          0.30007501875468867,
          0.6751687921980495,
          1.2003000750187547,
          2.100525131282821,
          3.9009752438109526,
          6.901725431357839,
          12.378094523630908,
          19.654913728432106,
          24.831207801950487,
          27.08177044261065,
          21.530382595648913,
          15.378844711177795,
          10.952738184546137,
          5.251312828207052,
          2.9257314328582145,
          0.450112528132033,
          0.30007501875468867,
          0.07501875468867217,
          0.07501875468867217,
          0,
          0.15003750937734434,
          0,
          0.07501875468867217
         ]
        }
       ],
       "layout": {
        "autosize": true,
        "template": {
         "data": {
          "bar": [
           {
            "error_x": {
             "color": "#2a3f5f"
            },
            "error_y": {
             "color": "#2a3f5f"
            },
            "marker": {
             "line": {
              "color": "#E5ECF6",
              "width": 0.5
             },
             "pattern": {
              "fillmode": "overlay",
              "size": 10,
              "solidity": 0.2
             }
            },
            "type": "bar"
           }
          ],
          "barpolar": [
           {
            "marker": {
             "line": {
              "color": "#E5ECF6",
              "width": 0.5
             },
             "pattern": {
              "fillmode": "overlay",
              "size": 10,
              "solidity": 0.2
             }
            },
            "type": "barpolar"
           }
          ],
          "carpet": [
           {
            "aaxis": {
             "endlinecolor": "#2a3f5f",
             "gridcolor": "white",
             "linecolor": "white",
             "minorgridcolor": "white",
             "startlinecolor": "#2a3f5f"
            },
            "baxis": {
             "endlinecolor": "#2a3f5f",
             "gridcolor": "white",
             "linecolor": "white",
             "minorgridcolor": "white",
             "startlinecolor": "#2a3f5f"
            },
            "type": "carpet"
           }
          ],
          "choropleth": [
           {
            "colorbar": {
             "outlinewidth": 0,
             "ticks": ""
            },
            "type": "choropleth"
           }
          ],
          "contour": [
           {
            "colorbar": {
             "outlinewidth": 0,
             "ticks": ""
            },
            "colorscale": [
             [
              0,
              "#0d0887"
             ],
             [
              0.1111111111111111,
              "#46039f"
             ],
             [
              0.2222222222222222,
              "#7201a8"
             ],
             [
              0.3333333333333333,
              "#9c179e"
             ],
             [
              0.4444444444444444,
              "#bd3786"
             ],
             [
              0.5555555555555556,
              "#d8576b"
             ],
             [
              0.6666666666666666,
              "#ed7953"
             ],
             [
              0.7777777777777778,
              "#fb9f3a"
             ],
             [
              0.8888888888888888,
              "#fdca26"
             ],
             [
              1,
              "#f0f921"
             ]
            ],
            "type": "contour"
           }
          ],
          "contourcarpet": [
           {
            "colorbar": {
             "outlinewidth": 0,
             "ticks": ""
            },
            "type": "contourcarpet"
           }
          ],
          "heatmap": [
           {
            "colorbar": {
             "outlinewidth": 0,
             "ticks": ""
            },
            "colorscale": [
             [
              0,
              "#0d0887"
             ],
             [
              0.1111111111111111,
              "#46039f"
             ],
             [
              0.2222222222222222,
              "#7201a8"
             ],
             [
              0.3333333333333333,
              "#9c179e"
             ],
             [
              0.4444444444444444,
              "#bd3786"
             ],
             [
              0.5555555555555556,
              "#d8576b"
             ],
             [
              0.6666666666666666,
              "#ed7953"
             ],
             [
              0.7777777777777778,
              "#fb9f3a"
             ],
             [
              0.8888888888888888,
              "#fdca26"
             ],
             [
              1,
              "#f0f921"
             ]
            ],
            "type": "heatmap"
           }
          ],
          "heatmapgl": [
           {
            "colorbar": {
             "outlinewidth": 0,
             "ticks": ""
            },
            "colorscale": [
             [
              0,
              "#0d0887"
             ],
             [
              0.1111111111111111,
              "#46039f"
             ],
             [
              0.2222222222222222,
              "#7201a8"
             ],
             [
              0.3333333333333333,
              "#9c179e"
             ],
             [
              0.4444444444444444,
              "#bd3786"
             ],
             [
              0.5555555555555556,
              "#d8576b"
             ],
             [
              0.6666666666666666,
              "#ed7953"
             ],
             [
              0.7777777777777778,
              "#fb9f3a"
             ],
             [
              0.8888888888888888,
              "#fdca26"
             ],
             [
              1,
              "#f0f921"
             ]
            ],
            "type": "heatmapgl"
           }
          ],
          "histogram": [
           {
            "marker": {
             "pattern": {
              "fillmode": "overlay",
              "size": 10,
              "solidity": 0.2
             }
            },
            "type": "histogram"
           }
          ],
          "histogram2d": [
           {
            "colorbar": {
             "outlinewidth": 0,
             "ticks": ""
            },
            "colorscale": [
             [
              0,
              "#0d0887"
             ],
             [
              0.1111111111111111,
              "#46039f"
             ],
             [
              0.2222222222222222,
              "#7201a8"
             ],
             [
              0.3333333333333333,
              "#9c179e"
             ],
             [
              0.4444444444444444,
              "#bd3786"
             ],
             [
              0.5555555555555556,
              "#d8576b"
             ],
             [
              0.6666666666666666,
              "#ed7953"
             ],
             [
              0.7777777777777778,
              "#fb9f3a"
             ],
             [
              0.8888888888888888,
              "#fdca26"
             ],
             [
              1,
              "#f0f921"
             ]
            ],
            "type": "histogram2d"
           }
          ],
          "histogram2dcontour": [
           {
            "colorbar": {
             "outlinewidth": 0,
             "ticks": ""
            },
            "colorscale": [
             [
              0,
              "#0d0887"
             ],
             [
              0.1111111111111111,
              "#46039f"
             ],
             [
              0.2222222222222222,
              "#7201a8"
             ],
             [
              0.3333333333333333,
              "#9c179e"
             ],
             [
              0.4444444444444444,
              "#bd3786"
             ],
             [
              0.5555555555555556,
              "#d8576b"
             ],
             [
              0.6666666666666666,
              "#ed7953"
             ],
             [
              0.7777777777777778,
              "#fb9f3a"
             ],
             [
              0.8888888888888888,
              "#fdca26"
             ],
             [
              1,
              "#f0f921"
             ]
            ],
            "type": "histogram2dcontour"
           }
          ],
          "mesh3d": [
           {
            "colorbar": {
             "outlinewidth": 0,
             "ticks": ""
            },
            "type": "mesh3d"
           }
          ],
          "parcoords": [
           {
            "line": {
             "colorbar": {
              "outlinewidth": 0,
              "ticks": ""
             }
            },
            "type": "parcoords"
           }
          ],
          "pie": [
           {
            "automargin": true,
            "type": "pie"
           }
          ],
          "scatter": [
           {
            "fillpattern": {
             "fillmode": "overlay",
             "size": 10,
             "solidity": 0.2
            },
            "type": "scatter"
           }
          ],
          "scatter3d": [
           {
            "line": {
             "colorbar": {
              "outlinewidth": 0,
              "ticks": ""
             }
            },
            "marker": {
             "colorbar": {
              "outlinewidth": 0,
              "ticks": ""
             }
            },
            "type": "scatter3d"
           }
          ],
          "scattercarpet": [
           {
            "marker": {
             "colorbar": {
              "outlinewidth": 0,
              "ticks": ""
             }
            },
            "type": "scattercarpet"
           }
          ],
          "scattergeo": [
           {
            "marker": {
             "colorbar": {
              "outlinewidth": 0,
              "ticks": ""
             }
            },
            "type": "scattergeo"
           }
          ],
          "scattergl": [
           {
            "marker": {
             "colorbar": {
              "outlinewidth": 0,
              "ticks": ""
             }
            },
            "type": "scattergl"
           }
          ],
          "scattermapbox": [
           {
            "marker": {
             "colorbar": {
              "outlinewidth": 0,
              "ticks": ""
             }
            },
            "type": "scattermapbox"
           }
          ],
          "scatterpolar": [
           {
            "marker": {
             "colorbar": {
              "outlinewidth": 0,
              "ticks": ""
             }
            },
            "type": "scatterpolar"
           }
          ],
          "scatterpolargl": [
           {
            "marker": {
             "colorbar": {
              "outlinewidth": 0,
              "ticks": ""
             }
            },
            "type": "scatterpolargl"
           }
          ],
          "scatterternary": [
           {
            "marker": {
             "colorbar": {
              "outlinewidth": 0,
              "ticks": ""
             }
            },
            "type": "scatterternary"
           }
          ],
          "surface": [
           {
            "colorbar": {
             "outlinewidth": 0,
             "ticks": ""
            },
            "colorscale": [
             [
              0,
              "#0d0887"
             ],
             [
              0.1111111111111111,
              "#46039f"
             ],
             [
              0.2222222222222222,
              "#7201a8"
             ],
             [
              0.3333333333333333,
              "#9c179e"
             ],
             [
              0.4444444444444444,
              "#bd3786"
             ],
             [
              0.5555555555555556,
              "#d8576b"
             ],
             [
              0.6666666666666666,
              "#ed7953"
             ],
             [
              0.7777777777777778,
              "#fb9f3a"
             ],
             [
              0.8888888888888888,
              "#fdca26"
             ],
             [
              1,
              "#f0f921"
             ]
            ],
            "type": "surface"
           }
          ],
          "table": [
           {
            "cells": {
             "fill": {
              "color": "#EBF0F8"
             },
             "line": {
              "color": "white"
             }
            },
            "header": {
             "fill": {
              "color": "#C8D4E3"
             },
             "line": {
              "color": "white"
             }
            },
            "type": "table"
           }
          ]
         },
         "layout": {
          "annotationdefaults": {
           "arrowcolor": "#2a3f5f",
           "arrowhead": 0,
           "arrowwidth": 1
          },
          "autotypenumbers": "strict",
          "coloraxis": {
           "colorbar": {
            "outlinewidth": 0,
            "ticks": ""
           }
          },
          "colorscale": {
           "diverging": [
            [
             0,
             "#8e0152"
            ],
            [
             0.1,
             "#c51b7d"
            ],
            [
             0.2,
             "#de77ae"
            ],
            [
             0.3,
             "#f1b6da"
            ],
            [
             0.4,
             "#fde0ef"
            ],
            [
             0.5,
             "#f7f7f7"
            ],
            [
             0.6,
             "#e6f5d0"
            ],
            [
             0.7,
             "#b8e186"
            ],
            [
             0.8,
             "#7fbc41"
            ],
            [
             0.9,
             "#4d9221"
            ],
            [
             1,
             "#276419"
            ]
           ],
           "sequential": [
            [
             0,
             "#0d0887"
            ],
            [
             0.1111111111111111,
             "#46039f"
            ],
            [
             0.2222222222222222,
             "#7201a8"
            ],
            [
             0.3333333333333333,
             "#9c179e"
            ],
            [
             0.4444444444444444,
             "#bd3786"
            ],
            [
             0.5555555555555556,
             "#d8576b"
            ],
            [
             0.6666666666666666,
             "#ed7953"
            ],
            [
             0.7777777777777778,
             "#fb9f3a"
            ],
            [
             0.8888888888888888,
             "#fdca26"
            ],
            [
             1,
             "#f0f921"
            ]
           ],
           "sequentialminus": [
            [
             0,
             "#0d0887"
            ],
            [
             0.1111111111111111,
             "#46039f"
            ],
            [
             0.2222222222222222,
             "#7201a8"
            ],
            [
             0.3333333333333333,
             "#9c179e"
            ],
            [
             0.4444444444444444,
             "#bd3786"
            ],
            [
             0.5555555555555556,
             "#d8576b"
            ],
            [
             0.6666666666666666,
             "#ed7953"
            ],
            [
             0.7777777777777778,
             "#fb9f3a"
            ],
            [
             0.8888888888888888,
             "#fdca26"
            ],
            [
             1,
             "#f0f921"
            ]
           ]
          },
          "colorway": [
           "#636efa",
           "#EF553B",
           "#00cc96",
           "#ab63fa",
           "#FFA15A",
           "#19d3f3",
           "#FF6692",
           "#B6E880",
           "#FF97FF",
           "#FECB52"
          ],
          "font": {
           "color": "#2a3f5f"
          },
          "geo": {
           "bgcolor": "white",
           "lakecolor": "white",
           "landcolor": "#E5ECF6",
           "showlakes": true,
           "showland": true,
           "subunitcolor": "white"
          },
          "hoverlabel": {
           "align": "left"
          },
          "hovermode": "closest",
          "mapbox": {
           "style": "light"
          },
          "paper_bgcolor": "white",
          "plot_bgcolor": "#E5ECF6",
          "polar": {
           "angularaxis": {
            "gridcolor": "white",
            "linecolor": "white",
            "ticks": ""
           },
           "bgcolor": "#E5ECF6",
           "radialaxis": {
            "gridcolor": "white",
            "linecolor": "white",
            "ticks": ""
           }
          },
          "scene": {
           "xaxis": {
            "backgroundcolor": "#E5ECF6",
            "gridcolor": "white",
            "gridwidth": 2,
            "linecolor": "white",
            "showbackground": true,
            "ticks": "",
            "zerolinecolor": "white"
           },
           "yaxis": {
            "backgroundcolor": "#E5ECF6",
            "gridcolor": "white",
            "gridwidth": 2,
            "linecolor": "white",
            "showbackground": true,
            "ticks": "",
            "zerolinecolor": "white"
           },
           "zaxis": {
            "backgroundcolor": "#E5ECF6",
            "gridcolor": "white",
            "gridwidth": 2,
            "linecolor": "white",
            "showbackground": true,
            "ticks": "",
            "zerolinecolor": "white"
           }
          },
          "shapedefaults": {
           "line": {
            "color": "#2a3f5f"
           }
          },
          "ternary": {
           "aaxis": {
            "gridcolor": "white",
            "linecolor": "white",
            "ticks": ""
           },
           "baxis": {
            "gridcolor": "white",
            "linecolor": "white",
            "ticks": ""
           },
           "bgcolor": "#E5ECF6",
           "caxis": {
            "gridcolor": "white",
            "linecolor": "white",
            "ticks": ""
           }
          },
          "title": {
           "x": 0.05
          },
          "xaxis": {
           "automargin": true,
           "gridcolor": "white",
           "linecolor": "white",
           "ticks": "",
           "title": {
            "standoff": 15
           },
           "zerolinecolor": "white",
           "zerolinewidth": 2
          },
          "yaxis": {
           "automargin": true,
           "gridcolor": "white",
           "linecolor": "white",
           "ticks": "",
           "title": {
            "standoff": 15
           },
           "zerolinecolor": "white",
           "zerolinewidth": 2
          }
         }
        },
        "xaxis": {
         "autorange": true,
         "range": [
          0,
          354
         ],
         "type": "linear"
        },
        "yaxis": {
         "autorange": true,
         "range": [
          -5.555555555551008,
          105.55555555555532
         ],
         "type": "linear"
        }
       }
      },
      "image/png": "[encoded data removed]"
     },
     "metadata": {},
     "output_type": "display_data"
    }
   ],
   "source": [
    "os.chdir(\"../../gamd_pmfs/VH-Y100aA\")\n",
    "k106_c3 = get_pmf(\n",
    "    \"pmf-c2-chi3_conv.dat.xvg\"\n",
    ")\n",
    "\n",
    "geom_dvdls.loc[geom_dvdls[\"K106_chi3\"] < 0, \"K106_chi3\"] += 360\n",
    "k106_c3.loc[k106_c3[\"X\"] < 0, \"X\"] += 360\n",
    "k106_c3 = k106_c3.sort_values(by=\"X\")\n",
    "\n",
    "pio.renderers.default=\"jupyterlab\"\n",
    "fig = plot_pmf_TI_1D_fig(k106_c3, geom_dvdls, \"K106_chi3\", scaler=100, bins=75)\n",
    "fig.show(renderer=\"jupyterlab\")\n",
    "\n"
   ]
  },
  {
   "cell_type": "markdown",
   "id": "213c38e2-cf21-40d0-9fb8-c2d4394c7179",
   "metadata": {},
   "source": [
    "### Filtering out frames that are not contained within the GaMD free energy profile"
   ]
  },
  {
   "cell_type": "code",
   "execution_count": 16,
   "id": "8cf30715-5bde-4328-b451-dc18f533e044",
   "metadata": {
    "tags": []
   },
   "outputs": [
    {
     "name": "stdout",
     "output_type": "stream",
     "text": [
      "Lambda\n",
      "1     836\n",
      "2     715\n",
      "3     637\n",
      "4     773\n",
      "5     868\n",
      "6     747\n",
      "7     697\n",
      "8     505\n",
      "9     729\n",
      "10    749\n",
      "11    822\n",
      "12    802\n",
      "Name: weight_dvdl, dtype: int64\n"
     ]
    }
   ],
   "source": [
    "state = geom_dvdls[(geom_dvdls[\"K106_chi3\"] > 126) & (geom_dvdls[\"K106_chi3\"] < 228)]\n",
    "print(state.groupby(\"Lambda\").count()['weight_dvdl'])\n",
    "dG_corr = state.groupby(\"Lambda\").mean().sum()['weight_dvdl']"
   ]
  },
  {
   "cell_type": "markdown",
   "id": "571f187f-6cda-47f0-89b2-c0a6ce18c5a0",
   "metadata": {},
   "source": [
    "### Re-computing bound state dG with only the frames that conform to GaMD 1-D free energy profile\n",
    "\n",
    "We cannot do the same for the unbound state since this feature is only a bound state feature (there is no antigen being sampled in the unbound state). As we can see, this correction has a minimal impact on the error of the prediction."
   ]
  },
  {
   "cell_type": "code",
   "execution_count": 21,
   "id": "4d95fdcf-1af2-471e-8b43-327d0a702246",
   "metadata": {
    "tags": []
   },
   "outputs": [
    {
     "name": "stdout",
     "output_type": "stream",
     "text": [
      "Original ddG estimate: \n",
      "4.5502 kcal/mol \n",
      "Original ddG error: \n",
      "0.3202 kcal/mol\n",
      "\n",
      "Corrected ddG estimate: \n",
      "3.8389 kcal/mol \n",
      "Corrected ddG error: \n",
      "0.3911 kcal/mol\n"
     ]
    }
   ],
   "source": [
    "print(\"Original ddG estimate: \")\n",
    "print(f\"{round(orig_dG_bd - orig_dG_ubd, 4)} kcal/mol \")\n",
    "print(\"Original ddG error: \")\n",
    "print(f\"{round(orig_error, 4)} kcal/mol\")\n",
    "\n",
    "print()\n",
    "corr_error = abs((dG_corr - orig_dG_ubd) - empirical_value)\n",
    "\n",
    "\n",
    "print(\"Corrected ddG estimate: \")\n",
    "print(f\"{round(dG_corr - orig_dG_ubd, 4)} kcal/mol \")\n",
    "print(\"Corrected ddG error: \")\n",
    "print(f\"{round(corr_error, 4)} kcal/mol\")\n",
    "\n"
   ]
  }
 ],
 "metadata": {
  "kernelspec": {
   "display_name": "Python md-cqa",
   "language": "python",
   "name": "md-cqa"
  },
  "language_info": {
   "codemirror_mode": {
    "name": "ipython",
    "version": 3
   },
   "file_extension": ".py",
   "mimetype": "text/x-python",
   "name": "python",
   "nbconvert_exporter": "python",
   "pygments_lexer": "ipython3",
   "version": "3.7.11"
  }
 },
 "nbformat": 4,
 "nbformat_minor": 5
}
