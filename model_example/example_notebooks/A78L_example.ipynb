{
 "cells": [
  {
   "cell_type": "markdown",
   "id": "a9e27a47-fcb3-4d88-8684-6a0c0ab4e2b2",
   "metadata": {},
   "source": [
    "## Kelley hu4d5-5 VH-A78L error analysis\n",
    "\n",
    "In this notebook we will use a random forest model to find the most energetically influential degrees of freedom for the VH-A78L TI production run. Next, we will compare the sampling of these DOF during TI production to a free energy profile derived from end state GaMD sampling. We will attempt to  correct any inaccurate sampling in the TI data and find the estimated ddG before and after the correction. "
   ]
  },
  {
   "cell_type": "code",
   "execution_count": 3,
   "id": "851378ee-e82c-4f90-900b-c17c0e1ecf6f",
   "metadata": {
    "tags": []
   },
   "outputs": [],
   "source": [
    "import os\n",
    "os.chdir(\"..\")\n",
    "from common_functions import *"
   ]
  },
  {
   "cell_type": "markdown",
   "id": "a507c79d-2584-461a-8152-5665de92320e",
   "metadata": {},
   "source": [
    "### Ingesting initial TI data "
   ]
  },
  {
   "cell_type": "code",
   "execution_count": 4,
   "id": "92e01d86-bb8d-4e70-bb3e-391a2a002dd0",
   "metadata": {
    "tags": []
   },
   "outputs": [],
   "source": [
    "os.chdir(\"./TI_data/VH-A78L/\")\n",
    "sc_dvdls = pd.read_csv(\"A78L_bound.csv\")\n",
    "dvdls_ub = pd.read_csv(\"A78L_unbound.csv\")"
   ]
  },
  {
   "cell_type": "markdown",
   "id": "24251d8a-113a-4470-9aa0-c377b914fe6f",
   "metadata": {},
   "source": [
    "### Original ddG estimate:"
   ]
  },
  {
   "cell_type": "code",
   "execution_count": 5,
   "id": "2089f98e-ea24-44fc-9890-896c26f33d68",
   "metadata": {
    "tags": []
   },
   "outputs": [
    {
     "name": "stdout",
     "output_type": "stream",
     "text": [
      "Original ddG estimate: \n",
      "0.43097 kcal/mol \n",
      "\n",
      "Original ddG error: \n",
      "0.43097 kcal/mol\n"
     ]
    }
   ],
   "source": [
    "orig_dG_bd = sc_dvdls.groupby(\"Lambda\").mean().sum()[\"weight_dvdl\"]\n",
    "orig_dG_ubd = dvdls_ub.groupby(\"Lambda\").mean().sum()[\"weight_dvdl\"]\n",
    "\n",
    "empirical_value = 0.00\n",
    "orig_error = abs((orig_dG_bd - orig_dG_ubd) - empirical_value)\n",
    "\n",
    "print(\"Original ddG estimate: \")\n",
    "print(f\"{round(orig_dG_bd - orig_dG_ubd, 5)} kcal/mol \")\n",
    "print()\n",
    "print(\"Original ddG error: \")\n",
    "print(f\"{round(orig_error, 5)} kcal/mol\")"
   ]
  },
  {
   "cell_type": "markdown",
   "id": "dd791d6c-206e-4bb6-8f7c-01ebd60a0ba6",
   "metadata": {},
   "source": [
    "### Removing correlated variables among candidate degrees of freedom\n",
    "\n",
    "This is important because we want to limit the noise in our model training. See our methods/supplemental methods section for our process to choose the input features."
   ]
  },
  {
   "cell_type": "code",
   "execution_count": 6,
   "id": "ecdfee94-8c19-4ccc-82bc-5726d25ceacf",
   "metadata": {
    "tags": []
   },
   "outputs": [],
   "source": [
    "X = sc_dvdls.drop([\n",
    "    \"#Frame\", \"weight_dvdl\", \"dvdl\", \"Run\", \"Lambda\", \"N426_chi2\"\n",
    "], axis=1)\n",
    "\n",
    "Y = sc_dvdls[\"weight_dvdl\"]\n",
    "\n",
    "X_scl = pd.DataFrame(StandardScaler().fit_transform(X))\n",
    "X_scl.columns = X.columns\n"
   ]
  },
  {
   "cell_type": "markdown",
   "id": "4ba4078d-8b6a-43d9-a095-e577b442c42c",
   "metadata": {},
   "source": [
    "### Checking to see if there is any cross-correlations within the independent variables"
   ]
  },
  {
   "cell_type": "code",
   "execution_count": 7,
   "id": "324a99e1-70a8-4ba8-8700-6d0328f5ae3b",
   "metadata": {
    "tags": []
   },
   "outputs": [],
   "source": [
    "absCorr = abs(X_scl.corr())\n",
    "for i in absCorr.columns:\n",
    "    for j in absCorr.index:\n",
    "        cor = absCorr.loc[i, j]\n",
    "        if abs(cor) > 0.5 and i != j:\n",
    "            print(i, j)\n",
    "            print(cor)\n",
    "            "
   ]
  },
  {
   "cell_type": "markdown",
   "id": "71ac2e1c-9738-4de1-9424-86155c9414f0",
   "metadata": {},
   "source": [
    "### Using random forest model to identify the most energetically influential degrees of freedom\n",
    "\n",
    "We run our model 25 times, then sort the results by the mean of feature importance across the 25 iterations. For this particular perturbation, the model $R^2$ between the geometric DOF (nearby side chain rotamers or interatomic distances) and the energetic DV/DL was not strong enough for us to check the sampling of these degrees of freedom. "
   ]
  },
  {
   "cell_type": "code",
   "execution_count": 12,
   "id": "cef538f5-3ad6-401b-934a-a611b140c19d",
   "metadata": {
    "tags": []
   },
   "outputs": [
    {
     "name": "stdout",
     "output_type": "stream",
     "text": [
      "Avg. training r2: \n",
      "0.3176\n",
      "Training r2 std dev: \n",
      "0.0008\n",
      "Avg. test r2: \n",
      "0.1042\n",
      "Testing r2 std dev: \n",
      "0.0063\n"
     ]
    },
    {
     "data": {
      "text/html": [
       "<div>\n",
       "<style scoped>\n",
       "    .dataframe tbody tr th:only-of-type {\n",
       "        vertical-align: middle;\n",
       "    }\n",
       "\n",
       "    .dataframe tbody tr th {\n",
       "        vertical-align: top;\n",
       "    }\n",
       "\n",
       "    .dataframe thead th {\n",
       "        text-align: right;\n",
       "    }\n",
       "</style>\n",
       "<table border=\"1\" class=\"dataframe\">\n",
       "  <thead>\n",
       "    <tr style=\"text-align: right;\">\n",
       "      <th></th>\n",
       "      <th>Mean</th>\n",
       "      <th>Median</th>\n",
       "    </tr>\n",
       "  </thead>\n",
       "  <tbody>\n",
       "    <tr>\n",
       "      <th>L570_chi2</th>\n",
       "      <td>0.147999</td>\n",
       "      <td>0.148628</td>\n",
       "    </tr>\n",
       "    <tr>\n",
       "      <th>L570_chi1</th>\n",
       "      <td>0.089902</td>\n",
       "      <td>0.089332</td>\n",
       "    </tr>\n",
       "    <tr>\n",
       "      <th>N426_chi1</th>\n",
       "      <td>0.068813</td>\n",
       "      <td>0.074732</td>\n",
       "    </tr>\n",
       "    <tr>\n",
       "      <th>W385_chi2</th>\n",
       "      <td>0.067422</td>\n",
       "      <td>0.075003</td>\n",
       "    </tr>\n",
       "    <tr>\n",
       "      <th>I419_chi1</th>\n",
       "      <td>0.059866</td>\n",
       "      <td>0.065065</td>\n",
       "    </tr>\n",
       "    <tr>\n",
       "      <th>T427_chi1</th>\n",
       "      <td>0.052580</td>\n",
       "      <td>0.035703</td>\n",
       "    </tr>\n",
       "    <tr>\n",
       "      <th>D422_chi2</th>\n",
       "      <td>0.052436</td>\n",
       "      <td>0.057263</td>\n",
       "    </tr>\n",
       "    <tr>\n",
       "      <th>S370_chi1</th>\n",
       "      <td>0.050409</td>\n",
       "      <td>0.050889</td>\n",
       "    </tr>\n",
       "    <tr>\n",
       "      <th>I378_chi2</th>\n",
       "      <td>0.048896</td>\n",
       "      <td>0.054042</td>\n",
       "    </tr>\n",
       "    <tr>\n",
       "      <th>W385_chi1</th>\n",
       "      <td>0.047666</td>\n",
       "      <td>0.037609</td>\n",
       "    </tr>\n",
       "    <tr>\n",
       "      <th>Y429_chi1</th>\n",
       "      <td>0.039127</td>\n",
       "      <td>0.032603</td>\n",
       "    </tr>\n",
       "    <tr>\n",
       "      <th>I383_chi2</th>\n",
       "      <td>0.037218</td>\n",
       "      <td>0.038163</td>\n",
       "    </tr>\n",
       "    <tr>\n",
       "      <th>I383_chi1</th>\n",
       "      <td>0.036913</td>\n",
       "      <td>0.030891</td>\n",
       "    </tr>\n",
       "    <tr>\n",
       "      <th>L430_chi1</th>\n",
       "      <td>0.035536</td>\n",
       "      <td>0.035895</td>\n",
       "    </tr>\n",
       "    <tr>\n",
       "      <th>I378_chi1</th>\n",
       "      <td>0.035430</td>\n",
       "      <td>0.035146</td>\n",
       "    </tr>\n",
       "  </tbody>\n",
       "</table>\n",
       "</div>"
      ],
      "text/plain": [
       "               Mean    Median\n",
       "L570_chi2  0.147999  0.148628\n",
       "L570_chi1  0.089902  0.089332\n",
       "N426_chi1  0.068813  0.074732\n",
       "W385_chi2  0.067422  0.075003\n",
       "I419_chi1  0.059866  0.065065\n",
       "T427_chi1  0.052580  0.035703\n",
       "D422_chi2  0.052436  0.057263\n",
       "S370_chi1  0.050409  0.050889\n",
       "I378_chi2  0.048896  0.054042\n",
       "W385_chi1  0.047666  0.037609\n",
       "Y429_chi1  0.039127  0.032603\n",
       "I383_chi2  0.037218  0.038163\n",
       "I383_chi1  0.036913  0.030891\n",
       "L430_chi1  0.035536  0.035895\n",
       "I378_chi1  0.035430  0.035146"
      ]
     },
     "execution_count": 12,
     "metadata": {},
     "output_type": "execute_result"
    }
   ],
   "source": [
    "rfeDefault = RFE(estimator=DecisionTreeRegressor(max_depth=5, random_state=42), n_features_to_select=0.75, step=0.05)\n",
    "rfDefault = RandomForestRegressor(\n",
    "    max_depth=10, n_estimators=200, oob_score=True, max_features=0.6, min_samples_leaf = 7, min_samples_split=14, random_state=42\n",
    ")\n",
    "\n",
    "pipelineDefault_rf = Pipeline([\n",
    "    ('feature_scaling', StandardScaler()),\n",
    "    ('feature_selection', rfeDefault),\n",
    "    ('regression_model', rfDefault)\n",
    "])\n",
    "\n",
    "\n",
    "imps = benchmark_model(pipelineDefault_rf, X_scl, Y, sc_dvdls[\"Lambda\"])\n",
    "imps[[\"Mean\", \"Median\"]].sort_values(by=\"Mean\", ascending=False)[:15]"
   ]
  }
 ],
 "metadata": {
  "kernelspec": {
   "display_name": "Python md-cqa",
   "language": "python",
   "name": "md-cqa"
  },
  "language_info": {
   "codemirror_mode": {
    "name": "ipython",
    "version": 3
   },
   "file_extension": ".py",
   "mimetype": "text/x-python",
   "name": "python",
   "nbconvert_exporter": "python",
   "pygments_lexer": "ipython3",
   "version": "3.7.11"
  }
 },
 "nbformat": 4,
 "nbformat_minor": 5
}
