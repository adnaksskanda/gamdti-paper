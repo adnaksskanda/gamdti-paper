{
 "cells": [
  {
   "cell_type": "markdown",
   "id": "628dc3e9-1511-486e-a940-0ee7e2d0d052",
   "metadata": {},
   "source": [
    "## Kelley hu4d5-5 VH-V102Y error analysis\n",
    "\n",
    "In this notebook we will use a random forest model to find the most energetically influential degrees of freedom for the VH-V102Y TI production run. Next, we will compare the sampling of these DOF during TI production to a free energy profile derived from end state GaMD sampling. We will attempt to  correct any inaccurate sampling in the TI data and find the estimated ddG before and after the correction. "
   ]
  },
  {
   "cell_type": "code",
   "execution_count": 2,
   "id": "9596e78c-dfeb-456a-8b5c-eb2e067bd14e",
   "metadata": {
    "tags": []
   },
   "outputs": [],
   "source": [
    "import os\n",
    "os.chdir(\"..\")\n",
    "from common_functions import *"
   ]
  },
  {
   "cell_type": "markdown",
   "id": "c9f3a8db-2265-4276-99d7-19030026ed13",
   "metadata": {},
   "source": [
    "### Ingesting initial TI data"
   ]
  },
  {
   "cell_type": "code",
   "execution_count": 3,
   "id": "9b7d7e3e-2c79-4fff-bade-b32dbef32255",
   "metadata": {
    "tags": []
   },
   "outputs": [],
   "source": [
    "os.chdir(\"./TI_data/VH-V102Y/\")\n",
    "geom_dvdls = pd.read_csv(\"V102Y_bound.csv\")\n",
    "geom_dvdls_ub = pd.read_csv(\"V102Y_unbound.csv\")"
   ]
  },
  {
   "cell_type": "markdown",
   "id": "01d45042-5122-4dd9-818d-05c85a0c2e9d",
   "metadata": {},
   "source": [
    "### Original ddG estimate:"
   ]
  },
  {
   "cell_type": "code",
   "execution_count": 5,
   "id": "903fd910-3610-4320-9f04-cc2e72dd250c",
   "metadata": {
    "tags": []
   },
   "outputs": [
    {
     "name": "stdout",
     "output_type": "stream",
     "text": [
      "Original ddG estimate: \n",
      "-0.0534874347 kcal/mol \n",
      "\n",
      "Original ddG error: \n",
      "0.0534874347 kcal/mol\n"
     ]
    }
   ],
   "source": [
    "orig_dG_bd = geom_dvdls.groupby(\"Lambda\").mean().sum()[\"weight_dvdl\"]\n",
    "orig_dG_ubd = geom_dvdls_ub.groupby(\"Lambda\").mean().sum()[\"weight_dvdl\"]\n",
    "\n",
    "empirical_value = 0.00\n",
    "orig_error = abs((orig_dG_bd - orig_dG_ubd) - empirical_value)\n",
    "\n",
    "print(\"Original ddG estimate: \")\n",
    "print(f\"{round(orig_dG_bd - orig_dG_ubd, 10)} kcal/mol \")\n",
    "print()\n",
    "print(\"Original ddG error: \")\n",
    "print(f\"{round(orig_error, 10)} kcal/mol\")"
   ]
  },
  {
   "cell_type": "markdown",
   "id": "0a152a1e-a784-47fe-96db-e7033f445c82",
   "metadata": {},
   "source": [
    "### Removing correlated variables among candidate degrees of freedom\n",
    "\n",
    "This is important because we want to limit the noise in our model training. See our methods/supplemental methods section for our process to choose the input features."
   ]
  },
  {
   "cell_type": "code",
   "execution_count": 6,
   "id": "7645f15b-c813-4940-8e59-1c127aa01d04",
   "metadata": {
    "tags": []
   },
   "outputs": [],
   "source": [
    "X = geom_dvdls.drop([\n",
    "    \"#Frame\", \"weight_dvdl\", \"dvdl\", \"Run\", \"Lambda\", \n",
    "], axis=1)\n",
    "\n",
    "Y = geom_dvdls[\"weight_dvdl\"]\n",
    "\n",
    "X_scl = pd.DataFrame(StandardScaler().fit_transform(X))\n",
    "X_scl.columns = X.columns\n"
   ]
  },
  {
   "cell_type": "markdown",
   "id": "a7fa4e6a-f3db-42e3-8df9-53ebe815b895",
   "metadata": {},
   "source": [
    "### Checking to see if there is any cross-correlations within the independent variables"
   ]
  },
  {
   "cell_type": "code",
   "execution_count": 7,
   "id": "dee5c8eb-dc75-4d55-8d57-508270ea2f3a",
   "metadata": {
    "tags": []
   },
   "outputs": [],
   "source": [
    "absCorr = abs(X_scl.corr())\n",
    "for i in absCorr.columns:\n",
    "    for j in absCorr.index:\n",
    "        cor = absCorr.loc[i, j]\n",
    "        if abs(cor) > 0.5 and i != j:\n",
    "            print(i, j)\n",
    "            print(cor)\n",
    "            "
   ]
  },
  {
   "cell_type": "markdown",
   "id": "677e3877-fb0a-41e4-ac37-7dfd51da46f6",
   "metadata": {},
   "source": [
    "### Using random forest model to identify the most energetically influential degrees of freedom\n",
    "\n",
    "We run our model 25 times, then sort the results by the mean of feature importance across the 25 iterations. For this particular perturbation, the model $R^2$ between the geometric DOF (nearby side chain rotamers or interatomic distances) and the energetic DV/DL was not strong enough for us to check the sampling of these degrees of freedom. "
   ]
  },
  {
   "cell_type": "code",
   "execution_count": 15,
   "id": "bcfb9518-5037-4f34-b699-8611245386f8",
   "metadata": {
    "tags": []
   },
   "outputs": [
    {
     "name": "stdout",
     "output_type": "stream",
     "text": [
      "Avg. training r2: \n",
      "0.5058\n",
      "Training r2 std dev: \n",
      "0.0009\n",
      "Avg. test r2: \n",
      "0.338\n",
      "Testing r2 std dev: \n",
      "0.006\n"
     ]
    },
    {
     "data": {
      "text/html": [
       "<div>\n",
       "<style scoped>\n",
       "    .dataframe tbody tr th:only-of-type {\n",
       "        vertical-align: middle;\n",
       "    }\n",
       "\n",
       "    .dataframe tbody tr th {\n",
       "        vertical-align: top;\n",
       "    }\n",
       "\n",
       "    .dataframe thead th {\n",
       "        text-align: right;\n",
       "    }\n",
       "</style>\n",
       "<table border=\"1\" class=\"dataframe\">\n",
       "  <thead>\n",
       "    <tr style=\"text-align: right;\">\n",
       "      <th></th>\n",
       "      <th>Mean</th>\n",
       "      <th>Median</th>\n",
       "    </tr>\n",
       "  </thead>\n",
       "  <tbody>\n",
       "    <tr>\n",
       "      <th>Y570_chi1</th>\n",
       "      <td>0.184328</td>\n",
       "      <td>0.184445</td>\n",
       "    </tr>\n",
       "    <tr>\n",
       "      <th>L353_chi2</th>\n",
       "      <td>0.097355</td>\n",
       "      <td>0.107825</td>\n",
       "    </tr>\n",
       "    <tr>\n",
       "      <th>v351_y570</th>\n",
       "      <td>0.075625</td>\n",
       "      <td>0.075652</td>\n",
       "    </tr>\n",
       "    <tr>\n",
       "      <th>V458_chi1</th>\n",
       "      <td>0.059823</td>\n",
       "      <td>0.032527</td>\n",
       "    </tr>\n",
       "    <tr>\n",
       "      <th>L353_chi1</th>\n",
       "      <td>0.051432</td>\n",
       "      <td>0.053720</td>\n",
       "    </tr>\n",
       "    <tr>\n",
       "      <th>V458_chi2</th>\n",
       "      <td>0.051175</td>\n",
       "      <td>0.016699</td>\n",
       "    </tr>\n",
       "    <tr>\n",
       "      <th>d127_y570</th>\n",
       "      <td>0.046692</td>\n",
       "      <td>0.046669</td>\n",
       "    </tr>\n",
       "    <tr>\n",
       "      <th>V351_chi1</th>\n",
       "      <td>0.045827</td>\n",
       "      <td>0.045879</td>\n",
       "    </tr>\n",
       "    <tr>\n",
       "      <th>D457_chi2</th>\n",
       "      <td>0.045421</td>\n",
       "      <td>0.029274</td>\n",
       "    </tr>\n",
       "    <tr>\n",
       "      <th>M456_chi3</th>\n",
       "      <td>0.041685</td>\n",
       "      <td>0.012929</td>\n",
       "    </tr>\n",
       "    <tr>\n",
       "      <th>Y570_chi2</th>\n",
       "      <td>0.030646</td>\n",
       "      <td>0.030584</td>\n",
       "    </tr>\n",
       "    <tr>\n",
       "      <th>S446_chi1</th>\n",
       "      <td>0.030197</td>\n",
       "      <td>0.031542</td>\n",
       "    </tr>\n",
       "    <tr>\n",
       "      <th>F376_chi2</th>\n",
       "      <td>0.026146</td>\n",
       "      <td>0.028514</td>\n",
       "    </tr>\n",
       "    <tr>\n",
       "      <th>R447_chi1</th>\n",
       "      <td>0.025264</td>\n",
       "      <td>0.034050</td>\n",
       "    </tr>\n",
       "    <tr>\n",
       "      <th>F376_chi1</th>\n",
       "      <td>0.024134</td>\n",
       "      <td>0.011213</td>\n",
       "    </tr>\n",
       "  </tbody>\n",
       "</table>\n",
       "</div>"
      ],
      "text/plain": [
       "               Mean    Median\n",
       "Y570_chi1  0.184328  0.184445\n",
       "L353_chi2  0.097355  0.107825\n",
       "v351_y570  0.075625  0.075652\n",
       "V458_chi1  0.059823  0.032527\n",
       "L353_chi1  0.051432  0.053720\n",
       "V458_chi2  0.051175  0.016699\n",
       "d127_y570  0.046692  0.046669\n",
       "V351_chi1  0.045827  0.045879\n",
       "D457_chi2  0.045421  0.029274\n",
       "M456_chi3  0.041685  0.012929\n",
       "Y570_chi2  0.030646  0.030584\n",
       "S446_chi1  0.030197  0.031542\n",
       "F376_chi2  0.026146  0.028514\n",
       "R447_chi1  0.025264  0.034050\n",
       "F376_chi1  0.024134  0.011213"
      ]
     },
     "execution_count": 15,
     "metadata": {},
     "output_type": "execute_result"
    }
   ],
   "source": [
    "rfeDefault = RFE(estimator=DecisionTreeRegressor(max_depth=5, random_state=42), n_features_to_select=0.75, step=0.05)\n",
    "rfDefault = RandomForestRegressor(\n",
    "    max_depth=10, n_estimators=200, oob_score=True, max_features=0.6, min_samples_leaf = 7, min_samples_split=14, random_state=42\n",
    ")\n",
    "\n",
    "pipelineDefault_rf = Pipeline([\n",
    "    ('feature_scaling', StandardScaler()),\n",
    "    ('feature_selection', rfeDefault),\n",
    "    ('regression_model', rfDefault)\n",
    "])\n",
    "\n",
    "\n",
    "imps = benchmark_model(pipelineDefault_rf, X_scl, Y, geom_dvdls[\"Lambda\"])\n",
    "imps[[\"Mean\", \"Median\"]].sort_values(by=\"Mean\", ascending=False)[:15]"
   ]
  },
  {
   "cell_type": "code",
   "execution_count": null,
   "id": "9f2e1b0d-8de7-4faa-96b9-66ecb8fcf8b2",
   "metadata": {},
   "outputs": [],
   "source": []
  }
 ],
 "metadata": {
  "kernelspec": {
   "display_name": "Python md-cqa",
   "language": "python",
   "name": "md-cqa"
  },
  "language_info": {
   "codemirror_mode": {
    "name": "ipython",
    "version": 3
   },
   "file_extension": ".py",
   "mimetype": "text/x-python",
   "name": "python",
   "nbconvert_exporter": "python",
   "pygments_lexer": "ipython3",
   "version": "3.7.11"
  }
 },
 "nbformat": 4,
 "nbformat_minor": 5
}
