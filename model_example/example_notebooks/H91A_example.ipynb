{
 "cells": [
  {
   "cell_type": "markdown",
   "id": "d47c1fae-3a7f-461c-897a-fcebf9691f34",
   "metadata": {},
   "source": [
    "## Kelley hu4d5-5 VL-H91A error analysis\n",
    "\n",
    "In this notebook we will use a random forest model to find the most energetically influential degrees of freedom for the VL-H91A TI production run. Next, we will compare the sampling of these DOF during TI production to a free energy profile derived from end state GaMD sampling. We will attempt to  correct any inaccurate sampling in the TI data and find the estimated ddG before and after the correction. "
   ]
  },
  {
   "cell_type": "code",
   "execution_count": 2,
   "id": "1b84dcd6-d99a-4615-bfe6-7146c8ccc2ca",
   "metadata": {
    "tags": []
   },
   "outputs": [],
   "source": [
    "import os\n",
    "os.chdir(\"..\")\n",
    "from common_functions import *"
   ]
  },
  {
   "cell_type": "markdown",
   "id": "8bbdb5ac-d3a4-47b7-938e-2b283027f47f",
   "metadata": {},
   "source": [
    "### Ingesting initial TI data"
   ]
  },
  {
   "cell_type": "code",
   "execution_count": 3,
   "id": "83de192f-6bae-4ee9-b705-0fe762e5f6a9",
   "metadata": {
    "tags": []
   },
   "outputs": [],
   "source": [
    "os.chdir(\"./TI_data/VL-H91A/\")\n",
    "geom_dvdls = pd.read_csv(\"H91A_bound.csv\")\n",
    "geom_dvdls_ub = pd.read_csv(\"H91A_unbound.csv\")"
   ]
  },
  {
   "cell_type": "markdown",
   "id": "36473724-f558-4230-bd3c-8f379a6163e7",
   "metadata": {},
   "source": [
    "### Original ddG estimate:"
   ]
  },
  {
   "cell_type": "code",
   "execution_count": 4,
   "id": "f745b112-dbf0-4daa-9877-781a62b6cc2a",
   "metadata": {
    "tags": []
   },
   "outputs": [
    {
     "name": "stdout",
     "output_type": "stream",
     "text": [
      "Original ddG estimate: \n",
      "3.3634 kcal/mol \n",
      "\n",
      "Original ddG error: \n",
      "0.2134 kcal/mol\n"
     ]
    }
   ],
   "source": [
    "orig_dG_bd = geom_dvdls.groupby(\"Lambda\").mean().sum()[\"weight_dvdl\"]\n",
    "orig_dG_ubd = geom_dvdls_ub.groupby(\"Lambda\").mean().sum()[\"weight_dvdl\"]\n",
    "\n",
    "empirical_value = 3.15\n",
    "orig_error = abs((orig_dG_bd - orig_dG_ubd) - empirical_value)\n",
    "\n",
    "print(\"Original ddG estimate: \")\n",
    "print(f\"{round(orig_dG_bd - orig_dG_ubd, 4)} kcal/mol \")\n",
    "print()\n",
    "print(\"Original ddG error: \")\n",
    "print(f\"{round(orig_error, 4)} kcal/mol\")"
   ]
  },
  {
   "cell_type": "markdown",
   "id": "4c560471-ae4f-474a-bc29-7be7c8d59a0a",
   "metadata": {},
   "source": [
    "### Removing correlated variables among candidate degrees of freedom\n",
    "\n",
    "This is important because we want to limit the noise in our model training. See our methods/supplemental methods section for our process to choose the input features."
   ]
  },
  {
   "cell_type": "code",
   "execution_count": 5,
   "id": "37936c12-3e6d-4d99-9df3-9cb020095cf8",
   "metadata": {
    "tags": []
   },
   "outputs": [],
   "source": [
    "X = geom_dvdls.drop([\n",
    "    \"#Frame\", \"weight_dvdl\", \"dvdl\", \"Run\", \"Lambda\", \"Y404_chi2\", \"Q445_chi3\", \n",
    "], axis=1)\n",
    "\n",
    "Y = geom_dvdls[\"weight_dvdl\"]\n",
    "\n",
    "X_scl = pd.DataFrame(StandardScaler().fit_transform(X))\n",
    "X_scl.columns = X.columns\n"
   ]
  },
  {
   "cell_type": "markdown",
   "id": "bba80e68-ea85-473b-af8f-8be9d80f61ec",
   "metadata": {},
   "source": [
    "### Checking to see if there is any cross-correlations within the independent variables"
   ]
  },
  {
   "cell_type": "code",
   "execution_count": 6,
   "id": "845a619e-6743-4b22-b453-e5c30f261651",
   "metadata": {
    "tags": []
   },
   "outputs": [
    {
     "name": "stdout",
     "output_type": "stream",
     "text": [
      "H446_chi1 ser185_h226\n",
      "0.5874333398420051\n",
      "ser185_h226 H446_chi1\n",
      "0.5874333398420051\n"
     ]
    }
   ],
   "source": [
    "absCorr = abs(X_scl.corr())\n",
    "for i in absCorr.columns:\n",
    "    for j in absCorr.index:\n",
    "        cor = absCorr.loc[i, j]\n",
    "        if abs(cor) > 0.5 and i != j:\n",
    "            print(i, j)\n",
    "            print(cor)\n",
    "            "
   ]
  },
  {
   "cell_type": "markdown",
   "id": "099fb81b-e018-425b-83d6-335e20126bce",
   "metadata": {},
   "source": [
    "### Using random forest model to identify the most energetically influential degrees of freedom\n",
    "\n",
    "We run our model 25 times, then sort the results by the mean of feature importance across the 25 iterations. For this particular perturbation, the model $R^2$ between the geometric DOF (nearby side chain rotamers or interatomic distances) and the energetic DV/DL was not strong enough for us to check the sampling of these degrees of freedom. "
   ]
  },
  {
   "cell_type": "code",
   "execution_count": 11,
   "id": "20eab8be-4428-495e-980f-3d637748c509",
   "metadata": {
    "tags": []
   },
   "outputs": [
    {
     "name": "stdout",
     "output_type": "stream",
     "text": [
      "Avg. training r2: \n",
      "0.5323\n",
      "Training r2 std dev: \n",
      "0.0005\n",
      "Avg. test r2: \n",
      "0.3369\n",
      "Testing r2 std dev: \n",
      "0.0053\n"
     ]
    },
    {
     "data": {
      "text/html": [
       "<div>\n",
       "<style scoped>\n",
       "    .dataframe tbody tr th:only-of-type {\n",
       "        vertical-align: middle;\n",
       "    }\n",
       "\n",
       "    .dataframe tbody tr th {\n",
       "        vertical-align: top;\n",
       "    }\n",
       "\n",
       "    .dataframe thead th {\n",
       "        text-align: right;\n",
       "    }\n",
       "</style>\n",
       "<table border=\"1\" class=\"dataframe\">\n",
       "  <thead>\n",
       "    <tr style=\"text-align: right;\">\n",
       "      <th></th>\n",
       "      <th>Mean</th>\n",
       "      <th>Median</th>\n",
       "    </tr>\n",
       "  </thead>\n",
       "  <tbody>\n",
       "    <tr>\n",
       "      <th>ser185_h226</th>\n",
       "      <td>0.225089</td>\n",
       "      <td>0.224943</td>\n",
       "    </tr>\n",
       "    <tr>\n",
       "      <th>H446_chi2</th>\n",
       "      <td>0.124295</td>\n",
       "      <td>0.123997</td>\n",
       "    </tr>\n",
       "    <tr>\n",
       "      <th>Y404_chi1</th>\n",
       "      <td>0.087022</td>\n",
       "      <td>0.089666</td>\n",
       "    </tr>\n",
       "    <tr>\n",
       "      <th>T448_chi1</th>\n",
       "      <td>0.080071</td>\n",
       "      <td>0.080138</td>\n",
       "    </tr>\n",
       "    <tr>\n",
       "      <th>V384_chi1</th>\n",
       "      <td>0.079857</td>\n",
       "      <td>0.079861</td>\n",
       "    </tr>\n",
       "    <tr>\n",
       "      <th>Q444_chi3</th>\n",
       "      <td>0.075968</td>\n",
       "      <td>0.075987</td>\n",
       "    </tr>\n",
       "    <tr>\n",
       "      <th>Y447_chi1</th>\n",
       "      <td>0.055016</td>\n",
       "      <td>0.054895</td>\n",
       "    </tr>\n",
       "    <tr>\n",
       "      <th>T386_chi1</th>\n",
       "      <td>0.054368</td>\n",
       "      <td>0.054348</td>\n",
       "    </tr>\n",
       "    <tr>\n",
       "      <th>F453_chi2</th>\n",
       "      <td>0.041323</td>\n",
       "      <td>0.041088</td>\n",
       "    </tr>\n",
       "    <tr>\n",
       "      <th>Y240_chi2</th>\n",
       "      <td>0.032619</td>\n",
       "      <td>0.032671</td>\n",
       "    </tr>\n",
       "    <tr>\n",
       "      <th>S405_chi1</th>\n",
       "      <td>0.024816</td>\n",
       "      <td>0.024962</td>\n",
       "    </tr>\n",
       "    <tr>\n",
       "      <th>Y447_chi2</th>\n",
       "      <td>0.023019</td>\n",
       "      <td>0.022997</td>\n",
       "    </tr>\n",
       "    <tr>\n",
       "      <th>V388_chi1</th>\n",
       "      <td>0.022480</td>\n",
       "      <td>0.022634</td>\n",
       "    </tr>\n",
       "    <tr>\n",
       "      <th>V388_chi2</th>\n",
       "      <td>0.020536</td>\n",
       "      <td>0.017663</td>\n",
       "    </tr>\n",
       "    <tr>\n",
       "      <th>Q444_chi1</th>\n",
       "      <td>0.019361</td>\n",
       "      <td>0.019109</td>\n",
       "    </tr>\n",
       "  </tbody>\n",
       "</table>\n",
       "</div>"
      ],
      "text/plain": [
       "                 Mean    Median\n",
       "ser185_h226  0.225089  0.224943\n",
       "H446_chi2    0.124295  0.123997\n",
       "Y404_chi1    0.087022  0.089666\n",
       "T448_chi1    0.080071  0.080138\n",
       "V384_chi1    0.079857  0.079861\n",
       "Q444_chi3    0.075968  0.075987\n",
       "Y447_chi1    0.055016  0.054895\n",
       "T386_chi1    0.054368  0.054348\n",
       "F453_chi2    0.041323  0.041088\n",
       "Y240_chi2    0.032619  0.032671\n",
       "S405_chi1    0.024816  0.024962\n",
       "Y447_chi2    0.023019  0.022997\n",
       "V388_chi1    0.022480  0.022634\n",
       "V388_chi2    0.020536  0.017663\n",
       "Q444_chi1    0.019361  0.019109"
      ]
     },
     "execution_count": 11,
     "metadata": {},
     "output_type": "execute_result"
    }
   ],
   "source": [
    "rfeDefault = RFE(estimator=DecisionTreeRegressor(max_depth=5, random_state=42), n_features_to_select=0.75, step=0.05)\n",
    "rfDefault = RandomForestRegressor(\n",
    "    max_depth=10, n_estimators=200, oob_score=True, max_features=0.6, min_samples_leaf = 7, min_samples_split=14, random_state=42\n",
    ")\n",
    "\n",
    "pipelineDefault_rf = Pipeline([\n",
    "    ('feature_scaling', StandardScaler()),\n",
    "    # ('pre_select', kbest),\n",
    "    ('feature_selection', rfeDefault),\n",
    "    ('regression_model', rfDefault)\n",
    "])\n",
    "\n",
    "\n",
    "imps = benchmark_model(pipelineDefault_rf, X_scl, Y, geom_dvdls[\"Lambda\"])\n",
    "imps[[\"Mean\", \"Median\"]].sort_values(by=\"Mean\", ascending=False)[:15]"
   ]
  }
 ],
 "metadata": {
  "kernelspec": {
   "display_name": "Python md-cqa",
   "language": "python",
   "name": "md-cqa"
  },
  "language_info": {
   "codemirror_mode": {
    "name": "ipython",
    "version": 3
   },
   "file_extension": ".py",
   "mimetype": "text/x-python",
   "name": "python",
   "nbconvert_exporter": "python",
   "pygments_lexer": "ipython3",
   "version": "3.7.11"
  }
 },
 "nbformat": 4,
 "nbformat_minor": 5
}
