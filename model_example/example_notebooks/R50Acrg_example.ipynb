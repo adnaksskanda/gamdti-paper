{
 "cells": [
  {
   "cell_type": "markdown",
   "id": "c11d77c6-784f-421e-8b60-c490aadf9c2b",
   "metadata": {},
   "source": [
    "## Kelley hu4d5-5 VH-R50A charging step error analysis\n",
    "\n",
    "In this notebook we will use a random forest model to find the most energetically influential degrees of freedom for the VH-R50A charging step TI production run. Next, we will compare the sampling of these DOF during TI production to a free energy profile derived from end state GaMD sampling. We will attempt to  correct any inaccurate sampling in the TI data and find the estimated ddG before and after the correction. "
   ]
  },
  {
   "cell_type": "code",
   "execution_count": 1,
   "id": "0952a57a-f873-4433-aae0-fec22f1879e6",
   "metadata": {
    "tags": []
   },
   "outputs": [],
   "source": [
    "import os\n",
    "os.chdir(\"..\")\n",
    "from common_functions import *"
   ]
  },
  {
   "cell_type": "markdown",
   "id": "e60136ca-b6bf-4e5e-a622-431cee7311ca",
   "metadata": {},
   "source": [
    "### Ingesting original TI lambda production data"
   ]
  },
  {
   "cell_type": "code",
   "execution_count": 2,
   "id": "25ed26b1-b00f-4e7f-8185-768871892eb5",
   "metadata": {
    "tags": []
   },
   "outputs": [],
   "source": [
    "os.chdir(\"./TI_data/VH-R50A\")\n",
    "geom_dvdls_crg = pd.read_csv(\"R50A_crg_bound.csv\")\n",
    "dvdls_ub_crg = pd.read_csv(\"R50A_crg_unbound.csv\")\n",
    "geom_dvdls_vdw = pd.read_csv(\"R50A_vdw_bound.csv\")\n",
    "dvdls_ub_vdw = pd.read_csv(\"R50A_vdw_unbound.csv\")\n"
   ]
  },
  {
   "cell_type": "markdown",
   "id": "c64d05dd-f8cc-4ff4-b3e0-fd9fc74957bd",
   "metadata": {
    "tags": []
   },
   "source": [
    "### Original TI ddG estimate:"
   ]
  },
  {
   "cell_type": "code",
   "execution_count": 5,
   "id": "84cdd5e3-d5ee-4c47-832f-6cef6719acec",
   "metadata": {
    "tags": []
   },
   "outputs": [
    {
     "name": "stdout",
     "output_type": "stream",
     "text": [
      "Original ddG (crg step): \n",
      "0.9958 kcal/mol\n",
      "Original ddG (vdw step): \n",
      "1.9825 kcal/mol\n",
      "Original total ddG: \n",
      "2.9783 kcal/mol\n",
      "\n",
      "Empirical value: \n",
      "4.58 kcal/mol\n",
      "Original ddG error: \n",
      "1.6017 kcal/mol\n"
     ]
    }
   ],
   "source": [
    "dG_bd_crg = geom_dvdls_crg.groupby(\"Lambda\").mean()[\"weight_dvdl\"].sum()\n",
    "dG_ubd_crg = dvdls_ub_crg.groupby(\"Lambda\").mean()[\"weight_dvdl\"].sum()\n",
    "ddG_crg = dG_bd_crg - dG_ubd_crg\n",
    "\n",
    "dG_bd_vdw = geom_dvdls_vdw.groupby(\"Lambda\").mean()[\"weight_dvdl\"].sum()\n",
    "dG_ubd_vdw = dvdls_ub_vdw.groupby(\"Lambda\").mean()[\"weight_dvdl\"].sum()\n",
    "ddG_vdw = dG_bd_vdw - dG_ubd_vdw\n",
    "\n",
    "empirical_value = 4.58\n",
    "\n",
    "error = abs((ddG_crg + ddG_vdw) - empirical_value)\n",
    "\n",
    "print(\"Original ddG (crg step): \")\n",
    "print(f\"{round(ddG_crg, 4)} kcal/mol\")\n",
    "\n",
    "print(\"Original ddG (vdw step): \")\n",
    "print(f\"{round(ddG_vdw, 4)} kcal/mol\")\n",
    "\n",
    "print(\"Original total ddG: \")\n",
    "print(f\"{round(ddG_crg + ddG_vdw, 4)} kcal/mol\")\n",
    "\n",
    "print()\n",
    "print(\"Empirical value: \")\n",
    "print(f\"{empirical_value} kcal/mol\")\n",
    "\n",
    "print(\"Original ddG error: \")\n",
    "print(f\"{round(error, 4)} kcal/mol\")"
   ]
  },
  {
   "cell_type": "markdown",
   "id": "fa8df738-8ddb-45c1-9f96-cc9fb326f2d3",
   "metadata": {},
   "source": [
    "### Charging step RF model"
   ]
  },
  {
   "cell_type": "markdown",
   "id": "0ac5bfe9-9607-467a-b564-4240c980c7bb",
   "metadata": {},
   "source": [
    "#### Splitting data into independent/dependent variables for random forest model\n",
    "\n",
    "See our methods/supplemental methods section for our process to choose the input features."
   ]
  },
  {
   "cell_type": "code",
   "execution_count": 7,
   "id": "fd5a113a-4609-4b90-9884-e139d9910528",
   "metadata": {
    "tags": []
   },
   "outputs": [],
   "source": [
    "X = geom_dvdls_crg.drop(\n",
    "    [\"weight_dvdl\", \"dvdl\", \"Run\", \"Lambda\", \"#Frame\"], axis=1\n",
    ")\n",
    "\n",
    "X_scl = pd.DataFrame(StandardScaler().fit_transform(X))\n",
    "X_scl.columns = X.columns\n",
    "Y = geom_dvdls_crg[\"weight_dvdl\"]\n"
   ]
  },
  {
   "cell_type": "markdown",
   "id": "0d7eb1e2-1c3f-438a-a26a-d1be58fe92b0",
   "metadata": {},
   "source": [
    "#### Checking to see if there is any cross-correlations within the dataset"
   ]
  },
  {
   "cell_type": "code",
   "execution_count": 8,
   "id": "6d0a07ba-27d3-48e2-9a9a-e8dc78e9d7bf",
   "metadata": {
    "tags": []
   },
   "outputs": [],
   "source": [
    "absCorr = abs(X_scl.corr())\n",
    "for i in absCorr.columns:\n",
    "    for j in absCorr.index:\n",
    "        cor = absCorr.loc[i, j]\n",
    "        if abs(cor) > 0.5 and i != j:\n",
    "            print(i, j)\n",
    "            print(cor)\n",
    "            "
   ]
  },
  {
   "cell_type": "markdown",
   "id": "9c8646b3-c96b-4fa8-9c92-2a41432b06e1",
   "metadata": {},
   "source": [
    "#### Using random forest model to identify the most influential degrees of freedom\n",
    "\n",
    "We run our model 25 times, then sort the results by the mean of feature importance across the 25 iterations. "
   ]
  },
  {
   "cell_type": "code",
   "execution_count": 9,
   "id": "3dfb3dbf-c696-4572-858e-a4b18206e06e",
   "metadata": {
    "tags": []
   },
   "outputs": [
    {
     "name": "stdout",
     "output_type": "stream",
     "text": [
      "0.7997257648463655\n",
      "0.0005903379284606613\n",
      "0.7312988758683645\n",
      "0.0034535125498715907\n"
     ]
    },
    {
     "data": {
      "text/html": [
       "<div>\n",
       "<style scoped>\n",
       "    .dataframe tbody tr th:only-of-type {\n",
       "        vertical-align: middle;\n",
       "    }\n",
       "\n",
       "    .dataframe tbody tr th {\n",
       "        vertical-align: top;\n",
       "    }\n",
       "\n",
       "    .dataframe thead th {\n",
       "        text-align: right;\n",
       "    }\n",
       "</style>\n",
       "<table border=\"1\" class=\"dataframe\">\n",
       "  <thead>\n",
       "    <tr style=\"text-align: right;\">\n",
       "      <th></th>\n",
       "      <th>Mean</th>\n",
       "      <th>Median</th>\n",
       "    </tr>\n",
       "  </thead>\n",
       "  <tbody>\n",
       "    <tr>\n",
       "      <th>E71_R399</th>\n",
       "      <td>0.147139</td>\n",
       "      <td>0.147601</td>\n",
       "    </tr>\n",
       "    <tr>\n",
       "      <th>R399_chi1</th>\n",
       "      <td>0.097074</td>\n",
       "      <td>0.056015</td>\n",
       "    </tr>\n",
       "    <tr>\n",
       "      <th>V397_chi1</th>\n",
       "      <td>0.092797</td>\n",
       "      <td>0.146901</td>\n",
       "    </tr>\n",
       "    <tr>\n",
       "      <th>T229_R399</th>\n",
       "      <td>0.091266</td>\n",
       "      <td>0.091049</td>\n",
       "    </tr>\n",
       "    <tr>\n",
       "      <th>E71_chi3</th>\n",
       "      <td>0.046551</td>\n",
       "      <td>0.046545</td>\n",
       "    </tr>\n",
       "    <tr>\n",
       "      <th>F68_chi1</th>\n",
       "      <td>0.045415</td>\n",
       "      <td>0.045675</td>\n",
       "    </tr>\n",
       "    <tr>\n",
       "      <th>E71_chi2</th>\n",
       "      <td>0.044603</td>\n",
       "      <td>0.044359</td>\n",
       "    </tr>\n",
       "    <tr>\n",
       "      <th>H384_chi1</th>\n",
       "      <td>0.043651</td>\n",
       "      <td>0.047092</td>\n",
       "    </tr>\n",
       "    <tr>\n",
       "      <th>F86_chi2</th>\n",
       "      <td>0.042237</td>\n",
       "      <td>0.042305</td>\n",
       "    </tr>\n",
       "    <tr>\n",
       "      <th>R408_chi4</th>\n",
       "      <td>0.041260</td>\n",
       "      <td>0.063360</td>\n",
       "    </tr>\n",
       "    <tr>\n",
       "      <th>R408_chi2</th>\n",
       "      <td>0.037202</td>\n",
       "      <td>0.041089</td>\n",
       "    </tr>\n",
       "    <tr>\n",
       "      <th>R408_chi3</th>\n",
       "      <td>0.033991</td>\n",
       "      <td>0.031686</td>\n",
       "    </tr>\n",
       "    <tr>\n",
       "      <th>Y406_chi2</th>\n",
       "      <td>0.028216</td>\n",
       "      <td>0.029293</td>\n",
       "    </tr>\n",
       "    <tr>\n",
       "      <th>Y401_chi2</th>\n",
       "      <td>0.027950</td>\n",
       "      <td>0.036336</td>\n",
       "    </tr>\n",
       "    <tr>\n",
       "      <th>R399_chi4</th>\n",
       "      <td>0.023700</td>\n",
       "      <td>0.001787</td>\n",
       "    </tr>\n",
       "  </tbody>\n",
       "</table>\n",
       "</div>"
      ],
      "text/plain": [
       "               Mean    Median\n",
       "E71_R399   0.147139  0.147601\n",
       "R399_chi1  0.097074  0.056015\n",
       "V397_chi1  0.092797  0.146901\n",
       "T229_R399  0.091266  0.091049\n",
       "E71_chi3   0.046551  0.046545\n",
       "F68_chi1   0.045415  0.045675\n",
       "E71_chi2   0.044603  0.044359\n",
       "H384_chi1  0.043651  0.047092\n",
       "F86_chi2   0.042237  0.042305\n",
       "R408_chi4  0.041260  0.063360\n",
       "R408_chi2  0.037202  0.041089\n",
       "R408_chi3  0.033991  0.031686\n",
       "Y406_chi2  0.028216  0.029293\n",
       "Y401_chi2  0.027950  0.036336\n",
       "R399_chi4  0.023700  0.001787"
      ]
     },
     "execution_count": 9,
     "metadata": {},
     "output_type": "execute_result"
    }
   ],
   "source": [
    "rfeDefault = RFE(estimator=DecisionTreeRegressor(max_depth=5, random_state=42), n_features_to_select=0.75, step=0.05)\n",
    "rfDefault = RandomForestRegressor(\n",
    "    max_depth=10, n_estimators=200, oob_score=True, max_features=0.6, min_samples_leaf = 7, min_samples_split=14, random_state=42\n",
    ")\n",
    "\n",
    "pipelineDefault_rf = Pipeline([\n",
    "    ('feature_scaling', StandardScaler()),\n",
    "    ('feature_selection', rfeDefault),\n",
    "    ('regression_model', rfDefault)\n",
    "])\n",
    "\n",
    "\n",
    "imps = benchmark_model(pipelineDefault_rf, X_scl, Y, geom_dvdls_crg[\"Lambda\"])\n",
    "imps[[\"Mean\", \"Median\"]].sort_values(by=\"Mean\", ascending=False)[:15]"
   ]
  },
  {
   "cell_type": "markdown",
   "id": "abe1d4db-6376-4a02-96f1-31219e82b9cc",
   "metadata": {},
   "source": [
    "### Comparing the GaMD pmf of VH-R50...Ag-E71 distance to the TI sampling\n",
    "\n",
    "Based on the RF model indicating that the salt bridge between Ag-E71 and VH-R50 is the most important feature, we will compare the GaMD pmf profile of this distance to what was sampled during TI.\n",
    "\n",
    "If we check the GaMD profile, the main peak appears to be from 3.6 A - 4.8 A, suggesting a salt bridge. Most frames during TI do not contain this salt bridge. "
   ]
  },
  {
   "cell_type": "code",
   "execution_count": 9,
   "id": "c89029af-8c86-4113-b630-6def7e5cba8f",
   "metadata": {
    "tags": []
   },
   "outputs": [
    {
     "data": {
      "image/svg+xml": [
       "<svg class=\"main-svg\" xmlns=\"http://www.w3.org/2000/svg\" xmlns:xlink=\"http://www.w3.org/1999/xlink\" width=\"1500\" height=\"1200\" style=\"\" viewBox=\"0 0 1500 1200\"><rect x=\"0\" y=\"0\" width=\"1500\" height=\"1200\" style=\"fill: rgb(255, 255, 255); fill-opacity: 1;\"/><defs id=\"defs-405a26\"><g class=\"clips\"><clipPath id=\"clip405a26xyplot\" class=\"plotclip\"><rect width=\"1303\" height=\"1026\"/></clipPath><clipPath class=\"axesclip\" id=\"clip405a26x\"><rect x=\"160\" y=\"0\" width=\"1303\" height=\"1200\"/></clipPath><clipPath class=\"axesclip\" id=\"clip405a26y\"><rect x=\"0\" y=\"36\" width=\"1500\" height=\"1026\"/></clipPath><clipPath class=\"axesclip\" id=\"clip405a26xy\"><rect x=\"160\" y=\"36\" width=\"1303\" height=\"1026\"/></clipPath></g><g class=\"gradients\"/><g class=\"patterns\"/></defs><g class=\"bglayer\"/><g class=\"layer-below\"><g class=\"imagelayer\"/><g class=\"shapelayer\"/></g><g class=\"cartesianlayer\"><g class=\"subplot xy\"><g class=\"layer-subplot\"><g class=\"shapelayer\"/><g class=\"imagelayer\"/></g><g class=\"minor-gridlayer\"><g class=\"x\"/><g class=\"y\"/></g><g class=\"gridlayer\"><g class=\"x\"/><g class=\"y\"><path class=\"ygrid crisp\" transform=\"translate(0,856.8)\" d=\"M160,0h1303\" style=\"stroke: rgb(255, 255, 255); stroke-opacity: 1; stroke-width: 1px;\"/><path class=\"ygrid crisp\" transform=\"translate(0,651.6)\" d=\"M160,0h1303\" style=\"stroke: rgb(255, 255, 255); stroke-opacity: 1; stroke-width: 1px;\"/><path class=\"ygrid crisp\" transform=\"translate(0,446.4)\" d=\"M160,0h1303\" style=\"stroke: rgb(255, 255, 255); stroke-opacity: 1; stroke-width: 1px;\"/><path class=\"ygrid crisp\" transform=\"translate(0,241.2)\" d=\"M160,0h1303\" style=\"stroke: rgb(255, 255, 255); stroke-opacity: 1; stroke-width: 1px;\"/></g></g><g class=\"zerolinelayer\"><path class=\"yzl zl crisp\" transform=\"translate(0,1062)\" d=\"M160,0h1303\" style=\"stroke: rgb(255, 255, 255); stroke-opacity: 1; stroke-width: 2px;\"/></g><path class=\"xlines-below\"/><path class=\"ylines-below\"/><g class=\"overlines-below\"/><g class=\"xaxislayer-below\"/><g class=\"yaxislayer-below\"/><g class=\"overaxes-below\"/><g class=\"plot\" transform=\"translate(160,36)\" clip-path=\"url(#clip405a26xyplot)\"><g class=\"barlayer mlayer\"><g class=\"trace bars\" style=\"opacity: 1;\"><g class=\"points\"><g class=\"point\"><path d=\"M311.3,1026V972.22H323.73V1026Z\" style=\"vector-effect: non-scaling-stroke; opacity: 1; stroke-width: 1px; fill: rgb(237, 248, 233); fill-opacity: 1; stroke: rgb(0, 0, 0); stroke-opacity: 1;\"/></g><g class=\"point\"><path d=\"M323.73,1026V806.65H336.16V1026Z\" style=\"vector-effect: non-scaling-stroke; opacity: 1; stroke-width: 1px; fill: rgb(237, 248, 233); fill-opacity: 1; stroke: rgb(0, 0, 0); stroke-opacity: 1;\"/></g><g class=\"point\"><path d=\"M336.16,1026V411.82H348.59V1026Z\" style=\"vector-effect: non-scaling-stroke; opacity: 1; stroke-width: 1px; fill: rgb(237, 248, 233); fill-opacity: 1; stroke: rgb(0, 0, 0); stroke-opacity: 1;\"/></g><g class=\"point\"><path d=\"M348.59,1026V0H361.02V1026Z\" style=\"vector-effect: non-scaling-stroke; opacity: 1; stroke-width: 1px; fill: rgb(237, 248, 233); fill-opacity: 1; stroke: rgb(0, 0, 0); stroke-opacity: 1;\"/></g><g class=\"point\"><path d=\"M361.02,1026V48.12H373.45V1026Z\" style=\"vector-effect: non-scaling-stroke; opacity: 1; stroke-width: 1px; fill: rgb(237, 248, 233); fill-opacity: 1; stroke: rgb(0, 0, 0); stroke-opacity: 1;\"/></g><g class=\"point\"><path d=\"M373.45,1026V280.2H385.88V1026Z\" style=\"vector-effect: non-scaling-stroke; opacity: 1; stroke-width: 1px; fill: rgb(237, 248, 233); fill-opacity: 1; stroke: rgb(0, 0, 0); stroke-opacity: 1;\"/></g><g class=\"point\"><path d=\"M385.88,1026V373.61H398.31V1026Z\" style=\"vector-effect: non-scaling-stroke; opacity: 1; stroke-width: 1px; fill: rgb(237, 248, 233); fill-opacity: 1; stroke: rgb(0, 0, 0); stroke-opacity: 1;\"/></g><g class=\"point\"><path d=\"M398.31,1026V404.74H410.74V1026Z\" style=\"vector-effect: non-scaling-stroke; opacity: 1; stroke-width: 1px; fill: rgb(237, 248, 233); fill-opacity: 1; stroke: rgb(0, 0, 0); stroke-opacity: 1;\"/></g><g class=\"point\"><path d=\"M410.74,1026V358.04H423.17V1026Z\" style=\"vector-effect: non-scaling-stroke; opacity: 1; stroke-width: 1px; fill: rgb(237, 248, 233); fill-opacity: 1; stroke: rgb(0, 0, 0); stroke-opacity: 1;\"/></g><g class=\"point\"><path d=\"M423.17,1026V318.41H435.6V1026Z\" style=\"vector-effect: non-scaling-stroke; opacity: 1; stroke-width: 1px; fill: rgb(237, 248, 233); fill-opacity: 1; stroke: rgb(0, 0, 0); stroke-opacity: 1;\"/></g><g class=\"point\"><path d=\"M435.6,1026V318.41H448.02V1026Z\" style=\"vector-effect: non-scaling-stroke; opacity: 1; stroke-width: 1px; fill: rgb(237, 248, 233); fill-opacity: 1; stroke: rgb(0, 0, 0); stroke-opacity: 1;\"/></g><g class=\"point\"><path d=\"M448.02,1026V407.57H460.45V1026Z\" style=\"vector-effect: non-scaling-stroke; opacity: 1; stroke-width: 1px; fill: rgb(237, 248, 233); fill-opacity: 1; stroke: rgb(0, 0, 0); stroke-opacity: 1;\"/></g><g class=\"point\"><path d=\"M460.45,1026V512.29H472.88V1026Z\" style=\"vector-effect: non-scaling-stroke; opacity: 1; stroke-width: 1px; fill: rgb(237, 248, 233); fill-opacity: 1; stroke: rgb(0, 0, 0); stroke-opacity: 1;\"/></g><g class=\"point\"><path d=\"M472.88,1026V544.84H485.31V1026Z\" style=\"vector-effect: non-scaling-stroke; opacity: 1; stroke-width: 1px; fill: rgb(237, 248, 233); fill-opacity: 1; stroke: rgb(0, 0, 0); stroke-opacity: 1;\"/></g><g class=\"point\"><path d=\"M485.31,1026V604.28H497.74V1026Z\" style=\"vector-effect: non-scaling-stroke; opacity: 1; stroke-width: 1px; fill: rgb(237, 248, 233); fill-opacity: 1; stroke: rgb(0, 0, 0); stroke-opacity: 1;\"/></g><g class=\"point\"><path d=\"M497.74,1026V564.65H510.17V1026Z\" style=\"vector-effect: non-scaling-stroke; opacity: 1; stroke-width: 1px; fill: rgb(237, 248, 233); fill-opacity: 1; stroke: rgb(0, 0, 0); stroke-opacity: 1;\"/></g><g class=\"point\"><path d=\"M510.17,1026V601.45H522.6V1026Z\" style=\"vector-effect: non-scaling-stroke; opacity: 1; stroke-width: 1px; fill: rgb(237, 248, 233); fill-opacity: 1; stroke: rgb(0, 0, 0); stroke-opacity: 1;\"/></g><g class=\"point\"><path d=\"M522.6,1026V564.65H535.03V1026Z\" style=\"vector-effect: non-scaling-stroke; opacity: 1; stroke-width: 1px; fill: rgb(237, 248, 233); fill-opacity: 1; stroke: rgb(0, 0, 0); stroke-opacity: 1;\"/></g><g class=\"point\"><path d=\"M535.03,1026V551.92H547.46V1026Z\" style=\"vector-effect: non-scaling-stroke; opacity: 1; stroke-width: 1px; fill: rgb(237, 248, 233); fill-opacity: 1; stroke: rgb(0, 0, 0); stroke-opacity: 1;\"/></g><g class=\"point\"><path d=\"M547.46,1026V584.47H559.89V1026Z\" style=\"vector-effect: non-scaling-stroke; opacity: 1; stroke-width: 1px; fill: rgb(237, 248, 233); fill-opacity: 1; stroke: rgb(0, 0, 0); stroke-opacity: 1;\"/></g><g class=\"point\"><path d=\"M559.89,1026V642.49H572.32V1026Z\" style=\"vector-effect: non-scaling-stroke; opacity: 1; stroke-width: 1px; fill: rgb(237, 248, 233); fill-opacity: 1; stroke: rgb(0, 0, 0); stroke-opacity: 1;\"/></g><g class=\"point\"><path d=\"M572.32,1026V662.3H584.75V1026Z\" style=\"vector-effect: non-scaling-stroke; opacity: 1; stroke-width: 1px; fill: rgb(237, 248, 233); fill-opacity: 1; stroke: rgb(0, 0, 0); stroke-opacity: 1;\"/></g><g class=\"point\"><path d=\"M584.75,1026V690.6H597.18V1026Z\" style=\"vector-effect: non-scaling-stroke; opacity: 1; stroke-width: 1px; fill: rgb(237, 248, 233); fill-opacity: 1; stroke: rgb(0, 0, 0); stroke-opacity: 1;\"/></g><g class=\"point\"><path d=\"M597.18,1026V713.25H609.61V1026Z\" style=\"vector-effect: non-scaling-stroke; opacity: 1; stroke-width: 1px; fill: rgb(237, 248, 233); fill-opacity: 1; stroke: rgb(0, 0, 0); stroke-opacity: 1;\"/></g><g class=\"point\"><path d=\"M609.61,1026V748.63H622.03V1026Z\" style=\"vector-effect: non-scaling-stroke; opacity: 1; stroke-width: 1px; fill: rgb(237, 248, 233); fill-opacity: 1; stroke: rgb(0, 0, 0); stroke-opacity: 1;\"/></g><g class=\"point\"><path d=\"M622.03,1026V740.14H634.46V1026Z\" style=\"vector-effect: non-scaling-stroke; opacity: 1; stroke-width: 1px; fill: rgb(237, 248, 233); fill-opacity: 1; stroke: rgb(0, 0, 0); stroke-opacity: 1;\"/></g><g class=\"point\"><path d=\"M634.46,1026V778.34H646.89V1026Z\" style=\"vector-effect: non-scaling-stroke; opacity: 1; stroke-width: 1px; fill: rgb(237, 248, 233); fill-opacity: 1; stroke: rgb(0, 0, 0); stroke-opacity: 1;\"/></g><g class=\"point\"><path d=\"M646.89,1026V786.84H659.32V1026Z\" style=\"vector-effect: non-scaling-stroke; opacity: 1; stroke-width: 1px; fill: rgb(237, 248, 233); fill-opacity: 1; stroke: rgb(0, 0, 0); stroke-opacity: 1;\"/></g><g class=\"point\"><path d=\"M659.32,1026V800.99H671.75V1026Z\" style=\"vector-effect: non-scaling-stroke; opacity: 1; stroke-width: 1px; fill: rgb(237, 248, 233); fill-opacity: 1; stroke: rgb(0, 0, 0); stroke-opacity: 1;\"/></g><g class=\"point\"><path d=\"M671.75,1026V789.67H684.18V1026Z\" style=\"vector-effect: non-scaling-stroke; opacity: 1; stroke-width: 1px; fill: rgb(237, 248, 233); fill-opacity: 1; stroke: rgb(0, 0, 0); stroke-opacity: 1;\"/></g><g class=\"point\"><path d=\"M684.18,1026V802.4H696.61V1026Z\" style=\"vector-effect: non-scaling-stroke; opacity: 1; stroke-width: 1px; fill: rgb(237, 248, 233); fill-opacity: 1; stroke: rgb(0, 0, 0); stroke-opacity: 1;\"/></g><g class=\"point\"><path d=\"M696.61,1026V788.25H709.04V1026Z\" style=\"vector-effect: non-scaling-stroke; opacity: 1; stroke-width: 1px; fill: rgb(237, 248, 233); fill-opacity: 1; stroke: rgb(0, 0, 0); stroke-opacity: 1;\"/></g><g class=\"point\"><path d=\"M709.04,1026V833.54H721.47V1026Z\" style=\"vector-effect: non-scaling-stroke; opacity: 1; stroke-width: 1px; fill: rgb(237, 248, 233); fill-opacity: 1; stroke: rgb(0, 0, 0); stroke-opacity: 1;\"/></g><g class=\"point\"><path d=\"M721.47,1026V863.26H733.9V1026Z\" style=\"vector-effect: non-scaling-stroke; opacity: 1; stroke-width: 1px; fill: rgb(237, 248, 233); fill-opacity: 1; stroke: rgb(0, 0, 0); stroke-opacity: 1;\"/></g><g class=\"point\"><path d=\"M733.9,1026V846.27H746.33V1026Z\" style=\"vector-effect: non-scaling-stroke; opacity: 1; stroke-width: 1px; fill: rgb(237, 248, 233); fill-opacity: 1; stroke: rgb(0, 0, 0); stroke-opacity: 1;\"/></g><g class=\"point\"><path d=\"M746.33,1026V851.93H758.76V1026Z\" style=\"vector-effect: non-scaling-stroke; opacity: 1; stroke-width: 1px; fill: rgb(237, 248, 233); fill-opacity: 1; stroke: rgb(0, 0, 0); stroke-opacity: 1;\"/></g><g class=\"point\"><path d=\"M758.76,1026V867.5H771.19V1026Z\" style=\"vector-effect: non-scaling-stroke; opacity: 1; stroke-width: 1px; fill: rgb(237, 248, 233); fill-opacity: 1; stroke: rgb(0, 0, 0); stroke-opacity: 1;\"/></g><g class=\"point\"><path d=\"M771.19,1026V870.33H783.62V1026Z\" style=\"vector-effect: non-scaling-stroke; opacity: 1; stroke-width: 1px; fill: rgb(237, 248, 233); fill-opacity: 1; stroke: rgb(0, 0, 0); stroke-opacity: 1;\"/></g><g class=\"point\"><path d=\"M783.62,1026V887.31H796.05V1026Z\" style=\"vector-effect: non-scaling-stroke; opacity: 1; stroke-width: 1px; fill: rgb(237, 248, 233); fill-opacity: 1; stroke: rgb(0, 0, 0); stroke-opacity: 1;\"/></g><g class=\"point\"><path d=\"M796.05,1026V877.41H808.47V1026Z\" style=\"vector-effect: non-scaling-stroke; opacity: 1; stroke-width: 1px; fill: rgb(237, 248, 233); fill-opacity: 1; stroke: rgb(0, 0, 0); stroke-opacity: 1;\"/></g><g class=\"point\"><path d=\"M808.47,1026V914.2H820.9V1026Z\" style=\"vector-effect: non-scaling-stroke; opacity: 1; stroke-width: 1px; fill: rgb(237, 248, 233); fill-opacity: 1; stroke: rgb(0, 0, 0); stroke-opacity: 1;\"/></g><g class=\"point\"><path d=\"M820.9,1026V941.09H833.33V1026Z\" style=\"vector-effect: non-scaling-stroke; opacity: 1; stroke-width: 1px; fill: rgb(237, 248, 233); fill-opacity: 1; stroke: rgb(0, 0, 0); stroke-opacity: 1;\"/></g><g class=\"point\"><path d=\"M833.33,1026V931.18H845.76V1026Z\" style=\"vector-effect: non-scaling-stroke; opacity: 1; stroke-width: 1px; fill: rgb(237, 248, 233); fill-opacity: 1; stroke: rgb(0, 0, 0); stroke-opacity: 1;\"/></g><g class=\"point\"><path d=\"M845.76,1026V945.34H858.19V1026Z\" style=\"vector-effect: non-scaling-stroke; opacity: 1; stroke-width: 1px; fill: rgb(237, 248, 233); fill-opacity: 1; stroke: rgb(0, 0, 0); stroke-opacity: 1;\"/></g><g class=\"point\"><path d=\"M858.19,1026V952.41H870.62V1026Z\" style=\"vector-effect: non-scaling-stroke; opacity: 1; stroke-width: 1px; fill: rgb(237, 248, 233); fill-opacity: 1; stroke: rgb(0, 0, 0); stroke-opacity: 1;\"/></g><g class=\"point\"><path d=\"M870.62,1026V960.9H883.05V1026Z\" style=\"vector-effect: non-scaling-stroke; opacity: 1; stroke-width: 1px; fill: rgb(237, 248, 233); fill-opacity: 1; stroke: rgb(0, 0, 0); stroke-opacity: 1;\"/></g><g class=\"point\"><path d=\"M883.05,1026V962.32H895.48V1026Z\" style=\"vector-effect: non-scaling-stroke; opacity: 1; stroke-width: 1px; fill: rgb(237, 248, 233); fill-opacity: 1; stroke: rgb(0, 0, 0); stroke-opacity: 1;\"/></g><g class=\"point\"><path d=\"M895.48,1026V960.9H907.91V1026Z\" style=\"vector-effect: non-scaling-stroke; opacity: 1; stroke-width: 1px; fill: rgb(237, 248, 233); fill-opacity: 1; stroke: rgb(0, 0, 0); stroke-opacity: 1;\"/></g><g class=\"point\"><path d=\"M907.91,1026V987.79H920.34V1026Z\" style=\"vector-effect: non-scaling-stroke; opacity: 1; stroke-width: 1px; fill: rgb(237, 248, 233); fill-opacity: 1; stroke: rgb(0, 0, 0); stroke-opacity: 1;\"/></g><g class=\"point\"><path d=\"M920.34,1026V982.13H932.77V1026Z\" style=\"vector-effect: non-scaling-stroke; opacity: 1; stroke-width: 1px; fill: rgb(237, 248, 233); fill-opacity: 1; stroke: rgb(0, 0, 0); stroke-opacity: 1;\"/></g><g class=\"point\"><path d=\"M932.77,1026V980.71H945.2V1026Z\" style=\"vector-effect: non-scaling-stroke; opacity: 1; stroke-width: 1px; fill: rgb(237, 248, 233); fill-opacity: 1; stroke: rgb(0, 0, 0); stroke-opacity: 1;\"/></g><g class=\"point\"><path d=\"M945.2,1026V990.62H957.63V1026Z\" style=\"vector-effect: non-scaling-stroke; opacity: 1; stroke-width: 1px; fill: rgb(237, 248, 233); fill-opacity: 1; stroke: rgb(0, 0, 0); stroke-opacity: 1;\"/></g><g class=\"point\"><path d=\"M957.63,1026V992.04H970.06V1026Z\" style=\"vector-effect: non-scaling-stroke; opacity: 1; stroke-width: 1px; fill: rgb(237, 248, 233); fill-opacity: 1; stroke: rgb(0, 0, 0); stroke-opacity: 1;\"/></g><g class=\"point\"><path d=\"M970.06,1026V999.11H982.49V1026Z\" style=\"vector-effect: non-scaling-stroke; opacity: 1; stroke-width: 1px; fill: rgb(237, 248, 233); fill-opacity: 1; stroke: rgb(0, 0, 0); stroke-opacity: 1;\"/></g><g class=\"point\"><path d=\"M982.49,1026V996.28H994.91V1026Z\" style=\"vector-effect: non-scaling-stroke; opacity: 1; stroke-width: 1px; fill: rgb(237, 248, 233); fill-opacity: 1; stroke: rgb(0, 0, 0); stroke-opacity: 1;\"/></g><g class=\"point\"><path d=\"M994.91,1026V1001.94H1007.34V1026Z\" style=\"vector-effect: non-scaling-stroke; opacity: 1; stroke-width: 1px; fill: rgb(237, 248, 233); fill-opacity: 1; stroke: rgb(0, 0, 0); stroke-opacity: 1;\"/></g><g class=\"point\"><path d=\"M1007.34,1026V1006.19H1019.77V1026Z\" style=\"vector-effect: non-scaling-stroke; opacity: 1; stroke-width: 1px; fill: rgb(237, 248, 233); fill-opacity: 1; stroke: rgb(0, 0, 0); stroke-opacity: 1;\"/></g><g class=\"point\"><path d=\"M1019.77,1026V1016.09H1032.2V1026Z\" style=\"vector-effect: non-scaling-stroke; opacity: 1; stroke-width: 1px; fill: rgb(237, 248, 233); fill-opacity: 1; stroke: rgb(0, 0, 0); stroke-opacity: 1;\"/></g><g class=\"point\"><path d=\"M1032.2,1026V1010.43H1044.63V1026Z\" style=\"vector-effect: non-scaling-stroke; opacity: 1; stroke-width: 1px; fill: rgb(237, 248, 233); fill-opacity: 1; stroke: rgb(0, 0, 0); stroke-opacity: 1;\"/></g><g class=\"point\"><path d=\"M1044.63,1026V1010.43H1057.06V1026Z\" style=\"vector-effect: non-scaling-stroke; opacity: 1; stroke-width: 1px; fill: rgb(237, 248, 233); fill-opacity: 1; stroke: rgb(0, 0, 0); stroke-opacity: 1;\"/></g><g class=\"point\"><path d=\"M1057.06,1026V1016.09H1069.49V1026Z\" style=\"vector-effect: non-scaling-stroke; opacity: 1; stroke-width: 1px; fill: rgb(237, 248, 233); fill-opacity: 1; stroke: rgb(0, 0, 0); stroke-opacity: 1;\"/></g><g class=\"point\"><path d=\"M1069.49,1026V1017.51H1081.92V1026Z\" style=\"vector-effect: non-scaling-stroke; opacity: 1; stroke-width: 1px; fill: rgb(237, 248, 233); fill-opacity: 1; stroke: rgb(0, 0, 0); stroke-opacity: 1;\"/></g><g class=\"point\"><path d=\"M1081.92,1026V1024.58H1094.35V1026Z\" style=\"vector-effect: non-scaling-stroke; opacity: 1; stroke-width: 1px; fill: rgb(237, 248, 233); fill-opacity: 1; stroke: rgb(0, 0, 0); stroke-opacity: 1;\"/></g><g class=\"point\"><path d=\"M1094.35,1026V1026H1106.78V1026Z\" style=\"vector-effect: non-scaling-stroke; opacity: 1; stroke-width: 1px; fill: rgb(237, 248, 233); fill-opacity: 1; stroke: rgb(0, 0, 0); stroke-opacity: 1;\"/></g><g class=\"point\"><path d=\"M1106.78,1026V1020.34H1119.21V1026Z\" style=\"vector-effect: non-scaling-stroke; opacity: 1; stroke-width: 1px; fill: rgb(237, 248, 233); fill-opacity: 1; stroke: rgb(0, 0, 0); stroke-opacity: 1;\"/></g><g class=\"point\"><path d=\"M1119.21,1026V1020.34H1131.64V1026Z\" style=\"vector-effect: non-scaling-stroke; opacity: 1; stroke-width: 1px; fill: rgb(237, 248, 233); fill-opacity: 1; stroke: rgb(0, 0, 0); stroke-opacity: 1;\"/></g><g class=\"point\"><path d=\"M1131.64,1026V1026H1144.07V1026Z\" style=\"vector-effect: non-scaling-stroke; opacity: 1; stroke-width: 1px; fill: rgb(237, 248, 233); fill-opacity: 1; stroke: rgb(0, 0, 0); stroke-opacity: 1;\"/></g><g class=\"point\"><path d=\"M1144.07,1026V1026H1156.5V1026Z\" style=\"vector-effect: non-scaling-stroke; opacity: 1; stroke-width: 1px; fill: rgb(237, 248, 233); fill-opacity: 1; stroke: rgb(0, 0, 0); stroke-opacity: 1;\"/></g><g class=\"point\"><path d=\"M1156.5,1026V1024.58H1168.92V1026Z\" style=\"vector-effect: non-scaling-stroke; opacity: 1; stroke-width: 1px; fill: rgb(237, 248, 233); fill-opacity: 1; stroke: rgb(0, 0, 0); stroke-opacity: 1;\"/></g><g class=\"point\"><path d=\"M1168.92,1026V1026H1181.35V1026Z\" style=\"vector-effect: non-scaling-stroke; opacity: 1; stroke-width: 1px; fill: rgb(237, 248, 233); fill-opacity: 1; stroke: rgb(0, 0, 0); stroke-opacity: 1;\"/></g><g class=\"point\"><path d=\"M1181.35,1026V1026H1193.78V1026Z\" style=\"vector-effect: non-scaling-stroke; opacity: 1; stroke-width: 1px; fill: rgb(237, 248, 233); fill-opacity: 1; stroke: rgb(0, 0, 0); stroke-opacity: 1;\"/></g><g class=\"point\"><path d=\"M1193.78,1026V1026H1206.21V1026Z\" style=\"vector-effect: non-scaling-stroke; opacity: 1; stroke-width: 1px; fill: rgb(237, 248, 233); fill-opacity: 1; stroke: rgb(0, 0, 0); stroke-opacity: 1;\"/></g><g class=\"point\"><path d=\"M1206.21,1026V1026H1218.64V1026Z\" style=\"vector-effect: non-scaling-stroke; opacity: 1; stroke-width: 1px; fill: rgb(237, 248, 233); fill-opacity: 1; stroke: rgb(0, 0, 0); stroke-opacity: 1;\"/></g><g class=\"point\"><path d=\"M1218.64,1026V1026H1231.07V1026Z\" style=\"vector-effect: non-scaling-stroke; opacity: 1; stroke-width: 1px; fill: rgb(237, 248, 233); fill-opacity: 1; stroke: rgb(0, 0, 0); stroke-opacity: 1;\"/></g><g class=\"point\"><path d=\"M1231.07,1026V1024.58H1243.5V1026Z\" style=\"vector-effect: non-scaling-stroke; opacity: 1; stroke-width: 1px; fill: rgb(237, 248, 233); fill-opacity: 1; stroke: rgb(0, 0, 0); stroke-opacity: 1;\"/></g></g></g></g><g class=\"scatterlayer mlayer\"><g class=\"trace scatter traceac45da\" style=\"stroke-miterlimit: 2; opacity: 1;\"><g class=\"fills\"/><g class=\"errorbars\"/><g class=\"lines\"><path class=\"js-line\" d=\"M0,1026L293.18,1026L301.32,749.51L317.61,0L325.75,90.72L333.89,348.21L342.04,564.9L350.18,703.31L358.33,813.47L366.47,828.69L374.61,855.88L382.76,1026L390.9,1026L553.78,1026L561.92,1004.58L570.06,1006.57L578.21,1026L2027.79,1026\" style=\"vector-effect: non-scaling-stroke; fill: none; stroke: rgb(0, 109, 44); stroke-opacity: 1; stroke-width: 4px; opacity: 1;\"/></g><g class=\"points\"/><g class=\"text\"/></g></g></g><g class=\"overplot\"/><path class=\"xlines-above crisp\" d=\"M158,1063H1463\" style=\"fill: none; stroke-width: 2px; stroke: rgb(0, 0, 0); stroke-opacity: 1;\"/><path class=\"ylines-above crisp\" d=\"M159,36V1062\" style=\"fill: none; stroke-width: 2px; stroke: rgb(0, 0, 0); stroke-opacity: 1;\"/><g class=\"overlines-above\"/><g class=\"xaxislayer-above\"><path class=\"xtick ticks crisp\" d=\"M0,1064v10\" transform=\"translate(160,0)\" style=\"stroke: rgb(68, 68, 68); stroke-opacity: 1; stroke-width: 2px;\"/><path class=\"xtick ticks crisp\" d=\"M0,1064v10\" transform=\"translate(241.44,0)\" style=\"stroke: rgb(68, 68, 68); stroke-opacity: 1; stroke-width: 2px;\"/><path class=\"xtick ticks crisp\" d=\"M0,1064v10\" transform=\"translate(322.88,0)\" style=\"stroke: rgb(68, 68, 68); stroke-opacity: 1; stroke-width: 2px;\"/><path class=\"xtick ticks crisp\" d=\"M0,1064v10\" transform=\"translate(404.31,0)\" style=\"stroke: rgb(68, 68, 68); stroke-opacity: 1; stroke-width: 2px;\"/><path class=\"xtick ticks crisp\" d=\"M0,1064v10\" transform=\"translate(485.75,0)\" style=\"stroke: rgb(68, 68, 68); stroke-opacity: 1; stroke-width: 2px;\"/><path class=\"xtick ticks crisp\" d=\"M0,1064v10\" transform=\"translate(567.19,0)\" style=\"stroke: rgb(68, 68, 68); stroke-opacity: 1; stroke-width: 2px;\"/><path class=\"xtick ticks crisp\" d=\"M0,1064v10\" transform=\"translate(648.63,0)\" style=\"stroke: rgb(68, 68, 68); stroke-opacity: 1; stroke-width: 2px;\"/><path class=\"xtick ticks crisp\" d=\"M0,1064v10\" transform=\"translate(730.06,0)\" style=\"stroke: rgb(68, 68, 68); stroke-opacity: 1; stroke-width: 2px;\"/><path class=\"xtick ticks crisp\" d=\"M0,1064v10\" transform=\"translate(811.5,0)\" style=\"stroke: rgb(68, 68, 68); stroke-opacity: 1; stroke-width: 2px;\"/><path class=\"xtick ticks crisp\" d=\"M0,1064v10\" transform=\"translate(892.94,0)\" style=\"stroke: rgb(68, 68, 68); stroke-opacity: 1; stroke-width: 2px;\"/><path class=\"xtick ticks crisp\" d=\"M0,1064v10\" transform=\"translate(974.38,0)\" style=\"stroke: rgb(68, 68, 68); stroke-opacity: 1; stroke-width: 2px;\"/><path class=\"xtick ticks crisp\" d=\"M0,1064v10\" transform=\"translate(1055.81,0)\" style=\"stroke: rgb(68, 68, 68); stroke-opacity: 1; stroke-width: 2px;\"/><path class=\"xtick ticks crisp\" d=\"M0,1064v10\" transform=\"translate(1137.25,0)\" style=\"stroke: rgb(68, 68, 68); stroke-opacity: 1; stroke-width: 2px;\"/><path class=\"xtick ticks crisp\" d=\"M0,1064v10\" transform=\"translate(1218.69,0)\" style=\"stroke: rgb(68, 68, 68); stroke-opacity: 1; stroke-width: 2px;\"/><path class=\"xtick ticks crisp\" d=\"M0,1064v10\" transform=\"translate(1300.13,0)\" style=\"stroke: rgb(68, 68, 68); stroke-opacity: 1; stroke-width: 2px;\"/><path class=\"xtick ticks crisp\" d=\"M0,1064v10\" transform=\"translate(1381.56,0)\" style=\"stroke: rgb(68, 68, 68); stroke-opacity: 1; stroke-width: 2px;\"/><path class=\"xtick ticks crisp\" d=\"M0,1064v10\" transform=\"translate(1463,0)\" style=\"stroke: rgb(68, 68, 68); stroke-opacity: 1; stroke-width: 2px;\"/><g class=\"xtick\"><text text-anchor=\"middle\" x=\"0\" y=\"1131.6\" transform=\"translate(160,0)\" style=\"font-family: Arial; font-size: 48px; fill: rgb(0, 0, 0); fill-opacity: 1; white-space: pre; opacity: 1;\">0</text></g><g class=\"xtick\"><text text-anchor=\"middle\" x=\"0\" y=\"1131.6\" style=\"font-family: Arial; font-size: 48px; fill: rgb(0, 0, 0); fill-opacity: 1; white-space: pre; opacity: 1;\" transform=\"translate(241.44,0)\">1</text></g><g class=\"xtick\"><text text-anchor=\"middle\" x=\"0\" y=\"1131.6\" style=\"font-family: Arial; font-size: 48px; fill: rgb(0, 0, 0); fill-opacity: 1; white-space: pre; opacity: 1;\" transform=\"translate(322.88,0)\">2</text></g><g class=\"xtick\"><text text-anchor=\"middle\" x=\"0\" y=\"1131.6\" style=\"font-family: Arial; font-size: 48px; fill: rgb(0, 0, 0); fill-opacity: 1; white-space: pre; opacity: 1;\" transform=\"translate(404.31,0)\">3</text></g><g class=\"xtick\"><text text-anchor=\"middle\" x=\"0\" y=\"1131.6\" style=\"font-family: Arial; font-size: 48px; fill: rgb(0, 0, 0); fill-opacity: 1; white-space: pre; opacity: 1;\" transform=\"translate(485.75,0)\">4</text></g><g class=\"xtick\"><text text-anchor=\"middle\" x=\"0\" y=\"1131.6\" style=\"font-family: Arial; font-size: 48px; fill: rgb(0, 0, 0); fill-opacity: 1; white-space: pre; opacity: 1;\" transform=\"translate(567.19,0)\">5</text></g><g class=\"xtick\"><text text-anchor=\"middle\" x=\"0\" y=\"1131.6\" style=\"font-family: Arial; font-size: 48px; fill: rgb(0, 0, 0); fill-opacity: 1; white-space: pre; opacity: 1;\" transform=\"translate(648.63,0)\">6</text></g><g class=\"xtick\"><text text-anchor=\"middle\" x=\"0\" y=\"1131.6\" style=\"font-family: Arial; font-size: 48px; fill: rgb(0, 0, 0); fill-opacity: 1; white-space: pre; opacity: 1;\" transform=\"translate(730.06,0)\">7</text></g><g class=\"xtick\"><text text-anchor=\"middle\" x=\"0\" y=\"1131.6\" style=\"font-family: Arial; font-size: 48px; fill: rgb(0, 0, 0); fill-opacity: 1; white-space: pre; opacity: 1;\" transform=\"translate(811.5,0)\">8</text></g><g class=\"xtick\"><text text-anchor=\"middle\" x=\"0\" y=\"1131.6\" style=\"font-family: Arial; font-size: 48px; fill: rgb(0, 0, 0); fill-opacity: 1; white-space: pre; opacity: 1;\" transform=\"translate(892.94,0)\">9</text></g><g class=\"xtick\"><text text-anchor=\"middle\" x=\"0\" y=\"1131.6\" style=\"font-family: Arial; font-size: 48px; fill: rgb(0, 0, 0); fill-opacity: 1; white-space: pre; opacity: 1;\" transform=\"translate(974.38,0)\">10</text></g><g class=\"xtick\"><text text-anchor=\"middle\" x=\"0\" y=\"1131.6\" style=\"font-family: Arial; font-size: 48px; fill: rgb(0, 0, 0); fill-opacity: 1; white-space: pre; opacity: 1;\" transform=\"translate(1055.81,0)\">11</text></g><g class=\"xtick\"><text text-anchor=\"middle\" x=\"0\" y=\"1131.6\" style=\"font-family: Arial; font-size: 48px; fill: rgb(0, 0, 0); fill-opacity: 1; white-space: pre; opacity: 1;\" transform=\"translate(1137.25,0)\">12</text></g><g class=\"xtick\"><text text-anchor=\"middle\" x=\"0\" y=\"1131.6\" style=\"font-family: Arial; font-size: 48px; fill: rgb(0, 0, 0); fill-opacity: 1; white-space: pre; opacity: 1;\" transform=\"translate(1218.69,0)\">13</text></g><g class=\"xtick\"><text text-anchor=\"middle\" x=\"0\" y=\"1131.6\" style=\"font-family: Arial; font-size: 48px; fill: rgb(0, 0, 0); fill-opacity: 1; white-space: pre; opacity: 1;\" transform=\"translate(1300.13,0)\">14</text></g><g class=\"xtick\"><text text-anchor=\"middle\" x=\"0\" y=\"1131.6\" style=\"font-family: Arial; font-size: 48px; fill: rgb(0, 0, 0); fill-opacity: 1; white-space: pre; opacity: 1;\" transform=\"translate(1381.56,0)\">15</text></g><g class=\"xtick\"><text text-anchor=\"middle\" x=\"0\" y=\"1131.6\" style=\"font-family: Arial; font-size: 48px; fill: rgb(0, 0, 0); fill-opacity: 1; white-space: pre; opacity: 1;\" transform=\"translate(1463,0)\">16</text></g></g><g class=\"yaxislayer-above\"><path class=\"ytick ticks crisp\" d=\"M158,0h-10\" transform=\"translate(0,1062)\" style=\"stroke: rgb(68, 68, 68); stroke-opacity: 1; stroke-width: 2px;\"/><path class=\"ytick ticks crisp\" d=\"M158,0h-10\" transform=\"translate(0,856.8)\" style=\"stroke: rgb(68, 68, 68); stroke-opacity: 1; stroke-width: 2px;\"/><path class=\"ytick ticks crisp\" d=\"M158,0h-10\" transform=\"translate(0,651.6)\" style=\"stroke: rgb(68, 68, 68); stroke-opacity: 1; stroke-width: 2px;\"/><path class=\"ytick ticks crisp\" d=\"M158,0h-10\" transform=\"translate(0,446.4)\" style=\"stroke: rgb(68, 68, 68); stroke-opacity: 1; stroke-width: 2px;\"/><path class=\"ytick ticks crisp\" d=\"M158,0h-10\" transform=\"translate(0,241.2)\" style=\"stroke: rgb(68, 68, 68); stroke-opacity: 1; stroke-width: 2px;\"/><path class=\"ytick ticks crisp\" d=\"M158,0h-10\" transform=\"translate(0,36)\" style=\"stroke: rgb(68, 68, 68); stroke-opacity: 1; stroke-width: 2px;\"/><g class=\"ytick\"><text text-anchor=\"end\" x=\"138.4\" y=\"16.799999999999997\" transform=\"translate(0,1062)\" style=\"font-family: Arial; font-size: 48px; fill: rgb(0, 0, 0); fill-opacity: 1; white-space: pre; opacity: 1;\">0</text></g><g class=\"ytick\"><text text-anchor=\"end\" x=\"138.4\" y=\"16.799999999999997\" style=\"font-family: Arial; font-size: 48px; fill: rgb(0, 0, 0); fill-opacity: 1; white-space: pre; opacity: 1;\" transform=\"translate(0,856.8)\">20</text></g><g class=\"ytick\"><text text-anchor=\"end\" x=\"138.4\" y=\"16.799999999999997\" style=\"font-family: Arial; font-size: 48px; fill: rgb(0, 0, 0); fill-opacity: 1; white-space: pre; opacity: 1;\" transform=\"translate(0,651.6)\">40</text></g><g class=\"ytick\"><text text-anchor=\"end\" x=\"138.4\" y=\"16.799999999999997\" style=\"font-family: Arial; font-size: 48px; fill: rgb(0, 0, 0); fill-opacity: 1; white-space: pre; opacity: 1;\" transform=\"translate(0,446.4)\">60</text></g><g class=\"ytick\"><text text-anchor=\"end\" x=\"138.4\" y=\"16.799999999999997\" style=\"font-family: Arial; font-size: 48px; fill: rgb(0, 0, 0); fill-opacity: 1; white-space: pre; opacity: 1;\" transform=\"translate(0,241.2)\">80</text></g><g class=\"ytick\"><text text-anchor=\"end\" x=\"138.4\" y=\"16.799999999999997\" style=\"font-family: Arial; font-size: 48px; fill: rgb(0, 0, 0); fill-opacity: 1; white-space: pre; opacity: 1;\" transform=\"translate(0,36)\">100</text></g></g><g class=\"overaxes-above\"/></g></g><g class=\"polarlayer\"/><g class=\"smithlayer\"/><g class=\"ternarylayer\"/><g class=\"geolayer\"/><g class=\"funnelarealayer\"/><g class=\"pielayer\"/><g class=\"iciclelayer\"/><g class=\"treemaplayer\"/><g class=\"sunburstlayer\"/><g class=\"glimages\"/><defs id=\"topdefs-405a26\"><g class=\"clips\"/><clipPath id=\"legend405a26\"><rect width=\"622\" height=\"141\" x=\"1\" y=\"1\"/></clipPath></defs><g class=\"layer-above\"><g class=\"imagelayer\"/><g class=\"shapelayer\"/></g><g class=\"infolayer\"><g class=\"legend\" pointer-events=\"all\" transform=\"translate(811.5,36)\"><rect class=\"bg\" shape-rendering=\"crispEdges\" style=\"stroke: rgb(0, 0, 0); stroke-opacity: 1; fill: rgb(255, 255, 255); fill-opacity: 1; stroke-width: 1px;\" width=\"623\" height=\"142\" x=\"0.5\" y=\"0.5\"/><g class=\"scrollbox\" transform=\"\" clip-path=\"url(#legend405a26)\"><g class=\"groups\"><g class=\"traces\" transform=\"translate(1,38.7)\" style=\"opacity: 1;\"><text class=\"legendtext\" text-anchor=\"start\" x=\"40\" y=\"18.720000000000002\" style=\"font-family: Arial; font-size: 48px; fill: rgb(0, 0, 0); fill-opacity: 1; white-space: pre;\">-exp(GaMD PMF)</text><g class=\"layers\" style=\"opacity: 1;\"><g class=\"legendfill\"/><g class=\"legendlines\"><path class=\"js-line\" d=\"M5,0h30\" style=\"fill: none; stroke: rgb(0, 109, 44); stroke-opacity: 1; stroke-width: 4px;\"/></g><g class=\"legendsymbols\"><g class=\"legendpoints\"/></g></g><rect class=\"legendtoggle\" x=\"0\" y=\"-32.7\" width=\"616.234375\" height=\"65.4\" style=\"fill: rgb(0, 0, 0); fill-opacity: 0;\"/></g><g class=\"traces\" transform=\"translate(1,104.10000000000001)\" style=\"opacity: 1;\"><text class=\"legendtext\" text-anchor=\"start\" x=\"40\" y=\"18.720000000000002\" style=\"font-family: Arial; font-size: 48px; fill: rgb(0, 0, 0); fill-opacity: 1; white-space: pre;\">TI Lambda Prod Histogram</text><g class=\"layers\" style=\"opacity: 1;\"><g class=\"legendfill\"/><g class=\"legendlines\"/><g class=\"legendsymbols\"><g class=\"legendpoints\"><path class=\"legendundefined\" d=\"M6,6H-6V-6H6Z\" transform=\"translate(20,0)\" style=\"stroke-width: 1px; fill: rgb(237, 248, 233); fill-opacity: 1; stroke: rgb(0, 0, 0); stroke-opacity: 1;\"/></g></g></g><rect class=\"legendtoggle\" x=\"0\" y=\"-32.7\" width=\"616.234375\" height=\"65.4\" style=\"fill: rgb(0, 0, 0); fill-opacity: 0;\"/></g></g></g><rect class=\"scrollbar\" rx=\"20\" ry=\"3\" width=\"0\" height=\"0\" style=\"fill: rgb(128, 139, 164); fill-opacity: 1;\" x=\"0\" y=\"0\"/></g><g class=\"g-gtitle\"/><g class=\"g-xtitle\" transform=\"translate(0,-1.209374999999909)\"><text class=\"xtitle\" x=\"811.5\" y=\"1190.209375\" text-anchor=\"middle\" style=\"font-family: Arial; font-size: 48px; fill: rgb(0, 0, 0); opacity: 1; font-weight: normal; white-space: pre;\"><tspan style=\"font-weight:bold\">Ag-E71:VH-R50 salt bridge distance (Å)</tspan></text></g><g class=\"g-ytitle\" transform=\"translate(33.287109375,0)\"><text class=\"ytitle\" transform=\"rotate(-90,9.712500000000006,549)\" x=\"9.712500000000006\" y=\"549\" text-anchor=\"middle\" style=\"font-family: Arial; font-size: 48px; fill: rgb(0, 0, 0); opacity: 1; font-weight: normal; white-space: pre;\"><tspan style=\"font-weight:bold\">Relative Abundance</tspan></text></g></g></svg>"
      ]
     },
     "metadata": {},
     "output_type": "display_data"
    }
   ],
   "source": [
    "os.chdir(\"../../gamd_pmfs/VH-R50A\")\n",
    "E71_R399 = get_pmf(\n",
    "    \"pmf-c2-E71_R399_conv_300ns.dat.xvg\"\n",
    ")\n",
    "\n",
    "pio.renderers.default=\"jupyterlab\"\n",
    "fig = plot_pmf_TI_1D_fig(E71_R399, geom_dvdls_crg, \"E71_R399\", scaler=100, bins=75).update_layout(\n",
    "    width=1500,\n",
    "    height=1200,\n",
    "    barmode=\"overlay\",\n",
    "    paper_bgcolor=\"white\",\n",
    "    plot_bgcolor=\"white\",\n",
    "    margin=dict(l=10, r=10, t=10, b=10),\n",
    "    legend=dict(\n",
    "        font=dict(size=48, color=\"black\", family=\"Arial\"),\n",
    "        bordercolor=\"black\",\n",
    "        borderwidth=1,\n",
    "        x=0.5, y=1\n",
    "    )\n",
    ").update_xaxes(\n",
    "    range=[0,16],\n",
    "    showline=True,\n",
    "    linewidth=2,\n",
    "    linecolor=\"black\",\n",
    "    dtick=1.0,\n",
    "    ticks=\"outside\", ticklen=10, tickwidth=2,\n",
    "    tickfont=dict(size=48, color=\"black\", family=\"Arial\"),\n",
    "    title=dict(\n",
    "        text=\"<b>Ag-E71:VH-R50 salt bridge distance (Å)</b>\" ,\n",
    "        font=dict(family=\"Arial\", size=48, color=\"black\")\n",
    "    )\n",
    ").update_yaxes(\n",
    "    range=[0, 100],\n",
    "    linewidth=2,\n",
    "    linecolor=\"black\",\n",
    "    tickfont=dict(size=48, color=\"black\", family=\"Arial\"),\n",
    "    ticks=\"outside\", ticklen=10, tickwidth=2,\n",
    "    title=dict(\n",
    "        text=\"<b>Relative Abundance</b>\",\n",
    "        font=dict(family=\"Arial\", size=48, color=\"black\")\n",
    "    )\n",
    ")\n",
    "fig.show(renderer=\"svg\")\n",
    "\n",
    "# os.chdir(\"/gstore/scratch/u/sastrys1/thermo-integration/paper_notebooks/\")\n",
    "# fig.write_image(\"orig_r50_sb.png\", width=1500, height=1200)"
   ]
  },
  {
   "cell_type": "markdown",
   "id": "5d1efca3-b5c7-491a-abb6-46cf569c45c2",
   "metadata": {},
   "source": [
    "### Filtering-based TI correction\n",
    "\n",
    "As a possible way to mitigate this incorrect sampling by TI, we filter the TI sampling only to frames in which the charged end state retains the salt bridge. Almost zero frames have interatomic distance between 3.6 A and 4.5 A (the main part of the GaMD pmf). "
   ]
  },
  {
   "cell_type": "code",
   "execution_count": 10,
   "id": "c9fcc7bb-3a93-4ebe-91e6-3bd4fba92712",
   "metadata": {
    "tags": []
   },
   "outputs": [
    {
     "data": {
      "image/svg+xml": [
       "<svg class=\"main-svg\" xmlns=\"http://www.w3.org/2000/svg\" xmlns:xlink=\"http://www.w3.org/1999/xlink\" width=\"1500\" height=\"1200\" style=\"\" viewBox=\"0 0 1500 1200\"><rect x=\"0\" y=\"0\" width=\"1500\" height=\"1200\" style=\"fill: rgb(255, 255, 255); fill-opacity: 1;\"/><defs id=\"defs-435919\"><g class=\"clips\"><clipPath id=\"clip435919xyplot\" class=\"plotclip\"><rect width=\"1303\" height=\"1026\"/></clipPath><clipPath class=\"axesclip\" id=\"clip435919x\"><rect x=\"160\" y=\"0\" width=\"1303\" height=\"1200\"/></clipPath><clipPath class=\"axesclip\" id=\"clip435919y\"><rect x=\"0\" y=\"36\" width=\"1500\" height=\"1026\"/></clipPath><clipPath class=\"axesclip\" id=\"clip435919xy\"><rect x=\"160\" y=\"36\" width=\"1303\" height=\"1026\"/></clipPath></g><g class=\"gradients\"/><g class=\"patterns\"/></defs><g class=\"bglayer\"/><g class=\"layer-below\"><g class=\"imagelayer\"/><g class=\"shapelayer\"/></g><g class=\"cartesianlayer\"><g class=\"subplot xy\"><g class=\"layer-subplot\"><g class=\"shapelayer\"/><g class=\"imagelayer\"/></g><g class=\"minor-gridlayer\"><g class=\"x\"/><g class=\"y\"/></g><g class=\"gridlayer\"><g class=\"x\"/><g class=\"y\"><path class=\"ygrid crisp\" transform=\"translate(0,856.8)\" d=\"M160,0h1303\" style=\"stroke: rgb(255, 255, 255); stroke-opacity: 1; stroke-width: 1px;\"/><path class=\"ygrid crisp\" transform=\"translate(0,651.6)\" d=\"M160,0h1303\" style=\"stroke: rgb(255, 255, 255); stroke-opacity: 1; stroke-width: 1px;\"/><path class=\"ygrid crisp\" transform=\"translate(0,446.4)\" d=\"M160,0h1303\" style=\"stroke: rgb(255, 255, 255); stroke-opacity: 1; stroke-width: 1px;\"/><path class=\"ygrid crisp\" transform=\"translate(0,241.2)\" d=\"M160,0h1303\" style=\"stroke: rgb(255, 255, 255); stroke-opacity: 1; stroke-width: 1px;\"/></g></g><g class=\"zerolinelayer\"><path class=\"yzl zl crisp\" transform=\"translate(0,1062)\" d=\"M160,0h1303\" style=\"stroke: rgb(255, 255, 255); stroke-opacity: 1; stroke-width: 2px;\"/></g><path class=\"xlines-below\"/><path class=\"ylines-below\"/><g class=\"overlines-below\"/><g class=\"xaxislayer-below\"/><g class=\"yaxislayer-below\"/><g class=\"overaxes-below\"/><g class=\"plot\" transform=\"translate(160,36)\" clip-path=\"url(#clip435919xyplot)\"><g class=\"barlayer mlayer\"><g class=\"trace bars\" style=\"opacity: 1;\"><g class=\"points\"><g class=\"point\"><path d=\"M313.44,1026V986.54H321.6V1026Z\" style=\"vector-effect: non-scaling-stroke; opacity: 1; stroke-width: 1px; fill: rgb(237, 248, 233); fill-opacity: 1; stroke: rgb(0, 0, 0); stroke-opacity: 1;\"/></g><g class=\"point\"><path d=\"M321.6,1026V912H329.75V1026Z\" style=\"vector-effect: non-scaling-stroke; opacity: 1; stroke-width: 1px; fill: rgb(237, 248, 233); fill-opacity: 1; stroke: rgb(0, 0, 0); stroke-opacity: 1;\"/></g><g class=\"point\"><path d=\"M329.75,1026V773.88H337.91V1026Z\" style=\"vector-effect: non-scaling-stroke; opacity: 1; stroke-width: 1px; fill: rgb(237, 248, 233); fill-opacity: 1; stroke: rgb(0, 0, 0); stroke-opacity: 1;\"/></g><g class=\"point\"><path d=\"M337.91,1026V495.46H346.07V1026Z\" style=\"vector-effect: non-scaling-stroke; opacity: 1; stroke-width: 1px; fill: rgb(237, 248, 233); fill-opacity: 1; stroke: rgb(0, 0, 0); stroke-opacity: 1;\"/></g><g class=\"point\"><path d=\"M346.07,1026V133.73H354.22V1026Z\" style=\"vector-effect: non-scaling-stroke; opacity: 1; stroke-width: 1px; fill: rgb(237, 248, 233); fill-opacity: 1; stroke: rgb(0, 0, 0); stroke-opacity: 1;\"/></g><g class=\"point\"><path d=\"M354.22,1026V0H362.38V1026Z\" style=\"vector-effect: non-scaling-stroke; opacity: 1; stroke-width: 1px; fill: rgb(237, 248, 233); fill-opacity: 1; stroke: rgb(0, 0, 0); stroke-opacity: 1;\"/></g></g></g></g><g class=\"scatterlayer mlayer\"><g class=\"trace scatter trace324af1\" style=\"stroke-miterlimit: 2; opacity: 1;\"><g class=\"fills\"/><g class=\"errorbars\"/><g class=\"lines\"><path class=\"js-line\" d=\"M0,1026L293.18,1026L301.32,749.51L317.61,0L325.75,90.72L333.89,348.21L342.04,564.9L350.18,703.31L358.33,813.47L366.47,828.69L374.61,855.88L382.76,1026L390.9,1026L553.78,1026L561.92,1004.58L570.06,1006.57L578.21,1026L2027.79,1026\" style=\"vector-effect: non-scaling-stroke; fill: none; stroke: rgb(0, 109, 44); stroke-opacity: 1; stroke-width: 4px; opacity: 1;\"/></g><g class=\"points\"/><g class=\"text\"/></g></g></g><g class=\"overplot\"/><path class=\"xlines-above crisp\" d=\"M158,1063H1463\" style=\"fill: none; stroke-width: 2px; stroke: rgb(0, 0, 0); stroke-opacity: 1;\"/><path class=\"ylines-above crisp\" d=\"M159,36V1062\" style=\"fill: none; stroke-width: 2px; stroke: rgb(0, 0, 0); stroke-opacity: 1;\"/><g class=\"overlines-above\"/><g class=\"xaxislayer-above\"><path class=\"xtick ticks crisp\" d=\"M0,1064v10\" transform=\"translate(160,0)\" style=\"stroke: rgb(68, 68, 68); stroke-opacity: 1; stroke-width: 2px;\"/><path class=\"xtick ticks crisp\" d=\"M0,1064v10\" transform=\"translate(241.44,0)\" style=\"stroke: rgb(68, 68, 68); stroke-opacity: 1; stroke-width: 2px;\"/><path class=\"xtick ticks crisp\" d=\"M0,1064v10\" transform=\"translate(322.88,0)\" style=\"stroke: rgb(68, 68, 68); stroke-opacity: 1; stroke-width: 2px;\"/><path class=\"xtick ticks crisp\" d=\"M0,1064v10\" transform=\"translate(404.31,0)\" style=\"stroke: rgb(68, 68, 68); stroke-opacity: 1; stroke-width: 2px;\"/><path class=\"xtick ticks crisp\" d=\"M0,1064v10\" transform=\"translate(485.75,0)\" style=\"stroke: rgb(68, 68, 68); stroke-opacity: 1; stroke-width: 2px;\"/><path class=\"xtick ticks crisp\" d=\"M0,1064v10\" transform=\"translate(567.19,0)\" style=\"stroke: rgb(68, 68, 68); stroke-opacity: 1; stroke-width: 2px;\"/><path class=\"xtick ticks crisp\" d=\"M0,1064v10\" transform=\"translate(648.63,0)\" style=\"stroke: rgb(68, 68, 68); stroke-opacity: 1; stroke-width: 2px;\"/><path class=\"xtick ticks crisp\" d=\"M0,1064v10\" transform=\"translate(730.06,0)\" style=\"stroke: rgb(68, 68, 68); stroke-opacity: 1; stroke-width: 2px;\"/><path class=\"xtick ticks crisp\" d=\"M0,1064v10\" transform=\"translate(811.5,0)\" style=\"stroke: rgb(68, 68, 68); stroke-opacity: 1; stroke-width: 2px;\"/><path class=\"xtick ticks crisp\" d=\"M0,1064v10\" transform=\"translate(892.94,0)\" style=\"stroke: rgb(68, 68, 68); stroke-opacity: 1; stroke-width: 2px;\"/><path class=\"xtick ticks crisp\" d=\"M0,1064v10\" transform=\"translate(974.38,0)\" style=\"stroke: rgb(68, 68, 68); stroke-opacity: 1; stroke-width: 2px;\"/><path class=\"xtick ticks crisp\" d=\"M0,1064v10\" transform=\"translate(1055.81,0)\" style=\"stroke: rgb(68, 68, 68); stroke-opacity: 1; stroke-width: 2px;\"/><path class=\"xtick ticks crisp\" d=\"M0,1064v10\" transform=\"translate(1137.25,0)\" style=\"stroke: rgb(68, 68, 68); stroke-opacity: 1; stroke-width: 2px;\"/><path class=\"xtick ticks crisp\" d=\"M0,1064v10\" transform=\"translate(1218.69,0)\" style=\"stroke: rgb(68, 68, 68); stroke-opacity: 1; stroke-width: 2px;\"/><path class=\"xtick ticks crisp\" d=\"M0,1064v10\" transform=\"translate(1300.13,0)\" style=\"stroke: rgb(68, 68, 68); stroke-opacity: 1; stroke-width: 2px;\"/><path class=\"xtick ticks crisp\" d=\"M0,1064v10\" transform=\"translate(1381.56,0)\" style=\"stroke: rgb(68, 68, 68); stroke-opacity: 1; stroke-width: 2px;\"/><path class=\"xtick ticks crisp\" d=\"M0,1064v10\" transform=\"translate(1463,0)\" style=\"stroke: rgb(68, 68, 68); stroke-opacity: 1; stroke-width: 2px;\"/><g class=\"xtick\"><text text-anchor=\"middle\" x=\"0\" y=\"1131.6\" transform=\"translate(160,0)\" style=\"font-family: Arial; font-size: 48px; fill: rgb(0, 0, 0); fill-opacity: 1; white-space: pre; opacity: 1;\">0</text></g><g class=\"xtick\"><text text-anchor=\"middle\" x=\"0\" y=\"1131.6\" style=\"font-family: Arial; font-size: 48px; fill: rgb(0, 0, 0); fill-opacity: 1; white-space: pre; opacity: 1;\" transform=\"translate(241.44,0)\">1</text></g><g class=\"xtick\"><text text-anchor=\"middle\" x=\"0\" y=\"1131.6\" style=\"font-family: Arial; font-size: 48px; fill: rgb(0, 0, 0); fill-opacity: 1; white-space: pre; opacity: 1;\" transform=\"translate(322.88,0)\">2</text></g><g class=\"xtick\"><text text-anchor=\"middle\" x=\"0\" y=\"1131.6\" style=\"font-family: Arial; font-size: 48px; fill: rgb(0, 0, 0); fill-opacity: 1; white-space: pre; opacity: 1;\" transform=\"translate(404.31,0)\">3</text></g><g class=\"xtick\"><text text-anchor=\"middle\" x=\"0\" y=\"1131.6\" style=\"font-family: Arial; font-size: 48px; fill: rgb(0, 0, 0); fill-opacity: 1; white-space: pre; opacity: 1;\" transform=\"translate(485.75,0)\">4</text></g><g class=\"xtick\"><text text-anchor=\"middle\" x=\"0\" y=\"1131.6\" style=\"font-family: Arial; font-size: 48px; fill: rgb(0, 0, 0); fill-opacity: 1; white-space: pre; opacity: 1;\" transform=\"translate(567.19,0)\">5</text></g><g class=\"xtick\"><text text-anchor=\"middle\" x=\"0\" y=\"1131.6\" style=\"font-family: Arial; font-size: 48px; fill: rgb(0, 0, 0); fill-opacity: 1; white-space: pre; opacity: 1;\" transform=\"translate(648.63,0)\">6</text></g><g class=\"xtick\"><text text-anchor=\"middle\" x=\"0\" y=\"1131.6\" style=\"font-family: Arial; font-size: 48px; fill: rgb(0, 0, 0); fill-opacity: 1; white-space: pre; opacity: 1;\" transform=\"translate(730.06,0)\">7</text></g><g class=\"xtick\"><text text-anchor=\"middle\" x=\"0\" y=\"1131.6\" style=\"font-family: Arial; font-size: 48px; fill: rgb(0, 0, 0); fill-opacity: 1; white-space: pre; opacity: 1;\" transform=\"translate(811.5,0)\">8</text></g><g class=\"xtick\"><text text-anchor=\"middle\" x=\"0\" y=\"1131.6\" style=\"font-family: Arial; font-size: 48px; fill: rgb(0, 0, 0); fill-opacity: 1; white-space: pre; opacity: 1;\" transform=\"translate(892.94,0)\">9</text></g><g class=\"xtick\"><text text-anchor=\"middle\" x=\"0\" y=\"1131.6\" style=\"font-family: Arial; font-size: 48px; fill: rgb(0, 0, 0); fill-opacity: 1; white-space: pre; opacity: 1;\" transform=\"translate(974.38,0)\">10</text></g><g class=\"xtick\"><text text-anchor=\"middle\" x=\"0\" y=\"1131.6\" style=\"font-family: Arial; font-size: 48px; fill: rgb(0, 0, 0); fill-opacity: 1; white-space: pre; opacity: 1;\" transform=\"translate(1055.81,0)\">11</text></g><g class=\"xtick\"><text text-anchor=\"middle\" x=\"0\" y=\"1131.6\" style=\"font-family: Arial; font-size: 48px; fill: rgb(0, 0, 0); fill-opacity: 1; white-space: pre; opacity: 1;\" transform=\"translate(1137.25,0)\">12</text></g><g class=\"xtick\"><text text-anchor=\"middle\" x=\"0\" y=\"1131.6\" style=\"font-family: Arial; font-size: 48px; fill: rgb(0, 0, 0); fill-opacity: 1; white-space: pre; opacity: 1;\" transform=\"translate(1218.69,0)\">13</text></g><g class=\"xtick\"><text text-anchor=\"middle\" x=\"0\" y=\"1131.6\" style=\"font-family: Arial; font-size: 48px; fill: rgb(0, 0, 0); fill-opacity: 1; white-space: pre; opacity: 1;\" transform=\"translate(1300.13,0)\">14</text></g><g class=\"xtick\"><text text-anchor=\"middle\" x=\"0\" y=\"1131.6\" style=\"font-family: Arial; font-size: 48px; fill: rgb(0, 0, 0); fill-opacity: 1; white-space: pre; opacity: 1;\" transform=\"translate(1381.56,0)\">15</text></g><g class=\"xtick\"><text text-anchor=\"middle\" x=\"0\" y=\"1131.6\" style=\"font-family: Arial; font-size: 48px; fill: rgb(0, 0, 0); fill-opacity: 1; white-space: pre; opacity: 1;\" transform=\"translate(1463,0)\">16</text></g></g><g class=\"yaxislayer-above\"><path class=\"ytick ticks crisp\" d=\"M158,0h-10\" transform=\"translate(0,1062)\" style=\"stroke: rgb(68, 68, 68); stroke-opacity: 1; stroke-width: 2px;\"/><path class=\"ytick ticks crisp\" d=\"M158,0h-10\" transform=\"translate(0,856.8)\" style=\"stroke: rgb(68, 68, 68); stroke-opacity: 1; stroke-width: 2px;\"/><path class=\"ytick ticks crisp\" d=\"M158,0h-10\" transform=\"translate(0,651.6)\" style=\"stroke: rgb(68, 68, 68); stroke-opacity: 1; stroke-width: 2px;\"/><path class=\"ytick ticks crisp\" d=\"M158,0h-10\" transform=\"translate(0,446.4)\" style=\"stroke: rgb(68, 68, 68); stroke-opacity: 1; stroke-width: 2px;\"/><path class=\"ytick ticks crisp\" d=\"M158,0h-10\" transform=\"translate(0,241.2)\" style=\"stroke: rgb(68, 68, 68); stroke-opacity: 1; stroke-width: 2px;\"/><path class=\"ytick ticks crisp\" d=\"M158,0h-10\" transform=\"translate(0,36)\" style=\"stroke: rgb(68, 68, 68); stroke-opacity: 1; stroke-width: 2px;\"/><g class=\"ytick\"><text text-anchor=\"end\" x=\"138.4\" y=\"16.799999999999997\" transform=\"translate(0,1062)\" style=\"font-family: Arial; font-size: 48px; fill: rgb(0, 0, 0); fill-opacity: 1; white-space: pre; opacity: 1;\">0</text></g><g class=\"ytick\"><text text-anchor=\"end\" x=\"138.4\" y=\"16.799999999999997\" style=\"font-family: Arial; font-size: 48px; fill: rgb(0, 0, 0); fill-opacity: 1; white-space: pre; opacity: 1;\" transform=\"translate(0,856.8)\">20</text></g><g class=\"ytick\"><text text-anchor=\"end\" x=\"138.4\" y=\"16.799999999999997\" style=\"font-family: Arial; font-size: 48px; fill: rgb(0, 0, 0); fill-opacity: 1; white-space: pre; opacity: 1;\" transform=\"translate(0,651.6)\">40</text></g><g class=\"ytick\"><text text-anchor=\"end\" x=\"138.4\" y=\"16.799999999999997\" style=\"font-family: Arial; font-size: 48px; fill: rgb(0, 0, 0); fill-opacity: 1; white-space: pre; opacity: 1;\" transform=\"translate(0,446.4)\">60</text></g><g class=\"ytick\"><text text-anchor=\"end\" x=\"138.4\" y=\"16.799999999999997\" style=\"font-family: Arial; font-size: 48px; fill: rgb(0, 0, 0); fill-opacity: 1; white-space: pre; opacity: 1;\" transform=\"translate(0,241.2)\">80</text></g><g class=\"ytick\"><text text-anchor=\"end\" x=\"138.4\" y=\"16.799999999999997\" style=\"font-family: Arial; font-size: 48px; fill: rgb(0, 0, 0); fill-opacity: 1; white-space: pre; opacity: 1;\" transform=\"translate(0,36)\">100</text></g></g><g class=\"overaxes-above\"/></g></g><g class=\"polarlayer\"/><g class=\"smithlayer\"/><g class=\"ternarylayer\"/><g class=\"geolayer\"/><g class=\"funnelarealayer\"/><g class=\"pielayer\"/><g class=\"iciclelayer\"/><g class=\"treemaplayer\"/><g class=\"sunburstlayer\"/><g class=\"glimages\"/><defs id=\"topdefs-435919\"><g class=\"clips\"/><clipPath id=\"legend435919\"><rect width=\"622\" height=\"141\" x=\"1\" y=\"1\"/></clipPath></defs><g class=\"layer-above\"><g class=\"imagelayer\"/><g class=\"shapelayer\"/></g><g class=\"infolayer\"><g class=\"legend\" pointer-events=\"all\" transform=\"translate(811.5,36)\"><rect class=\"bg\" shape-rendering=\"crispEdges\" width=\"623\" height=\"142\" x=\"0.5\" y=\"0.5\" style=\"stroke: rgb(0, 0, 0); stroke-opacity: 1; fill: rgb(255, 255, 255); fill-opacity: 1; stroke-width: 1px;\"/><g class=\"scrollbox\" transform=\"\" clip-path=\"url(#legend435919)\"><g class=\"groups\"><g class=\"traces\" transform=\"translate(1,38.7)\" style=\"opacity: 1;\"><text class=\"legendtext\" text-anchor=\"start\" x=\"40\" y=\"18.720000000000002\" style=\"font-family: Arial; font-size: 48px; fill: rgb(0, 0, 0); fill-opacity: 1; white-space: pre;\">-exp(GaMD PMF)</text><g class=\"layers\" style=\"opacity: 1;\"><g class=\"legendfill\"/><g class=\"legendlines\"><path class=\"js-line\" d=\"M5,0h30\" style=\"fill: none; stroke: rgb(0, 109, 44); stroke-opacity: 1; stroke-width: 4px;\"/></g><g class=\"legendsymbols\"><g class=\"legendpoints\"/></g></g><rect class=\"legendtoggle\" x=\"0\" y=\"-32.7\" width=\"616.234375\" height=\"65.4\" style=\"fill: rgb(0, 0, 0); fill-opacity: 0;\"/></g><g class=\"traces\" transform=\"translate(1,104.10000000000001)\" style=\"opacity: 1;\"><text class=\"legendtext\" text-anchor=\"start\" x=\"40\" y=\"18.720000000000002\" style=\"font-family: Arial; font-size: 48px; fill: rgb(0, 0, 0); fill-opacity: 1; white-space: pre;\">TI Lambda Prod Histogram</text><g class=\"layers\" style=\"opacity: 1;\"><g class=\"legendfill\"/><g class=\"legendlines\"/><g class=\"legendsymbols\"><g class=\"legendpoints\"><path class=\"legendundefined\" d=\"M6,6H-6V-6H6Z\" transform=\"translate(20,0)\" style=\"stroke-width: 1px; fill: rgb(237, 248, 233); fill-opacity: 1; stroke: rgb(0, 0, 0); stroke-opacity: 1;\"/></g></g></g><rect class=\"legendtoggle\" x=\"0\" y=\"-32.7\" width=\"616.234375\" height=\"65.4\" style=\"fill: rgb(0, 0, 0); fill-opacity: 0;\"/></g></g></g><rect class=\"scrollbar\" rx=\"20\" ry=\"3\" width=\"0\" height=\"0\" x=\"0\" y=\"0\" style=\"fill: rgb(128, 139, 164); fill-opacity: 1;\"/></g><g class=\"g-gtitle\"/><g class=\"g-xtitle\" transform=\"translate(0,-1.209374999999909)\"><text class=\"xtitle\" x=\"811.5\" y=\"1190.209375\" text-anchor=\"middle\" style=\"font-family: Arial; font-size: 48px; fill: rgb(0, 0, 0); opacity: 1; font-weight: normal; white-space: pre;\"><tspan style=\"font-weight:bold\">Ag-E71:VH-R50 salt bridge distance (Å)</tspan></text></g><g class=\"g-ytitle\" transform=\"translate(33.287109375,0)\"><text class=\"ytitle\" transform=\"rotate(-90,9.712500000000006,549)\" x=\"9.712500000000006\" y=\"549\" text-anchor=\"middle\" style=\"font-family: Arial; font-size: 48px; fill: rgb(0, 0, 0); opacity: 1; font-weight: normal; white-space: pre;\"><tspan style=\"font-weight:bold\">Relative Abundance</tspan></text></g></g></svg>"
      ]
     },
     "metadata": {},
     "output_type": "display_data"
    }
   ],
   "source": [
    "filt = geom_dvdls_crg[(geom_dvdls_crg[\"E71_R399\"] > 3.6) & (geom_dvdls_crg[\"E71_R399\"] < 4.5)]\n",
    "\n",
    "fig_filt = plot_pmf_TI_1D_fig(E71_R399, filt, \"E71_R399\", scaler=100, bins=6).update_layout(\n",
    "    width=1500,\n",
    "    height=1200,\n",
    "    barmode=\"overlay\",\n",
    "    paper_bgcolor=\"white\",\n",
    "    plot_bgcolor=\"white\",\n",
    "    margin=dict(l=10, r=10, t=10, b=10),\n",
    "    legend=dict(\n",
    "        font=dict(size=48, color=\"black\", family=\"Arial\"),\n",
    "        bordercolor=\"black\",\n",
    "        borderwidth=1,\n",
    "        x=0.5, y=1\n",
    "    )\n",
    ").update_xaxes(\n",
    "    range=[0,16],\n",
    "    showline=True,\n",
    "    linewidth=2,\n",
    "    linecolor=\"black\",\n",
    "    dtick=1.0,\n",
    "    ticks=\"outside\", ticklen=10, tickwidth=2,\n",
    "    tickfont=dict(size=48, color=\"black\", family=\"Arial\"),\n",
    "    title=dict(\n",
    "        text=\"<b>Ag-E71:VH-R50 salt bridge distance (Å)</b>\" ,\n",
    "        font=dict(family=\"Arial\", size=48, color=\"black\")\n",
    "    )\n",
    ").update_yaxes(\n",
    "    range=[0, 100],\n",
    "    linewidth=2,\n",
    "    linecolor=\"black\",\n",
    "    tickfont=dict(size=48, color=\"black\", family=\"Arial\"),\n",
    "    ticks=\"outside\", ticklen=10, tickwidth=2,\n",
    "    title=dict(\n",
    "        text=\"<b>Relative Abundance</b>\",\n",
    "        font=dict(family=\"Arial\", size=48, color=\"black\")\n",
    "    )\n",
    ")\n",
    "fig_filt.show(renderer=\"svg\")\n",
    "\n",
    "# os.chdir(\"/gstore/scratch/u/sastrys1/thermo-integration/paper_notebooks/\")\n",
    "# fig_filt.write_image(\"filt_r50_sb.png\", width=1500, height=1200)\n"
   ]
  },
  {
   "cell_type": "markdown",
   "id": "46875edc-7c46-43c0-b9b7-458d38056dec",
   "metadata": {},
   "source": [
    "#### Filtering correction, original run\n",
    "\n",
    "Here, we will simply filter the original TI run to just the frames that fit into the GaMD profile, then compute the ddG. We will have to substitute the global average for lambdas 8-12 because of insufficient sampling. In this extremely small sample size, we find that the estimate gets much more accurate when using only the frames that contain the energetically influential salt bridge. However, there are far too many lambdas with insufficient frames for this result to be meaningful.\n",
    "\n",
    "We are not correcting the unbound run since this is an Ag---Ab distance, and this same distance is not present in the unbound state.\n",
    "\n",
    "Furthermore, we are not adding in vdw step corrections here because the model $R^2$ did not convey a strong enough relationship between the geometric and energetic degrees of freedom. (see the R50A vdw step notebook)."
   ]
  },
  {
   "cell_type": "code",
   "execution_count": 13,
   "id": "0a71c49f-d5ac-4324-827e-95f672382eb2",
   "metadata": {
    "tags": []
   },
   "outputs": [
    {
     "name": "stdout",
     "output_type": "stream",
     "text": [
      "Lambda\n",
      "1     221\n",
      "2     203\n",
      "3     232\n",
      "4     178\n",
      "5      97\n",
      "6     189\n",
      "7     116\n",
      "8      61\n",
      "9       4\n",
      "11      1\n",
      "Name: weight_dvdl, dtype: int64\n",
      "Original crg step ddG: \n",
      "0.9958 kcal/mol\n",
      "\n",
      "Filter-corrected crg step ddG: \n",
      "2.3674 kcal/mol\n",
      "Total filter-corrected ddG: \n",
      "4.3499 kcal/mol\n",
      "Empirical value: \n",
      "4.58 kcal/mol\n"
     ]
    }
   ],
   "source": [
    "print(geom_dvdls_crg[(geom_dvdls_crg[\"E71_R399\"] > 3.6) & (geom_dvdls_crg[\"E71_R399\"] < 4.5)].groupby(\"Lambda\").count()[\"weight_dvdl\"])\n",
    "\n",
    "dG_filt = geom_dvdls_crg[(geom_dvdls_crg[\"E71_R399\"] > 3.6) & (geom_dvdls_crg[\"E71_R399\"] < 4.5)].groupby(\"Lambda\").mean()[\"weight_dvdl\"]\n",
    "dG_tot = geom_dvdls_crg.groupby(\"Lambda\").mean()[\"weight_dvdl\"]\n",
    "\n",
    "dG_filt.loc[8] = dG_tot.loc[8]\n",
    "dG_filt.loc[9] = dG_tot.loc[9]\n",
    "dG_filt.loc[10] = dG_tot.loc[10]\n",
    "dG_filt.loc[11] = dG_tot.loc[11]\n",
    "dG_filt.loc[12] = dG_tot.loc[12]\n",
    "\n",
    "print(\"Original crg step ddG: \")\n",
    "print(f\"{round(ddG_crg, 4)} kcal/mol\")\n",
    "    \n",
    "print(\"\\nFilter-corrected crg step ddG: \")\n",
    "print(f\"{round(dG_filt.sum() - dG_ubd_crg, 4)} kcal/mol\")\n",
    "\n",
    "print(\"Total filter-corrected ddG: \")\n",
    "print(f\"{round((dG_filt.sum() - dG_ubd_crg) + ddG_vdw, 4)} kcal/mol\")\n",
    "\n",
    "print(\"Empirical value: \")\n",
    "print(f\"{empirical_value} kcal/mol\")"
   ]
  },
  {
   "cell_type": "markdown",
   "id": "dfeddf3d-e8f8-4e3b-a97f-29c3bb01a0eb",
   "metadata": {},
   "source": [
    "### Restraints-based correction\n",
    "\n",
    "We realized that charge-changing perturbations can prevent salt bridges from being properly sampled during TI, which is why so few TI frames contain the salt bridge that we expect to see during GaMD. Thus, we added distance-based NMR restraints to both end states to ensure that the integrity of the salt bridge was retained during TI lambda production. \n",
    "\n",
    "#### Ingesting restrained salt bridge run"
   ]
  },
  {
   "cell_type": "code",
   "execution_count": 17,
   "id": "b579c125-f169-4e2f-b614-f7d0f0caa3ba",
   "metadata": {
    "tags": []
   },
   "outputs": [],
   "source": [
    "os.chdir(\"../../TI_data/VH-R50A\")\n",
    "geom_dvdls_rst = pd.read_csv(\"R50A_crg_rst_bound.csv\")\n"
   ]
  },
  {
   "cell_type": "code",
   "execution_count": 18,
   "id": "4af0b310-1545-440d-b8af-40ed904dafae",
   "metadata": {
    "tags": []
   },
   "outputs": [
    {
     "data": {
      "application/vnd.plotly.v1+json": {
       "config": {
        "plotlyServerURL": "https://plot.ly"
       },
       "data": [
        {
         "line": {
          "color": "#006d2c",
          "width": 4
         },
         "mode": "lines",
         "name": "-exp(GaMD PMF)",
         "type": "scatter",
         "x": [
          0,
          0.1,
          0.2,
          0.30000000000000004,
          0.4,
          0.5,
          0.6000000000000001,
          0.7000000000000001,
          0.8,
          0.9,
          1,
          1.1,
          1.2000000000000002,
          1.3,
          1.4000000000000001,
          1.5,
          1.6,
          1.7000000000000002,
          1.8,
          1.9000000000000001,
          2,
          2.1,
          2.2,
          2.3000000000000003,
          2.4000000000000004,
          2.5,
          2.6,
          2.7,
          2.8000000000000003,
          2.9000000000000004,
          3,
          3.1,
          3.2,
          3.3000000000000003,
          3.4000000000000004,
          3.5,
          3.6,
          3.7,
          3.8000000000000003,
          3.9000000000000004,
          4,
          4.1000000000000005,
          4.2,
          4.3,
          4.4,
          4.5,
          4.6000000000000005,
          4.7,
          4.800000000000001,
          4.9,
          5,
          5.1000000000000005,
          5.2,
          5.300000000000001,
          5.4,
          5.5,
          5.6000000000000005,
          5.7,
          5.800000000000001,
          5.9,
          6,
          6.1000000000000005,
          6.2,
          6.300000000000001,
          6.4,
          6.5,
          6.6000000000000005,
          6.7,
          6.800000000000001,
          6.9,
          7,
          7.1000000000000005,
          7.2,
          7.300000000000001,
          7.4,
          7.5,
          7.6000000000000005,
          7.7,
          7.800000000000001,
          7.9,
          8,
          8.1,
          8.200000000000001,
          8.3,
          8.4,
          8.5,
          8.6,
          8.700000000000001,
          8.8,
          8.9,
          9,
          9.1,
          9.200000000000001,
          9.3,
          9.4,
          9.5,
          9.600000000000001,
          9.700000000000001,
          9.8,
          9.9,
          10,
          10.100000000000001,
          10.200000000000001,
          10.3,
          10.4,
          10.5,
          10.600000000000001,
          10.700000000000001,
          10.8,
          10.9,
          11,
          11.100000000000001,
          11.200000000000001,
          11.3,
          11.4,
          11.5,
          11.600000000000001,
          11.700000000000001,
          11.8,
          11.9,
          12,
          12.100000000000001,
          12.200000000000001,
          12.3,
          12.4,
          12.5,
          12.600000000000001,
          12.700000000000001,
          12.8,
          12.9,
          13,
          13.100000000000001,
          13.200000000000001,
          13.3,
          13.4,
          13.5,
          13.600000000000001,
          13.700000000000001,
          13.8,
          13.9,
          14,
          14.100000000000001,
          14.200000000000001,
          14.3,
          14.4,
          14.5,
          14.600000000000001,
          14.700000000000001,
          14.8,
          14.9,
          15,
          15.100000000000001,
          15.200000000000001,
          15.3,
          15.4,
          15.5,
          15.600000000000001,
          15.700000000000001,
          15.8,
          15.9,
          16,
          16.1,
          16.2,
          16.3,
          16.400000000000002,
          16.5,
          16.6,
          16.7,
          16.8,
          16.900000000000002,
          17,
          17.1,
          17.2,
          17.3,
          17.400000000000002,
          17.5,
          17.6,
          17.7,
          17.8,
          17.900000000000002,
          18,
          18.1,
          18.2,
          18.3,
          18.400000000000002,
          18.5,
          18.6,
          18.7,
          18.8,
          18.900000000000002,
          19,
          19.1,
          19.200000000000003,
          19.3,
          19.400000000000002,
          19.5,
          19.6,
          19.700000000000003,
          19.8,
          19.900000000000002,
          20,
          20.1,
          20.200000000000003,
          20.3,
          20.400000000000002,
          20.5,
          20.6,
          20.700000000000003,
          20.8,
          20.900000000000002,
          21,
          21.1,
          21.200000000000003,
          21.3,
          21.400000000000002,
          21.5,
          21.6,
          21.700000000000003,
          21.8,
          21.900000000000002,
          22,
          22.1,
          22.200000000000003,
          22.3,
          22.400000000000002,
          22.5,
          22.6,
          22.700000000000003,
          22.8,
          22.900000000000002,
          23,
          23.1,
          23.200000000000003,
          23.3,
          23.400000000000002,
          23.5,
          23.6,
          23.700000000000003,
          23.8,
          23.900000000000002,
          24,
          24.1,
          24.200000000000003,
          24.3,
          24.400000000000002,
          24.5,
          24.6,
          24.700000000000003,
          24.8,
          24.900000000000002
         ],
         "y": [
          1.6354603303057135e-23,
          1.6354603303057135e-23,
          1.6354603303057135e-23,
          1.6354603303057135e-23,
          1.6354603303057135e-23,
          1.6354603303057135e-23,
          1.6354603303057135e-23,
          1.6354603303057135e-23,
          1.6354603303057135e-23,
          1.6354603303057135e-23,
          1.6354603303057135e-23,
          1.6354603303057135e-23,
          1.6354603303057135e-23,
          1.6354603303057135e-23,
          1.6354603303057135e-23,
          1.6354603303057135e-23,
          1.6354603303057135e-23,
          1.6354603303057135e-23,
          1.6354603303057135e-23,
          1.6354603303057135e-23,
          1.6354603303057135e-23,
          1.6354603303057135e-23,
          1.6354603303057135e-23,
          1.6354603303057135e-23,
          1.6354603303057135e-23,
          1.6354603303057135e-23,
          1.6354603303057135e-23,
          1.6354603303057135e-23,
          1.6354603303057135e-23,
          1.6354603303057135e-23,
          1.6354603303057135e-23,
          1.6354603303057135e-23,
          1.6354603303057135e-23,
          5.8369226149181846e-12,
          1.9464453419921655e-11,
          7.214812438394054e-11,
          2.7266105204635327e-10,
          26.947952672130597,
          62.89611571526493,
          100,
          91.15807532812951,
          66.06094360701975,
          44.94149579601039,
          31.451674306682982,
          20.71445564538751,
          19.23145295774653,
          16.580437622107695,
          3.4672661823773093e-10,
          2.774240252372305e-10,
          2.058240337976745e-10,
          1.5052068039989875e-10,
          1.091406356421952e-10,
          9.122294617550921e-11,
          8.223153600829111e-11,
          8.285774132807621e-11,
          8.636314381475273e-11,
          9.305610365786946e-11,
          1.046323796077149e-10,
          1.183098852078212e-10,
          1.3258580627544967e-10,
          1.5016771843374303e-10,
          1.7948123156496997e-10,
          2.0706643753797694e-10,
          2.368409597045691e-10,
          2.67808474367572e-10,
          2.9838557112862503e-10,
          3.272831880660391e-10,
          3.477820372033211e-10,
          3.651850120767778e-10,
          2.0878712432964233,
          1.8933595634304432,
          3.5415938822038586e-10,
          3.336998907396843e-10,
          3.121175800028247e-10,
          2.869534637463741e-10,
          2.677759243053029e-10,
          2.52392483882918e-10,
          2.445966357857107e-10,
          2.442157152163821e-10,
          2.431632054487991e-10,
          2.4918235016464103e-10,
          2.491139878055062e-10,
          2.5303570288443733e-10,
          2.5079656872996873e-10,
          2.5106869905682317e-10,
          2.4581748982892423e-10,
          2.3866390898443286e-10,
          2.3208003242840786e-10,
          2.2146611659437093e-10,
          2.1087857593909193e-10,
          1.9702016572749156e-10,
          1.8593410036756444e-10,
          1.78483312222404e-10,
          1.6850949600626624e-10,
          1.6308920653288474e-10,
          1.651001711589369e-10,
          1.694581173325229e-10,
          1.7786842625050786e-10,
          1.9380984558116522e-10,
          2.0892063286325188e-10,
          2.3007769430066593e-10,
          2.490570094613978e-10,
          2.625878267318233e-10,
          2.7261817631106206e-10,
          2.744257153528592e-10,
          2.708778500819305e-10,
          2.6153083917554603e-10,
          2.519856674642546e-10,
          2.3677020290811765e-10,
          2.2263634627302675e-10,
          2.0413346530102695e-10,
          1.8873998014056332e-10,
          1.7393043658547767e-10,
          1.5690584362551526e-10,
          1.4417762572194838e-10,
          1.3026598572047117e-10,
          1.2078350192675645e-10,
          1.0828125618012916e-10,
          1.0007302957620768e-10,
          9.398561613174678e-11,
          8.333726379330061e-11,
          7.825422013022777e-11,
          6.944889121436948e-11,
          6.399576963624031e-11,
          5.588726269193679e-11,
          4.986112486627391e-11,
          4.5925296134709997e-11,
          4.124711912238892e-11,
          3.651317574488013e-11,
          3.314181045089322e-11,
          2.824406871282283e-11,
          2.59909322998507e-11,
          2.2626682293900048e-11,
          1.7540298388021965e-11,
          1.6629957402593986e-11,
          1.6629957402593986e-11,
          1.2748861330188118e-11,
          1.2229324394217914e-11,
          1.1512351294922392e-11,
          8.377263090431879e-12,
          7.914581857219074e-12,
          6.261464954394685e-12,
          5.235811404774196e-12,
          4.917087703515642e-12,
          2.800289654970762e-12,
          2.0059863578553436e-12,
          1.6898649347210672e-12,
          1.6354603303057135e-23,
          8.778898227685856e-13,
          1.6354603303057135e-23,
          1.6354603303057135e-23,
          1.6354603303057135e-23,
          1.6354603303057135e-23,
          1.6354603303057135e-23,
          1.6354603303057135e-23,
          1.6354603303057135e-23,
          1.6354603303057135e-23,
          1.6354603303057135e-23,
          1.6354603303057135e-23,
          1.6354603303057135e-23,
          1.6354603303057135e-23,
          1.6354603303057135e-23,
          1.6354603303057135e-23,
          1.6354603303057135e-23,
          1.6354603303057135e-23,
          1.6354603303057135e-23,
          1.6354603303057135e-23,
          1.6354603303057135e-23,
          1.6354603303057135e-23,
          1.6354603303057135e-23,
          1.6354603303057135e-23,
          1.6354603303057135e-23,
          1.6354603303057135e-23,
          1.6354603303057135e-23,
          1.6354603303057135e-23,
          1.6354603303057135e-23,
          1.6354603303057135e-23,
          1.6354603303057135e-23,
          1.6354603303057135e-23,
          1.6354603303057135e-23,
          1.6354603303057135e-23,
          1.6354603303057135e-23,
          1.6354603303057135e-23,
          1.6354603303057135e-23,
          1.6354603303057135e-23,
          1.6354603303057135e-23,
          1.6354603303057135e-23,
          1.6354603303057135e-23,
          1.6354603303057135e-23,
          1.6354603303057135e-23,
          1.6354603303057135e-23,
          1.6354603303057135e-23,
          1.6354603303057135e-23,
          1.6354603303057135e-23,
          1.6354603303057135e-23,
          1.6354603303057135e-23,
          1.6354603303057135e-23,
          1.6354603303057135e-23,
          1.6354603303057135e-23,
          1.6354603303057135e-23,
          1.6354603303057135e-23,
          1.6354603303057135e-23,
          1.6354603303057135e-23,
          1.6354603303057135e-23,
          1.6354603303057135e-23,
          1.6354603303057135e-23,
          1.6354603303057135e-23,
          1.6354603303057135e-23,
          1.6354603303057135e-23,
          1.6354603303057135e-23,
          1.6354603303057135e-23,
          1.6354603303057135e-23,
          1.6354603303057135e-23,
          1.6354603303057135e-23,
          1.6354603303057135e-23,
          1.6354603303057135e-23,
          1.6354603303057135e-23,
          1.6354603303057135e-23,
          1.6354603303057135e-23,
          1.6354603303057135e-23,
          1.6354603303057135e-23,
          1.6354603303057135e-23,
          1.6354603303057135e-23,
          1.6354603303057135e-23,
          1.6354603303057135e-23,
          1.6354603303057135e-23,
          1.6354603303057135e-23,
          1.6354603303057135e-23,
          1.6354603303057135e-23,
          1.6354603303057135e-23,
          1.6354603303057135e-23,
          1.6354603303057135e-23,
          1.6354603303057135e-23,
          1.6354603303057135e-23,
          1.6354603303057135e-23,
          1.6354603303057135e-23,
          1.6354603303057135e-23,
          1.6354603303057135e-23,
          1.6354603303057135e-23,
          1.6354603303057135e-23,
          1.6354603303057135e-23,
          1.6354603303057135e-23,
          1.6354603303057135e-23,
          1.6354603303057135e-23,
          1.6354603303057135e-23,
          1.6354603303057135e-23,
          1.6354603303057135e-23,
          1.6354603303057135e-23,
          1.6354603303057135e-23,
          1.6354603303057135e-23
         ]
        },
        {
         "marker": {
          "color": "#edf8e9",
          "line": {
           "color": "black",
           "width": 1
          }
         },
         "name": "TI Lambda Prod Histogram",
         "type": "bar",
         "width": [
          0.16407000000000016,
          0.16406999999999972,
          0.16406999999999972,
          0.1640700000000006,
          0.16406999999999972,
          0.16406999999999972,
          0.1640700000000006,
          0.16406999999999972,
          0.16406999999999972,
          0.1640700000000006
         ],
         "x": [
          3.5681,
          3.73217,
          3.8962399999999997,
          4.060309999999999,
          4.22438,
          4.38845,
          4.5525199999999995,
          4.71659,
          4.88066,
          5.0447299999999995
         ],
         "y": [
          1.2036108324974926,
          12.771648278167838,
          37.64627214978268,
          43.56402540956202,
          69.94316282179874,
          100.00000000000001,
          94.98495486459379,
          35.57338682714811,
          5.148779672350385,
          0.36776997659645605
         ]
        }
       ],
       "layout": {
        "barmode": "overlay",
        "height": 1200,
        "legend": {
         "bordercolor": "black",
         "borderwidth": 1,
         "font": {
          "color": "black",
          "family": "Arial",
          "size": 48
         },
         "x": 0.5,
         "y": 1
        },
        "margin": {
         "b": 10,
         "l": 10,
         "r": 10,
         "t": 10
        },
        "paper_bgcolor": "white",
        "plot_bgcolor": "white",
        "template": {
         "data": {
          "bar": [
           {
            "error_x": {
             "color": "#2a3f5f"
            },
            "error_y": {
             "color": "#2a3f5f"
            },
            "marker": {
             "line": {
              "color": "#E5ECF6",
              "width": 0.5
             },
             "pattern": {
              "fillmode": "overlay",
              "size": 10,
              "solidity": 0.2
             }
            },
            "type": "bar"
           }
          ],
          "barpolar": [
           {
            "marker": {
             "line": {
              "color": "#E5ECF6",
              "width": 0.5
             },
             "pattern": {
              "fillmode": "overlay",
              "size": 10,
              "solidity": 0.2
             }
            },
            "type": "barpolar"
           }
          ],
          "carpet": [
           {
            "aaxis": {
             "endlinecolor": "#2a3f5f",
             "gridcolor": "white",
             "linecolor": "white",
             "minorgridcolor": "white",
             "startlinecolor": "#2a3f5f"
            },
            "baxis": {
             "endlinecolor": "#2a3f5f",
             "gridcolor": "white",
             "linecolor": "white",
             "minorgridcolor": "white",
             "startlinecolor": "#2a3f5f"
            },
            "type": "carpet"
           }
          ],
          "choropleth": [
           {
            "colorbar": {
             "outlinewidth": 0,
             "ticks": ""
            },
            "type": "choropleth"
           }
          ],
          "contour": [
           {
            "colorbar": {
             "outlinewidth": 0,
             "ticks": ""
            },
            "colorscale": [
             [
              0,
              "#0d0887"
             ],
             [
              0.1111111111111111,
              "#46039f"
             ],
             [
              0.2222222222222222,
              "#7201a8"
             ],
             [
              0.3333333333333333,
              "#9c179e"
             ],
             [
              0.4444444444444444,
              "#bd3786"
             ],
             [
              0.5555555555555556,
              "#d8576b"
             ],
             [
              0.6666666666666666,
              "#ed7953"
             ],
             [
              0.7777777777777778,
              "#fb9f3a"
             ],
             [
              0.8888888888888888,
              "#fdca26"
             ],
             [
              1,
              "#f0f921"
             ]
            ],
            "type": "contour"
           }
          ],
          "contourcarpet": [
           {
            "colorbar": {
             "outlinewidth": 0,
             "ticks": ""
            },
            "type": "contourcarpet"
           }
          ],
          "heatmap": [
           {
            "colorbar": {
             "outlinewidth": 0,
             "ticks": ""
            },
            "colorscale": [
             [
              0,
              "#0d0887"
             ],
             [
              0.1111111111111111,
              "#46039f"
             ],
             [
              0.2222222222222222,
              "#7201a8"
             ],
             [
              0.3333333333333333,
              "#9c179e"
             ],
             [
              0.4444444444444444,
              "#bd3786"
             ],
             [
              0.5555555555555556,
              "#d8576b"
             ],
             [
              0.6666666666666666,
              "#ed7953"
             ],
             [
              0.7777777777777778,
              "#fb9f3a"
             ],
             [
              0.8888888888888888,
              "#fdca26"
             ],
             [
              1,
              "#f0f921"
             ]
            ],
            "type": "heatmap"
           }
          ],
          "heatmapgl": [
           {
            "colorbar": {
             "outlinewidth": 0,
             "ticks": ""
            },
            "colorscale": [
             [
              0,
              "#0d0887"
             ],
             [
              0.1111111111111111,
              "#46039f"
             ],
             [
              0.2222222222222222,
              "#7201a8"
             ],
             [
              0.3333333333333333,
              "#9c179e"
             ],
             [
              0.4444444444444444,
              "#bd3786"
             ],
             [
              0.5555555555555556,
              "#d8576b"
             ],
             [
              0.6666666666666666,
              "#ed7953"
             ],
             [
              0.7777777777777778,
              "#fb9f3a"
             ],
             [
              0.8888888888888888,
              "#fdca26"
             ],
             [
              1,
              "#f0f921"
             ]
            ],
            "type": "heatmapgl"
           }
          ],
          "histogram": [
           {
            "marker": {
             "pattern": {
              "fillmode": "overlay",
              "size": 10,
              "solidity": 0.2
             }
            },
            "type": "histogram"
           }
          ],
          "histogram2d": [
           {
            "colorbar": {
             "outlinewidth": 0,
             "ticks": ""
            },
            "colorscale": [
             [
              0,
              "#0d0887"
             ],
             [
              0.1111111111111111,
              "#46039f"
             ],
             [
              0.2222222222222222,
              "#7201a8"
             ],
             [
              0.3333333333333333,
              "#9c179e"
             ],
             [
              0.4444444444444444,
              "#bd3786"
             ],
             [
              0.5555555555555556,
              "#d8576b"
             ],
             [
              0.6666666666666666,
              "#ed7953"
             ],
             [
              0.7777777777777778,
              "#fb9f3a"
             ],
             [
              0.8888888888888888,
              "#fdca26"
             ],
             [
              1,
              "#f0f921"
             ]
            ],
            "type": "histogram2d"
           }
          ],
          "histogram2dcontour": [
           {
            "colorbar": {
             "outlinewidth": 0,
             "ticks": ""
            },
            "colorscale": [
             [
              0,
              "#0d0887"
             ],
             [
              0.1111111111111111,
              "#46039f"
             ],
             [
              0.2222222222222222,
              "#7201a8"
             ],
             [
              0.3333333333333333,
              "#9c179e"
             ],
             [
              0.4444444444444444,
              "#bd3786"
             ],
             [
              0.5555555555555556,
              "#d8576b"
             ],
             [
              0.6666666666666666,
              "#ed7953"
             ],
             [
              0.7777777777777778,
              "#fb9f3a"
             ],
             [
              0.8888888888888888,
              "#fdca26"
             ],
             [
              1,
              "#f0f921"
             ]
            ],
            "type": "histogram2dcontour"
           }
          ],
          "mesh3d": [
           {
            "colorbar": {
             "outlinewidth": 0,
             "ticks": ""
            },
            "type": "mesh3d"
           }
          ],
          "parcoords": [
           {
            "line": {
             "colorbar": {
              "outlinewidth": 0,
              "ticks": ""
             }
            },
            "type": "parcoords"
           }
          ],
          "pie": [
           {
            "automargin": true,
            "type": "pie"
           }
          ],
          "scatter": [
           {
            "fillpattern": {
             "fillmode": "overlay",
             "size": 10,
             "solidity": 0.2
            },
            "type": "scatter"
           }
          ],
          "scatter3d": [
           {
            "line": {
             "colorbar": {
              "outlinewidth": 0,
              "ticks": ""
             }
            },
            "marker": {
             "colorbar": {
              "outlinewidth": 0,
              "ticks": ""
             }
            },
            "type": "scatter3d"
           }
          ],
          "scattercarpet": [
           {
            "marker": {
             "colorbar": {
              "outlinewidth": 0,
              "ticks": ""
             }
            },
            "type": "scattercarpet"
           }
          ],
          "scattergeo": [
           {
            "marker": {
             "colorbar": {
              "outlinewidth": 0,
              "ticks": ""
             }
            },
            "type": "scattergeo"
           }
          ],
          "scattergl": [
           {
            "marker": {
             "colorbar": {
              "outlinewidth": 0,
              "ticks": ""
             }
            },
            "type": "scattergl"
           }
          ],
          "scattermapbox": [
           {
            "marker": {
             "colorbar": {
              "outlinewidth": 0,
              "ticks": ""
             }
            },
            "type": "scattermapbox"
           }
          ],
          "scatterpolar": [
           {
            "marker": {
             "colorbar": {
              "outlinewidth": 0,
              "ticks": ""
             }
            },
            "type": "scatterpolar"
           }
          ],
          "scatterpolargl": [
           {
            "marker": {
             "colorbar": {
              "outlinewidth": 0,
              "ticks": ""
             }
            },
            "type": "scatterpolargl"
           }
          ],
          "scatterternary": [
           {
            "marker": {
             "colorbar": {
              "outlinewidth": 0,
              "ticks": ""
             }
            },
            "type": "scatterternary"
           }
          ],
          "surface": [
           {
            "colorbar": {
             "outlinewidth": 0,
             "ticks": ""
            },
            "colorscale": [
             [
              0,
              "#0d0887"
             ],
             [
              0.1111111111111111,
              "#46039f"
             ],
             [
              0.2222222222222222,
              "#7201a8"
             ],
             [
              0.3333333333333333,
              "#9c179e"
             ],
             [
              0.4444444444444444,
              "#bd3786"
             ],
             [
              0.5555555555555556,
              "#d8576b"
             ],
             [
              0.6666666666666666,
              "#ed7953"
             ],
             [
              0.7777777777777778,
              "#fb9f3a"
             ],
             [
              0.8888888888888888,
              "#fdca26"
             ],
             [
              1,
              "#f0f921"
             ]
            ],
            "type": "surface"
           }
          ],
          "table": [
           {
            "cells": {
             "fill": {
              "color": "#EBF0F8"
             },
             "line": {
              "color": "white"
             }
            },
            "header": {
             "fill": {
              "color": "#C8D4E3"
             },
             "line": {
              "color": "white"
             }
            },
            "type": "table"
           }
          ]
         },
         "layout": {
          "annotationdefaults": {
           "arrowcolor": "#2a3f5f",
           "arrowhead": 0,
           "arrowwidth": 1
          },
          "autotypenumbers": "strict",
          "coloraxis": {
           "colorbar": {
            "outlinewidth": 0,
            "ticks": ""
           }
          },
          "colorscale": {
           "diverging": [
            [
             0,
             "#8e0152"
            ],
            [
             0.1,
             "#c51b7d"
            ],
            [
             0.2,
             "#de77ae"
            ],
            [
             0.3,
             "#f1b6da"
            ],
            [
             0.4,
             "#fde0ef"
            ],
            [
             0.5,
             "#f7f7f7"
            ],
            [
             0.6,
             "#e6f5d0"
            ],
            [
             0.7,
             "#b8e186"
            ],
            [
             0.8,
             "#7fbc41"
            ],
            [
             0.9,
             "#4d9221"
            ],
            [
             1,
             "#276419"
            ]
           ],
           "sequential": [
            [
             0,
             "#0d0887"
            ],
            [
             0.1111111111111111,
             "#46039f"
            ],
            [
             0.2222222222222222,
             "#7201a8"
            ],
            [
             0.3333333333333333,
             "#9c179e"
            ],
            [
             0.4444444444444444,
             "#bd3786"
            ],
            [
             0.5555555555555556,
             "#d8576b"
            ],
            [
             0.6666666666666666,
             "#ed7953"
            ],
            [
             0.7777777777777778,
             "#fb9f3a"
            ],
            [
             0.8888888888888888,
             "#fdca26"
            ],
            [
             1,
             "#f0f921"
            ]
           ],
           "sequentialminus": [
            [
             0,
             "#0d0887"
            ],
            [
             0.1111111111111111,
             "#46039f"
            ],
            [
             0.2222222222222222,
             "#7201a8"
            ],
            [
             0.3333333333333333,
             "#9c179e"
            ],
            [
             0.4444444444444444,
             "#bd3786"
            ],
            [
             0.5555555555555556,
             "#d8576b"
            ],
            [
             0.6666666666666666,
             "#ed7953"
            ],
            [
             0.7777777777777778,
             "#fb9f3a"
            ],
            [
             0.8888888888888888,
             "#fdca26"
            ],
            [
             1,
             "#f0f921"
            ]
           ]
          },
          "colorway": [
           "#636efa",
           "#EF553B",
           "#00cc96",
           "#ab63fa",
           "#FFA15A",
           "#19d3f3",
           "#FF6692",
           "#B6E880",
           "#FF97FF",
           "#FECB52"
          ],
          "font": {
           "color": "#2a3f5f"
          },
          "geo": {
           "bgcolor": "white",
           "lakecolor": "white",
           "landcolor": "#E5ECF6",
           "showlakes": true,
           "showland": true,
           "subunitcolor": "white"
          },
          "hoverlabel": {
           "align": "left"
          },
          "hovermode": "closest",
          "mapbox": {
           "style": "light"
          },
          "paper_bgcolor": "white",
          "plot_bgcolor": "#E5ECF6",
          "polar": {
           "angularaxis": {
            "gridcolor": "white",
            "linecolor": "white",
            "ticks": ""
           },
           "bgcolor": "#E5ECF6",
           "radialaxis": {
            "gridcolor": "white",
            "linecolor": "white",
            "ticks": ""
           }
          },
          "scene": {
           "xaxis": {
            "backgroundcolor": "#E5ECF6",
            "gridcolor": "white",
            "gridwidth": 2,
            "linecolor": "white",
            "showbackground": true,
            "ticks": "",
            "zerolinecolor": "white"
           },
           "yaxis": {
            "backgroundcolor": "#E5ECF6",
            "gridcolor": "white",
            "gridwidth": 2,
            "linecolor": "white",
            "showbackground": true,
            "ticks": "",
            "zerolinecolor": "white"
           },
           "zaxis": {
            "backgroundcolor": "#E5ECF6",
            "gridcolor": "white",
            "gridwidth": 2,
            "linecolor": "white",
            "showbackground": true,
            "ticks": "",
            "zerolinecolor": "white"
           }
          },
          "shapedefaults": {
           "line": {
            "color": "#2a3f5f"
           }
          },
          "ternary": {
           "aaxis": {
            "gridcolor": "white",
            "linecolor": "white",
            "ticks": ""
           },
           "baxis": {
            "gridcolor": "white",
            "linecolor": "white",
            "ticks": ""
           },
           "bgcolor": "#E5ECF6",
           "caxis": {
            "gridcolor": "white",
            "linecolor": "white",
            "ticks": ""
           }
          },
          "title": {
           "x": 0.05
          },
          "xaxis": {
           "automargin": true,
           "gridcolor": "white",
           "linecolor": "white",
           "ticks": "",
           "title": {
            "standoff": 15
           },
           "zerolinecolor": "white",
           "zerolinewidth": 2
          },
          "yaxis": {
           "automargin": true,
           "gridcolor": "white",
           "linecolor": "white",
           "ticks": "",
           "title": {
            "standoff": 15
           },
           "zerolinecolor": "white",
           "zerolinewidth": 2
          }
         }
        },
        "width": 1500,
        "xaxis": {
         "dtick": 1,
         "linecolor": "black",
         "linewidth": 2,
         "range": [
          0,
          16
         ],
         "showline": true,
         "tickfont": {
          "color": "black",
          "family": "Arial",
          "size": 48
         },
         "ticklen": 10,
         "ticks": "outside",
         "tickwidth": 2,
         "title": {
          "font": {
           "color": "black",
           "family": "Arial",
           "size": 48
          },
          "text": "<b>Ag-E71:VH-R50 salt bridge distance (Å)</b>"
         },
         "type": "linear"
        },
        "yaxis": {
         "linecolor": "black",
         "linewidth": 2,
         "range": [
          0,
          100
         ],
         "tickfont": {
          "color": "black",
          "family": "Arial",
          "size": 48
         },
         "ticklen": 10,
         "ticks": "outside",
         "tickwidth": 2,
         "title": {
          "font": {
           "color": "black",
           "family": "Arial",
           "size": 48
          },
          "text": "<b>Relative Abundance</b>"
         },
         "type": "linear"
        }
       }
      },
      "image/png": "[encoded data removed]"
     },
     "metadata": {},
     "output_type": "display_data"
    }
   ],
   "source": [
    "fig_rst = plot_pmf_TI_1D_fig(E71_R399, geom_dvdls_rst, \"E71_R399_ion\", scaler=100, bins=10).update_layout(\n",
    "    width=1500,\n",
    "    height=1200,\n",
    "    barmode=\"overlay\",\n",
    "    paper_bgcolor=\"white\",\n",
    "    plot_bgcolor=\"white\",\n",
    "    margin=dict(l=10, r=10, t=10, b=10),\n",
    "    legend=dict(\n",
    "        font=dict(size=48, color=\"black\", family=\"Arial\"),\n",
    "        bordercolor=\"black\",\n",
    "        borderwidth=1,\n",
    "        x=0.5, y=1\n",
    "    )\n",
    ").update_xaxes(\n",
    "    range=[0,16],\n",
    "    showline=True,\n",
    "    linewidth=2,\n",
    "    linecolor=\"black\",\n",
    "    dtick=1.0,\n",
    "    ticks=\"outside\", ticklen=10, tickwidth=2,\n",
    "    tickfont=dict(size=48, color=\"black\", family=\"Arial\"),\n",
    "    title=dict(\n",
    "        text=\"<b>Ag-E71:VH-R50 salt bridge distance (Å)</b>\" ,\n",
    "        font=dict(family=\"Arial\", size=48, color=\"black\")\n",
    "    )\n",
    ").update_yaxes(\n",
    "    range=[0, 100],\n",
    "    linewidth=2,\n",
    "    linecolor=\"black\",\n",
    "    tickfont=dict(size=48, color=\"black\", family=\"Arial\"),\n",
    "    ticks=\"outside\", ticklen=10, tickwidth=2,\n",
    "    title=dict(\n",
    "        text=\"<b>Relative Abundance</b>\",\n",
    "        font=dict(family=\"Arial\", size=48, color=\"black\")\n",
    "    )\n",
    ")\n",
    "fig_rst.show(renderer=\"jupyterlab\")\n",
    "\n",
    "# os.chdir(\"/gstore/scratch/u/sastrys1/thermo-integration/paper_notebooks/images\")\n",
    "# fig_filt_rst.write_image(\"rst_r50_sb.png\", width=1500, height=1200)\n"
   ]
  },
  {
   "cell_type": "markdown",
   "id": "f4a4b147-ca05-45d3-a126-3be01280f25a",
   "metadata": {},
   "source": [
    "#### Correction using the restrained NMR run \n",
    "\n",
    "Using NMR restraints during the bound state charging step to enforce the Ag-E71...VH-R50 salt bridge results in a > 2 kcal/mol change in the charging step ddG and thus the total ddG."
   ]
  },
  {
   "cell_type": "code",
   "execution_count": 20,
   "id": "6181ec55-16db-44ae-a1d1-ee6ba966e3db",
   "metadata": {
    "tags": []
   },
   "outputs": [
    {
     "name": "stdout",
     "output_type": "stream",
     "text": [
      "Original total ddG: \n",
      "2.9783 kcal/mol\n",
      "\n",
      "Total ddG, with NMR restraints: \n",
      "5.1398 kcal/mol\n",
      "\n",
      "Empirical value: \n",
      "4.58 kcal/mol\n"
     ]
    }
   ],
   "source": [
    "dG_rst = geom_dvdls_rst.groupby(\"Lambda\").mean()[\"weight_dvdl\"]\n",
    "\n",
    "print(\"Original total ddG: \")\n",
    "print(f\"{round(ddG_vdw + ddG_crg, 4)} kcal/mol\")\n",
    "print()\n",
    "print(\"Total ddG, with NMR restraints: \")\n",
    "print(f\"{round(dG_rst.sum() - dG_ubd_crg + (ddG_vdw), 4)} kcal/mol\")\n",
    "\n",
    "\n",
    "print()\n",
    "print(\"Empirical value: \")\n",
    "print(f\"{empirical_value} kcal/mol\")"
   ]
  },
  {
   "cell_type": "markdown",
   "id": "37eb6e79-77ea-4318-94cb-6f485292e9b5",
   "metadata": {},
   "source": [
    "## One-step transformation \n",
    "\n",
    "In order to ensure that these broken salt bridges were not due to our two-step protocol for handling charge-changing mutations, we decided to perform a one-step protocol with smoothstep potentials to see if the same errors would exist and could be alleviated by the same restraints. \n",
    "\n",
    "#### Data ingestion"
   ]
  },
  {
   "cell_type": "code",
   "execution_count": 25,
   "id": "b0402cd8-5dd3-4afb-9380-2296fb8b0437",
   "metadata": {
    "tags": []
   },
   "outputs": [],
   "source": [
    "# bound state charging step\n",
    "os.chdir(\"../../TI_data/VH-R50A\")\n",
    "geom_dvdls_oneStep = pd.read_csv(\"R50A_oneStep_bound.csv\")\n",
    "dvdls_oneStep_ub = pd.read_csv(\"R50A_oneStep_unbound.csv\")\n"
   ]
  },
  {
   "cell_type": "markdown",
   "id": "f97083ec-b9e5-450d-a665-5edcc98edda3",
   "metadata": {},
   "source": [
    "#### Initial estimate"
   ]
  },
  {
   "cell_type": "code",
   "execution_count": 26,
   "id": "0499ed34-84d1-4d00-9a8f-46fee4c0a382",
   "metadata": {
    "tags": []
   },
   "outputs": [
    {
     "name": "stdout",
     "output_type": "stream",
     "text": [
      "Original ddG (one step): \n",
      "2.2748 kcal/mol\n",
      "\n",
      "Empirical value: \n",
      "4.58 kcal/mol\n"
     ]
    }
   ],
   "source": [
    "dG_bd_oneStep = dvdls_oneStep.groupby(\"Lambda\").mean()[\"weight_dvdl\"].sum()\n",
    "dG_ubd_oneStep = dvdls_oneStep_ub.groupby(\"Lambda\").mean()[\"weight_dvdl\"].sum()\n",
    "ddG_oneStep = dG_bd_oneStep - dG_ubd_oneStep\n",
    "\n",
    "print(\"Original ddG (one step): \")\n",
    "print(f\"{round(ddG_oneStep, 4)} kcal/mol\")\n",
    "\n",
    "print()\n",
    "print(\"Empirical value: \")\n",
    "print(f\"{empirical_value} kcal/mol\")"
   ]
  },
  {
   "cell_type": "markdown",
   "id": "baa0e606-f4a7-4999-ad64-e10c7bb95be9",
   "metadata": {},
   "source": [
    "#### Visualizing salt bridge distance compared to GaMD pmf\n",
    "\n",
    "Similar to the two-step charging step, the salt bridge between VH-R50 and Ag-E71 is only retained in a small minority of TI frames during the one step transformation."
   ]
  },
  {
   "cell_type": "code",
   "execution_count": 27,
   "id": "57005772-560c-4998-a8a5-ba40c3b54528",
   "metadata": {
    "tags": []
   },
   "outputs": [
    {
     "data": {
      "image/svg+xml": [
       "<svg class=\"main-svg\" xmlns=\"http://www.w3.org/2000/svg\" xmlns:xlink=\"http://www.w3.org/1999/xlink\" width=\"1500\" height=\"1200\" style=\"\" viewBox=\"0 0 1500 1200\"><rect x=\"0\" y=\"0\" width=\"1500\" height=\"1200\" style=\"fill: rgb(255, 255, 255); fill-opacity: 1;\"/><defs id=\"defs-aac202\"><g class=\"clips\"><clipPath id=\"clipaac202xyplot\" class=\"plotclip\"><rect width=\"1303\" height=\"1026\"/></clipPath><clipPath class=\"axesclip\" id=\"clipaac202x\"><rect x=\"160\" y=\"0\" width=\"1303\" height=\"1200\"/></clipPath><clipPath class=\"axesclip\" id=\"clipaac202y\"><rect x=\"0\" y=\"36\" width=\"1500\" height=\"1026\"/></clipPath><clipPath class=\"axesclip\" id=\"clipaac202xy\"><rect x=\"160\" y=\"36\" width=\"1303\" height=\"1026\"/></clipPath></g><g class=\"gradients\"/><g class=\"patterns\"/></defs><g class=\"bglayer\"/><g class=\"layer-below\"><g class=\"imagelayer\"/><g class=\"shapelayer\"/></g><g class=\"cartesianlayer\"><g class=\"subplot xy\"><g class=\"layer-subplot\"><g class=\"shapelayer\"/><g class=\"imagelayer\"/></g><g class=\"minor-gridlayer\"><g class=\"x\"/><g class=\"y\"/></g><g class=\"gridlayer\"><g class=\"x\"/><g class=\"y\"><path class=\"ygrid crisp\" transform=\"translate(0,856.8)\" d=\"M160,0h1303\" style=\"stroke: rgb(255, 255, 255); stroke-opacity: 1; stroke-width: 1px;\"/><path class=\"ygrid crisp\" transform=\"translate(0,651.6)\" d=\"M160,0h1303\" style=\"stroke: rgb(255, 255, 255); stroke-opacity: 1; stroke-width: 1px;\"/><path class=\"ygrid crisp\" transform=\"translate(0,446.4)\" d=\"M160,0h1303\" style=\"stroke: rgb(255, 255, 255); stroke-opacity: 1; stroke-width: 1px;\"/><path class=\"ygrid crisp\" transform=\"translate(0,241.2)\" d=\"M160,0h1303\" style=\"stroke: rgb(255, 255, 255); stroke-opacity: 1; stroke-width: 1px;\"/></g></g><g class=\"zerolinelayer\"><path class=\"yzl zl crisp\" transform=\"translate(0,1062)\" d=\"M160,0h1303\" style=\"stroke: rgb(255, 255, 255); stroke-opacity: 1; stroke-width: 2px;\"/></g><path class=\"xlines-below\"/><path class=\"ylines-below\"/><g class=\"overlines-below\"/><g class=\"xaxislayer-below\"/><g class=\"yaxislayer-below\"/><g class=\"overaxes-below\"/><g class=\"plot\" transform=\"translate(160,36)\" clip-path=\"url(#clipaac202xyplot)\"><g class=\"barlayer mlayer\"><g class=\"trace bars\" style=\"opacity: 1;\"><g class=\"points\"><g class=\"point\"><path d=\"M272.75,1026V1019.75H291.27V1026Z\" style=\"vector-effect: non-scaling-stroke; opacity: 1; stroke-width: 1px; fill: rgb(237, 248, 233); fill-opacity: 1; stroke: rgb(0, 0, 0); stroke-opacity: 1;\"/></g><g class=\"point\"><path d=\"M291.27,1026V975.15H309.8V1026Z\" style=\"vector-effect: non-scaling-stroke; opacity: 1; stroke-width: 1px; fill: rgb(237, 248, 233); fill-opacity: 1; stroke: rgb(0, 0, 0); stroke-opacity: 1;\"/></g><g class=\"point\"><path d=\"M309.8,1026V760.13H328.33V1026Z\" style=\"vector-effect: non-scaling-stroke; opacity: 1; stroke-width: 1px; fill: rgb(237, 248, 233); fill-opacity: 1; stroke: rgb(0, 0, 0); stroke-opacity: 1;\"/></g><g class=\"point\"><path d=\"M328.33,1026V557.61H346.86V1026Z\" style=\"vector-effect: non-scaling-stroke; opacity: 1; stroke-width: 1px; fill: rgb(237, 248, 233); fill-opacity: 1; stroke: rgb(0, 0, 0); stroke-opacity: 1;\"/></g><g class=\"point\"><path d=\"M346.86,1026V230.18H365.39V1026Z\" style=\"vector-effect: non-scaling-stroke; opacity: 1; stroke-width: 1px; fill: rgb(237, 248, 233); fill-opacity: 1; stroke: rgb(0, 0, 0); stroke-opacity: 1;\"/></g><g class=\"point\"><path d=\"M365.39,1026V0H383.92V1026Z\" style=\"vector-effect: non-scaling-stroke; opacity: 1; stroke-width: 1px; fill: rgb(237, 248, 233); fill-opacity: 1; stroke: rgb(0, 0, 0); stroke-opacity: 1;\"/></g><g class=\"point\"><path d=\"M383.92,1026V274.79H402.45V1026Z\" style=\"vector-effect: non-scaling-stroke; opacity: 1; stroke-width: 1px; fill: rgb(237, 248, 233); fill-opacity: 1; stroke: rgb(0, 0, 0); stroke-opacity: 1;\"/></g><g class=\"point\"><path d=\"M402.45,1026V451.44H420.98V1026Z\" style=\"vector-effect: non-scaling-stroke; opacity: 1; stroke-width: 1px; fill: rgb(237, 248, 233); fill-opacity: 1; stroke: rgb(0, 0, 0); stroke-opacity: 1;\"/></g><g class=\"point\"><path d=\"M420.98,1026V535.3H439.5V1026Z\" style=\"vector-effect: non-scaling-stroke; opacity: 1; stroke-width: 1px; fill: rgb(237, 248, 233); fill-opacity: 1; stroke: rgb(0, 0, 0); stroke-opacity: 1;\"/></g><g class=\"point\"><path d=\"M439.5,1026V529.95H458.03V1026Z\" style=\"vector-effect: non-scaling-stroke; opacity: 1; stroke-width: 1px; fill: rgb(237, 248, 233); fill-opacity: 1; stroke: rgb(0, 0, 0); stroke-opacity: 1;\"/></g><g class=\"point\"><path d=\"M458.03,1026V529.06H476.56V1026Z\" style=\"vector-effect: non-scaling-stroke; opacity: 1; stroke-width: 1px; fill: rgb(237, 248, 233); fill-opacity: 1; stroke: rgb(0, 0, 0); stroke-opacity: 1;\"/></g><g class=\"point\"><path d=\"M476.56,1026V503.19H495.09V1026Z\" style=\"vector-effect: non-scaling-stroke; opacity: 1; stroke-width: 1px; fill: rgb(237, 248, 233); fill-opacity: 1; stroke: rgb(0, 0, 0); stroke-opacity: 1;\"/></g><g class=\"point\"><path d=\"M495.09,1026V538.87H513.62V1026Z\" style=\"vector-effect: non-scaling-stroke; opacity: 1; stroke-width: 1px; fill: rgb(237, 248, 233); fill-opacity: 1; stroke: rgb(0, 0, 0); stroke-opacity: 1;\"/></g><g class=\"point\"><path d=\"M513.62,1026V518.35H532.15V1026Z\" style=\"vector-effect: non-scaling-stroke; opacity: 1; stroke-width: 1px; fill: rgb(237, 248, 233); fill-opacity: 1; stroke: rgb(0, 0, 0); stroke-opacity: 1;\"/></g><g class=\"point\"><path d=\"M532.15,1026V599.54H550.68V1026Z\" style=\"vector-effect: non-scaling-stroke; opacity: 1; stroke-width: 1px; fill: rgb(237, 248, 233); fill-opacity: 1; stroke: rgb(0, 0, 0); stroke-opacity: 1;\"/></g><g class=\"point\"><path d=\"M550.68,1026V678.94H569.21V1026Z\" style=\"vector-effect: non-scaling-stroke; opacity: 1; stroke-width: 1px; fill: rgb(237, 248, 233); fill-opacity: 1; stroke: rgb(0, 0, 0); stroke-opacity: 1;\"/></g><g class=\"point\"><path d=\"M569.21,1026V733.37H587.74V1026Z\" style=\"vector-effect: non-scaling-stroke; opacity: 1; stroke-width: 1px; fill: rgb(237, 248, 233); fill-opacity: 1; stroke: rgb(0, 0, 0); stroke-opacity: 1;\"/></g><g class=\"point\"><path d=\"M587.74,1026V777.98H606.26V1026Z\" style=\"vector-effect: non-scaling-stroke; opacity: 1; stroke-width: 1px; fill: rgb(237, 248, 233); fill-opacity: 1; stroke: rgb(0, 0, 0); stroke-opacity: 1;\"/></g><g class=\"point\"><path d=\"M606.26,1026V828.83H624.79V1026Z\" style=\"vector-effect: non-scaling-stroke; opacity: 1; stroke-width: 1px; fill: rgb(237, 248, 233); fill-opacity: 1; stroke: rgb(0, 0, 0); stroke-opacity: 1;\"/></g><g class=\"point\"><path d=\"M624.79,1026V819.02H643.32V1026Z\" style=\"vector-effect: non-scaling-stroke; opacity: 1; stroke-width: 1px; fill: rgb(237, 248, 233); fill-opacity: 1; stroke: rgb(0, 0, 0); stroke-opacity: 1;\"/></g><g class=\"point\"><path d=\"M643.32,1026V832.4H661.85V1026Z\" style=\"vector-effect: non-scaling-stroke; opacity: 1; stroke-width: 1px; fill: rgb(237, 248, 233); fill-opacity: 1; stroke: rgb(0, 0, 0); stroke-opacity: 1;\"/></g><g class=\"point\"><path d=\"M661.85,1026V824.37H680.38V1026Z\" style=\"vector-effect: non-scaling-stroke; opacity: 1; stroke-width: 1px; fill: rgb(237, 248, 233); fill-opacity: 1; stroke: rgb(0, 0, 0); stroke-opacity: 1;\"/></g><g class=\"point\"><path d=\"M680.38,1026V834.18H698.91V1026Z\" style=\"vector-effect: non-scaling-stroke; opacity: 1; stroke-width: 1px; fill: rgb(237, 248, 233); fill-opacity: 1; stroke: rgb(0, 0, 0); stroke-opacity: 1;\"/></g><g class=\"point\"><path d=\"M698.91,1026V837.75H717.44V1026Z\" style=\"vector-effect: non-scaling-stroke; opacity: 1; stroke-width: 1px; fill: rgb(237, 248, 233); fill-opacity: 1; stroke: rgb(0, 0, 0); stroke-opacity: 1;\"/></g><g class=\"point\"><path d=\"M717.44,1026V852.92H735.97V1026Z\" style=\"vector-effect: non-scaling-stroke; opacity: 1; stroke-width: 1px; fill: rgb(237, 248, 233); fill-opacity: 1; stroke: rgb(0, 0, 0); stroke-opacity: 1;\"/></g><g class=\"point\"><path d=\"M735.97,1026V876.11H754.49V1026Z\" style=\"vector-effect: non-scaling-stroke; opacity: 1; stroke-width: 1px; fill: rgb(237, 248, 233); fill-opacity: 1; stroke: rgb(0, 0, 0); stroke-opacity: 1;\"/></g><g class=\"point\"><path d=\"M754.49,1026V885.93H773.02V1026Z\" style=\"vector-effect: non-scaling-stroke; opacity: 1; stroke-width: 1px; fill: rgb(237, 248, 233); fill-opacity: 1; stroke: rgb(0, 0, 0); stroke-opacity: 1;\"/></g><g class=\"point\"><path d=\"M773.02,1026V916.26H791.55V1026Z\" style=\"vector-effect: non-scaling-stroke; opacity: 1; stroke-width: 1px; fill: rgb(237, 248, 233); fill-opacity: 1; stroke: rgb(0, 0, 0); stroke-opacity: 1;\"/></g><g class=\"point\"><path d=\"M791.55,1026V934.11H810.08V1026Z\" style=\"vector-effect: non-scaling-stroke; opacity: 1; stroke-width: 1px; fill: rgb(237, 248, 233); fill-opacity: 1; stroke: rgb(0, 0, 0); stroke-opacity: 1;\"/></g><g class=\"point\"><path d=\"M810.08,1026V952.84H828.61V1026Z\" style=\"vector-effect: non-scaling-stroke; opacity: 1; stroke-width: 1px; fill: rgb(237, 248, 233); fill-opacity: 1; stroke: rgb(0, 0, 0); stroke-opacity: 1;\"/></g><g class=\"point\"><path d=\"M828.61,1026V973.36H847.14V1026Z\" style=\"vector-effect: non-scaling-stroke; opacity: 1; stroke-width: 1px; fill: rgb(237, 248, 233); fill-opacity: 1; stroke: rgb(0, 0, 0); stroke-opacity: 1;\"/></g><g class=\"point\"><path d=\"M847.14,1026V964.44H865.67V1026Z\" style=\"vector-effect: non-scaling-stroke; opacity: 1; stroke-width: 1px; fill: rgb(237, 248, 233); fill-opacity: 1; stroke: rgb(0, 0, 0); stroke-opacity: 1;\"/></g><g class=\"point\"><path d=\"M865.67,1026V971.58H884.2V1026Z\" style=\"vector-effect: non-scaling-stroke; opacity: 1; stroke-width: 1px; fill: rgb(237, 248, 233); fill-opacity: 1; stroke: rgb(0, 0, 0); stroke-opacity: 1;\"/></g><g class=\"point\"><path d=\"M884.2,1026V980.5H902.73V1026Z\" style=\"vector-effect: non-scaling-stroke; opacity: 1; stroke-width: 1px; fill: rgb(237, 248, 233); fill-opacity: 1; stroke: rgb(0, 0, 0); stroke-opacity: 1;\"/></g><g class=\"point\"><path d=\"M902.73,1026V982.28H921.25V1026Z\" style=\"vector-effect: non-scaling-stroke; opacity: 1; stroke-width: 1px; fill: rgb(237, 248, 233); fill-opacity: 1; stroke: rgb(0, 0, 0); stroke-opacity: 1;\"/></g><g class=\"point\"><path d=\"M921.25,1026V979.61H939.78V1026Z\" style=\"vector-effect: non-scaling-stroke; opacity: 1; stroke-width: 1px; fill: rgb(237, 248, 233); fill-opacity: 1; stroke: rgb(0, 0, 0); stroke-opacity: 1;\"/></g><g class=\"point\"><path d=\"M939.78,1026V979.61H958.31V1026Z\" style=\"vector-effect: non-scaling-stroke; opacity: 1; stroke-width: 1px; fill: rgb(237, 248, 233); fill-opacity: 1; stroke: rgb(0, 0, 0); stroke-opacity: 1;\"/></g><g class=\"point\"><path d=\"M958.31,1026V983.18H976.84V1026Z\" style=\"vector-effect: non-scaling-stroke; opacity: 1; stroke-width: 1px; fill: rgb(237, 248, 233); fill-opacity: 1; stroke: rgb(0, 0, 0); stroke-opacity: 1;\"/></g><g class=\"point\"><path d=\"M976.84,1026V992.1H995.37V1026Z\" style=\"vector-effect: non-scaling-stroke; opacity: 1; stroke-width: 1px; fill: rgb(237, 248, 233); fill-opacity: 1; stroke: rgb(0, 0, 0); stroke-opacity: 1;\"/></g><g class=\"point\"><path d=\"M995.37,1026V1006.37H1013.9V1026Z\" style=\"vector-effect: non-scaling-stroke; opacity: 1; stroke-width: 1px; fill: rgb(237, 248, 233); fill-opacity: 1; stroke: rgb(0, 0, 0); stroke-opacity: 1;\"/></g><g class=\"point\"><path d=\"M1013.9,1026V996.56H1032.43V1026Z\" style=\"vector-effect: non-scaling-stroke; opacity: 1; stroke-width: 1px; fill: rgb(237, 248, 233); fill-opacity: 1; stroke: rgb(0, 0, 0); stroke-opacity: 1;\"/></g><g class=\"point\"><path d=\"M1032.43,1026V1003.7H1050.96V1026Z\" style=\"vector-effect: non-scaling-stroke; opacity: 1; stroke-width: 1px; fill: rgb(237, 248, 233); fill-opacity: 1; stroke: rgb(0, 0, 0); stroke-opacity: 1;\"/></g><g class=\"point\"><path d=\"M1050.96,1026V1014.4H1069.48V1026Z\" style=\"vector-effect: non-scaling-stroke; opacity: 1; stroke-width: 1px; fill: rgb(237, 248, 233); fill-opacity: 1; stroke: rgb(0, 0, 0); stroke-opacity: 1;\"/></g><g class=\"point\"><path d=\"M1069.48,1026V1019.75H1088.01V1026Z\" style=\"vector-effect: non-scaling-stroke; opacity: 1; stroke-width: 1px; fill: rgb(237, 248, 233); fill-opacity: 1; stroke: rgb(0, 0, 0); stroke-opacity: 1;\"/></g><g class=\"point\"><path d=\"M1088.01,1026V1018.86H1106.54V1026Z\" style=\"vector-effect: non-scaling-stroke; opacity: 1; stroke-width: 1px; fill: rgb(237, 248, 233); fill-opacity: 1; stroke: rgb(0, 0, 0); stroke-opacity: 1;\"/></g><g class=\"point\"><path d=\"M1106.54,1026V1020.65H1125.07V1026Z\" style=\"vector-effect: non-scaling-stroke; opacity: 1; stroke-width: 1px; fill: rgb(237, 248, 233); fill-opacity: 1; stroke: rgb(0, 0, 0); stroke-opacity: 1;\"/></g><g class=\"point\"><path d=\"M1125.07,1026V1024.22H1143.6V1026Z\" style=\"vector-effect: non-scaling-stroke; opacity: 1; stroke-width: 1px; fill: rgb(237, 248, 233); fill-opacity: 1; stroke: rgb(0, 0, 0); stroke-opacity: 1;\"/></g><g class=\"point\"><path d=\"M1143.6,1026V1023.32H1162.13V1026Z\" style=\"vector-effect: non-scaling-stroke; opacity: 1; stroke-width: 1px; fill: rgb(237, 248, 233); fill-opacity: 1; stroke: rgb(0, 0, 0); stroke-opacity: 1;\"/></g><g class=\"point\"><path d=\"M1162.13,1026V1026H1180.66V1026Z\" style=\"vector-effect: non-scaling-stroke; opacity: 1; stroke-width: 1px; fill: rgb(237, 248, 233); fill-opacity: 1; stroke: rgb(0, 0, 0); stroke-opacity: 1;\"/></g><g class=\"point\"><path d=\"M1180.66,1026V1025.11H1199.19V1026Z\" style=\"vector-effect: non-scaling-stroke; opacity: 1; stroke-width: 1px; fill: rgb(237, 248, 233); fill-opacity: 1; stroke: rgb(0, 0, 0); stroke-opacity: 1;\"/></g></g></g></g><g class=\"scatterlayer mlayer\"><g class=\"trace scatter tracefbaf1c\" style=\"stroke-miterlimit: 2; opacity: 1;\"><g class=\"fills\"/><g class=\"errorbars\"/><g class=\"lines\"><path class=\"js-line\" d=\"M0,1026L293.18,1026L301.32,749.51L317.61,0L325.75,90.72L333.89,348.21L342.04,564.9L350.18,703.31L358.33,813.47L366.47,828.69L374.61,855.88L382.76,1026L390.9,1026L553.78,1026L561.92,1004.58L570.06,1006.57L578.21,1026L2027.79,1026\" style=\"vector-effect: non-scaling-stroke; fill: none; stroke: rgb(0, 109, 44); stroke-opacity: 1; stroke-width: 4px; opacity: 1;\"/></g><g class=\"points\"/><g class=\"text\"/></g></g></g><g class=\"overplot\"/><path class=\"xlines-above crisp\" d=\"M158,1063H1463\" style=\"fill: none; stroke-width: 2px; stroke: rgb(0, 0, 0); stroke-opacity: 1;\"/><path class=\"ylines-above crisp\" d=\"M159,36V1062\" style=\"fill: none; stroke-width: 2px; stroke: rgb(0, 0, 0); stroke-opacity: 1;\"/><g class=\"overlines-above\"/><g class=\"xaxislayer-above\"><path class=\"xtick ticks crisp\" d=\"M0,1064v10\" transform=\"translate(160,0)\" style=\"stroke: rgb(68, 68, 68); stroke-opacity: 1; stroke-width: 2px;\"/><path class=\"xtick ticks crisp\" d=\"M0,1064v10\" transform=\"translate(241.44,0)\" style=\"stroke: rgb(68, 68, 68); stroke-opacity: 1; stroke-width: 2px;\"/><path class=\"xtick ticks crisp\" d=\"M0,1064v10\" transform=\"translate(322.88,0)\" style=\"stroke: rgb(68, 68, 68); stroke-opacity: 1; stroke-width: 2px;\"/><path class=\"xtick ticks crisp\" d=\"M0,1064v10\" transform=\"translate(404.31,0)\" style=\"stroke: rgb(68, 68, 68); stroke-opacity: 1; stroke-width: 2px;\"/><path class=\"xtick ticks crisp\" d=\"M0,1064v10\" transform=\"translate(485.75,0)\" style=\"stroke: rgb(68, 68, 68); stroke-opacity: 1; stroke-width: 2px;\"/><path class=\"xtick ticks crisp\" d=\"M0,1064v10\" transform=\"translate(567.19,0)\" style=\"stroke: rgb(68, 68, 68); stroke-opacity: 1; stroke-width: 2px;\"/><path class=\"xtick ticks crisp\" d=\"M0,1064v10\" transform=\"translate(648.63,0)\" style=\"stroke: rgb(68, 68, 68); stroke-opacity: 1; stroke-width: 2px;\"/><path class=\"xtick ticks crisp\" d=\"M0,1064v10\" transform=\"translate(730.06,0)\" style=\"stroke: rgb(68, 68, 68); stroke-opacity: 1; stroke-width: 2px;\"/><path class=\"xtick ticks crisp\" d=\"M0,1064v10\" transform=\"translate(811.5,0)\" style=\"stroke: rgb(68, 68, 68); stroke-opacity: 1; stroke-width: 2px;\"/><path class=\"xtick ticks crisp\" d=\"M0,1064v10\" transform=\"translate(892.94,0)\" style=\"stroke: rgb(68, 68, 68); stroke-opacity: 1; stroke-width: 2px;\"/><path class=\"xtick ticks crisp\" d=\"M0,1064v10\" transform=\"translate(974.38,0)\" style=\"stroke: rgb(68, 68, 68); stroke-opacity: 1; stroke-width: 2px;\"/><path class=\"xtick ticks crisp\" d=\"M0,1064v10\" transform=\"translate(1055.81,0)\" style=\"stroke: rgb(68, 68, 68); stroke-opacity: 1; stroke-width: 2px;\"/><path class=\"xtick ticks crisp\" d=\"M0,1064v10\" transform=\"translate(1137.25,0)\" style=\"stroke: rgb(68, 68, 68); stroke-opacity: 1; stroke-width: 2px;\"/><path class=\"xtick ticks crisp\" d=\"M0,1064v10\" transform=\"translate(1218.69,0)\" style=\"stroke: rgb(68, 68, 68); stroke-opacity: 1; stroke-width: 2px;\"/><path class=\"xtick ticks crisp\" d=\"M0,1064v10\" transform=\"translate(1300.13,0)\" style=\"stroke: rgb(68, 68, 68); stroke-opacity: 1; stroke-width: 2px;\"/><path class=\"xtick ticks crisp\" d=\"M0,1064v10\" transform=\"translate(1381.56,0)\" style=\"stroke: rgb(68, 68, 68); stroke-opacity: 1; stroke-width: 2px;\"/><path class=\"xtick ticks crisp\" d=\"M0,1064v10\" transform=\"translate(1463,0)\" style=\"stroke: rgb(68, 68, 68); stroke-opacity: 1; stroke-width: 2px;\"/><g class=\"xtick\"><text text-anchor=\"middle\" x=\"0\" y=\"1131.6\" transform=\"translate(160,0)\" style=\"font-family: Arial; font-size: 48px; fill: rgb(0, 0, 0); fill-opacity: 1; white-space: pre; opacity: 1;\">0</text></g><g class=\"xtick\"><text text-anchor=\"middle\" x=\"0\" y=\"1131.6\" style=\"font-family: Arial; font-size: 48px; fill: rgb(0, 0, 0); fill-opacity: 1; white-space: pre; opacity: 1;\" transform=\"translate(241.44,0)\">1</text></g><g class=\"xtick\"><text text-anchor=\"middle\" x=\"0\" y=\"1131.6\" style=\"font-family: Arial; font-size: 48px; fill: rgb(0, 0, 0); fill-opacity: 1; white-space: pre; opacity: 1;\" transform=\"translate(322.88,0)\">2</text></g><g class=\"xtick\"><text text-anchor=\"middle\" x=\"0\" y=\"1131.6\" style=\"font-family: Arial; font-size: 48px; fill: rgb(0, 0, 0); fill-opacity: 1; white-space: pre; opacity: 1;\" transform=\"translate(404.31,0)\">3</text></g><g class=\"xtick\"><text text-anchor=\"middle\" x=\"0\" y=\"1131.6\" style=\"font-family: Arial; font-size: 48px; fill: rgb(0, 0, 0); fill-opacity: 1; white-space: pre; opacity: 1;\" transform=\"translate(485.75,0)\">4</text></g><g class=\"xtick\"><text text-anchor=\"middle\" x=\"0\" y=\"1131.6\" style=\"font-family: Arial; font-size: 48px; fill: rgb(0, 0, 0); fill-opacity: 1; white-space: pre; opacity: 1;\" transform=\"translate(567.19,0)\">5</text></g><g class=\"xtick\"><text text-anchor=\"middle\" x=\"0\" y=\"1131.6\" style=\"font-family: Arial; font-size: 48px; fill: rgb(0, 0, 0); fill-opacity: 1; white-space: pre; opacity: 1;\" transform=\"translate(648.63,0)\">6</text></g><g class=\"xtick\"><text text-anchor=\"middle\" x=\"0\" y=\"1131.6\" style=\"font-family: Arial; font-size: 48px; fill: rgb(0, 0, 0); fill-opacity: 1; white-space: pre; opacity: 1;\" transform=\"translate(730.06,0)\">7</text></g><g class=\"xtick\"><text text-anchor=\"middle\" x=\"0\" y=\"1131.6\" style=\"font-family: Arial; font-size: 48px; fill: rgb(0, 0, 0); fill-opacity: 1; white-space: pre; opacity: 1;\" transform=\"translate(811.5,0)\">8</text></g><g class=\"xtick\"><text text-anchor=\"middle\" x=\"0\" y=\"1131.6\" style=\"font-family: Arial; font-size: 48px; fill: rgb(0, 0, 0); fill-opacity: 1; white-space: pre; opacity: 1;\" transform=\"translate(892.94,0)\">9</text></g><g class=\"xtick\"><text text-anchor=\"middle\" x=\"0\" y=\"1131.6\" style=\"font-family: Arial; font-size: 48px; fill: rgb(0, 0, 0); fill-opacity: 1; white-space: pre; opacity: 1;\" transform=\"translate(974.38,0)\">10</text></g><g class=\"xtick\"><text text-anchor=\"middle\" x=\"0\" y=\"1131.6\" style=\"font-family: Arial; font-size: 48px; fill: rgb(0, 0, 0); fill-opacity: 1; white-space: pre; opacity: 1;\" transform=\"translate(1055.81,0)\">11</text></g><g class=\"xtick\"><text text-anchor=\"middle\" x=\"0\" y=\"1131.6\" style=\"font-family: Arial; font-size: 48px; fill: rgb(0, 0, 0); fill-opacity: 1; white-space: pre; opacity: 1;\" transform=\"translate(1137.25,0)\">12</text></g><g class=\"xtick\"><text text-anchor=\"middle\" x=\"0\" y=\"1131.6\" style=\"font-family: Arial; font-size: 48px; fill: rgb(0, 0, 0); fill-opacity: 1; white-space: pre; opacity: 1;\" transform=\"translate(1218.69,0)\">13</text></g><g class=\"xtick\"><text text-anchor=\"middle\" x=\"0\" y=\"1131.6\" style=\"font-family: Arial; font-size: 48px; fill: rgb(0, 0, 0); fill-opacity: 1; white-space: pre; opacity: 1;\" transform=\"translate(1300.13,0)\">14</text></g><g class=\"xtick\"><text text-anchor=\"middle\" x=\"0\" y=\"1131.6\" style=\"font-family: Arial; font-size: 48px; fill: rgb(0, 0, 0); fill-opacity: 1; white-space: pre; opacity: 1;\" transform=\"translate(1381.56,0)\">15</text></g><g class=\"xtick\"><text text-anchor=\"middle\" x=\"0\" y=\"1131.6\" style=\"font-family: Arial; font-size: 48px; fill: rgb(0, 0, 0); fill-opacity: 1; white-space: pre; opacity: 1;\" transform=\"translate(1463,0)\">16</text></g></g><g class=\"yaxislayer-above\"><path class=\"ytick ticks crisp\" d=\"M158,0h-10\" transform=\"translate(0,1062)\" style=\"stroke: rgb(68, 68, 68); stroke-opacity: 1; stroke-width: 2px;\"/><path class=\"ytick ticks crisp\" d=\"M158,0h-10\" transform=\"translate(0,856.8)\" style=\"stroke: rgb(68, 68, 68); stroke-opacity: 1; stroke-width: 2px;\"/><path class=\"ytick ticks crisp\" d=\"M158,0h-10\" transform=\"translate(0,651.6)\" style=\"stroke: rgb(68, 68, 68); stroke-opacity: 1; stroke-width: 2px;\"/><path class=\"ytick ticks crisp\" d=\"M158,0h-10\" transform=\"translate(0,446.4)\" style=\"stroke: rgb(68, 68, 68); stroke-opacity: 1; stroke-width: 2px;\"/><path class=\"ytick ticks crisp\" d=\"M158,0h-10\" transform=\"translate(0,241.2)\" style=\"stroke: rgb(68, 68, 68); stroke-opacity: 1; stroke-width: 2px;\"/><path class=\"ytick ticks crisp\" d=\"M158,0h-10\" transform=\"translate(0,36)\" style=\"stroke: rgb(68, 68, 68); stroke-opacity: 1; stroke-width: 2px;\"/><g class=\"ytick\"><text text-anchor=\"end\" x=\"138.4\" y=\"16.799999999999997\" transform=\"translate(0,1062)\" style=\"font-family: Arial; font-size: 48px; fill: rgb(0, 0, 0); fill-opacity: 1; white-space: pre; opacity: 1;\">0</text></g><g class=\"ytick\"><text text-anchor=\"end\" x=\"138.4\" y=\"16.799999999999997\" style=\"font-family: Arial; font-size: 48px; fill: rgb(0, 0, 0); fill-opacity: 1; white-space: pre; opacity: 1;\" transform=\"translate(0,856.8)\">20</text></g><g class=\"ytick\"><text text-anchor=\"end\" x=\"138.4\" y=\"16.799999999999997\" style=\"font-family: Arial; font-size: 48px; fill: rgb(0, 0, 0); fill-opacity: 1; white-space: pre; opacity: 1;\" transform=\"translate(0,651.6)\">40</text></g><g class=\"ytick\"><text text-anchor=\"end\" x=\"138.4\" y=\"16.799999999999997\" style=\"font-family: Arial; font-size: 48px; fill: rgb(0, 0, 0); fill-opacity: 1; white-space: pre; opacity: 1;\" transform=\"translate(0,446.4)\">60</text></g><g class=\"ytick\"><text text-anchor=\"end\" x=\"138.4\" y=\"16.799999999999997\" style=\"font-family: Arial; font-size: 48px; fill: rgb(0, 0, 0); fill-opacity: 1; white-space: pre; opacity: 1;\" transform=\"translate(0,241.2)\">80</text></g><g class=\"ytick\"><text text-anchor=\"end\" x=\"138.4\" y=\"16.799999999999997\" style=\"font-family: Arial; font-size: 48px; fill: rgb(0, 0, 0); fill-opacity: 1; white-space: pre; opacity: 1;\" transform=\"translate(0,36)\">100</text></g></g><g class=\"overaxes-above\"/></g></g><g class=\"polarlayer\"/><g class=\"smithlayer\"/><g class=\"ternarylayer\"/><g class=\"geolayer\"/><g class=\"funnelarealayer\"/><g class=\"pielayer\"/><g class=\"iciclelayer\"/><g class=\"treemaplayer\"/><g class=\"sunburstlayer\"/><g class=\"glimages\"/><defs id=\"topdefs-aac202\"><g class=\"clips\"/><clipPath id=\"legendaac202\"><rect width=\"622\" height=\"141\" x=\"1\" y=\"1\"/></clipPath></defs><g class=\"layer-above\"><g class=\"imagelayer\"/><g class=\"shapelayer\"/></g><g class=\"infolayer\"><g class=\"legend\" pointer-events=\"all\" transform=\"translate(811.5,36)\"><rect class=\"bg\" shape-rendering=\"crispEdges\" width=\"623\" height=\"142\" x=\"0.5\" y=\"0.5\" style=\"stroke: rgb(0, 0, 0); stroke-opacity: 1; fill: rgb(255, 255, 255); fill-opacity: 1; stroke-width: 1px;\"/><g class=\"scrollbox\" transform=\"\" clip-path=\"url(#legendaac202)\"><g class=\"groups\"><g class=\"traces\" transform=\"translate(1,38.7)\" style=\"opacity: 1;\"><text class=\"legendtext\" text-anchor=\"start\" x=\"40\" y=\"18.720000000000002\" style=\"font-family: Arial; font-size: 48px; fill: rgb(0, 0, 0); fill-opacity: 1; white-space: pre;\">-exp(GaMD PMF)</text><g class=\"layers\" style=\"opacity: 1;\"><g class=\"legendfill\"/><g class=\"legendlines\"><path class=\"js-line\" d=\"M5,0h30\" style=\"fill: none; stroke: rgb(0, 109, 44); stroke-opacity: 1; stroke-width: 4px;\"/></g><g class=\"legendsymbols\"><g class=\"legendpoints\"/></g></g><rect class=\"legendtoggle\" x=\"0\" y=\"-32.7\" width=\"616.234375\" height=\"65.4\" style=\"fill: rgb(0, 0, 0); fill-opacity: 0;\"/></g><g class=\"traces\" transform=\"translate(1,104.10000000000001)\" style=\"opacity: 1;\"><text class=\"legendtext\" text-anchor=\"start\" x=\"40\" y=\"18.720000000000002\" style=\"font-family: Arial; font-size: 48px; fill: rgb(0, 0, 0); fill-opacity: 1; white-space: pre;\">TI Lambda Prod Histogram</text><g class=\"layers\" style=\"opacity: 1;\"><g class=\"legendfill\"/><g class=\"legendlines\"/><g class=\"legendsymbols\"><g class=\"legendpoints\"><path class=\"legendundefined\" d=\"M6,6H-6V-6H6Z\" transform=\"translate(20,0)\" style=\"stroke-width: 1px; fill: rgb(237, 248, 233); fill-opacity: 1; stroke: rgb(0, 0, 0); stroke-opacity: 1;\"/></g></g></g><rect class=\"legendtoggle\" x=\"0\" y=\"-32.7\" width=\"616.234375\" height=\"65.4\" style=\"fill: rgb(0, 0, 0); fill-opacity: 0;\"/></g></g></g><rect class=\"scrollbar\" rx=\"20\" ry=\"3\" width=\"0\" height=\"0\" x=\"0\" y=\"0\" style=\"fill: rgb(128, 139, 164); fill-opacity: 1;\"/></g><g class=\"g-gtitle\"/><g class=\"g-xtitle\" transform=\"translate(0,-1.209374999999909)\"><text class=\"xtitle\" x=\"811.5\" y=\"1190.209375\" text-anchor=\"middle\" style=\"font-family: Arial; font-size: 48px; fill: rgb(0, 0, 0); opacity: 1; font-weight: normal; white-space: pre;\"><tspan style=\"font-weight:bold\">Ag-E71:VH-R50 salt bridge distance (Å)</tspan></text></g><g class=\"g-ytitle\" transform=\"translate(33.287109375,0)\"><text class=\"ytitle\" transform=\"rotate(-90,9.712500000000006,549)\" x=\"9.712500000000006\" y=\"549\" text-anchor=\"middle\" style=\"font-family: Arial; font-size: 48px; fill: rgb(0, 0, 0); opacity: 1; font-weight: normal; white-space: pre;\"><tspan style=\"font-weight:bold\">Relative Abundance</tspan></text></g></g></svg>"
      ]
     },
     "metadata": {},
     "output_type": "display_data"
    }
   ],
   "source": [
    "fig_oneStep = plot_pmf_TI_1D_fig(E71_R399, geom_dvdls_oneStep, \"E71_R399_ion\", scaler=100, bins=50).update_layout(\n",
    "    width=1500,\n",
    "    height=1200,\n",
    "    barmode=\"overlay\",\n",
    "    paper_bgcolor=\"white\",\n",
    "    plot_bgcolor=\"white\",\n",
    "    margin=dict(l=10, r=10, t=10, b=10),\n",
    "    legend=dict(\n",
    "        font=dict(size=48, color=\"black\", family=\"Arial\"),\n",
    "        bordercolor=\"black\",\n",
    "        borderwidth=1,\n",
    "        x=0.5, y=1\n",
    "    )\n",
    ").update_xaxes(\n",
    "    range=[0,16],\n",
    "    showline=True,\n",
    "    linewidth=2,\n",
    "    linecolor=\"black\",\n",
    "    dtick=1.0,\n",
    "    ticks=\"outside\", ticklen=10, tickwidth=2,\n",
    "    tickfont=dict(size=48, color=\"black\", family=\"Arial\"),\n",
    "    title=dict(\n",
    "        text=\"<b>Ag-E71:VH-R50 salt bridge distance (Å)</b>\" ,\n",
    "        font=dict(family=\"Arial\", size=48, color=\"black\")\n",
    "    )\n",
    ").update_yaxes(\n",
    "    range=[0, 100],\n",
    "    linewidth=2,\n",
    "    linecolor=\"black\",\n",
    "    tickfont=dict(size=48, color=\"black\", family=\"Arial\"),\n",
    "    ticks=\"outside\", ticklen=10, tickwidth=2,\n",
    "    title=dict(\n",
    "        text=\"<b>Relative Abundance</b>\",\n",
    "        font=dict(family=\"Arial\", size=48, color=\"black\")\n",
    "    )\n",
    ")\n",
    "fig_oneStep.show(renderer=\"svg\")\n"
   ]
  },
  {
   "cell_type": "markdown",
   "id": "0580dfad-dd83-4e8d-a534-c213254ad86a",
   "metadata": {},
   "source": [
    "#### Using NMR restraints to enforce the salt bridge during the one-step transformation\n",
    "\n",
    "Like before, we use NMR restraints again in the one-step transformation to ensure that the energetically influential VH-R50...Ag-E71 salt bridge is retained."
   ]
  },
  {
   "cell_type": "code",
   "execution_count": 31,
   "id": "29974b1c-8c08-4642-98e8-ffa9666eba89",
   "metadata": {
    "tags": []
   },
   "outputs": [],
   "source": [
    "# bound state charging step\n",
    "os.chdir(\"../../TI_data/VH-R50A\")\n",
    "geom_dvdls_oneStep_rst = pd.read_csv(\"R50A_oneStep_rst_bound.csv\")\n"
   ]
  },
  {
   "cell_type": "code",
   "execution_count": 32,
   "id": "396aae1e-d33e-4e71-a8cf-f539902c4cee",
   "metadata": {
    "tags": []
   },
   "outputs": [
    {
     "data": {
      "image/svg+xml": [
       "<svg class=\"main-svg\" xmlns=\"http://www.w3.org/2000/svg\" xmlns:xlink=\"http://www.w3.org/1999/xlink\" width=\"1500\" height=\"1200\" style=\"\" viewBox=\"0 0 1500 1200\"><rect x=\"0\" y=\"0\" width=\"1500\" height=\"1200\" style=\"fill: rgb(255, 255, 255); fill-opacity: 1;\"/><defs id=\"defs-4e448a\"><g class=\"clips\"><clipPath id=\"clip4e448axyplot\" class=\"plotclip\"><rect width=\"1303\" height=\"1026\"/></clipPath><clipPath class=\"axesclip\" id=\"clip4e448ax\"><rect x=\"160\" y=\"0\" width=\"1303\" height=\"1200\"/></clipPath><clipPath class=\"axesclip\" id=\"clip4e448ay\"><rect x=\"0\" y=\"36\" width=\"1500\" height=\"1026\"/></clipPath><clipPath class=\"axesclip\" id=\"clip4e448axy\"><rect x=\"160\" y=\"36\" width=\"1303\" height=\"1026\"/></clipPath></g><g class=\"gradients\"/><g class=\"patterns\"/></defs><g class=\"bglayer\"/><g class=\"layer-below\"><g class=\"imagelayer\"/><g class=\"shapelayer\"/></g><g class=\"cartesianlayer\"><g class=\"subplot xy\"><g class=\"layer-subplot\"><g class=\"shapelayer\"/><g class=\"imagelayer\"/></g><g class=\"minor-gridlayer\"><g class=\"x\"/><g class=\"y\"/></g><g class=\"gridlayer\"><g class=\"x\"/><g class=\"y\"><path class=\"ygrid crisp\" transform=\"translate(0,856.8)\" d=\"M160,0h1303\" style=\"stroke: rgb(255, 255, 255); stroke-opacity: 1; stroke-width: 1px;\"/><path class=\"ygrid crisp\" transform=\"translate(0,651.6)\" d=\"M160,0h1303\" style=\"stroke: rgb(255, 255, 255); stroke-opacity: 1; stroke-width: 1px;\"/><path class=\"ygrid crisp\" transform=\"translate(0,446.4)\" d=\"M160,0h1303\" style=\"stroke: rgb(255, 255, 255); stroke-opacity: 1; stroke-width: 1px;\"/><path class=\"ygrid crisp\" transform=\"translate(0,241.2)\" d=\"M160,0h1303\" style=\"stroke: rgb(255, 255, 255); stroke-opacity: 1; stroke-width: 1px;\"/></g></g><g class=\"zerolinelayer\"><path class=\"yzl zl crisp\" transform=\"translate(0,1062)\" d=\"M160,0h1303\" style=\"stroke: rgb(255, 255, 255); stroke-opacity: 1; stroke-width: 2px;\"/></g><path class=\"xlines-below\"/><path class=\"ylines-below\"/><g class=\"overlines-below\"/><g class=\"xaxislayer-below\"/><g class=\"yaxislayer-below\"/><g class=\"overaxes-below\"/><g class=\"plot\" transform=\"translate(160,36)\" clip-path=\"url(#clip4e448axyplot)\"><g class=\"barlayer mlayer\"><g class=\"trace bars\" style=\"opacity: 1;\"><g class=\"points\"><g class=\"point\"><path d=\"M255.4,1026V1025.29H272.1V1026Z\" style=\"vector-effect: non-scaling-stroke; opacity: 1; stroke-width: 1px; fill: rgb(237, 248, 233); fill-opacity: 1; stroke: rgb(0, 0, 0); stroke-opacity: 1;\"/></g><g class=\"point\"><path d=\"M272.1,1026V1023.16H288.8V1026Z\" style=\"vector-effect: non-scaling-stroke; opacity: 1; stroke-width: 1px; fill: rgb(237, 248, 233); fill-opacity: 1; stroke: rgb(0, 0, 0); stroke-opacity: 1;\"/></g><g class=\"point\"><path d=\"M288.8,1026V993.09H305.51V1026Z\" style=\"vector-effect: non-scaling-stroke; opacity: 1; stroke-width: 1px; fill: rgb(237, 248, 233); fill-opacity: 1; stroke: rgb(0, 0, 0); stroke-opacity: 1;\"/></g><g class=\"point\"><path d=\"M305.51,1026V875.67H322.21V1026Z\" style=\"vector-effect: non-scaling-stroke; opacity: 1; stroke-width: 1px; fill: rgb(237, 248, 233); fill-opacity: 1; stroke: rgb(0, 0, 0); stroke-opacity: 1;\"/></g><g class=\"point\"><path d=\"M322.21,1026V739.55H338.91V1026Z\" style=\"vector-effect: non-scaling-stroke; opacity: 1; stroke-width: 1px; fill: rgb(237, 248, 233); fill-opacity: 1; stroke: rgb(0, 0, 0); stroke-opacity: 1;\"/></g><g class=\"point\"><path d=\"M338.91,1026V449.79H355.61V1026Z\" style=\"vector-effect: non-scaling-stroke; opacity: 1; stroke-width: 1px; fill: rgb(237, 248, 233); fill-opacity: 1; stroke: rgb(0, 0, 0); stroke-opacity: 1;\"/></g><g class=\"point\"><path d=\"M355.61,1026V0H372.32V1026Z\" style=\"vector-effect: non-scaling-stroke; opacity: 1; stroke-width: 1px; fill: rgb(237, 248, 233); fill-opacity: 1; stroke: rgb(0, 0, 0); stroke-opacity: 1;\"/></g><g class=\"point\"><path d=\"M372.32,1026V435.59H389.02V1026Z\" style=\"vector-effect: non-scaling-stroke; opacity: 1; stroke-width: 1px; fill: rgb(237, 248, 233); fill-opacity: 1; stroke: rgb(0, 0, 0); stroke-opacity: 1;\"/></g><g class=\"point\"><path d=\"M389.02,1026V919.23H405.72V1026Z\" style=\"vector-effect: non-scaling-stroke; opacity: 1; stroke-width: 1px; fill: rgb(237, 248, 233); fill-opacity: 1; stroke: rgb(0, 0, 0); stroke-opacity: 1;\"/></g><g class=\"point\"><path d=\"M405.72,1026V1009.19H422.42V1026Z\" style=\"vector-effect: non-scaling-stroke; opacity: 1; stroke-width: 1px; fill: rgb(237, 248, 233); fill-opacity: 1; stroke: rgb(0, 0, 0); stroke-opacity: 1;\"/></g><g class=\"point\"><path d=\"M422.42,1026V1022.92H439.12V1026Z\" style=\"vector-effect: non-scaling-stroke; opacity: 1; stroke-width: 1px; fill: rgb(237, 248, 233); fill-opacity: 1; stroke: rgb(0, 0, 0); stroke-opacity: 1;\"/></g><g class=\"point\"><path d=\"M439.12,1026V1025.53H455.83V1026Z\" style=\"vector-effect: non-scaling-stroke; opacity: 1; stroke-width: 1px; fill: rgb(237, 248, 233); fill-opacity: 1; stroke: rgb(0, 0, 0); stroke-opacity: 1;\"/></g><g class=\"point\"><path d=\"M455.83,1026V1025.53H472.53V1026Z\" style=\"vector-effect: non-scaling-stroke; opacity: 1; stroke-width: 1px; fill: rgb(237, 248, 233); fill-opacity: 1; stroke: rgb(0, 0, 0); stroke-opacity: 1;\"/></g><g class=\"point\"><path d=\"M472.53,1026V1026H489.23V1026Z\" style=\"vector-effect: non-scaling-stroke; opacity: 1; stroke-width: 1px; fill: rgb(237, 248, 233); fill-opacity: 1; stroke: rgb(0, 0, 0); stroke-opacity: 1;\"/></g><g class=\"point\"><path d=\"M489.23,1026V1026H505.93V1026Z\" style=\"vector-effect: non-scaling-stroke; opacity: 1; stroke-width: 1px; fill: rgb(237, 248, 233); fill-opacity: 1; stroke: rgb(0, 0, 0); stroke-opacity: 1;\"/></g><g class=\"point\"><path d=\"M505.93,1026V1026H522.63V1026Z\" style=\"vector-effect: non-scaling-stroke; opacity: 1; stroke-width: 1px; fill: rgb(237, 248, 233); fill-opacity: 1; stroke: rgb(0, 0, 0); stroke-opacity: 1;\"/></g><g class=\"point\"><path d=\"M522.63,1026V1026H539.34V1026Z\" style=\"vector-effect: non-scaling-stroke; opacity: 1; stroke-width: 1px; fill: rgb(237, 248, 233); fill-opacity: 1; stroke: rgb(0, 0, 0); stroke-opacity: 1;\"/></g><g class=\"point\"><path d=\"M539.34,1026V1026H556.04V1026Z\" style=\"vector-effect: non-scaling-stroke; opacity: 1; stroke-width: 1px; fill: rgb(237, 248, 233); fill-opacity: 1; stroke: rgb(0, 0, 0); stroke-opacity: 1;\"/></g><g class=\"point\"><path d=\"M556.04,1026V1026H572.74V1026Z\" style=\"vector-effect: non-scaling-stroke; opacity: 1; stroke-width: 1px; fill: rgb(237, 248, 233); fill-opacity: 1; stroke: rgb(0, 0, 0); stroke-opacity: 1;\"/></g><g class=\"point\"><path d=\"M572.74,1026V1026H589.44V1026Z\" style=\"vector-effect: non-scaling-stroke; opacity: 1; stroke-width: 1px; fill: rgb(237, 248, 233); fill-opacity: 1; stroke: rgb(0, 0, 0); stroke-opacity: 1;\"/></g><g class=\"point\"><path d=\"M589.44,1026V1026H606.14V1026Z\" style=\"vector-effect: non-scaling-stroke; opacity: 1; stroke-width: 1px; fill: rgb(237, 248, 233); fill-opacity: 1; stroke: rgb(0, 0, 0); stroke-opacity: 1;\"/></g><g class=\"point\"><path d=\"M606.14,1026V1026H622.85V1026Z\" style=\"vector-effect: non-scaling-stroke; opacity: 1; stroke-width: 1px; fill: rgb(237, 248, 233); fill-opacity: 1; stroke: rgb(0, 0, 0); stroke-opacity: 1;\"/></g><g class=\"point\"><path d=\"M622.85,1026V1026H639.55V1026Z\" style=\"vector-effect: non-scaling-stroke; opacity: 1; stroke-width: 1px; fill: rgb(237, 248, 233); fill-opacity: 1; stroke: rgb(0, 0, 0); stroke-opacity: 1;\"/></g><g class=\"point\"><path d=\"M639.55,1026V1026H656.25V1026Z\" style=\"vector-effect: non-scaling-stroke; opacity: 1; stroke-width: 1px; fill: rgb(237, 248, 233); fill-opacity: 1; stroke: rgb(0, 0, 0); stroke-opacity: 1;\"/></g><g class=\"point\"><path d=\"M656.25,1026V1026H672.95V1026Z\" style=\"vector-effect: non-scaling-stroke; opacity: 1; stroke-width: 1px; fill: rgb(237, 248, 233); fill-opacity: 1; stroke: rgb(0, 0, 0); stroke-opacity: 1;\"/></g><g class=\"point\"><path d=\"M672.95,1026V1026H689.66V1026Z\" style=\"vector-effect: non-scaling-stroke; opacity: 1; stroke-width: 1px; fill: rgb(237, 248, 233); fill-opacity: 1; stroke: rgb(0, 0, 0); stroke-opacity: 1;\"/></g><g class=\"point\"><path d=\"M689.66,1026V1026H706.36V1026Z\" style=\"vector-effect: non-scaling-stroke; opacity: 1; stroke-width: 1px; fill: rgb(237, 248, 233); fill-opacity: 1; stroke: rgb(0, 0, 0); stroke-opacity: 1;\"/></g><g class=\"point\"><path d=\"M706.36,1026V1026H723.06V1026Z\" style=\"vector-effect: non-scaling-stroke; opacity: 1; stroke-width: 1px; fill: rgb(237, 248, 233); fill-opacity: 1; stroke: rgb(0, 0, 0); stroke-opacity: 1;\"/></g><g class=\"point\"><path d=\"M723.06,1026V1026H739.76V1026Z\" style=\"vector-effect: non-scaling-stroke; opacity: 1; stroke-width: 1px; fill: rgb(237, 248, 233); fill-opacity: 1; stroke: rgb(0, 0, 0); stroke-opacity: 1;\"/></g><g class=\"point\"><path d=\"M739.76,1026V1026H756.46V1026Z\" style=\"vector-effect: non-scaling-stroke; opacity: 1; stroke-width: 1px; fill: rgb(237, 248, 233); fill-opacity: 1; stroke: rgb(0, 0, 0); stroke-opacity: 1;\"/></g><g class=\"point\"><path d=\"M756.46,1026V1026H773.17V1026Z\" style=\"vector-effect: non-scaling-stroke; opacity: 1; stroke-width: 1px; fill: rgb(237, 248, 233); fill-opacity: 1; stroke: rgb(0, 0, 0); stroke-opacity: 1;\"/></g><g class=\"point\"><path d=\"M773.17,1026V1026H789.87V1026Z\" style=\"vector-effect: non-scaling-stroke; opacity: 1; stroke-width: 1px; fill: rgb(237, 248, 233); fill-opacity: 1; stroke: rgb(0, 0, 0); stroke-opacity: 1;\"/></g><g class=\"point\"><path d=\"M789.87,1026V1026H806.57V1026Z\" style=\"vector-effect: non-scaling-stroke; opacity: 1; stroke-width: 1px; fill: rgb(237, 248, 233); fill-opacity: 1; stroke: rgb(0, 0, 0); stroke-opacity: 1;\"/></g><g class=\"point\"><path d=\"M806.57,1026V1026H823.27V1026Z\" style=\"vector-effect: non-scaling-stroke; opacity: 1; stroke-width: 1px; fill: rgb(237, 248, 233); fill-opacity: 1; stroke: rgb(0, 0, 0); stroke-opacity: 1;\"/></g><g class=\"point\"><path d=\"M823.27,1026V1026H839.97V1026Z\" style=\"vector-effect: non-scaling-stroke; opacity: 1; stroke-width: 1px; fill: rgb(237, 248, 233); fill-opacity: 1; stroke: rgb(0, 0, 0); stroke-opacity: 1;\"/></g><g class=\"point\"><path d=\"M839.97,1026V1026H856.68V1026Z\" style=\"vector-effect: non-scaling-stroke; opacity: 1; stroke-width: 1px; fill: rgb(237, 248, 233); fill-opacity: 1; stroke: rgb(0, 0, 0); stroke-opacity: 1;\"/></g><g class=\"point\"><path d=\"M856.68,1026V1026H873.38V1026Z\" style=\"vector-effect: non-scaling-stroke; opacity: 1; stroke-width: 1px; fill: rgb(237, 248, 233); fill-opacity: 1; stroke: rgb(0, 0, 0); stroke-opacity: 1;\"/></g><g class=\"point\"><path d=\"M873.38,1026V1026H890.08V1026Z\" style=\"vector-effect: non-scaling-stroke; opacity: 1; stroke-width: 1px; fill: rgb(237, 248, 233); fill-opacity: 1; stroke: rgb(0, 0, 0); stroke-opacity: 1;\"/></g><g class=\"point\"><path d=\"M890.08,1026V1026H906.78V1026Z\" style=\"vector-effect: non-scaling-stroke; opacity: 1; stroke-width: 1px; fill: rgb(237, 248, 233); fill-opacity: 1; stroke: rgb(0, 0, 0); stroke-opacity: 1;\"/></g><g class=\"point\"><path d=\"M906.78,1026V1026H923.48V1026Z\" style=\"vector-effect: non-scaling-stroke; opacity: 1; stroke-width: 1px; fill: rgb(237, 248, 233); fill-opacity: 1; stroke: rgb(0, 0, 0); stroke-opacity: 1;\"/></g><g class=\"point\"><path d=\"M923.48,1026V1026H940.19V1026Z\" style=\"vector-effect: non-scaling-stroke; opacity: 1; stroke-width: 1px; fill: rgb(237, 248, 233); fill-opacity: 1; stroke: rgb(0, 0, 0); stroke-opacity: 1;\"/></g><g class=\"point\"><path d=\"M940.19,1026V1026H956.89V1026Z\" style=\"vector-effect: non-scaling-stroke; opacity: 1; stroke-width: 1px; fill: rgb(237, 248, 233); fill-opacity: 1; stroke: rgb(0, 0, 0); stroke-opacity: 1;\"/></g><g class=\"point\"><path d=\"M956.89,1026V1026H973.59V1026Z\" style=\"vector-effect: non-scaling-stroke; opacity: 1; stroke-width: 1px; fill: rgb(237, 248, 233); fill-opacity: 1; stroke: rgb(0, 0, 0); stroke-opacity: 1;\"/></g><g class=\"point\"><path d=\"M973.59,1026V1026H990.29V1026Z\" style=\"vector-effect: non-scaling-stroke; opacity: 1; stroke-width: 1px; fill: rgb(237, 248, 233); fill-opacity: 1; stroke: rgb(0, 0, 0); stroke-opacity: 1;\"/></g><g class=\"point\"><path d=\"M990.29,1026V1026H1007V1026Z\" style=\"vector-effect: non-scaling-stroke; opacity: 1; stroke-width: 1px; fill: rgb(237, 248, 233); fill-opacity: 1; stroke: rgb(0, 0, 0); stroke-opacity: 1;\"/></g><g class=\"point\"><path d=\"M1007,1026V1026H1023.7V1026Z\" style=\"vector-effect: non-scaling-stroke; opacity: 1; stroke-width: 1px; fill: rgb(237, 248, 233); fill-opacity: 1; stroke: rgb(0, 0, 0); stroke-opacity: 1;\"/></g><g class=\"point\"><path d=\"M1023.7,1026V1026H1040.4V1026Z\" style=\"vector-effect: non-scaling-stroke; opacity: 1; stroke-width: 1px; fill: rgb(237, 248, 233); fill-opacity: 1; stroke: rgb(0, 0, 0); stroke-opacity: 1;\"/></g><g class=\"point\"><path d=\"M1040.4,1026V1026H1057.1V1026Z\" style=\"vector-effect: non-scaling-stroke; opacity: 1; stroke-width: 1px; fill: rgb(237, 248, 233); fill-opacity: 1; stroke: rgb(0, 0, 0); stroke-opacity: 1;\"/></g><g class=\"point\"><path d=\"M1057.1,1026V1026H1073.8V1026Z\" style=\"vector-effect: non-scaling-stroke; opacity: 1; stroke-width: 1px; fill: rgb(237, 248, 233); fill-opacity: 1; stroke: rgb(0, 0, 0); stroke-opacity: 1;\"/></g><g class=\"point\"><path d=\"M1073.8,1026V1026H1090.51V1026Z\" style=\"vector-effect: non-scaling-stroke; opacity: 1; stroke-width: 1px; fill: rgb(237, 248, 233); fill-opacity: 1; stroke: rgb(0, 0, 0); stroke-opacity: 1;\"/></g><g class=\"point\"><path d=\"M1090.51,1026V1025.76H1107.21V1026Z\" style=\"vector-effect: non-scaling-stroke; opacity: 1; stroke-width: 1px; fill: rgb(237, 248, 233); fill-opacity: 1; stroke: rgb(0, 0, 0); stroke-opacity: 1;\"/></g><g class=\"point\"><path d=\"M1107.21,1026V1026H1123.91V1026Z\" style=\"vector-effect: non-scaling-stroke; opacity: 1; stroke-width: 1px; fill: rgb(237, 248, 233); fill-opacity: 1; stroke: rgb(0, 0, 0); stroke-opacity: 1;\"/></g><g class=\"point\"><path d=\"M1123.91,1026V1026H1140.61V1026Z\" style=\"vector-effect: non-scaling-stroke; opacity: 1; stroke-width: 1px; fill: rgb(237, 248, 233); fill-opacity: 1; stroke: rgb(0, 0, 0); stroke-opacity: 1;\"/></g><g class=\"point\"><path d=\"M1140.61,1026V1026H1157.31V1026Z\" style=\"vector-effect: non-scaling-stroke; opacity: 1; stroke-width: 1px; fill: rgb(237, 248, 233); fill-opacity: 1; stroke: rgb(0, 0, 0); stroke-opacity: 1;\"/></g><g class=\"point\"><path d=\"M1157.31,1026V1026H1174.02V1026Z\" style=\"vector-effect: non-scaling-stroke; opacity: 1; stroke-width: 1px; fill: rgb(237, 248, 233); fill-opacity: 1; stroke: rgb(0, 0, 0); stroke-opacity: 1;\"/></g><g class=\"point\"><path d=\"M1174.02,1026V1026H1190.72V1026Z\" style=\"vector-effect: non-scaling-stroke; opacity: 1; stroke-width: 1px; fill: rgb(237, 248, 233); fill-opacity: 1; stroke: rgb(0, 0, 0); stroke-opacity: 1;\"/></g><g class=\"point\"><path d=\"M1190.72,1026V1026H1207.42V1026Z\" style=\"vector-effect: non-scaling-stroke; opacity: 1; stroke-width: 1px; fill: rgb(237, 248, 233); fill-opacity: 1; stroke: rgb(0, 0, 0); stroke-opacity: 1;\"/></g><g class=\"point\"><path d=\"M1207.42,1026V1026H1224.12V1026Z\" style=\"vector-effect: non-scaling-stroke; opacity: 1; stroke-width: 1px; fill: rgb(237, 248, 233); fill-opacity: 1; stroke: rgb(0, 0, 0); stroke-opacity: 1;\"/></g><g class=\"point\"><path d=\"M1224.12,1026V1026H1240.82V1026Z\" style=\"vector-effect: non-scaling-stroke; opacity: 1; stroke-width: 1px; fill: rgb(237, 248, 233); fill-opacity: 1; stroke: rgb(0, 0, 0); stroke-opacity: 1;\"/></g><g class=\"point\"><path d=\"M1240.82,1026V1026H1257.53V1026Z\" style=\"vector-effect: non-scaling-stroke; opacity: 1; stroke-width: 1px; fill: rgb(237, 248, 233); fill-opacity: 1; stroke: rgb(0, 0, 0); stroke-opacity: 1;\"/></g><g class=\"point\"><path d=\"M1257.53,1026V1026H1274.23V1026Z\" style=\"vector-effect: non-scaling-stroke; opacity: 1; stroke-width: 1px; fill: rgb(237, 248, 233); fill-opacity: 1; stroke: rgb(0, 0, 0); stroke-opacity: 1;\"/></g><g class=\"point\"><path d=\"M1274.23,1026V1026H1290.93V1026Z\" style=\"vector-effect: non-scaling-stroke; opacity: 1; stroke-width: 1px; fill: rgb(237, 248, 233); fill-opacity: 1; stroke: rgb(0, 0, 0); stroke-opacity: 1;\"/></g><g class=\"point\"><path d=\"M1290.93,1026V1026H1307.63V1026Z\" style=\"vector-effect: non-scaling-stroke; opacity: 1; stroke-width: 1px; fill: rgb(237, 248, 233); fill-opacity: 1; stroke: rgb(0, 0, 0); stroke-opacity: 1;\"/></g><g class=\"point\"><path d=\"M1307.63,1026V1026H1324.33V1026Z\" style=\"vector-effect: non-scaling-stroke; opacity: 1; stroke-width: 1px; fill: rgb(237, 248, 233); fill-opacity: 1; stroke: rgb(0, 0, 0); stroke-opacity: 1;\"/></g><g class=\"point\"><path d=\"M1324.33,1026V1026H1341.04V1026Z\" style=\"vector-effect: non-scaling-stroke; opacity: 1; stroke-width: 1px; fill: rgb(237, 248, 233); fill-opacity: 1; stroke: rgb(0, 0, 0); stroke-opacity: 1;\"/></g><g class=\"point\"><path d=\"M1341.04,1026V1026H1357.74V1026Z\" style=\"vector-effect: non-scaling-stroke; opacity: 1; stroke-width: 1px; fill: rgb(237, 248, 233); fill-opacity: 1; stroke: rgb(0, 0, 0); stroke-opacity: 1;\"/></g><g class=\"point\"><path d=\"M1357.74,1026V1026H1374.44V1026Z\" style=\"vector-effect: non-scaling-stroke; opacity: 1; stroke-width: 1px; fill: rgb(237, 248, 233); fill-opacity: 1; stroke: rgb(0, 0, 0); stroke-opacity: 1;\"/></g><g class=\"point\"><path d=\"M1374.44,1026V1025.76H1391.14V1026Z\" style=\"vector-effect: non-scaling-stroke; opacity: 1; stroke-width: 1px; fill: rgb(237, 248, 233); fill-opacity: 1; stroke: rgb(0, 0, 0); stroke-opacity: 1;\"/></g><g class=\"point\"><path d=\"M1391.14,1026V1025.76H1407.85V1026Z\" style=\"vector-effect: non-scaling-stroke; opacity: 1; stroke-width: 1px; fill: rgb(237, 248, 233); fill-opacity: 1; stroke: rgb(0, 0, 0); stroke-opacity: 1;\"/></g><g class=\"point\"><path d=\"M1407.85,1026V1026H1424.55V1026Z\" style=\"vector-effect: non-scaling-stroke; opacity: 1; stroke-width: 1px; fill: rgb(237, 248, 233); fill-opacity: 1; stroke: rgb(0, 0, 0); stroke-opacity: 1;\"/></g><g class=\"point\"><path d=\"M1424.55,1026V1026H1441.25V1026Z\" style=\"vector-effect: non-scaling-stroke; opacity: 1; stroke-width: 1px; fill: rgb(237, 248, 233); fill-opacity: 1; stroke: rgb(0, 0, 0); stroke-opacity: 1;\"/></g><g class=\"point\"><path d=\"M1441.25,1026V1026H1457.95V1026Z\" style=\"vector-effect: non-scaling-stroke; opacity: 1; stroke-width: 1px; fill: rgb(237, 248, 233); fill-opacity: 1; stroke: rgb(0, 0, 0); stroke-opacity: 1;\"/></g><g class=\"point\"><path d=\"M1457.95,1026V1026H1474.65V1026Z\" style=\"vector-effect: non-scaling-stroke; opacity: 1; stroke-width: 1px; fill: rgb(237, 248, 233); fill-opacity: 1; stroke: rgb(0, 0, 0); stroke-opacity: 1;\"/></g><g class=\"point\"><path d=\"M1474.65,1026V1025.76H1491.36V1026Z\" style=\"vector-effect: non-scaling-stroke; opacity: 1; stroke-width: 1px; fill: rgb(237, 248, 233); fill-opacity: 1; stroke: rgb(0, 0, 0); stroke-opacity: 1;\"/></g><g class=\"point\"><path d=\"M1491.36,1026V1026H1508.06V1026Z\" style=\"vector-effect: non-scaling-stroke; opacity: 1; stroke-width: 1px; fill: rgb(237, 248, 233); fill-opacity: 1; stroke: rgb(0, 0, 0); stroke-opacity: 1;\"/></g><g class=\"point\"><path d=\"M1508.06,1026V1026H1524.76V1026Z\" style=\"vector-effect: non-scaling-stroke; opacity: 1; stroke-width: 1px; fill: rgb(237, 248, 233); fill-opacity: 1; stroke: rgb(0, 0, 0); stroke-opacity: 1;\"/></g><g class=\"point\"><path d=\"M1524.76,1026V1026H1541.46V1026Z\" style=\"vector-effect: non-scaling-stroke; opacity: 1; stroke-width: 1px; fill: rgb(237, 248, 233); fill-opacity: 1; stroke: rgb(0, 0, 0); stroke-opacity: 1;\"/></g><g class=\"point\"><path d=\"M1541.46,1026V1026H1558.16V1026Z\" style=\"vector-effect: non-scaling-stroke; opacity: 1; stroke-width: 1px; fill: rgb(237, 248, 233); fill-opacity: 1; stroke: rgb(0, 0, 0); stroke-opacity: 1;\"/></g><g class=\"point\"><path d=\"M1558.16,1026V1025.76H1574.87V1026Z\" style=\"vector-effect: non-scaling-stroke; opacity: 1; stroke-width: 1px; fill: rgb(237, 248, 233); fill-opacity: 1; stroke: rgb(0, 0, 0); stroke-opacity: 1;\"/></g><g class=\"point\"><path d=\"M1574.87,1026V1025.53H1591.57V1026Z\" style=\"vector-effect: non-scaling-stroke; opacity: 1; stroke-width: 1px; fill: rgb(237, 248, 233); fill-opacity: 1; stroke: rgb(0, 0, 0); stroke-opacity: 1;\"/></g><g class=\"point\"><path d=\"M1591.57,1026V1026H1608.27V1026Z\" style=\"vector-effect: non-scaling-stroke; opacity: 1; stroke-width: 1px; fill: rgb(237, 248, 233); fill-opacity: 1; stroke: rgb(0, 0, 0); stroke-opacity: 1;\"/></g><g class=\"point\"><path d=\"M1608.27,1026V1026H1624.97V1026Z\" style=\"vector-effect: non-scaling-stroke; opacity: 1; stroke-width: 1px; fill: rgb(237, 248, 233); fill-opacity: 1; stroke: rgb(0, 0, 0); stroke-opacity: 1;\"/></g><g class=\"point\"><path d=\"M1624.97,1026V1025.76H1641.67V1026Z\" style=\"vector-effect: non-scaling-stroke; opacity: 1; stroke-width: 1px; fill: rgb(237, 248, 233); fill-opacity: 1; stroke: rgb(0, 0, 0); stroke-opacity: 1;\"/></g><g class=\"point\"><path d=\"M1641.67,1026V1025.53H1658.38V1026Z\" style=\"vector-effect: non-scaling-stroke; opacity: 1; stroke-width: 1px; fill: rgb(237, 248, 233); fill-opacity: 1; stroke: rgb(0, 0, 0); stroke-opacity: 1;\"/></g><g class=\"point\"><path d=\"M1658.38,1026V1025.76H1675.08V1026Z\" style=\"vector-effect: non-scaling-stroke; opacity: 1; stroke-width: 1px; fill: rgb(237, 248, 233); fill-opacity: 1; stroke: rgb(0, 0, 0); stroke-opacity: 1;\"/></g><g class=\"point\"><path d=\"M1675.08,1026V1026H1691.78V1026Z\" style=\"vector-effect: non-scaling-stroke; opacity: 1; stroke-width: 1px; fill: rgb(237, 248, 233); fill-opacity: 1; stroke: rgb(0, 0, 0); stroke-opacity: 1;\"/></g><g class=\"point\"><path d=\"M1691.78,1026V1025.76H1708.48V1026Z\" style=\"vector-effect: non-scaling-stroke; opacity: 1; stroke-width: 1px; fill: rgb(237, 248, 233); fill-opacity: 1; stroke: rgb(0, 0, 0); stroke-opacity: 1;\"/></g><g class=\"point\"><path d=\"M1708.48,1026V1025.76H1725.19V1026Z\" style=\"vector-effect: non-scaling-stroke; opacity: 1; stroke-width: 1px; fill: rgb(237, 248, 233); fill-opacity: 1; stroke: rgb(0, 0, 0); stroke-opacity: 1;\"/></g><g class=\"point\"><path d=\"M1725.19,1026V1025.76H1741.89V1026Z\" style=\"vector-effect: non-scaling-stroke; opacity: 1; stroke-width: 1px; fill: rgb(237, 248, 233); fill-opacity: 1; stroke: rgb(0, 0, 0); stroke-opacity: 1;\"/></g><g class=\"point\"><path d=\"M1741.89,1026V1026H1758.59V1026Z\" style=\"vector-effect: non-scaling-stroke; opacity: 1; stroke-width: 1px; fill: rgb(237, 248, 233); fill-opacity: 1; stroke: rgb(0, 0, 0); stroke-opacity: 1;\"/></g><g class=\"point\"><path d=\"M1758.59,1026V1025.76H1775.29V1026Z\" style=\"vector-effect: non-scaling-stroke; opacity: 1; stroke-width: 1px; fill: rgb(237, 248, 233); fill-opacity: 1; stroke: rgb(0, 0, 0); stroke-opacity: 1;\"/></g><g class=\"point\"><path d=\"M1775.29,1026V1025.76H1791.99V1026Z\" style=\"vector-effect: non-scaling-stroke; opacity: 1; stroke-width: 1px; fill: rgb(237, 248, 233); fill-opacity: 1; stroke: rgb(0, 0, 0); stroke-opacity: 1;\"/></g><g class=\"point\"><path d=\"M1791.99,1026V1025.53H1808.7V1026Z\" style=\"vector-effect: non-scaling-stroke; opacity: 1; stroke-width: 1px; fill: rgb(237, 248, 233); fill-opacity: 1; stroke: rgb(0, 0, 0); stroke-opacity: 1;\"/></g><g class=\"point\"><path d=\"M1808.7,1026V1026H1825.4V1026Z\" style=\"vector-effect: non-scaling-stroke; opacity: 1; stroke-width: 1px; fill: rgb(237, 248, 233); fill-opacity: 1; stroke: rgb(0, 0, 0); stroke-opacity: 1;\"/></g><g class=\"point\"><path d=\"M1825.4,1026V1026H1842.1V1026Z\" style=\"vector-effect: non-scaling-stroke; opacity: 1; stroke-width: 1px; fill: rgb(237, 248, 233); fill-opacity: 1; stroke: rgb(0, 0, 0); stroke-opacity: 1;\"/></g><g class=\"point\"><path d=\"M1842.1,1026V1025.76H1858.8V1026Z\" style=\"vector-effect: non-scaling-stroke; opacity: 1; stroke-width: 1px; fill: rgb(237, 248, 233); fill-opacity: 1; stroke: rgb(0, 0, 0); stroke-opacity: 1;\"/></g><g class=\"point\"><path d=\"M1858.8,1026V1026H1875.5V1026Z\" style=\"vector-effect: non-scaling-stroke; opacity: 1; stroke-width: 1px; fill: rgb(237, 248, 233); fill-opacity: 1; stroke: rgb(0, 0, 0); stroke-opacity: 1;\"/></g><g class=\"point\"><path d=\"M1875.5,1026V1025.76H1892.21V1026Z\" style=\"vector-effect: non-scaling-stroke; opacity: 1; stroke-width: 1px; fill: rgb(237, 248, 233); fill-opacity: 1; stroke: rgb(0, 0, 0); stroke-opacity: 1;\"/></g><g class=\"point\"><path d=\"M1892.21,1026V1025.53H1908.91V1026Z\" style=\"vector-effect: non-scaling-stroke; opacity: 1; stroke-width: 1px; fill: rgb(237, 248, 233); fill-opacity: 1; stroke: rgb(0, 0, 0); stroke-opacity: 1;\"/></g><g class=\"point\"><path d=\"M1908.91,1026V1026H1925.61V1026Z\" style=\"vector-effect: non-scaling-stroke; opacity: 1; stroke-width: 1px; fill: rgb(237, 248, 233); fill-opacity: 1; stroke: rgb(0, 0, 0); stroke-opacity: 1;\"/></g><g class=\"point\"><path d=\"M1925.61,1026V1026H1942.31V1026Z\" style=\"vector-effect: non-scaling-stroke; opacity: 1; stroke-width: 1px; fill: rgb(237, 248, 233); fill-opacity: 1; stroke: rgb(0, 0, 0); stroke-opacity: 1;\"/></g><g class=\"point\"><path d=\"M1942.31,1026V1026H1959.01V1026Z\" style=\"vector-effect: non-scaling-stroke; opacity: 1; stroke-width: 1px; fill: rgb(237, 248, 233); fill-opacity: 1; stroke: rgb(0, 0, 0); stroke-opacity: 1;\"/></g><g class=\"point\"><path d=\"M1959.01,1026V1026H1975.72V1026Z\" style=\"vector-effect: non-scaling-stroke; opacity: 1; stroke-width: 1px; fill: rgb(237, 248, 233); fill-opacity: 1; stroke: rgb(0, 0, 0); stroke-opacity: 1;\"/></g><g class=\"point\"><path d=\"M1975.72,1026V1025.76H1992.42V1026Z\" style=\"vector-effect: non-scaling-stroke; opacity: 1; stroke-width: 1px; fill: rgb(237, 248, 233); fill-opacity: 1; stroke: rgb(0, 0, 0); stroke-opacity: 1;\"/></g><g class=\"point\"><path d=\"M1992.42,1026V1025.76H2009.12V1026Z\" style=\"vector-effect: non-scaling-stroke; opacity: 1; stroke-width: 1px; fill: rgb(237, 248, 233); fill-opacity: 1; stroke: rgb(0, 0, 0); stroke-opacity: 1;\"/></g><g class=\"point\"><path d=\"M2009.12,1026V1025.53H2025.82V1026Z\" style=\"vector-effect: non-scaling-stroke; opacity: 1; stroke-width: 1px; fill: rgb(237, 248, 233); fill-opacity: 1; stroke: rgb(0, 0, 0); stroke-opacity: 1;\"/></g><g class=\"point\"><path d=\"M2025.82,1026V1025.76H2042.53V1026Z\" style=\"vector-effect: non-scaling-stroke; opacity: 1; stroke-width: 1px; fill: rgb(237, 248, 233); fill-opacity: 1; stroke: rgb(0, 0, 0); stroke-opacity: 1;\"/></g><g class=\"point\"><path d=\"M2042.53,1026V1026H2059.23V1026Z\" style=\"vector-effect: non-scaling-stroke; opacity: 1; stroke-width: 1px; fill: rgb(237, 248, 233); fill-opacity: 1; stroke: rgb(0, 0, 0); stroke-opacity: 1;\"/></g><g class=\"point\"><path d=\"M2059.23,1026V1025.76H2075.93V1026Z\" style=\"vector-effect: non-scaling-stroke; opacity: 1; stroke-width: 1px; fill: rgb(237, 248, 233); fill-opacity: 1; stroke: rgb(0, 0, 0); stroke-opacity: 1;\"/></g><g class=\"point\"><path d=\"M2075.93,1026V1026H2092.63V1026Z\" style=\"vector-effect: non-scaling-stroke; opacity: 1; stroke-width: 1px; fill: rgb(237, 248, 233); fill-opacity: 1; stroke: rgb(0, 0, 0); stroke-opacity: 1;\"/></g><g class=\"point\"><path d=\"M2092.63,1026V1025.76H2109.33V1026Z\" style=\"vector-effect: non-scaling-stroke; opacity: 1; stroke-width: 1px; fill: rgb(237, 248, 233); fill-opacity: 1; stroke: rgb(0, 0, 0); stroke-opacity: 1;\"/></g><g class=\"point\"><path d=\"M2109.33,1026V1026H2126.04V1026Z\" style=\"vector-effect: non-scaling-stroke; opacity: 1; stroke-width: 1px; fill: rgb(237, 248, 233); fill-opacity: 1; stroke: rgb(0, 0, 0); stroke-opacity: 1;\"/></g><g class=\"point\"><path d=\"M2126.04,1026V1025.76H2142.74V1026Z\" style=\"vector-effect: non-scaling-stroke; opacity: 1; stroke-width: 1px; fill: rgb(237, 248, 233); fill-opacity: 1; stroke: rgb(0, 0, 0); stroke-opacity: 1;\"/></g><g class=\"point\"><path d=\"M2142.74,1026V1026H2159.44V1026Z\" style=\"vector-effect: non-scaling-stroke; opacity: 1; stroke-width: 1px; fill: rgb(237, 248, 233); fill-opacity: 1; stroke: rgb(0, 0, 0); stroke-opacity: 1;\"/></g><g class=\"point\"><path d=\"M2159.44,1026V1025.76H2176.14V1026Z\" style=\"vector-effect: non-scaling-stroke; opacity: 1; stroke-width: 1px; fill: rgb(237, 248, 233); fill-opacity: 1; stroke: rgb(0, 0, 0); stroke-opacity: 1;\"/></g><g class=\"point\"><path d=\"M2176.14,1026V1025.76H2192.84V1026Z\" style=\"vector-effect: non-scaling-stroke; opacity: 1; stroke-width: 1px; fill: rgb(237, 248, 233); fill-opacity: 1; stroke: rgb(0, 0, 0); stroke-opacity: 1;\"/></g><g class=\"point\"><path d=\"M2192.84,1026V1025.76H2209.55V1026Z\" style=\"vector-effect: non-scaling-stroke; opacity: 1; stroke-width: 1px; fill: rgb(237, 248, 233); fill-opacity: 1; stroke: rgb(0, 0, 0); stroke-opacity: 1;\"/></g><g class=\"point\"><path d=\"M2209.55,1026V1026H2226.25V1026Z\" style=\"vector-effect: non-scaling-stroke; opacity: 1; stroke-width: 1px; fill: rgb(237, 248, 233); fill-opacity: 1; stroke: rgb(0, 0, 0); stroke-opacity: 1;\"/></g><g class=\"point\"><path d=\"M2226.25,1026V1026H2242.95V1026Z\" style=\"vector-effect: non-scaling-stroke; opacity: 1; stroke-width: 1px; fill: rgb(237, 248, 233); fill-opacity: 1; stroke: rgb(0, 0, 0); stroke-opacity: 1;\"/></g><g class=\"point\"><path d=\"M2242.95,1026V1025.76H2259.65V1026Z\" style=\"vector-effect: non-scaling-stroke; opacity: 1; stroke-width: 1px; fill: rgb(237, 248, 233); fill-opacity: 1; stroke: rgb(0, 0, 0); stroke-opacity: 1;\"/></g><g class=\"point\"><path d=\"M2259.65,1026V1026H2276.35V1026Z\" style=\"vector-effect: non-scaling-stroke; opacity: 1; stroke-width: 1px; fill: rgb(237, 248, 233); fill-opacity: 1; stroke: rgb(0, 0, 0); stroke-opacity: 1;\"/></g><g class=\"point\"><path d=\"M2276.35,1026V1025.29H2293.06V1026Z\" style=\"vector-effect: non-scaling-stroke; opacity: 1; stroke-width: 1px; fill: rgb(237, 248, 233); fill-opacity: 1; stroke: rgb(0, 0, 0); stroke-opacity: 1;\"/></g><g class=\"point\"><path d=\"M2293.06,1026V1026H2309.76V1026Z\" style=\"vector-effect: non-scaling-stroke; opacity: 1; stroke-width: 1px; fill: rgb(237, 248, 233); fill-opacity: 1; stroke: rgb(0, 0, 0); stroke-opacity: 1;\"/></g><g class=\"point\"><path d=\"M2309.76,1026V1026H2326.46V1026Z\" style=\"vector-effect: non-scaling-stroke; opacity: 1; stroke-width: 1px; fill: rgb(237, 248, 233); fill-opacity: 1; stroke: rgb(0, 0, 0); stroke-opacity: 1;\"/></g><g class=\"point\"><path d=\"M2326.46,1026V1025.76H2343.16V1026Z\" style=\"vector-effect: non-scaling-stroke; opacity: 1; stroke-width: 1px; fill: rgb(237, 248, 233); fill-opacity: 1; stroke: rgb(0, 0, 0); stroke-opacity: 1;\"/></g><g class=\"point\"><path d=\"M2343.16,1026V1025.76H2359.86V1026Z\" style=\"vector-effect: non-scaling-stroke; opacity: 1; stroke-width: 1px; fill: rgb(237, 248, 233); fill-opacity: 1; stroke: rgb(0, 0, 0); stroke-opacity: 1;\"/></g><g class=\"point\"><path d=\"M2359.86,1026V1025.53H2376.57V1026Z\" style=\"vector-effect: non-scaling-stroke; opacity: 1; stroke-width: 1px; fill: rgb(237, 248, 233); fill-opacity: 1; stroke: rgb(0, 0, 0); stroke-opacity: 1;\"/></g><g class=\"point\"><path d=\"M2376.57,1026V1026H2393.27V1026Z\" style=\"vector-effect: non-scaling-stroke; opacity: 1; stroke-width: 1px; fill: rgb(237, 248, 233); fill-opacity: 1; stroke: rgb(0, 0, 0); stroke-opacity: 1;\"/></g><g class=\"point\"><path d=\"M2393.27,1026V1026H2409.97V1026Z\" style=\"vector-effect: non-scaling-stroke; opacity: 1; stroke-width: 1px; fill: rgb(237, 248, 233); fill-opacity: 1; stroke: rgb(0, 0, 0); stroke-opacity: 1;\"/></g><g class=\"point\"><path d=\"M2409.97,1026V1025.76H2426.67V1026Z\" style=\"vector-effect: non-scaling-stroke; opacity: 1; stroke-width: 1px; fill: rgb(237, 248, 233); fill-opacity: 1; stroke: rgb(0, 0, 0); stroke-opacity: 1;\"/></g><g class=\"point\"><path d=\"M2426.67,1026V1026H2443.38V1026Z\" style=\"vector-effect: non-scaling-stroke; opacity: 1; stroke-width: 1px; fill: rgb(237, 248, 233); fill-opacity: 1; stroke: rgb(0, 0, 0); stroke-opacity: 1;\"/></g><g class=\"point\"><path d=\"M2443.38,1026V1025.76H2460.08V1026Z\" style=\"vector-effect: non-scaling-stroke; opacity: 1; stroke-width: 1px; fill: rgb(237, 248, 233); fill-opacity: 1; stroke: rgb(0, 0, 0); stroke-opacity: 1;\"/></g><g class=\"point\"><path d=\"M2460.08,1026V1026H2476.78V1026Z\" style=\"vector-effect: non-scaling-stroke; opacity: 1; stroke-width: 1px; fill: rgb(237, 248, 233); fill-opacity: 1; stroke: rgb(0, 0, 0); stroke-opacity: 1;\"/></g><g class=\"point\"><path d=\"M2476.78,1026V1025.76H2493.48V1026Z\" style=\"vector-effect: non-scaling-stroke; opacity: 1; stroke-width: 1px; fill: rgb(237, 248, 233); fill-opacity: 1; stroke: rgb(0, 0, 0); stroke-opacity: 1;\"/></g><g class=\"point\"><path d=\"M2493.48,1026V1026H2510.18V1026Z\" style=\"vector-effect: non-scaling-stroke; opacity: 1; stroke-width: 1px; fill: rgb(237, 248, 233); fill-opacity: 1; stroke: rgb(0, 0, 0); stroke-opacity: 1;\"/></g><g class=\"point\"><path d=\"M2510.18,1026V1026H2526.89V1026Z\" style=\"vector-effect: non-scaling-stroke; opacity: 1; stroke-width: 1px; fill: rgb(237, 248, 233); fill-opacity: 1; stroke: rgb(0, 0, 0); stroke-opacity: 1;\"/></g><g class=\"point\"><path d=\"M2526.89,1026V1026H2543.59V1026Z\" style=\"vector-effect: non-scaling-stroke; opacity: 1; stroke-width: 1px; fill: rgb(237, 248, 233); fill-opacity: 1; stroke: rgb(0, 0, 0); stroke-opacity: 1;\"/></g><g class=\"point\"><path d=\"M2543.59,1026V1026H2560.29V1026Z\" style=\"vector-effect: non-scaling-stroke; opacity: 1; stroke-width: 1px; fill: rgb(237, 248, 233); fill-opacity: 1; stroke: rgb(0, 0, 0); stroke-opacity: 1;\"/></g><g class=\"point\"><path d=\"M2560.29,1026V1026H2576.99V1026Z\" style=\"vector-effect: non-scaling-stroke; opacity: 1; stroke-width: 1px; fill: rgb(237, 248, 233); fill-opacity: 1; stroke: rgb(0, 0, 0); stroke-opacity: 1;\"/></g><g class=\"point\"><path d=\"M2576.99,1026V1025.76H2593.69V1026Z\" style=\"vector-effect: non-scaling-stroke; opacity: 1; stroke-width: 1px; fill: rgb(237, 248, 233); fill-opacity: 1; stroke: rgb(0, 0, 0); stroke-opacity: 1;\"/></g><g class=\"point\"><path d=\"M2593.69,1026V1025.53H2610.4V1026Z\" style=\"vector-effect: non-scaling-stroke; opacity: 1; stroke-width: 1px; fill: rgb(237, 248, 233); fill-opacity: 1; stroke: rgb(0, 0, 0); stroke-opacity: 1;\"/></g><g class=\"point\"><path d=\"M2610.4,1026V1026H2627.1V1026Z\" style=\"vector-effect: non-scaling-stroke; opacity: 1; stroke-width: 1px; fill: rgb(237, 248, 233); fill-opacity: 1; stroke: rgb(0, 0, 0); stroke-opacity: 1;\"/></g><g class=\"point\"><path d=\"M2627.1,1026V1025.76H2643.8V1026Z\" style=\"vector-effect: non-scaling-stroke; opacity: 1; stroke-width: 1px; fill: rgb(237, 248, 233); fill-opacity: 1; stroke: rgb(0, 0, 0); stroke-opacity: 1;\"/></g><g class=\"point\"><path d=\"M2643.8,1026V1026H2660.5V1026Z\" style=\"vector-effect: non-scaling-stroke; opacity: 1; stroke-width: 1px; fill: rgb(237, 248, 233); fill-opacity: 1; stroke: rgb(0, 0, 0); stroke-opacity: 1;\"/></g><g class=\"point\"><path d=\"M2660.5,1026V1025.76H2677.2V1026Z\" style=\"vector-effect: non-scaling-stroke; opacity: 1; stroke-width: 1px; fill: rgb(237, 248, 233); fill-opacity: 1; stroke: rgb(0, 0, 0); stroke-opacity: 1;\"/></g><g class=\"point\"><path d=\"M2677.2,1026V1026H2693.91V1026Z\" style=\"vector-effect: non-scaling-stroke; opacity: 1; stroke-width: 1px; fill: rgb(237, 248, 233); fill-opacity: 1; stroke: rgb(0, 0, 0); stroke-opacity: 1;\"/></g><g class=\"point\"><path d=\"M2693.91,1026V1026H2710.61V1026Z\" style=\"vector-effect: non-scaling-stroke; opacity: 1; stroke-width: 1px; fill: rgb(237, 248, 233); fill-opacity: 1; stroke: rgb(0, 0, 0); stroke-opacity: 1;\"/></g><g class=\"point\"><path d=\"M2710.61,1026V1026H2727.31V1026Z\" style=\"vector-effect: non-scaling-stroke; opacity: 1; stroke-width: 1px; fill: rgb(237, 248, 233); fill-opacity: 1; stroke: rgb(0, 0, 0); stroke-opacity: 1;\"/></g><g class=\"point\"><path d=\"M2727.31,1026V1025.76H2744.01V1026Z\" style=\"vector-effect: non-scaling-stroke; opacity: 1; stroke-width: 1px; fill: rgb(237, 248, 233); fill-opacity: 1; stroke: rgb(0, 0, 0); stroke-opacity: 1;\"/></g><g class=\"point\"><path d=\"M2744.01,1026V1026H2760.72V1026Z\" style=\"vector-effect: non-scaling-stroke; opacity: 1; stroke-width: 1px; fill: rgb(237, 248, 233); fill-opacity: 1; stroke: rgb(0, 0, 0); stroke-opacity: 1;\"/></g><g class=\"point\"><path d=\"M2760.72,1026V1026H2777.42V1026Z\" style=\"vector-effect: non-scaling-stroke; opacity: 1; stroke-width: 1px; fill: rgb(237, 248, 233); fill-opacity: 1; stroke: rgb(0, 0, 0); stroke-opacity: 1;\"/></g><g class=\"point\"><path d=\"M2777.42,1026V1025.53H2794.12V1026Z\" style=\"vector-effect: non-scaling-stroke; opacity: 1; stroke-width: 1px; fill: rgb(237, 248, 233); fill-opacity: 1; stroke: rgb(0, 0, 0); stroke-opacity: 1;\"/></g><g class=\"point\"><path d=\"M2794.12,1026V1026H2810.82V1026Z\" style=\"vector-effect: non-scaling-stroke; opacity: 1; stroke-width: 1px; fill: rgb(237, 248, 233); fill-opacity: 1; stroke: rgb(0, 0, 0); stroke-opacity: 1;\"/></g><g class=\"point\"><path d=\"M2810.82,1026V1026H2827.52V1026Z\" style=\"vector-effect: non-scaling-stroke; opacity: 1; stroke-width: 1px; fill: rgb(237, 248, 233); fill-opacity: 1; stroke: rgb(0, 0, 0); stroke-opacity: 1;\"/></g><g class=\"point\"><path d=\"M2827.52,1026V1026H2844.23V1026Z\" style=\"vector-effect: non-scaling-stroke; opacity: 1; stroke-width: 1px; fill: rgb(237, 248, 233); fill-opacity: 1; stroke: rgb(0, 0, 0); stroke-opacity: 1;\"/></g><g class=\"point\"><path d=\"M2844.23,1026V1026H2860.93V1026Z\" style=\"vector-effect: non-scaling-stroke; opacity: 1; stroke-width: 1px; fill: rgb(237, 248, 233); fill-opacity: 1; stroke: rgb(0, 0, 0); stroke-opacity: 1;\"/></g><g class=\"point\"><path d=\"M2860.93,1026V1026H2877.63V1026Z\" style=\"vector-effect: non-scaling-stroke; opacity: 1; stroke-width: 1px; fill: rgb(237, 248, 233); fill-opacity: 1; stroke: rgb(0, 0, 0); stroke-opacity: 1;\"/></g><g class=\"point\"><path d=\"M2877.63,1026V1025.53H2894.33V1026Z\" style=\"vector-effect: non-scaling-stroke; opacity: 1; stroke-width: 1px; fill: rgb(237, 248, 233); fill-opacity: 1; stroke: rgb(0, 0, 0); stroke-opacity: 1;\"/></g><g class=\"point\"><path d=\"M2894.33,1026V1026H2911.03V1026Z\" style=\"vector-effect: non-scaling-stroke; opacity: 1; stroke-width: 1px; fill: rgb(237, 248, 233); fill-opacity: 1; stroke: rgb(0, 0, 0); stroke-opacity: 1;\"/></g><g class=\"point\"><path d=\"M2911.03,1026V1025.53H2927.74V1026Z\" style=\"vector-effect: non-scaling-stroke; opacity: 1; stroke-width: 1px; fill: rgb(237, 248, 233); fill-opacity: 1; stroke: rgb(0, 0, 0); stroke-opacity: 1;\"/></g><g class=\"point\"><path d=\"M2927.74,1026V1026H2944.44V1026Z\" style=\"vector-effect: non-scaling-stroke; opacity: 1; stroke-width: 1px; fill: rgb(237, 248, 233); fill-opacity: 1; stroke: rgb(0, 0, 0); stroke-opacity: 1;\"/></g><g class=\"point\"><path d=\"M2944.44,1026V1026H2961.14V1026Z\" style=\"vector-effect: non-scaling-stroke; opacity: 1; stroke-width: 1px; fill: rgb(237, 248, 233); fill-opacity: 1; stroke: rgb(0, 0, 0); stroke-opacity: 1;\"/></g><g class=\"point\"><path d=\"M2961.14,1026V1026H2977.84V1026Z\" style=\"vector-effect: non-scaling-stroke; opacity: 1; stroke-width: 1px; fill: rgb(237, 248, 233); fill-opacity: 1; stroke: rgb(0, 0, 0); stroke-opacity: 1;\"/></g><g class=\"point\"><path d=\"M2977.84,1026V1025.76H2994.54V1026Z\" style=\"vector-effect: non-scaling-stroke; opacity: 1; stroke-width: 1px; fill: rgb(237, 248, 233); fill-opacity: 1; stroke: rgb(0, 0, 0); stroke-opacity: 1;\"/></g><g class=\"point\"><path d=\"M2994.54,1026V1026H3011.25V1026Z\" style=\"vector-effect: non-scaling-stroke; opacity: 1; stroke-width: 1px; fill: rgb(237, 248, 233); fill-opacity: 1; stroke: rgb(0, 0, 0); stroke-opacity: 1;\"/></g><g class=\"point\"><path d=\"M3011.25,1026V1026H3027.95V1026Z\" style=\"vector-effect: non-scaling-stroke; opacity: 1; stroke-width: 1px; fill: rgb(237, 248, 233); fill-opacity: 1; stroke: rgb(0, 0, 0); stroke-opacity: 1;\"/></g><g class=\"point\"><path d=\"M3027.95,1026V1026H3044.65V1026Z\" style=\"vector-effect: non-scaling-stroke; opacity: 1; stroke-width: 1px; fill: rgb(237, 248, 233); fill-opacity: 1; stroke: rgb(0, 0, 0); stroke-opacity: 1;\"/></g><g class=\"point\"><path d=\"M3044.65,1026V1026H3061.35V1026Z\" style=\"vector-effect: non-scaling-stroke; opacity: 1; stroke-width: 1px; fill: rgb(237, 248, 233); fill-opacity: 1; stroke: rgb(0, 0, 0); stroke-opacity: 1;\"/></g><g class=\"point\"><path d=\"M3061.35,1026V1025.76H3078.06V1026Z\" style=\"vector-effect: non-scaling-stroke; opacity: 1; stroke-width: 1px; fill: rgb(237, 248, 233); fill-opacity: 1; stroke: rgb(0, 0, 0); stroke-opacity: 1;\"/></g><g class=\"point\"><path d=\"M3078.06,1026V1026H3094.76V1026Z\" style=\"vector-effect: non-scaling-stroke; opacity: 1; stroke-width: 1px; fill: rgb(237, 248, 233); fill-opacity: 1; stroke: rgb(0, 0, 0); stroke-opacity: 1;\"/></g><g class=\"point\"><path d=\"M3094.76,1026V1025.76H3111.46V1026Z\" style=\"vector-effect: non-scaling-stroke; opacity: 1; stroke-width: 1px; fill: rgb(237, 248, 233); fill-opacity: 1; stroke: rgb(0, 0, 0); stroke-opacity: 1;\"/></g><g class=\"point\"><path d=\"M3111.46,1026V1026H3128.16V1026Z\" style=\"vector-effect: non-scaling-stroke; opacity: 1; stroke-width: 1px; fill: rgb(237, 248, 233); fill-opacity: 1; stroke: rgb(0, 0, 0); stroke-opacity: 1;\"/></g><g class=\"point\"><path d=\"M3128.16,1026V1026H3144.86V1026Z\" style=\"vector-effect: non-scaling-stroke; opacity: 1; stroke-width: 1px; fill: rgb(237, 248, 233); fill-opacity: 1; stroke: rgb(0, 0, 0); stroke-opacity: 1;\"/></g><g class=\"point\"><path d=\"M3144.86,1026V1025.76H3161.57V1026Z\" style=\"vector-effect: non-scaling-stroke; opacity: 1; stroke-width: 1px; fill: rgb(237, 248, 233); fill-opacity: 1; stroke: rgb(0, 0, 0); stroke-opacity: 1;\"/></g><g class=\"point\"><path d=\"M3161.57,1026V1025.76H3178.27V1026Z\" style=\"vector-effect: non-scaling-stroke; opacity: 1; stroke-width: 1px; fill: rgb(237, 248, 233); fill-opacity: 1; stroke: rgb(0, 0, 0); stroke-opacity: 1;\"/></g><g class=\"point\"><path d=\"M3178.27,1026V1026H3194.97V1026Z\" style=\"vector-effect: non-scaling-stroke; opacity: 1; stroke-width: 1px; fill: rgb(237, 248, 233); fill-opacity: 1; stroke: rgb(0, 0, 0); stroke-opacity: 1;\"/></g><g class=\"point\"><path d=\"M3194.97,1026V1025.76H3211.67V1026Z\" style=\"vector-effect: non-scaling-stroke; opacity: 1; stroke-width: 1px; fill: rgb(237, 248, 233); fill-opacity: 1; stroke: rgb(0, 0, 0); stroke-opacity: 1;\"/></g><g class=\"point\"><path d=\"M3211.67,1026V1026H3228.37V1026Z\" style=\"vector-effect: non-scaling-stroke; opacity: 1; stroke-width: 1px; fill: rgb(237, 248, 233); fill-opacity: 1; stroke: rgb(0, 0, 0); stroke-opacity: 1;\"/></g><g class=\"point\"><path d=\"M3228.37,1026V1026H3245.08V1026Z\" style=\"vector-effect: non-scaling-stroke; opacity: 1; stroke-width: 1px; fill: rgb(237, 248, 233); fill-opacity: 1; stroke: rgb(0, 0, 0); stroke-opacity: 1;\"/></g><g class=\"point\"><path d=\"M3245.08,1026V1026H3261.78V1026Z\" style=\"vector-effect: non-scaling-stroke; opacity: 1; stroke-width: 1px; fill: rgb(237, 248, 233); fill-opacity: 1; stroke: rgb(0, 0, 0); stroke-opacity: 1;\"/></g><g class=\"point\"><path d=\"M3261.78,1026V1026H3278.48V1026Z\" style=\"vector-effect: non-scaling-stroke; opacity: 1; stroke-width: 1px; fill: rgb(237, 248, 233); fill-opacity: 1; stroke: rgb(0, 0, 0); stroke-opacity: 1;\"/></g><g class=\"point\"><path d=\"M3278.48,1026V1026H3295.18V1026Z\" style=\"vector-effect: non-scaling-stroke; opacity: 1; stroke-width: 1px; fill: rgb(237, 248, 233); fill-opacity: 1; stroke: rgb(0, 0, 0); stroke-opacity: 1;\"/></g><g class=\"point\"><path d=\"M3295.18,1026V1025.76H3311.88V1026Z\" style=\"vector-effect: non-scaling-stroke; opacity: 1; stroke-width: 1px; fill: rgb(237, 248, 233); fill-opacity: 1; stroke: rgb(0, 0, 0); stroke-opacity: 1;\"/></g><g class=\"point\"><path d=\"M3311.88,1026V1026H3328.59V1026Z\" style=\"vector-effect: non-scaling-stroke; opacity: 1; stroke-width: 1px; fill: rgb(237, 248, 233); fill-opacity: 1; stroke: rgb(0, 0, 0); stroke-opacity: 1;\"/></g><g class=\"point\"><path d=\"M3328.59,1026V1025.76H3345.29V1026Z\" style=\"vector-effect: non-scaling-stroke; opacity: 1; stroke-width: 1px; fill: rgb(237, 248, 233); fill-opacity: 1; stroke: rgb(0, 0, 0); stroke-opacity: 1;\"/></g><g class=\"point\"><path d=\"M3345.29,1026V1025.76H3361.99V1026Z\" style=\"vector-effect: non-scaling-stroke; opacity: 1; stroke-width: 1px; fill: rgb(237, 248, 233); fill-opacity: 1; stroke: rgb(0, 0, 0); stroke-opacity: 1;\"/></g><g class=\"point\"><path d=\"M3361.99,1026V1026H3378.69V1026Z\" style=\"vector-effect: non-scaling-stroke; opacity: 1; stroke-width: 1px; fill: rgb(237, 248, 233); fill-opacity: 1; stroke: rgb(0, 0, 0); stroke-opacity: 1;\"/></g><g class=\"point\"><path d=\"M3378.69,1026V1026H3395.4V1026Z\" style=\"vector-effect: non-scaling-stroke; opacity: 1; stroke-width: 1px; fill: rgb(237, 248, 233); fill-opacity: 1; stroke: rgb(0, 0, 0); stroke-opacity: 1;\"/></g><g class=\"point\"><path d=\"M3395.4,1026V1025.76H3412.1V1026Z\" style=\"vector-effect: non-scaling-stroke; opacity: 1; stroke-width: 1px; fill: rgb(237, 248, 233); fill-opacity: 1; stroke: rgb(0, 0, 0); stroke-opacity: 1;\"/></g><g class=\"point\"><path d=\"M3412.1,1026V1026H3428.8V1026Z\" style=\"vector-effect: non-scaling-stroke; opacity: 1; stroke-width: 1px; fill: rgb(237, 248, 233); fill-opacity: 1; stroke: rgb(0, 0, 0); stroke-opacity: 1;\"/></g><g class=\"point\"><path d=\"M3428.8,1026V1026H3445.5V1026Z\" style=\"vector-effect: non-scaling-stroke; opacity: 1; stroke-width: 1px; fill: rgb(237, 248, 233); fill-opacity: 1; stroke: rgb(0, 0, 0); stroke-opacity: 1;\"/></g><g class=\"point\"><path d=\"M3445.5,1026V1025.76H3462.2V1026Z\" style=\"vector-effect: non-scaling-stroke; opacity: 1; stroke-width: 1px; fill: rgb(237, 248, 233); fill-opacity: 1; stroke: rgb(0, 0, 0); stroke-opacity: 1;\"/></g><g class=\"point\"><path d=\"M3462.2,1026V1024.82H3478.91V1026Z\" style=\"vector-effect: non-scaling-stroke; opacity: 1; stroke-width: 1px; fill: rgb(237, 248, 233); fill-opacity: 1; stroke: rgb(0, 0, 0); stroke-opacity: 1;\"/></g><g class=\"point\"><path d=\"M3478.91,1026V1026H3495.61V1026Z\" style=\"vector-effect: non-scaling-stroke; opacity: 1; stroke-width: 1px; fill: rgb(237, 248, 233); fill-opacity: 1; stroke: rgb(0, 0, 0); stroke-opacity: 1;\"/></g><g class=\"point\"><path d=\"M3495.61,1026V1025.53H3512.31V1026Z\" style=\"vector-effect: non-scaling-stroke; opacity: 1; stroke-width: 1px; fill: rgb(237, 248, 233); fill-opacity: 1; stroke: rgb(0, 0, 0); stroke-opacity: 1;\"/></g><g class=\"point\"><path d=\"M3512.31,1026V1026H3529.01V1026Z\" style=\"vector-effect: non-scaling-stroke; opacity: 1; stroke-width: 1px; fill: rgb(237, 248, 233); fill-opacity: 1; stroke: rgb(0, 0, 0); stroke-opacity: 1;\"/></g><g class=\"point\"><path d=\"M3529.01,1026V1025.53H3545.71V1026Z\" style=\"vector-effect: non-scaling-stroke; opacity: 1; stroke-width: 1px; fill: rgb(237, 248, 233); fill-opacity: 1; stroke: rgb(0, 0, 0); stroke-opacity: 1;\"/></g><g class=\"point\"><path d=\"M3545.71,1026V1025.76H3562.42V1026Z\" style=\"vector-effect: non-scaling-stroke; opacity: 1; stroke-width: 1px; fill: rgb(237, 248, 233); fill-opacity: 1; stroke: rgb(0, 0, 0); stroke-opacity: 1;\"/></g><g class=\"point\"><path d=\"M3562.42,1026V1026H3579.12V1026Z\" style=\"vector-effect: non-scaling-stroke; opacity: 1; stroke-width: 1px; fill: rgb(237, 248, 233); fill-opacity: 1; stroke: rgb(0, 0, 0); stroke-opacity: 1;\"/></g><g class=\"point\"><path d=\"M3579.12,1026V1025.53H3595.82V1026Z\" style=\"vector-effect: non-scaling-stroke; opacity: 1; stroke-width: 1px; fill: rgb(237, 248, 233); fill-opacity: 1; stroke: rgb(0, 0, 0); stroke-opacity: 1;\"/></g><g class=\"point\"><path d=\"M3595.82,1026V1026H3612.52V1026Z\" style=\"vector-effect: non-scaling-stroke; opacity: 1; stroke-width: 1px; fill: rgb(237, 248, 233); fill-opacity: 1; stroke: rgb(0, 0, 0); stroke-opacity: 1;\"/></g><g class=\"point\"><path d=\"M3612.52,1026V1026H3629.22V1026Z\" style=\"vector-effect: non-scaling-stroke; opacity: 1; stroke-width: 1px; fill: rgb(237, 248, 233); fill-opacity: 1; stroke: rgb(0, 0, 0); stroke-opacity: 1;\"/></g><g class=\"point\"><path d=\"M3629.22,1026V1025.53H3645.93V1026Z\" style=\"vector-effect: non-scaling-stroke; opacity: 1; stroke-width: 1px; fill: rgb(237, 248, 233); fill-opacity: 1; stroke: rgb(0, 0, 0); stroke-opacity: 1;\"/></g><g class=\"point\"><path d=\"M3645.93,1026V1026H3662.63V1026Z\" style=\"vector-effect: non-scaling-stroke; opacity: 1; stroke-width: 1px; fill: rgb(237, 248, 233); fill-opacity: 1; stroke: rgb(0, 0, 0); stroke-opacity: 1;\"/></g><g class=\"point\"><path d=\"M3662.63,1026V1025.76H3679.33V1026Z\" style=\"vector-effect: non-scaling-stroke; opacity: 1; stroke-width: 1px; fill: rgb(237, 248, 233); fill-opacity: 1; stroke: rgb(0, 0, 0); stroke-opacity: 1;\"/></g><g class=\"point\"><path d=\"M3679.33,1026V1025.76H3696.03V1026Z\" style=\"vector-effect: non-scaling-stroke; opacity: 1; stroke-width: 1px; fill: rgb(237, 248, 233); fill-opacity: 1; stroke: rgb(0, 0, 0); stroke-opacity: 1;\"/></g><g class=\"point\"><path d=\"M3696.03,1026V1026H3712.73V1026Z\" style=\"vector-effect: non-scaling-stroke; opacity: 1; stroke-width: 1px; fill: rgb(237, 248, 233); fill-opacity: 1; stroke: rgb(0, 0, 0); stroke-opacity: 1;\"/></g><g class=\"point\"><path d=\"M3712.73,1026V1025.53H3729.44V1026Z\" style=\"vector-effect: non-scaling-stroke; opacity: 1; stroke-width: 1px; fill: rgb(237, 248, 233); fill-opacity: 1; stroke: rgb(0, 0, 0); stroke-opacity: 1;\"/></g><g class=\"point\"><path d=\"M3729.44,1026V1025.76H3746.14V1026Z\" style=\"vector-effect: non-scaling-stroke; opacity: 1; stroke-width: 1px; fill: rgb(237, 248, 233); fill-opacity: 1; stroke: rgb(0, 0, 0); stroke-opacity: 1;\"/></g><g class=\"point\"><path d=\"M3746.14,1026V1026H3762.84V1026Z\" style=\"vector-effect: non-scaling-stroke; opacity: 1; stroke-width: 1px; fill: rgb(237, 248, 233); fill-opacity: 1; stroke: rgb(0, 0, 0); stroke-opacity: 1;\"/></g><g class=\"point\"><path d=\"M3762.84,1026V1026H3779.54V1026Z\" style=\"vector-effect: non-scaling-stroke; opacity: 1; stroke-width: 1px; fill: rgb(237, 248, 233); fill-opacity: 1; stroke: rgb(0, 0, 0); stroke-opacity: 1;\"/></g><g class=\"point\"><path d=\"M3779.54,1026V1026H3796.25V1026Z\" style=\"vector-effect: non-scaling-stroke; opacity: 1; stroke-width: 1px; fill: rgb(237, 248, 233); fill-opacity: 1; stroke: rgb(0, 0, 0); stroke-opacity: 1;\"/></g><g class=\"point\"><path d=\"M3796.25,1026V1026H3812.95V1026Z\" style=\"vector-effect: non-scaling-stroke; opacity: 1; stroke-width: 1px; fill: rgb(237, 248, 233); fill-opacity: 1; stroke: rgb(0, 0, 0); stroke-opacity: 1;\"/></g><g class=\"point\"><path d=\"M3812.95,1026V1025.76H3829.65V1026Z\" style=\"vector-effect: non-scaling-stroke; opacity: 1; stroke-width: 1px; fill: rgb(237, 248, 233); fill-opacity: 1; stroke: rgb(0, 0, 0); stroke-opacity: 1;\"/></g><g class=\"point\"><path d=\"M3829.65,1026V1025.76H3846.35V1026Z\" style=\"vector-effect: non-scaling-stroke; opacity: 1; stroke-width: 1px; fill: rgb(237, 248, 233); fill-opacity: 1; stroke: rgb(0, 0, 0); stroke-opacity: 1;\"/></g><g class=\"point\"><path d=\"M3846.35,1026V1025.29H3863.05V1026Z\" style=\"vector-effect: non-scaling-stroke; opacity: 1; stroke-width: 1px; fill: rgb(237, 248, 233); fill-opacity: 1; stroke: rgb(0, 0, 0); stroke-opacity: 1;\"/></g><g class=\"point\"><path d=\"M3863.05,1026V1026H3879.76V1026Z\" style=\"vector-effect: non-scaling-stroke; opacity: 1; stroke-width: 1px; fill: rgb(237, 248, 233); fill-opacity: 1; stroke: rgb(0, 0, 0); stroke-opacity: 1;\"/></g><g class=\"point\"><path d=\"M3879.76,1026V1025.29H3896.46V1026Z\" style=\"vector-effect: non-scaling-stroke; opacity: 1; stroke-width: 1px; fill: rgb(237, 248, 233); fill-opacity: 1; stroke: rgb(0, 0, 0); stroke-opacity: 1;\"/></g><g class=\"point\"><path d=\"M3896.46,1026V1025.76H3913.16V1026Z\" style=\"vector-effect: non-scaling-stroke; opacity: 1; stroke-width: 1px; fill: rgb(237, 248, 233); fill-opacity: 1; stroke: rgb(0, 0, 0); stroke-opacity: 1;\"/></g><g class=\"point\"><path d=\"M3913.16,1026V1025.53H3929.86V1026Z\" style=\"vector-effect: non-scaling-stroke; opacity: 1; stroke-width: 1px; fill: rgb(237, 248, 233); fill-opacity: 1; stroke: rgb(0, 0, 0); stroke-opacity: 1;\"/></g><g class=\"point\"><path d=\"M3929.86,1026V1026H3946.56V1026Z\" style=\"vector-effect: non-scaling-stroke; opacity: 1; stroke-width: 1px; fill: rgb(237, 248, 233); fill-opacity: 1; stroke: rgb(0, 0, 0); stroke-opacity: 1;\"/></g><g class=\"point\"><path d=\"M3946.56,1026V1025.53H3963.27V1026Z\" style=\"vector-effect: non-scaling-stroke; opacity: 1; stroke-width: 1px; fill: rgb(237, 248, 233); fill-opacity: 1; stroke: rgb(0, 0, 0); stroke-opacity: 1;\"/></g><g class=\"point\"><path d=\"M3963.27,1026V1026H3979.97V1026Z\" style=\"vector-effect: non-scaling-stroke; opacity: 1; stroke-width: 1px; fill: rgb(237, 248, 233); fill-opacity: 1; stroke: rgb(0, 0, 0); stroke-opacity: 1;\"/></g><g class=\"point\"><path d=\"M3979.97,1026V1026H3996.67V1026Z\" style=\"vector-effect: non-scaling-stroke; opacity: 1; stroke-width: 1px; fill: rgb(237, 248, 233); fill-opacity: 1; stroke: rgb(0, 0, 0); stroke-opacity: 1;\"/></g><g class=\"point\"><path d=\"M3996.67,1026V1025.53H4013.37V1026Z\" style=\"vector-effect: non-scaling-stroke; opacity: 1; stroke-width: 1px; fill: rgb(237, 248, 233); fill-opacity: 1; stroke: rgb(0, 0, 0); stroke-opacity: 1;\"/></g><g class=\"point\"><path d=\"M4013.37,1026V1025.29H4030.07V1026Z\" style=\"vector-effect: non-scaling-stroke; opacity: 1; stroke-width: 1px; fill: rgb(237, 248, 233); fill-opacity: 1; stroke: rgb(0, 0, 0); stroke-opacity: 1;\"/></g><g class=\"point\"><path d=\"M4030.07,1026V1025.76H4046.78V1026Z\" style=\"vector-effect: non-scaling-stroke; opacity: 1; stroke-width: 1px; fill: rgb(237, 248, 233); fill-opacity: 1; stroke: rgb(0, 0, 0); stroke-opacity: 1;\"/></g><g class=\"point\"><path d=\"M4046.78,1026V1025.76H4063.48V1026Z\" style=\"vector-effect: non-scaling-stroke; opacity: 1; stroke-width: 1px; fill: rgb(237, 248, 233); fill-opacity: 1; stroke: rgb(0, 0, 0); stroke-opacity: 1;\"/></g><g class=\"point\"><path d=\"M4063.48,1026V1025.53H4080.18V1026Z\" style=\"vector-effect: non-scaling-stroke; opacity: 1; stroke-width: 1px; fill: rgb(237, 248, 233); fill-opacity: 1; stroke: rgb(0, 0, 0); stroke-opacity: 1;\"/></g><g class=\"point\"><path d=\"M4080.18,1026V1025.76H4096.88V1026Z\" style=\"vector-effect: non-scaling-stroke; opacity: 1; stroke-width: 1px; fill: rgb(237, 248, 233); fill-opacity: 1; stroke: rgb(0, 0, 0); stroke-opacity: 1;\"/></g><g class=\"point\"><path d=\"M4096.88,1026V1025.76H4113.59V1026Z\" style=\"vector-effect: non-scaling-stroke; opacity: 1; stroke-width: 1px; fill: rgb(237, 248, 233); fill-opacity: 1; stroke: rgb(0, 0, 0); stroke-opacity: 1;\"/></g><g class=\"point\"><path d=\"M4113.59,1026V1025.76H4130.29V1026Z\" style=\"vector-effect: non-scaling-stroke; opacity: 1; stroke-width: 1px; fill: rgb(237, 248, 233); fill-opacity: 1; stroke: rgb(0, 0, 0); stroke-opacity: 1;\"/></g><g class=\"point\"><path d=\"M4130.29,1026V1025.76H4146.99V1026Z\" style=\"vector-effect: non-scaling-stroke; opacity: 1; stroke-width: 1px; fill: rgb(237, 248, 233); fill-opacity: 1; stroke: rgb(0, 0, 0); stroke-opacity: 1;\"/></g><g class=\"point\"><path d=\"M4146.99,1026V1026H4163.69V1026Z\" style=\"vector-effect: non-scaling-stroke; opacity: 1; stroke-width: 1px; fill: rgb(237, 248, 233); fill-opacity: 1; stroke: rgb(0, 0, 0); stroke-opacity: 1;\"/></g><g class=\"point\"><path d=\"M4163.69,1026V1025.76H4180.39V1026Z\" style=\"vector-effect: non-scaling-stroke; opacity: 1; stroke-width: 1px; fill: rgb(237, 248, 233); fill-opacity: 1; stroke: rgb(0, 0, 0); stroke-opacity: 1;\"/></g><g class=\"point\"><path d=\"M4180.39,1026V1025.76H4197.1V1026Z\" style=\"vector-effect: non-scaling-stroke; opacity: 1; stroke-width: 1px; fill: rgb(237, 248, 233); fill-opacity: 1; stroke: rgb(0, 0, 0); stroke-opacity: 1;\"/></g><g class=\"point\"><path d=\"M4197.1,1026V1026H4213.8V1026Z\" style=\"vector-effect: non-scaling-stroke; opacity: 1; stroke-width: 1px; fill: rgb(237, 248, 233); fill-opacity: 1; stroke: rgb(0, 0, 0); stroke-opacity: 1;\"/></g><g class=\"point\"><path d=\"M4213.8,1026V1025.76H4230.5V1026Z\" style=\"vector-effect: non-scaling-stroke; opacity: 1; stroke-width: 1px; fill: rgb(237, 248, 233); fill-opacity: 1; stroke: rgb(0, 0, 0); stroke-opacity: 1;\"/></g><g class=\"point\"><path d=\"M4230.5,1026V1025.53H4247.2V1026Z\" style=\"vector-effect: non-scaling-stroke; opacity: 1; stroke-width: 1px; fill: rgb(237, 248, 233); fill-opacity: 1; stroke: rgb(0, 0, 0); stroke-opacity: 1;\"/></g><g class=\"point\"><path d=\"M4247.2,1026V1026H4263.9V1026Z\" style=\"vector-effect: non-scaling-stroke; opacity: 1; stroke-width: 1px; fill: rgb(237, 248, 233); fill-opacity: 1; stroke: rgb(0, 0, 0); stroke-opacity: 1;\"/></g><g class=\"point\"><path d=\"M4263.9,1026V1026H4280.61V1026Z\" style=\"vector-effect: non-scaling-stroke; opacity: 1; stroke-width: 1px; fill: rgb(237, 248, 233); fill-opacity: 1; stroke: rgb(0, 0, 0); stroke-opacity: 1;\"/></g><g class=\"point\"><path d=\"M4280.61,1026V1025.76H4297.31V1026Z\" style=\"vector-effect: non-scaling-stroke; opacity: 1; stroke-width: 1px; fill: rgb(237, 248, 233); fill-opacity: 1; stroke: rgb(0, 0, 0); stroke-opacity: 1;\"/></g><g class=\"point\"><path d=\"M4297.31,1026V1025.29H4314.01V1026Z\" style=\"vector-effect: non-scaling-stroke; opacity: 1; stroke-width: 1px; fill: rgb(237, 248, 233); fill-opacity: 1; stroke: rgb(0, 0, 0); stroke-opacity: 1;\"/></g><g class=\"point\"><path d=\"M4314.01,1026V1025.76H4330.71V1026Z\" style=\"vector-effect: non-scaling-stroke; opacity: 1; stroke-width: 1px; fill: rgb(237, 248, 233); fill-opacity: 1; stroke: rgb(0, 0, 0); stroke-opacity: 1;\"/></g><g class=\"point\"><path d=\"M4330.71,1026V1026H4347.41V1026Z\" style=\"vector-effect: non-scaling-stroke; opacity: 1; stroke-width: 1px; fill: rgb(237, 248, 233); fill-opacity: 1; stroke: rgb(0, 0, 0); stroke-opacity: 1;\"/></g><g class=\"point\"><path d=\"M4347.41,1026V1025.76H4364.12V1026Z\" style=\"vector-effect: non-scaling-stroke; opacity: 1; stroke-width: 1px; fill: rgb(237, 248, 233); fill-opacity: 1; stroke: rgb(0, 0, 0); stroke-opacity: 1;\"/></g><g class=\"point\"><path d=\"M4364.12,1026V1026H4380.82V1026Z\" style=\"vector-effect: non-scaling-stroke; opacity: 1; stroke-width: 1px; fill: rgb(237, 248, 233); fill-opacity: 1; stroke: rgb(0, 0, 0); stroke-opacity: 1;\"/></g><g class=\"point\"><path d=\"M4380.82,1026V1025.76H4397.52V1026Z\" style=\"vector-effect: non-scaling-stroke; opacity: 1; stroke-width: 1px; fill: rgb(237, 248, 233); fill-opacity: 1; stroke: rgb(0, 0, 0); stroke-opacity: 1;\"/></g><g class=\"point\"><path d=\"M4397.52,1026V1025.76H4414.22V1026Z\" style=\"vector-effect: non-scaling-stroke; opacity: 1; stroke-width: 1px; fill: rgb(237, 248, 233); fill-opacity: 1; stroke: rgb(0, 0, 0); stroke-opacity: 1;\"/></g><g class=\"point\"><path d=\"M4414.22,1026V1026H4430.93V1026Z\" style=\"vector-effect: non-scaling-stroke; opacity: 1; stroke-width: 1px; fill: rgb(237, 248, 233); fill-opacity: 1; stroke: rgb(0, 0, 0); stroke-opacity: 1;\"/></g><g class=\"point\"><path d=\"M4430.93,1026V1025.53H4447.63V1026Z\" style=\"vector-effect: non-scaling-stroke; opacity: 1; stroke-width: 1px; fill: rgb(237, 248, 233); fill-opacity: 1; stroke: rgb(0, 0, 0); stroke-opacity: 1;\"/></g><g class=\"point\"><path d=\"M4447.63,1026V1026H4464.33V1026Z\" style=\"vector-effect: non-scaling-stroke; opacity: 1; stroke-width: 1px; fill: rgb(237, 248, 233); fill-opacity: 1; stroke: rgb(0, 0, 0); stroke-opacity: 1;\"/></g><g class=\"point\"><path d=\"M4464.33,1026V1026H4481.03V1026Z\" style=\"vector-effect: non-scaling-stroke; opacity: 1; stroke-width: 1px; fill: rgb(237, 248, 233); fill-opacity: 1; stroke: rgb(0, 0, 0); stroke-opacity: 1;\"/></g><g class=\"point\"><path d=\"M4481.03,1026V1026H4497.73V1026Z\" style=\"vector-effect: non-scaling-stroke; opacity: 1; stroke-width: 1px; fill: rgb(237, 248, 233); fill-opacity: 1; stroke: rgb(0, 0, 0); stroke-opacity: 1;\"/></g><g class=\"point\"><path d=\"M4497.73,1026V1025.76H4514.44V1026Z\" style=\"vector-effect: non-scaling-stroke; opacity: 1; stroke-width: 1px; fill: rgb(237, 248, 233); fill-opacity: 1; stroke: rgb(0, 0, 0); stroke-opacity: 1;\"/></g><g class=\"point\"><path d=\"M4514.44,1026V1025.76H4531.14V1026Z\" style=\"vector-effect: non-scaling-stroke; opacity: 1; stroke-width: 1px; fill: rgb(237, 248, 233); fill-opacity: 1; stroke: rgb(0, 0, 0); stroke-opacity: 1;\"/></g><g class=\"point\"><path d=\"M4531.14,1026V1025.53H4547.84V1026Z\" style=\"vector-effect: non-scaling-stroke; opacity: 1; stroke-width: 1px; fill: rgb(237, 248, 233); fill-opacity: 1; stroke: rgb(0, 0, 0); stroke-opacity: 1;\"/></g><g class=\"point\"><path d=\"M4547.84,1026V1026H4564.54V1026Z\" style=\"vector-effect: non-scaling-stroke; opacity: 1; stroke-width: 1px; fill: rgb(237, 248, 233); fill-opacity: 1; stroke: rgb(0, 0, 0); stroke-opacity: 1;\"/></g><g class=\"point\"><path d=\"M4564.54,1026V1025.53H4581.24V1026Z\" style=\"vector-effect: non-scaling-stroke; opacity: 1; stroke-width: 1px; fill: rgb(237, 248, 233); fill-opacity: 1; stroke: rgb(0, 0, 0); stroke-opacity: 1;\"/></g><g class=\"point\"><path d=\"M4581.24,1026V1025.53H4597.95V1026Z\" style=\"vector-effect: non-scaling-stroke; opacity: 1; stroke-width: 1px; fill: rgb(237, 248, 233); fill-opacity: 1; stroke: rgb(0, 0, 0); stroke-opacity: 1;\"/></g><g class=\"point\"><path d=\"M4597.95,1026V1026H4614.65V1026Z\" style=\"vector-effect: non-scaling-stroke; opacity: 1; stroke-width: 1px; fill: rgb(237, 248, 233); fill-opacity: 1; stroke: rgb(0, 0, 0); stroke-opacity: 1;\"/></g><g class=\"point\"><path d=\"M4614.65,1026V1025.76H4631.35V1026Z\" style=\"vector-effect: non-scaling-stroke; opacity: 1; stroke-width: 1px; fill: rgb(237, 248, 233); fill-opacity: 1; stroke: rgb(0, 0, 0); stroke-opacity: 1;\"/></g><g class=\"point\"><path d=\"M4631.35,1026V1025.76H4648.05V1026Z\" style=\"vector-effect: non-scaling-stroke; opacity: 1; stroke-width: 1px; fill: rgb(237, 248, 233); fill-opacity: 1; stroke: rgb(0, 0, 0); stroke-opacity: 1;\"/></g><g class=\"point\"><path d=\"M4648.05,1026V1025.76H4664.75V1026Z\" style=\"vector-effect: non-scaling-stroke; opacity: 1; stroke-width: 1px; fill: rgb(237, 248, 233); fill-opacity: 1; stroke: rgb(0, 0, 0); stroke-opacity: 1;\"/></g><g class=\"point\"><path d=\"M4664.75,1026V1025.53H4681.46V1026Z\" style=\"vector-effect: non-scaling-stroke; opacity: 1; stroke-width: 1px; fill: rgb(237, 248, 233); fill-opacity: 1; stroke: rgb(0, 0, 0); stroke-opacity: 1;\"/></g><g class=\"point\"><path d=\"M4681.46,1026V1025.76H4698.16V1026Z\" style=\"vector-effect: non-scaling-stroke; opacity: 1; stroke-width: 1px; fill: rgb(237, 248, 233); fill-opacity: 1; stroke: rgb(0, 0, 0); stroke-opacity: 1;\"/></g><g class=\"point\"><path d=\"M4698.16,1026V1025.53H4714.86V1026Z\" style=\"vector-effect: non-scaling-stroke; opacity: 1; stroke-width: 1px; fill: rgb(237, 248, 233); fill-opacity: 1; stroke: rgb(0, 0, 0); stroke-opacity: 1;\"/></g><g class=\"point\"><path d=\"M4714.86,1026V1025.05H4731.56V1026Z\" style=\"vector-effect: non-scaling-stroke; opacity: 1; stroke-width: 1px; fill: rgb(237, 248, 233); fill-opacity: 1; stroke: rgb(0, 0, 0); stroke-opacity: 1;\"/></g><g class=\"point\"><path d=\"M4731.56,1026V1025.76H4748.27V1026Z\" style=\"vector-effect: non-scaling-stroke; opacity: 1; stroke-width: 1px; fill: rgb(237, 248, 233); fill-opacity: 1; stroke: rgb(0, 0, 0); stroke-opacity: 1;\"/></g><g class=\"point\"><path d=\"M4748.27,1026V1025.76H4764.97V1026Z\" style=\"vector-effect: non-scaling-stroke; opacity: 1; stroke-width: 1px; fill: rgb(237, 248, 233); fill-opacity: 1; stroke: rgb(0, 0, 0); stroke-opacity: 1;\"/></g><g class=\"point\"><path d=\"M4764.97,1026V1025.05H4781.67V1026Z\" style=\"vector-effect: non-scaling-stroke; opacity: 1; stroke-width: 1px; fill: rgb(237, 248, 233); fill-opacity: 1; stroke: rgb(0, 0, 0); stroke-opacity: 1;\"/></g><g class=\"point\"><path d=\"M4781.67,1026V1025.76H4798.37V1026Z\" style=\"vector-effect: non-scaling-stroke; opacity: 1; stroke-width: 1px; fill: rgb(237, 248, 233); fill-opacity: 1; stroke: rgb(0, 0, 0); stroke-opacity: 1;\"/></g><g class=\"point\"><path d=\"M4798.37,1026V1025.76H4815.07V1026Z\" style=\"vector-effect: non-scaling-stroke; opacity: 1; stroke-width: 1px; fill: rgb(237, 248, 233); fill-opacity: 1; stroke: rgb(0, 0, 0); stroke-opacity: 1;\"/></g><g class=\"point\"><path d=\"M4815.07,1026V1025.29H4831.78V1026Z\" style=\"vector-effect: non-scaling-stroke; opacity: 1; stroke-width: 1px; fill: rgb(237, 248, 233); fill-opacity: 1; stroke: rgb(0, 0, 0); stroke-opacity: 1;\"/></g><g class=\"point\"><path d=\"M4831.78,1026V1025.76H4848.48V1026Z\" style=\"vector-effect: non-scaling-stroke; opacity: 1; stroke-width: 1px; fill: rgb(237, 248, 233); fill-opacity: 1; stroke: rgb(0, 0, 0); stroke-opacity: 1;\"/></g><g class=\"point\"><path d=\"M4848.48,1026V1025.76H4865.18V1026Z\" style=\"vector-effect: non-scaling-stroke; opacity: 1; stroke-width: 1px; fill: rgb(237, 248, 233); fill-opacity: 1; stroke: rgb(0, 0, 0); stroke-opacity: 1;\"/></g><g class=\"point\"><path d=\"M4865.18,1026V1025.53H4881.88V1026Z\" style=\"vector-effect: non-scaling-stroke; opacity: 1; stroke-width: 1px; fill: rgb(237, 248, 233); fill-opacity: 1; stroke: rgb(0, 0, 0); stroke-opacity: 1;\"/></g><g class=\"point\"><path d=\"M4881.88,1026V1026H4898.58V1026Z\" style=\"vector-effect: non-scaling-stroke; opacity: 1; stroke-width: 1px; fill: rgb(237, 248, 233); fill-opacity: 1; stroke: rgb(0, 0, 0); stroke-opacity: 1;\"/></g><g class=\"point\"><path d=\"M4898.58,1026V1025.53H4915.29V1026Z\" style=\"vector-effect: non-scaling-stroke; opacity: 1; stroke-width: 1px; fill: rgb(237, 248, 233); fill-opacity: 1; stroke: rgb(0, 0, 0); stroke-opacity: 1;\"/></g><g class=\"point\"><path d=\"M4915.29,1026V1025.53H4931.99V1026Z\" style=\"vector-effect: non-scaling-stroke; opacity: 1; stroke-width: 1px; fill: rgb(237, 248, 233); fill-opacity: 1; stroke: rgb(0, 0, 0); stroke-opacity: 1;\"/></g><g class=\"point\"><path d=\"M4931.99,1026V1026H4948.69V1026Z\" style=\"vector-effect: non-scaling-stroke; opacity: 1; stroke-width: 1px; fill: rgb(237, 248, 233); fill-opacity: 1; stroke: rgb(0, 0, 0); stroke-opacity: 1;\"/></g><g class=\"point\"><path d=\"M4948.69,1026V1024.82H4965.39V1026Z\" style=\"vector-effect: non-scaling-stroke; opacity: 1; stroke-width: 1px; fill: rgb(237, 248, 233); fill-opacity: 1; stroke: rgb(0, 0, 0); stroke-opacity: 1;\"/></g><g class=\"point\"><path d=\"M4965.39,1026V1025.53H4982.09V1026Z\" style=\"vector-effect: non-scaling-stroke; opacity: 1; stroke-width: 1px; fill: rgb(237, 248, 233); fill-opacity: 1; stroke: rgb(0, 0, 0); stroke-opacity: 1;\"/></g><g class=\"point\"><path d=\"M4982.09,1026V1025.76H4998.8V1026Z\" style=\"vector-effect: non-scaling-stroke; opacity: 1; stroke-width: 1px; fill: rgb(237, 248, 233); fill-opacity: 1; stroke: rgb(0, 0, 0); stroke-opacity: 1;\"/></g><g class=\"point\"><path d=\"M4998.8,1026V1025.53H5015.5V1026Z\" style=\"vector-effect: non-scaling-stroke; opacity: 1; stroke-width: 1px; fill: rgb(237, 248, 233); fill-opacity: 1; stroke: rgb(0, 0, 0); stroke-opacity: 1;\"/></g><g class=\"point\"><path d=\"M5015.5,1026V1025.29H5032.2V1026Z\" style=\"vector-effect: non-scaling-stroke; opacity: 1; stroke-width: 1px; fill: rgb(237, 248, 233); fill-opacity: 1; stroke: rgb(0, 0, 0); stroke-opacity: 1;\"/></g><g class=\"point\"><path d=\"M5032.2,1026V1025.76H5048.9V1026Z\" style=\"vector-effect: non-scaling-stroke; opacity: 1; stroke-width: 1px; fill: rgb(237, 248, 233); fill-opacity: 1; stroke: rgb(0, 0, 0); stroke-opacity: 1;\"/></g><g class=\"point\"><path d=\"M5048.9,1026V1026H5065.6V1026Z\" style=\"vector-effect: non-scaling-stroke; opacity: 1; stroke-width: 1px; fill: rgb(237, 248, 233); fill-opacity: 1; stroke: rgb(0, 0, 0); stroke-opacity: 1;\"/></g><g class=\"point\"><path d=\"M5065.6,1026V1025.53H5082.31V1026Z\" style=\"vector-effect: non-scaling-stroke; opacity: 1; stroke-width: 1px; fill: rgb(237, 248, 233); fill-opacity: 1; stroke: rgb(0, 0, 0); stroke-opacity: 1;\"/></g><g class=\"point\"><path d=\"M5082.31,1026V1026H5099.01V1026Z\" style=\"vector-effect: non-scaling-stroke; opacity: 1; stroke-width: 1px; fill: rgb(237, 248, 233); fill-opacity: 1; stroke: rgb(0, 0, 0); stroke-opacity: 1;\"/></g><g class=\"point\"><path d=\"M5099.01,1026V1025.53H5115.71V1026Z\" style=\"vector-effect: non-scaling-stroke; opacity: 1; stroke-width: 1px; fill: rgb(237, 248, 233); fill-opacity: 1; stroke: rgb(0, 0, 0); stroke-opacity: 1;\"/></g><g class=\"point\"><path d=\"M5115.71,1026V1025.53H5132.41V1026Z\" style=\"vector-effect: non-scaling-stroke; opacity: 1; stroke-width: 1px; fill: rgb(237, 248, 233); fill-opacity: 1; stroke: rgb(0, 0, 0); stroke-opacity: 1;\"/></g><g class=\"point\"><path d=\"M5132.41,1026V1025.76H5149.12V1026Z\" style=\"vector-effect: non-scaling-stroke; opacity: 1; stroke-width: 1px; fill: rgb(237, 248, 233); fill-opacity: 1; stroke: rgb(0, 0, 0); stroke-opacity: 1;\"/></g><g class=\"point\"><path d=\"M5149.12,1026V1025.76H5165.82V1026Z\" style=\"vector-effect: non-scaling-stroke; opacity: 1; stroke-width: 1px; fill: rgb(237, 248, 233); fill-opacity: 1; stroke: rgb(0, 0, 0); stroke-opacity: 1;\"/></g><g class=\"point\"><path d=\"M5165.82,1026V1025.76H5182.52V1026Z\" style=\"vector-effect: non-scaling-stroke; opacity: 1; stroke-width: 1px; fill: rgb(237, 248, 233); fill-opacity: 1; stroke: rgb(0, 0, 0); stroke-opacity: 1;\"/></g><g class=\"point\"><path d=\"M5182.52,1026V1024.58H5199.22V1026Z\" style=\"vector-effect: non-scaling-stroke; opacity: 1; stroke-width: 1px; fill: rgb(237, 248, 233); fill-opacity: 1; stroke: rgb(0, 0, 0); stroke-opacity: 1;\"/></g><g class=\"point\"><path d=\"M5199.22,1026V1025.76H5215.92V1026Z\" style=\"vector-effect: non-scaling-stroke; opacity: 1; stroke-width: 1px; fill: rgb(237, 248, 233); fill-opacity: 1; stroke: rgb(0, 0, 0); stroke-opacity: 1;\"/></g><g class=\"point\"><path d=\"M5215.92,1026V1025.76H5232.63V1026Z\" style=\"vector-effect: non-scaling-stroke; opacity: 1; stroke-width: 1px; fill: rgb(237, 248, 233); fill-opacity: 1; stroke: rgb(0, 0, 0); stroke-opacity: 1;\"/></g><g class=\"point\"><path d=\"M5232.63,1026V1025.53H5249.33V1026Z\" style=\"vector-effect: non-scaling-stroke; opacity: 1; stroke-width: 1px; fill: rgb(237, 248, 233); fill-opacity: 1; stroke: rgb(0, 0, 0); stroke-opacity: 1;\"/></g><g class=\"point\"><path d=\"M5249.33,1026V1025.76H5266.03V1026Z\" style=\"vector-effect: non-scaling-stroke; opacity: 1; stroke-width: 1px; fill: rgb(237, 248, 233); fill-opacity: 1; stroke: rgb(0, 0, 0); stroke-opacity: 1;\"/></g></g></g></g><g class=\"scatterlayer mlayer\"><g class=\"trace scatter trace62e219\" style=\"stroke-miterlimit: 2; opacity: 1;\"><g class=\"fills\"/><g class=\"errorbars\"/><g class=\"lines\"><path class=\"js-line\" d=\"M0,1026L293.18,1026L301.32,749.51L317.61,0L325.75,90.72L333.89,348.21L342.04,564.9L350.18,703.31L358.33,813.47L366.47,828.69L374.61,855.88L382.76,1026L390.9,1026L553.78,1026L561.92,1004.58L570.06,1006.57L578.21,1026L2027.79,1026\" style=\"vector-effect: non-scaling-stroke; fill: none; stroke: rgb(0, 109, 44); stroke-opacity: 1; stroke-width: 4px; opacity: 1;\"/></g><g class=\"points\"/><g class=\"text\"/></g></g></g><g class=\"overplot\"/><path class=\"xlines-above crisp\" d=\"M158,1063H1463\" style=\"fill: none; stroke-width: 2px; stroke: rgb(0, 0, 0); stroke-opacity: 1;\"/><path class=\"ylines-above crisp\" d=\"M159,36V1062\" style=\"fill: none; stroke-width: 2px; stroke: rgb(0, 0, 0); stroke-opacity: 1;\"/><g class=\"overlines-above\"/><g class=\"xaxislayer-above\"><path class=\"xtick ticks crisp\" d=\"M0,1064v10\" transform=\"translate(160,0)\" style=\"stroke: rgb(68, 68, 68); stroke-opacity: 1; stroke-width: 2px;\"/><path class=\"xtick ticks crisp\" d=\"M0,1064v10\" transform=\"translate(241.44,0)\" style=\"stroke: rgb(68, 68, 68); stroke-opacity: 1; stroke-width: 2px;\"/><path class=\"xtick ticks crisp\" d=\"M0,1064v10\" transform=\"translate(322.88,0)\" style=\"stroke: rgb(68, 68, 68); stroke-opacity: 1; stroke-width: 2px;\"/><path class=\"xtick ticks crisp\" d=\"M0,1064v10\" transform=\"translate(404.31,0)\" style=\"stroke: rgb(68, 68, 68); stroke-opacity: 1; stroke-width: 2px;\"/><path class=\"xtick ticks crisp\" d=\"M0,1064v10\" transform=\"translate(485.75,0)\" style=\"stroke: rgb(68, 68, 68); stroke-opacity: 1; stroke-width: 2px;\"/><path class=\"xtick ticks crisp\" d=\"M0,1064v10\" transform=\"translate(567.19,0)\" style=\"stroke: rgb(68, 68, 68); stroke-opacity: 1; stroke-width: 2px;\"/><path class=\"xtick ticks crisp\" d=\"M0,1064v10\" transform=\"translate(648.63,0)\" style=\"stroke: rgb(68, 68, 68); stroke-opacity: 1; stroke-width: 2px;\"/><path class=\"xtick ticks crisp\" d=\"M0,1064v10\" transform=\"translate(730.06,0)\" style=\"stroke: rgb(68, 68, 68); stroke-opacity: 1; stroke-width: 2px;\"/><path class=\"xtick ticks crisp\" d=\"M0,1064v10\" transform=\"translate(811.5,0)\" style=\"stroke: rgb(68, 68, 68); stroke-opacity: 1; stroke-width: 2px;\"/><path class=\"xtick ticks crisp\" d=\"M0,1064v10\" transform=\"translate(892.94,0)\" style=\"stroke: rgb(68, 68, 68); stroke-opacity: 1; stroke-width: 2px;\"/><path class=\"xtick ticks crisp\" d=\"M0,1064v10\" transform=\"translate(974.38,0)\" style=\"stroke: rgb(68, 68, 68); stroke-opacity: 1; stroke-width: 2px;\"/><path class=\"xtick ticks crisp\" d=\"M0,1064v10\" transform=\"translate(1055.81,0)\" style=\"stroke: rgb(68, 68, 68); stroke-opacity: 1; stroke-width: 2px;\"/><path class=\"xtick ticks crisp\" d=\"M0,1064v10\" transform=\"translate(1137.25,0)\" style=\"stroke: rgb(68, 68, 68); stroke-opacity: 1; stroke-width: 2px;\"/><path class=\"xtick ticks crisp\" d=\"M0,1064v10\" transform=\"translate(1218.69,0)\" style=\"stroke: rgb(68, 68, 68); stroke-opacity: 1; stroke-width: 2px;\"/><path class=\"xtick ticks crisp\" d=\"M0,1064v10\" transform=\"translate(1300.13,0)\" style=\"stroke: rgb(68, 68, 68); stroke-opacity: 1; stroke-width: 2px;\"/><path class=\"xtick ticks crisp\" d=\"M0,1064v10\" transform=\"translate(1381.56,0)\" style=\"stroke: rgb(68, 68, 68); stroke-opacity: 1; stroke-width: 2px;\"/><path class=\"xtick ticks crisp\" d=\"M0,1064v10\" transform=\"translate(1463,0)\" style=\"stroke: rgb(68, 68, 68); stroke-opacity: 1; stroke-width: 2px;\"/><g class=\"xtick\"><text text-anchor=\"middle\" x=\"0\" y=\"1131.6\" transform=\"translate(160,0)\" style=\"font-family: Arial; font-size: 48px; fill: rgb(0, 0, 0); fill-opacity: 1; white-space: pre; opacity: 1;\">0</text></g><g class=\"xtick\"><text text-anchor=\"middle\" x=\"0\" y=\"1131.6\" style=\"font-family: Arial; font-size: 48px; fill: rgb(0, 0, 0); fill-opacity: 1; white-space: pre; opacity: 1;\" transform=\"translate(241.44,0)\">1</text></g><g class=\"xtick\"><text text-anchor=\"middle\" x=\"0\" y=\"1131.6\" style=\"font-family: Arial; font-size: 48px; fill: rgb(0, 0, 0); fill-opacity: 1; white-space: pre; opacity: 1;\" transform=\"translate(322.88,0)\">2</text></g><g class=\"xtick\"><text text-anchor=\"middle\" x=\"0\" y=\"1131.6\" style=\"font-family: Arial; font-size: 48px; fill: rgb(0, 0, 0); fill-opacity: 1; white-space: pre; opacity: 1;\" transform=\"translate(404.31,0)\">3</text></g><g class=\"xtick\"><text text-anchor=\"middle\" x=\"0\" y=\"1131.6\" style=\"font-family: Arial; font-size: 48px; fill: rgb(0, 0, 0); fill-opacity: 1; white-space: pre; opacity: 1;\" transform=\"translate(485.75,0)\">4</text></g><g class=\"xtick\"><text text-anchor=\"middle\" x=\"0\" y=\"1131.6\" style=\"font-family: Arial; font-size: 48px; fill: rgb(0, 0, 0); fill-opacity: 1; white-space: pre; opacity: 1;\" transform=\"translate(567.19,0)\">5</text></g><g class=\"xtick\"><text text-anchor=\"middle\" x=\"0\" y=\"1131.6\" style=\"font-family: Arial; font-size: 48px; fill: rgb(0, 0, 0); fill-opacity: 1; white-space: pre; opacity: 1;\" transform=\"translate(648.63,0)\">6</text></g><g class=\"xtick\"><text text-anchor=\"middle\" x=\"0\" y=\"1131.6\" style=\"font-family: Arial; font-size: 48px; fill: rgb(0, 0, 0); fill-opacity: 1; white-space: pre; opacity: 1;\" transform=\"translate(730.06,0)\">7</text></g><g class=\"xtick\"><text text-anchor=\"middle\" x=\"0\" y=\"1131.6\" style=\"font-family: Arial; font-size: 48px; fill: rgb(0, 0, 0); fill-opacity: 1; white-space: pre; opacity: 1;\" transform=\"translate(811.5,0)\">8</text></g><g class=\"xtick\"><text text-anchor=\"middle\" x=\"0\" y=\"1131.6\" style=\"font-family: Arial; font-size: 48px; fill: rgb(0, 0, 0); fill-opacity: 1; white-space: pre; opacity: 1;\" transform=\"translate(892.94,0)\">9</text></g><g class=\"xtick\"><text text-anchor=\"middle\" x=\"0\" y=\"1131.6\" style=\"font-family: Arial; font-size: 48px; fill: rgb(0, 0, 0); fill-opacity: 1; white-space: pre; opacity: 1;\" transform=\"translate(974.38,0)\">10</text></g><g class=\"xtick\"><text text-anchor=\"middle\" x=\"0\" y=\"1131.6\" style=\"font-family: Arial; font-size: 48px; fill: rgb(0, 0, 0); fill-opacity: 1; white-space: pre; opacity: 1;\" transform=\"translate(1055.81,0)\">11</text></g><g class=\"xtick\"><text text-anchor=\"middle\" x=\"0\" y=\"1131.6\" style=\"font-family: Arial; font-size: 48px; fill: rgb(0, 0, 0); fill-opacity: 1; white-space: pre; opacity: 1;\" transform=\"translate(1137.25,0)\">12</text></g><g class=\"xtick\"><text text-anchor=\"middle\" x=\"0\" y=\"1131.6\" style=\"font-family: Arial; font-size: 48px; fill: rgb(0, 0, 0); fill-opacity: 1; white-space: pre; opacity: 1;\" transform=\"translate(1218.69,0)\">13</text></g><g class=\"xtick\"><text text-anchor=\"middle\" x=\"0\" y=\"1131.6\" style=\"font-family: Arial; font-size: 48px; fill: rgb(0, 0, 0); fill-opacity: 1; white-space: pre; opacity: 1;\" transform=\"translate(1300.13,0)\">14</text></g><g class=\"xtick\"><text text-anchor=\"middle\" x=\"0\" y=\"1131.6\" style=\"font-family: Arial; font-size: 48px; fill: rgb(0, 0, 0); fill-opacity: 1; white-space: pre; opacity: 1;\" transform=\"translate(1381.56,0)\">15</text></g><g class=\"xtick\"><text text-anchor=\"middle\" x=\"0\" y=\"1131.6\" style=\"font-family: Arial; font-size: 48px; fill: rgb(0, 0, 0); fill-opacity: 1; white-space: pre; opacity: 1;\" transform=\"translate(1463,0)\">16</text></g></g><g class=\"yaxislayer-above\"><path class=\"ytick ticks crisp\" d=\"M158,0h-10\" transform=\"translate(0,1062)\" style=\"stroke: rgb(68, 68, 68); stroke-opacity: 1; stroke-width: 2px;\"/><path class=\"ytick ticks crisp\" d=\"M158,0h-10\" transform=\"translate(0,856.8)\" style=\"stroke: rgb(68, 68, 68); stroke-opacity: 1; stroke-width: 2px;\"/><path class=\"ytick ticks crisp\" d=\"M158,0h-10\" transform=\"translate(0,651.6)\" style=\"stroke: rgb(68, 68, 68); stroke-opacity: 1; stroke-width: 2px;\"/><path class=\"ytick ticks crisp\" d=\"M158,0h-10\" transform=\"translate(0,446.4)\" style=\"stroke: rgb(68, 68, 68); stroke-opacity: 1; stroke-width: 2px;\"/><path class=\"ytick ticks crisp\" d=\"M158,0h-10\" transform=\"translate(0,241.2)\" style=\"stroke: rgb(68, 68, 68); stroke-opacity: 1; stroke-width: 2px;\"/><path class=\"ytick ticks crisp\" d=\"M158,0h-10\" transform=\"translate(0,36)\" style=\"stroke: rgb(68, 68, 68); stroke-opacity: 1; stroke-width: 2px;\"/><g class=\"ytick\"><text text-anchor=\"end\" x=\"138.4\" y=\"16.799999999999997\" transform=\"translate(0,1062)\" style=\"font-family: Arial; font-size: 48px; fill: rgb(0, 0, 0); fill-opacity: 1; white-space: pre; opacity: 1;\">0</text></g><g class=\"ytick\"><text text-anchor=\"end\" x=\"138.4\" y=\"16.799999999999997\" style=\"font-family: Arial; font-size: 48px; fill: rgb(0, 0, 0); fill-opacity: 1; white-space: pre; opacity: 1;\" transform=\"translate(0,856.8)\">20</text></g><g class=\"ytick\"><text text-anchor=\"end\" x=\"138.4\" y=\"16.799999999999997\" style=\"font-family: Arial; font-size: 48px; fill: rgb(0, 0, 0); fill-opacity: 1; white-space: pre; opacity: 1;\" transform=\"translate(0,651.6)\">40</text></g><g class=\"ytick\"><text text-anchor=\"end\" x=\"138.4\" y=\"16.799999999999997\" style=\"font-family: Arial; font-size: 48px; fill: rgb(0, 0, 0); fill-opacity: 1; white-space: pre; opacity: 1;\" transform=\"translate(0,446.4)\">60</text></g><g class=\"ytick\"><text text-anchor=\"end\" x=\"138.4\" y=\"16.799999999999997\" style=\"font-family: Arial; font-size: 48px; fill: rgb(0, 0, 0); fill-opacity: 1; white-space: pre; opacity: 1;\" transform=\"translate(0,241.2)\">80</text></g><g class=\"ytick\"><text text-anchor=\"end\" x=\"138.4\" y=\"16.799999999999997\" style=\"font-family: Arial; font-size: 48px; fill: rgb(0, 0, 0); fill-opacity: 1; white-space: pre; opacity: 1;\" transform=\"translate(0,36)\">100</text></g></g><g class=\"overaxes-above\"/></g></g><g class=\"polarlayer\"/><g class=\"smithlayer\"/><g class=\"ternarylayer\"/><g class=\"geolayer\"/><g class=\"funnelarealayer\"/><g class=\"pielayer\"/><g class=\"iciclelayer\"/><g class=\"treemaplayer\"/><g class=\"sunburstlayer\"/><g class=\"glimages\"/><defs id=\"topdefs-4e448a\"><g class=\"clips\"/><clipPath id=\"legend4e448a\"><rect width=\"622\" height=\"141\" x=\"1\" y=\"1\"/></clipPath></defs><g class=\"layer-above\"><g class=\"imagelayer\"/><g class=\"shapelayer\"/></g><g class=\"infolayer\"><g class=\"legend\" pointer-events=\"all\" transform=\"translate(811.5,36)\"><rect class=\"bg\" shape-rendering=\"crispEdges\" width=\"623\" height=\"142\" x=\"0.5\" y=\"0.5\" style=\"stroke: rgb(0, 0, 0); stroke-opacity: 1; fill: rgb(255, 255, 255); fill-opacity: 1; stroke-width: 1px;\"/><g class=\"scrollbox\" transform=\"\" clip-path=\"url(#legend4e448a)\"><g class=\"groups\"><g class=\"traces\" transform=\"translate(1,38.7)\" style=\"opacity: 1;\"><text class=\"legendtext\" text-anchor=\"start\" x=\"40\" y=\"18.720000000000002\" style=\"font-family: Arial; font-size: 48px; fill: rgb(0, 0, 0); fill-opacity: 1; white-space: pre;\">-exp(GaMD PMF)</text><g class=\"layers\" style=\"opacity: 1;\"><g class=\"legendfill\"/><g class=\"legendlines\"><path class=\"js-line\" d=\"M5,0h30\" style=\"fill: none; stroke: rgb(0, 109, 44); stroke-opacity: 1; stroke-width: 4px;\"/></g><g class=\"legendsymbols\"><g class=\"legendpoints\"/></g></g><rect class=\"legendtoggle\" x=\"0\" y=\"-32.7\" width=\"616.234375\" height=\"65.4\" style=\"fill: rgb(0, 0, 0); fill-opacity: 0;\"/></g><g class=\"traces\" transform=\"translate(1,104.10000000000001)\" style=\"opacity: 1;\"><text class=\"legendtext\" text-anchor=\"start\" x=\"40\" y=\"18.720000000000002\" style=\"font-family: Arial; font-size: 48px; fill: rgb(0, 0, 0); fill-opacity: 1; white-space: pre;\">TI Lambda Prod Histogram</text><g class=\"layers\" style=\"opacity: 1;\"><g class=\"legendfill\"/><g class=\"legendlines\"/><g class=\"legendsymbols\"><g class=\"legendpoints\"><path class=\"legendundefined\" d=\"M6,6H-6V-6H6Z\" transform=\"translate(20,0)\" style=\"stroke-width: 1px; fill: rgb(237, 248, 233); fill-opacity: 1; stroke: rgb(0, 0, 0); stroke-opacity: 1;\"/></g></g></g><rect class=\"legendtoggle\" x=\"0\" y=\"-32.7\" width=\"616.234375\" height=\"65.4\" style=\"fill: rgb(0, 0, 0); fill-opacity: 0;\"/></g></g></g><rect class=\"scrollbar\" rx=\"20\" ry=\"3\" width=\"0\" height=\"0\" x=\"0\" y=\"0\" style=\"fill: rgb(128, 139, 164); fill-opacity: 1;\"/></g><g class=\"g-gtitle\"/><g class=\"g-xtitle\" transform=\"translate(0,-1.209374999999909)\"><text class=\"xtitle\" x=\"811.5\" y=\"1190.209375\" text-anchor=\"middle\" style=\"font-family: Arial; font-size: 48px; fill: rgb(0, 0, 0); opacity: 1; font-weight: normal; white-space: pre;\"><tspan style=\"font-weight:bold\">Ag-E71:VH-R50 salt bridge distance (Å)</tspan></text></g><g class=\"g-ytitle\" transform=\"translate(33.287109375,0)\"><text class=\"ytitle\" transform=\"rotate(-90,9.712500000000006,549)\" x=\"9.712500000000006\" y=\"549\" text-anchor=\"middle\" style=\"font-family: Arial; font-size: 48px; fill: rgb(0, 0, 0); opacity: 1; font-weight: normal; white-space: pre;\"><tspan style=\"font-weight:bold\">Relative Abundance</tspan></text></g></g></svg>"
      ]
     },
     "metadata": {},
     "output_type": "display_data"
    }
   ],
   "source": [
    "fig_oneStep_rst = plot_pmf_TI_1D_fig(E71_R399, geom_dvdls_oneStep_rst, \"E71_R399_ion\", scaler=100, bins=300).update_layout(\n",
    "    width=1500,\n",
    "    height=1200,\n",
    "    barmode=\"overlay\",\n",
    "    paper_bgcolor=\"white\",\n",
    "    plot_bgcolor=\"white\",\n",
    "    margin=dict(l=10, r=10, t=10, b=10),\n",
    "    legend=dict(\n",
    "        font=dict(size=48, color=\"black\", family=\"Arial\"),\n",
    "        bordercolor=\"black\",\n",
    "        borderwidth=1,\n",
    "        x=0.5, y=1\n",
    "    )\n",
    ").update_xaxes(\n",
    "    range=[0,16],\n",
    "    showline=True,\n",
    "    linewidth=2,\n",
    "    linecolor=\"black\",\n",
    "    dtick=1.0,\n",
    "    ticks=\"outside\", ticklen=10, tickwidth=2,\n",
    "    tickfont=dict(size=48, color=\"black\", family=\"Arial\"),\n",
    "    title=dict(\n",
    "        text=\"<b>Ag-E71:VH-R50 salt bridge distance (Å)</b>\" ,\n",
    "        font=dict(family=\"Arial\", size=48, color=\"black\")\n",
    "    )\n",
    ").update_yaxes(\n",
    "    range=[0, 100],\n",
    "    linewidth=2,\n",
    "    linecolor=\"black\",\n",
    "    tickfont=dict(size=48, color=\"black\", family=\"Arial\"),\n",
    "    ticks=\"outside\", ticklen=10, tickwidth=2,\n",
    "    title=dict(\n",
    "        text=\"<b>Relative Abundance</b>\",\n",
    "        font=dict(family=\"Arial\", size=48, color=\"black\")\n",
    "    )\n",
    ")\n",
    "fig_oneStep_rst.show(renderer=\"svg\")\n"
   ]
  },
  {
   "cell_type": "code",
   "execution_count": 33,
   "id": "aafebf28-6b0a-48b4-88d1-e2283f464988",
   "metadata": {
    "tags": []
   },
   "outputs": [
    {
     "name": "stdout",
     "output_type": "stream",
     "text": [
      "Original ddG (one step): \n",
      "2.2748 kcal/mol\n",
      "ddG with NMR restraints (one step): \n",
      "4.0657 kcal/mol\n",
      "\n",
      "Empirical value: \n",
      "4.58 kcal/mol\n"
     ]
    }
   ],
   "source": [
    "dG_bd_oneStep_rst = dvdls_oneStep_rst.groupby(\"Lambda\").mean()[\"weight_dvdl\"].sum()\n",
    "ddG_oneStep_rst = dG_bd_oneStep_rst - dG_ubd_oneStep\n",
    "\n",
    "print(\"Original ddG (one step): \")\n",
    "print(f\"{round(ddG_oneStep, 4)} kcal/mol\")\n",
    "\n",
    "print(\"ddG with NMR restraints (one step): \")\n",
    "print(f\"{round(ddG_oneStep_rst, 4)} kcal/mol\")\n",
    "\n",
    "print()\n",
    "print(\"Empirical value: \")\n",
    "print(f\"{empirical_value} kcal/mol\")"
   ]
  },
  {
   "cell_type": "code",
   "execution_count": null,
   "id": "46559610-458a-4046-a9c5-4a493eca8ede",
   "metadata": {},
   "outputs": [],
   "source": []
  }
 ],
 "metadata": {
  "kernelspec": {
   "display_name": "Python md-cqa",
   "language": "python",
   "name": "md-cqa"
  },
  "language_info": {
   "codemirror_mode": {
    "name": "ipython",
    "version": 3
   },
   "file_extension": ".py",
   "mimetype": "text/x-python",
   "name": "python",
   "nbconvert_exporter": "python",
   "pygments_lexer": "ipython3",
   "version": "3.7.11"
  }
 },
 "nbformat": 4,
 "nbformat_minor": 5
}
